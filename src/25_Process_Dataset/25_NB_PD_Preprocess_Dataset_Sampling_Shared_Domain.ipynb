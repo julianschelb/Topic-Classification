{
    "cells": [
        {
            "cell_type": "markdown",
            "metadata": {},
            "source": [
                "## Sample Negative URLs of same URLS"
            ]
        },
        {
            "cell_type": "code",
            "execution_count": 1,
            "metadata": {},
            "outputs": [],
            "source": [
                "import os\n",
                "import sys\n",
                "\n",
                "# Needed to import modules from parent directory\n",
                "module_path = os.path.abspath(os.path.join('..'))\n",
                "if module_path not in sys.path:\n",
                "    sys.path.append(module_path)"
            ]
        },
        {
            "cell_type": "code",
            "execution_count": 2,
            "metadata": {},
            "outputs": [
                {
                    "name": "stderr",
                    "output_type": "stream",
                    "text": [
                        "/home/jschelb/.pyenv/versions/3.10.8/envs/s2j-content-analysis/lib/python3.10/site-packages/tqdm/auto.py:21: TqdmWarning: IProgress not found. Please update jupyter and ipywidgets. See https://ipywidgets.readthedocs.io/en/stable/user_install.html\n",
                        "  from .autonotebook import tqdm as notebook_tqdm\n"
                    ]
                }
            ],
            "source": [
                "from datasets import load_from_disk, Dataset, ClassLabel, Value, Features, concatenate_datasets, DatasetDict\n",
                "from transformers import AutoTokenizer\n",
                "from datasets import concatenate_datasets\n",
                "import pandas as pd \n",
                "import numpy as np\n",
                "import torch\n",
                "from collections import Counter\n",
                "import random\n",
                "from tqdm.auto import tqdm"
            ]
        },
        {
            "cell_type": "code",
            "execution_count": 3,
            "metadata": {},
            "outputs": [],
            "source": [
                "import logging\n",
                "from transformers import logging as transformers_logging\n",
                "\n",
                "# Set the logging level to error for transformers, which will suppress warnings\n",
                "transformers_logging.set_verbosity_error()"
            ]
        },
        {
            "cell_type": "markdown",
            "metadata": {},
            "source": [
                "**Load Examples:**"
            ]
        },
        {
            "cell_type": "code",
            "execution_count": 4,
            "metadata": {},
            "outputs": [],
            "source": [
                "topic = \"kinder\" #\"energie\" #\"kinder\" \"cannabis\""
            ]
        },
        {
            "cell_type": "code",
            "execution_count": 5,
            "metadata": {},
            "outputs": [
                {
                    "name": "stdout",
                    "output_type": "stream",
                    "text": [
                        "Dataset({\n",
                        "    features: ['_id', 'batch_id', 'domain', 'view_url', 'lang', 'text', 'text_length', 'word_count', 'topic', 'category', 'good_for_training', 'good_for_augmentation', 'annotation_type', 'is_topic', 'label', 'token_count'],\n",
                        "    num_rows: 4106\n",
                        "})\n",
                        "{'_id': '648c2ad88e8cadbd29004e1d', 'batch_id': 15, 'domain': 't-online.de', 'view_url': 'email.t-online.de/em', 'lang': 'de', 'text': 'Wetter DAX Telefonverzeichnisse Lotto Telekom Services Telekom Hilfe & Service Frag Magenta Kundencenter Freemail MagentaCloud Tarife & Produkte PUR-Abo Login Suchen E-Mail Login Politik Deutschland Ausland Corona-Krise Tagesanbruch Ukraine Regional Berlin Hamburg München Köln Frankfurt Alle Städte Sport Bundesliga 2. Bundesliga Zweikampf der Woche Fußball Champions League FC Bayern Newsticker Formel 1 Was macht …? Special Olympics Mehr Sport Liveticker Ergebnisse Anzeigen Sportwetten Wirtschaft & Finanzen Aktuelles Börse Immobilien Die Anleger Ratgeber Versicherungen Publikumspreis Anzeigen Immobilien-Teilverkauf Versichern & Vorsorgen Versicherungs-Tipp Unterhaltung Dschungelcamp Stars Royals Kino TV Musik Panorama Menschen Unglücke Kriminalität Justiz Buntes Geschichte Quiz Lesermeinungen Wetter Gesundheit Aktuelles Krankheiten & Symptome Corona Ernährung Fitness Gesund leben Heilmittel Schwangerschaft Selbsttests Leben Aktuelles Essen & Trinken Reisen Familie Alltagswissen Liebe Mode & Beauty Anzeigen Heimaturlaub Spiele Online-Spiele Browsergames Tägliche Spiele 3 Gewinnt Brettspiele & Kartenspiele Bubble Shooter Gratis-Casino Kreuzworträtsel Mahjong Sudoku Wortquiz Nachhaltigkeit Klima & Umwelt Mobilität & Verkehr Heim, Garten & Wohnen Energie Finanzen & Beruf Ernährung Konsum Klima-Lexikon Mobilität Aktuelles Autos E-Autos E-Bikes und Fahrräder Motorräder Wohnmobile Bus & Bahn Recht und Verkehr Digital Aktuelles Smartphone Computer & Gadgets Sicherheit Internet Netzpolitik Heim & Garten Aktuelles Garten Haushaltstipps Bauen Wohnen Energie Wetter Wettervorhersage Wetterkarten Kaufberatung Deals Technik Haushalt & Wohnen Genuss Leben & Freizeit Haus & Garten Gesundheit Video Highlights Nachrichten Wetter Klima & Nachhaltigkeit Sport Unterhaltung Internethits Ratgeber Podcasts Diskussionsstoff Grünes Licht Tagesanbruch Die Zeitraffer Ladezeit Suchen E-Mail Login Meinung | Flick und die Frage nach seiner Zukunft Die Antwort dürfte ihm nicht gefallen Von Andreas Becker Schlagzeilen Alle Bericht: Nagelsmann-Deal geplatzt Schweinsteiger rechnet mit DFB-Elf ab Überraschung beim F1-Training Störungen bei Whatsapp Kampfjets kollidieren bei Flugübung ARD-Moderatorin überrascht mit Outfit Säure: Polizei warnt vor Einbruchsmasche Millionenstadt erlaubt \"Oben-Ohne-Baden\" Sylvie Meis begeistert im knappen Weißen F1: Kuriose Panne – Training gestoppt Trump lädt zum Essen ein – zahlt nicht TV-Moderatorin zieht blank: Pocher ratlos Alle Schlagzeilen anzeigen Mehr anzeigen Anzeige Loading... Loading... Angebote der Woche Loading... Loading... Loading... Loading... Loading... Loading... Loading... Loading... Meistgelesen Putin-Berater nennt konkrete Ziele für einen Atomschlag \"Das haben die Russen sehr intelligent gemacht\" Céline Dion zeigt sich nach Diagnose mit unheilbarer Krankheit Das tägliche t-online Wortquiz Lassen Sie Ihre Sprachkenntnisse spielen und finden Sie das gesuchte Wort in 6 Versuchen. G L Ü C K Jetzt spielen Testspiel-Pleite gegen Polen Schwacher Auftritt – DFB-Elf enttäuscht erneut Bei Kampfeinsatz von F-16 Putin droht mit Angriffen auf Flugplätze außerhalb der Ukraine \"Scheiß drauf\" Putin verliert öffentlich die Fassung \"... dann ist so ein Rad nicht mehr stabil\" Drama bei 100 km/h: So kam es zu Mäders tödlichem Unfall Von Alexander Kohne Loading... Loading... Loading... Bei Aktion der \"Letzten Generation\" Passanten auf Sylt greifen Pressevertreter an Von Markus Krause , Jannik Läkamp Shirley Eaton 59 Jahre später So sieht das \"Goldfinger\"-Bond-Girl heute aus Fallen beim Modekauf Lassen Sie sich nicht in die Irre führen Von Alexandra Schaller Achtung, Verschwendung Was wir bei Wassermelonen oft falsch machen Ärgernis Nachtzeitklausel Fahrraddiebstahl – Der richtige Schutz für Ihr Fahrrad Mit Extrarabatt bei Otto Testsieger-Matratze Emma One zum halben Preis im Angebot Loading... Loading... Loading... t-online Partnerangebote Anzeigen Loading... Loading... Loading... Loading... Loading... Loading... Telekom empfiehlt Loading... Loading... Loading... Loading... Loading... Loading... Loading... Loading... Ukraine Newsblog Spenden \"Russen im Ausland warnen\" Putin-Berater nennt konkrete Ziele für einen Atomschlag Von Christoph Cöln Newsblog zum Ukraine-Krieg Ukraine rückt nach eigenen Angaben im Süden vor Nach Ankündigung Putin: Erste Atomsprengköpfe nach Belarus geschickt Tagesanbruch - Was heute wichtig ist Was heute wichtig ist Erhalten Sie jeden Morgen einen Überblick über die Themen des Tages als Newsletter. Jetzt abonnieren Aktuelle Ausgabe lesen! Als Podcast hören Datenschutzhinweis Politik Ausland Corona-Krise Deutschland Klima & Umwelt Kolumne - Christoph Schwennicke Politik-Kompass Quiz Tagesanbruch Ukraine Krieg in der Ukraine Olaf Scholz Karl Lauterbach Annalena Baerbock Joe Biden Tagesanbruch Afghanistan-Konflikt Boris Johnson Europäische Union Internationale Politik Krisen & Konflikte Terrorismus USA Außenpolitik Gesellschaft Innenpolitik Militär & Verteidigung Parteien Umfragen \"Bringschuld\" CDU-Politiker fordert \"Jobpflicht\" für Arbeitslose Trifft es nach Habeck Özdemir? Jetzt droht der nächste Knall Von Annika Leister 500.000 Euro für Seenotretter Nach Kritik: Baerbocks Ministerium kurz vor Einigung mit Hilfsorganisation Von Patrick Diekmann , Camilla Kohrs Meistgelesen \"Die Welt ist auf der Jagd nach Waffensystemen\" Wie gefährlich wird die Visa-Affäre für Baerbock? Gewaltiger Bergsturz verfehlt Dorf nur knapp Alles aus Politik Loading... Unterhaltung Kino Literatur Musik Partnersuche Promis und die Corona-Krise Quiz Royals Stars TV Let\\'s Dance DSDS GNTM Sylvie Meis Heidi Klum Tatort Helene Fischer Bauer sucht Frau Skandale Dschungelcamp: Kandidaten Dschungelcamp: Quiz Oscars Eurovision Song Contest Helene Fischer Lena Meyer-Landrut Bares für Rares Bauer sucht Frau Der Bachelor Die Höhle der Löwen Dschungelcamp DSDS Germany’s Next Topmodel Kolumne - Janna Halbroth Promi Big Brother Tatort Wer wird Millionär? \"Ich hasse meinen Körper\" \"Harry Potter\"-Star mit 82 Jahren nackt auf \"Vogue\"-Cover Rosenkrieg mit Werner Mürz? Victoria Swarovskis Ex äußert sich erstmals zum Ehe-Aus Fans schwärmen von ihren Beinen Dagmar Wöhrl postet laszives Foto in Bademantel Empfehlung der Redaktion Cora Schumacher heizt Fans im Bikini ein RTL-Moderator Simon Beeck teilt private Einblicke Ella Endlich ist erstmals Mutter geworden Alles aus Unterhaltung Regional Stadt auswählen Meinung | Ex-Regierungssprecherin wird RBB-Chefin Eine maximal unglückliche Wahl Von Yannick von Eisenhart Rothe \"Kriminell ist die herrschende Politik\" Liedermacher empört über Umgang mit \"Letzter Generation\" Von Alexander Spöri Drama im 15. Stock Täter flüchtet über Balkon und stürzt in den Tod Alle Städte anzeigen Schlagzeilen Sylt: Golfer und die \"Letzte Generation\" Sylt: Gosch kritisiert Klimaaktivisten Diese Ostsee-Stadt ist besonders beliebt Strenggläubige Muslime mobben Mitschüler Patricia Blanco weg: Trauriger Millionär Aktivisten blockieren Berliner Luxushotel Farbattacke auf Luxusgeschäfte auf Sylt Vermisste schwer verletzt aufgefunden DWD warnt vor Unwettern Monika Gruber sagt neue Großdemo ab Mehr anzeigen Shopping Anzeigen Loading... Loading... Loading... Loading... Loading... Loading... Loading... Loading... Loading... Loading... Loading... Loading... Loading... Loading... Loading... Loading... Loading... Loading... Anzeigen Loading... Loading... Loading... Loading... Loading... Loading... Loading... Loading... Loading... Loading... Loading... Loading... Loading... Loading... Loading... Loading... Gesundheit Abnehmen Gesundheit aktuell Ernährung Fitness Gesund leben Gesundheitswesen Heilmittel Kindergesundheit Kolumne - Ulrike Scheuermann Krankheiten & Symptome Quiz Schwangerschaft Selbsttests Mandelentzündung Migräne Zecken Neurodermitis Scheidentrockenheit Schuppenflechte Trockene Augen Trockene Haut Zahnersatz Zahnfleischentzündung Diabetes-Risiko-Test Prostata-Selbsttest Risiko-Test Osteoporose Selbsttest Depression Test auf Schilddrüsenunterfunktion Test auf Schilddrüsenüberfunktion Wechseljahre-Test Diät Fasten Eisenmangel Fitnessübungen Fitnessvideos Laufen Muskelaufbau Fit im Alter Immunsystem stärken Insekten und Stiche Rauchen Sexualität Pflege Alternative Heilmethoden Hausmittel Heilpflanzen Medizinprodukte Heilmittel aus der Natur Pflanzenmedizin ADHS und ADS Kinderkrankheiten A-Z Gesundheit A-Z Alkohol Allergie Atemwegserkrankungen Augenkrankheiten Bakterielle Vaginose Bandscheibenvorfall Bauchschmerzen Blähungen Blasenentzündung Brüchige Nägel Corona Darmgesundheit Demenz Depression Diabetes mellitus Erkältungskrankheiten Gelenke Geschlechtskrankheiten Grauer Star Gürtelrose Haarausfall Hämorrhoiden Hausmittel A-Z Hausstauballergie Hautausschlag Rosazea Hautkrankheiten Hautpflege Herzerkrankungen Herzgesundheit Herzrhythmusstörungen Heuschnupfen Hörsturz Infektionskrankheiten Inkontinenz Konzentrationsstörungen Kopfläuse Kopfschmerzen Krebserkrankungen Laborwerte A-Z Laktoseintoleranz Magen-Darm-Erkrankungen Multiple Sklerose Mundgeruch Muskelbeschwerden Nackenschmerzen Nagelpilz Neurodermitis Nierenerkrankungen Osteoporose Parasiten Prostataprobleme Psychische Erkrankungen Regelschmerzen Reizdarm Reizmagen Rheuma Rückenschmerzen Scheidenpilz Schilddrüse Schlaf Schlafstörungen Schlaganfall Schuppenflechte Schwerhörigkeit Schwitzen Sexuelle Probleme Sinusitis Sodbrennen Stress Stress - Burnout Suchterkrankungen Tinnitus Trockene Augen Untersuchungen & Behandlungen A-Z Untersuchung & Behandlung Venenleiden Verletzungen Viruserkrankungen Warzen Wechseljahre Wundheilung Zahngesundheit Zahnpflege Zahnschmerzen Geburt Kinderwunsch Wissen für Schwangere Nabelschnurblut spenden oder einlagern? Von Wiebke Posmyk Experten klären auf Wie gesund sind Kaffee, Wein und Milch für das Herz? Von Ann-Kathrin Landzettel Nicht immer Krebs Fünf Symptome für eine kranke Prostata Optimales Körpergewicht Ungesundes Bauchfett verlieren: Darauf sollten Frauen achten Von Lynn Zimmermann Loading... Loading... Loading... Meistgelesen Magenkrebs: Diese Blutgruppe hat ein erhöhtes Risiko Was Ihre Augenfarbe über Ihr Krankheitsrisiko verrät Abnehmen in den Wechseljahren – so funktioniert\\'s Alles aus Gesundheit Sport Ergebnisse Formel 1 2. Bundesliga Fußball Bundesliga Mehr Sport Quiz Wintersport Formel 1 Rennkalender Liveticker Ergebnisse FC Bayern-Newsblog Anzeige: Sportwetten DFB-Elf WM der Frauen 2023 Special-Olympics Spielplan WM der Frauen 2023 Rennkalender 3. Liga Champions League Conference League DFB-Pokal EM Europa League Frauenfußball Fußball international Kolumne - Berti Vogts Kolumne - Stefan Effenberg Nationalmannschaft Deutschland Nations League Transfermarkt WM Zweikampf der Woche FC Bayern München Basketball Boxen Darts Football Golf Handball Leichtathletik Motorsport Radsport Special Olympics Tennis Biathlon Eishockey WM Ski Alpin Ski nordisch Skispringen Formel 1 in Montréal \"Ich bin aufgefressen worden\" Transferticker Fix: BVB-Profi wechselt in die Premier League Nationalmannschaft im Einsatz So sehen Sie Deutschland gegen Polen live Loading... Loading... Loading... Mehr Fußball bei t-online Loading... U21-EM Spielplan , Tabelle Loading... WM der Frauen Spielplan , Tabelle Loading... Bundesliga Spielplan , Tabelle Loading... BL Relegation Spielplan Loading... 2. Bundesliga Spielplan , Tabelle Loading... 2. BL Relegation Spielplan Loading... Champions League Spielplan , Tabelle Loading... DFB Pokal Spielplan Loading... 3. Liga Spielplan , Tabelle Loading... Europa League Spielplan , Tabelle Loading... Nations League Spielplan , Tabelle Loading... Premier League Spielplan , Tabelle Loading... Primera Division Spielplan , Tabelle Loading... Ligue 1 Spielplan , Tabelle Loading... Serie A Spielplan , Tabelle Loading... Conference League Spielplan , Tabelle Loading... EM-Qualifikation Spielplan , Tabelle Loading... Länderspiele Spielplan Loading... Regionalliga Nord Spielplan , Tabelle Loading... Regionalliga Nordost Spielplan , Tabelle Loading... Regionalliga West Spielplan , Tabelle Loading... Regionalliga Südwest Spielplan , Tabelle Loading... Regionalliga Bayern Spielplan , Tabelle Mehr Wettbewerbe Heute EM-Qualifikation (11) Luxemburg Loading... 15:00 Loading... Liechtenstein Litauen Loading... 15:00 Loading... Bulgarien Norwegen Loading... 18:00 Loading... Schottland Aserbaidschan Loading... 18:00 Loading... Estland Montenegro Loading... 18:00 Loading... Ungarn Länderspiele Chile Loading... 0 0 Loading... Dominican Republic Brasilien Loading... 21:30 Loading... Guinea Ecuador Loading... 01:00 Loading... Bolivien Alle 14 Events im Liveticker Mehr anzeigen Panorama Buntes Justiz Unglücke Kriminalität Lottozahlen Menschen Quiz Tiere Wetter Wissen Wetter Regenradar Wetter in Deutschland Eurojackpot am Freitag Lotto am Samstag Glücksspirale Archäologie Astronomie Geschichte Weltall Epizentrum nahe La Rochelle Erdbeben erschüttert Westfrankreich Von Tobias Eßer In Großbritannien Forscher entdecken neue Stachel-Dino-Art Unter Kindern und Jugendlichen In diesem Land steigt die Suizidrate drastisch Meistgelesen Die Abgründe unter der Kutte Er verfolgte einen perfiden Plan Eurojackpot am Freitag: 111 Millionen Euro im Lostopf Alles aus Panorama Telekom empfiehlt Anzeige Loading... Video Highlights Internethits Klima & Nachhaltigkeit Nachrichten Ratgeber Sport Unterhaltung Wetter Lifehacks Rätsel Zeitgeschichte Panorama Politik Zeitgeschichte Auto Digital Essen & Trinken Familie Gesundheit Heim & Garten Leben Lifehacks Rätsel Reisen Wirtschaft & Finanzen XXL-Waller ins Netz gegangen Angler gelingt Sensations-Fang \"Mit voller Geschwindigkeit gerammt\" Orcas greifen Boote an – Forscher ratlos Zweifel an russischem Video Rätselraten um angeblich erbeutete Leopard-Panzer Schwerwiegende Folgen Polizist stoppt Kollegen – der gibt Gas Angriff bei Schloss Neuschwanstein Mann stößt Frauen in Schlucht – Video zeigt Festnahme Kampfszenen im Video So erobert die Ukraine ihre Gebiete zurück Kommentar im Video Vorwürfe gegen Lindemann: Ermittlungen allein reichen nicht Zwischenfall nach Gerichtstermin Demonstrant springt plötzlich vor Trumps SUV – mit Folgen Gescheiterte Gegenoffensive? Ukrainischer Offizier droht: \"Wagt es nicht\" Kuriose Begegnung Putins Reaktion auf Verteidigungsminister Schoigu spricht Bände 1 - 3 von 9 Beliebteste Videos Detail entlarvt russische Panzer-Propaganda In dieser Region drohen Gewitter Prigoschin erstaunt mit Aussagen zur ukrainischen Armee Alle Videos Kaufberatung Deals Genuss Gesundheit Haus & Garten Haushalt & Wohnen Leben & Freizeit Technik Auto Deals Baumarkt-Deals Drogerie-Deals Haushaltselektronik-Deals Haushaltsgeräte-Deals Küchengeräte-Deals Mode-Deals Reise-Deals Shopping-Events Sport und Freizeit Deals Technik-Deals Essen Trinken Drogerie Fitness Medizintechnik Gartenausstattung Gartengeräte Gartengestaltung Heimwerken Einrichtung Elektronik & Leuchten Haushaltsgeräte Haushaltswaren Küchenausstattung Küchengeräte Autozubehör Baby & Kind Fahrrad Feiertage Geschenkideen Haustier Hobbys Mode & Accessoires Outdoor Wintersport Audio Computerzubehör Foto & Video Gaming Laptops & PCs Smarthome & Sicherheit Smartphone & Telefone Tablets TV & Sat Exklusive Rabattaktion Teufel verkauft Testsieger-Digitalradio so günstig wie noch nie Heute beim Discounter Lidl verkauft Kaffeevollautomaten von Philips zum Sparpreis Für Alltag und Ausflüge Aldi reduziert praktischen GPS-Fahrradcomputer erneut radikal Mit Extrarabatt bei Otto Testsieger-Matratze Emma One zum halben Preis im Angebot Empfehlungen der Redaktion Amazon reduziert Mode und Schuhe von Tommy Hilfiger radikal Amazon reduziert Akku-Kurbelradio mit Solar um starke 60 Prozent Krups verkauft Küchenmaschine mit Kochfunktion günstig wie nie Wirtschaft & Finanzen Aktuelles Börse & Märkte Börsen-News Die Anleger Ratgeber Aktien Aktien kaufen für Anfänger Börse Frankfurt live DAX Dow Jones NASDAQ MDAX alle Indizes Prime All Share Euro - US-Dollar ETFs Gold Kryptowährung Öl Brent Rohöl WTI Aktien-Trends A-Z Airbus Aktie Biontech Aktie Mercedes-Benz Aktie Siemens Aktie Telekom Aktie Tesla Aktie Arbeitsmarkt Immobilien Inflation Kryptowährung Verbraucher Wirtschaft Altersvorsorge Beruf & Karriere Geldanlage Immobilien Konto, Kredit & Co. Leben Steuern & Recht Verbraucher Versicherungen 3 Weitere DAX 16.357,63 +0,41% Gold 1.957,85 USD -0,01% EUR/USD 1,10 USD +0,21% Rohöl WTI 70,56 USD +2,74% Deutsche Telekom 19,41 EUR +0,02% Porsche AG Vz 114,80 EUR -0,39% DAX Top Aktien heute Rheinmetall +4,92% 260,10 EUR Zalando +3,34% 26,62 EUR Sartorius Vz +2,69% 355,10 EUR DAX Flop Aktien heute Infineon -0,94% 38,40 EUR BASF -1,09% 45,86 EUR Deutsche Bank -2,09% 9,46 EUR Wertpapiersuche Börsen-News Marktübersicht Insolvenzen Zahl der Firmenpleiten in Deutschland steigt weiter Bitcoin-Erfinder Das Geheimnis um Satoshi Nakamoto Loading... Loading... Loading... Großer Verfallstag Hexensabbat: Großinvestoren sorgen an der Börse für Wirbel Neuste Finanzratgeber Bausparvertrag übertragen: So geht\\'s Diese Banken zahlen gar keine Zinsen Sieben Tipps, mit denen Rentner Steuern sparen Das bedeutet die Zinserhöhung für Sparer Renten steigen: Was muss ich beachten? In OpenAI investieren – ist das möglich? ALG: Das ist die\"Nahtlosigkeitsregelung\" Krankenkasse: So teuer könnte es werden Haftpflicht: Vermeiden Sie diese Fehler Was ist das Disagio beim Kredit? Mehr anzeigen Leben Nach Tod einer Touristin Wie gefährlich sind Wanderungen rund um Schloss Neuschwanstein? Woher stammt mein Schnitzel? Staatliches Tierhaltungslogo für Fleisch kommt Gefährliche Weichmacher Disney ruft beliebte Kinderschuhe zurück Loading... Loading... Loading... Meistgelesen Erster menschlicher Embryo künstlich erzeugt Wie gesund sind Heidelbeeren wirklich? Das sollten Sie wissen Dieses Produkt suchen Sie bei Kaufland bald vergeblich Alles aus Leben watson Ibiza-Urlaub Ryanair-Passagier fliegt im Gepäckfach nach Hause Überraschende Verkündung Meghan und Harry verlieren wichtigen Deal Faul und arbeitsunwillig? Jobpflicht für Arbeitslose? CDU-Vize sorgt für heftige Empörung Schlagzeilen Virologie warnt vor Mücke Orgasmus: Können Frauen ejakulieren? Schnarchen: Wann es gefährlich wird Spargel: So gelingt Sauce Hollandaise Oralsex kann Krebserkrankung fördern Mehr anzeigen Heim & Garten Bauen Energie Garten Haushaltstipps Quiz Wohnen Zimmerpflanzen Do-it-yourself (DIY) Einbruchschutz Hausbau Umbau & Renovierung Werkzeuglexikon Heizung Strom Wasser Gartenarbeit Gemüse Obst Pflanzen Rasen Tiere Haushaltsgeräte Insekten im Garten erkennen Grüne Raupen: Welche Arten es gibt und wo sie zu finden sind Grüner Daumen Quiz: Wie gut kennen Sie sich im Garten aus? Von Henning Seelmeyer Die wichtigsten Fragen Welche Folgen das Heizungsgesetz für Sie hat Loading... Loading... Loading... Meistgelesen Verblühte Rosen schneiden: Diesen Fehler sollten Sie vermeiden Darum tropft gerade Urin von den Bäumen Weinreben richtig düngen für eine reiche Ernte Alles aus Heim & Garten Mobilität Aktuelles Autos Bus und Bahn E-Autos E-Bikes und Fahrräder Motorräder Quiz Recht und Verkehr Reifen Wohnmobile Automarkt bricht ein \"März, April, Mai war der Wahnsinn\" Von Markus Abrahamczyk Dahinter steckt ein simpler Trick Abertausende Neuwagen verrotten auf Chinas Parkplätzen Von Markus Abrahamczyk Loading... Loading... Loading... Meistgelesen Die neun besten SUV aller Zeiten Vision One-Eleven: Mercedes belebt eine Auto-Legende Was tun, wenn dem E-Auto im Stau der Strom ausgeht? Alles aus Mobilität Digital Verbraucherschützer warnen Massenhaft gefälschte Kundenrezensionen durch KI im Netz Signalsender für Drohnen? Russland: Erster privater Weltraumraketen-Start angekündigt Loading... Loading... Loading... Meistgelesen Hersteller warnt vor gravierender Sicherheitslücke Europa, wir haben ein Problem! So sehen Ihre Urlaubsfotos aus wie vom Profi Alles aus Digital Kolumnisten Meinung | Umgang mit der AfD Sie verraten unser Land Von Liane Bednarz Meinung | Aktien im Aufwind EZB und Fed basteln am Weltwunder für Anleger Von Daniel Saurenz Meinung | Das doppelte Nacktchen Warum Heidi Klum und Co. nur noch zu zweit blankziehen Von Janna Halbroth Beliebte Kolumnisten Stefan Effenberg: Effes Einwurf – Klartext rund um den Fußball Gerhard Spörl: Der Einordner – wie die Dinge liegen Nicole Diekmann: Digitale Abgründe – Zwischentöne aus dem Netz Alle Kolumnisten Spiele Browsergames Online-Spiele Bubble Shooter 3 Gewinnt Browsergames Brettspiele & Kartenspiele Denkspiele & Quizspiele Solitaire & Co. Sportspiele & Geschicklichkeitsspiele Super duper Moorhuhn Zeitmanagementspiele Fußball-Spiele Racing Games Urlaubsspiele Neue Spiele Gratis-Casino Mahjong Solitaire & Co. Puzzles & Wimmelbildspiele Sudoku Goodgame Big Farm Rail Nation Elvenar Goodgame Empire Forge of Empires Whow Jackpot Lounge 777 Garden Tales 2 Daily Solitaire Bubble Shooter HD Candy Mahjong Daily Sudoku 2 10x10 2020 Connect Kreuzworträtsel Jewel Academy 3 Gewinnt Jewel Academy - der hochkarätige Spielspaß Puzzles & Wimmelbildspiele Element Blocks – clever kombinieren und abräumen Browsergames Elvenar - tauchen Sie ab in die Welt der Elfen Weitere Top-Spiele Meistgespielt Forge of Empires - erschaffen Sie die Stadt der Zukunft Words of Wonders – wie viele Worte finden Sie? Lounge 777 - hohe Jackpots & tägliche Geschenke Solitaire Mahjong Candy – die meisten Punkte gibt’s für Eiscreme Daily Solitaire - spielen Sie den Klassiker Historisches Bild 1967 Elvis Presley begründet eine Las-Vegas-Tradition Geschichte zum Bild Quiz Stadt, Land, Fluss Quiz: Wie gut kennen Sie Europa? t-online.de Auto-Wissen Quiz: Erkennen Sie diese Oldtimer? Von Alexander Röschel Wissen Quiz: Sind diese Behauptungen richtig oder falsch? Von Svenja Dilcher Beliebteste Quiz Quiz: Wie gut kennen Sie sich im Garten aus? Wissen Sie so viel wie unsere Schüler der 10. Klasse? Doppelgänger-Alarm: Können Sie die Sehenswürdigkeiten unterscheiden? Quiz: Wie gut kennen Sie die deutschen Flüsse? Quiz: Sind Sie ein unschlagbarer Fußball-Experte? Podcasts Diskussionsstoff Tagesanbruch Grünes Licht Die Zeitraffer Ladezeit Fallen beim Modekauf Lassen Sie sich nicht in die Irre führen Von Alexandra Schaller Offensive der Ukraine Es kommt anders als erwartet Von Lisa Fritsch Alte Häuser sanieren Wärmepumpe in jedem Haus: Ist das realistisch? Von Alexandra Schaller Loading... Embed t-online folgen Das Unternehmen Ströer Digital Publishing Jobs & Karriere Presse Werben Kontakt Impressum Datenschutzhinweise Datenschutzhinweise (PUR) Datenschutz-Manager Jugendschutz Produkte & Services T-Online-Browser PUR-Abo Newsletter Podcasts Videos RSS-Feeds Alle Themen Netzwerk & Partner Das Telefonbuch watson.de giga.de desired.de kino.de spieletipps.de familie.de statista.de stayfriends.de Telekom Telekom Produkte & Services Kundencenter Freemail Sicherheitspaket Vertragsverlängerung Festnetz Vertragsverlängerung Mobilfunk Hilfe & Service Frag Magenta Telekom Tarife DSL Telefonieren MagentaTV Mobilfunk-Tarife Datentarife Prepaid-Tarife Magenta EINS', 'text_length': 22927, 'word_count': 2900, 'topic': 'kinder', 'category': 'other', 'good_for_training': 'True', 'good_for_augmentation': 'True', 'annotation_type': '06.news-wo-title', 'is_topic': False, 'label': 0, 'token_count': 5210}\n"
                    ]
                }
            ],
            "source": [
                "#dataset = load_from_disk(f\"../../data/tmp/processed_dataset_{topic}_buffed\")\n",
                "dataset_split = load_from_disk(f\"../../data/tmp/processed_dataset_{topic}_buffed_split\")\n",
                "dataset = dataset_split[\"train\"]\n",
                "print(dataset)\n",
                "print(dataset[1])"
            ]
        },
        {
            "cell_type": "code",
            "execution_count": 6,
            "metadata": {},
            "outputs": [
                {
                    "name": "stdout",
                    "output_type": "stream",
                    "text": [
                        "Class frequencies: Counter({0: 3914, 1: 192})\n",
                        "Minimum class frequency: 192\n"
                    ]
                }
            ],
            "source": [
                "# Count the occurrences of each label\n",
                "label_counts = Counter(dataset['label'])\n",
                "print(\"Class frequencies:\", label_counts)\n",
                "\n",
                "# Find the minimum count\n",
                "min_count = min(label_counts.values())\n",
                "print(\"Minimum class frequency:\", min_count)"
            ]
        },
        {
            "cell_type": "markdown",
            "metadata": {},
            "source": [
                "## Find URLs among both classes"
            ]
        },
        {
            "cell_type": "code",
            "execution_count": 7,
            "metadata": {},
            "outputs": [],
            "source": [
                "dataset_negative_examples = dataset.filter(lambda example: example['label'] == 0)\n",
                "dataset_positive_examples = dataset.filter(lambda example: example['label'] == 1)"
            ]
        },
        {
            "cell_type": "code",
            "execution_count": 8,
            "metadata": {},
            "outputs": [
                {
                    "name": "stdout",
                    "output_type": "stream",
                    "text": [
                        "Domains in positive class: 89\n",
                        "Domains in negative class: 838\n",
                        "Domains in both classes: 32\n"
                    ]
                }
            ],
            "source": [
                "# Filter for positive and negative classes\n",
                "positive_samples = [sample for sample in dataset if sample['label'] == 1]\n",
                "negative_samples = [sample for sample in dataset if sample['label'] == 0]\n",
                "\n",
                "# Extract distinct URLs from positive  and negative samples\n",
                "positive_urls = set(sample['domain'] for sample in positive_samples)\n",
                "negative_urls = set(sample['domain'] for sample in negative_samples)\n",
                "\n",
                "# Find intersection\n",
                "common_urls_count = len(positive_urls.intersection(negative_urls))\n",
                "\n",
                "print(\"Domains in positive class:\", len(positive_urls))\n",
                "print(\"Domains in negative class:\", len(negative_urls))\n",
                "print(\"Domains in both classes:\", common_urls_count)"
            ]
        },
        {
            "cell_type": "code",
            "execution_count": 9,
            "metadata": {},
            "outputs": [
                {
                    "name": "stdout",
                    "output_type": "stream",
                    "text": [
                        "Hard negative samples: 875\n",
                        "Easy negative samples: 3039\n"
                    ]
                }
            ],
            "source": [
                "hard_negative_samples = dataset_negative_examples.filter(lambda x: (x['domain'] in positive_urls))\n",
                "easy_negative_samples = dataset_negative_examples.filter(lambda x: (x['domain'] not in positive_urls))\n",
                "\n",
                "print(\"Hard negative samples:\", len(hard_negative_samples))\n",
                "print(\"Easy negative samples:\", len(easy_negative_samples))"
            ]
        },
        {
            "cell_type": "code",
            "execution_count": 10,
            "metadata": {},
            "outputs": [
                {
                    "name": "stdout",
                    "output_type": "stream",
                    "text": [
                        "Hard negative class frequencies: Counter({'t-online.de': 389, 'wikipedia.org': 184, 'zdf.de': 46, 'google.com': 35, 'arbeitsagentur.de': 29, 'tagesschau.de': 27, 'zeit.de': 21, 'sueddeutsche.de': 18, 'faz.net': 17, 'mainpost.de': 15, 'merkur.de': 14, 'derwesten.de': 12, 'rp-online.de': 10, 'taz.de': 8, 'mdr.de': 6, 'fr.de': 4, 'tagesspiegel.de': 4, 'deutschlandfunkkultur.de': 4, 'bmfsfj.de': 4, 'augsburger-allgemeine.de': 4, 'vdk.de': 4, 'haufe.de': 3, 'bundestag.de': 3, 'rnd.de': 3, 'cdu.de': 2, 'finanztip.de': 2, 'gruene.de': 2, 'ifo.de': 1, 'kinder-grund-sicherung.de': 1, 'paritaet-bw.de': 1, 'savethechildren.de': 1, 'der-paritaetische.de': 1})\n"
                    ]
                }
            ],
            "source": [
                "# Count the occurrences of domain in the hard negative samples\n",
                "hard_negative_counts = Counter(hard_negative_samples['domain'])\n",
                "print(\"Hard negative class frequencies:\", hard_negative_counts)"
            ]
        },
        {
            "cell_type": "code",
            "execution_count": 11,
            "metadata": {},
            "outputs": [],
            "source": [
                "# # Count the occurrences of urls in the hard negative samples\n",
                "# hard_negative_counts = Counter(hard_negative_samples['view_url'])\n",
                "# print(\"Hard negative class frequencies:\", hard_negative_counts)"
            ]
        },
        {
            "cell_type": "markdown",
            "metadata": {},
            "source": [
                "### Sample Among shared URLs"
            ]
        },
        {
            "cell_type": "code",
            "execution_count": 12,
            "metadata": {},
            "outputs": [],
            "source": [
                "def sample_randomly(dataset: Dataset, n: int, random_seed: int = 42):\n",
                "    \"\"\" Sample 'n' examples randomly from the dataset \"\"\"\n",
                "    \n",
                "    # Set the seed for reproducibility\n",
                "    dataset = dataset.shuffle(seed=random_seed)\n",
                "    n = min(n, len(dataset))\n",
                "    \n",
                "    # Sample the first 'n' examples for the balanced dataset\n",
                "    sampled_dataset = dataset.select(range(n))\n",
                "    discarded_dataset = dataset.select(range(n, len(dataset)))\n",
                "    \n",
                "    return sampled_dataset, discarded_dataset"
            ]
        },
        {
            "cell_type": "code",
            "execution_count": 13,
            "metadata": {},
            "outputs": [
                {
                    "name": "stdout",
                    "output_type": "stream",
                    "text": [
                        "Sampled dataset size: 192\n",
                        "Discarded dataset size: 683\n"
                    ]
                }
            ],
            "source": [
                "sampled_dataset, discarded_dataset = sample_randomly(hard_negative_samples, min_count, random_seed=42)\n",
                "\n",
                "print(f\"Sampled dataset size: {len(sampled_dataset)}\")\n",
                "print(f\"Discarded dataset size: {len(discarded_dataset)}\")"
            ]
        },
        {
            "cell_type": "code",
            "execution_count": 14,
            "metadata": {},
            "outputs": [],
            "source": [
                "discarded_dataset = concatenate_datasets([discarded_dataset, easy_negative_samples])\n",
                "balanced_dataset = concatenate_datasets([sampled_dataset, dataset_positive_examples])"
            ]
        },
        {
            "cell_type": "code",
            "execution_count": 15,
            "metadata": {},
            "outputs": [
                {
                    "name": "stdout",
                    "output_type": "stream",
                    "text": [
                        "Class frequencies: Counter({0: 192, 1: 192})\n"
                    ]
                }
            ],
            "source": [
                "label_counts = Counter(balanced_dataset['label'])\n",
                "print(\"Class frequencies:\", label_counts)"
            ]
        },
        {
            "cell_type": "markdown",
            "metadata": {},
            "source": [
                "**Split in Test and Train Dataset**"
            ]
        },
        {
            "cell_type": "code",
            "execution_count": 16,
            "metadata": {},
            "outputs": [
                {
                    "name": "stdout",
                    "output_type": "stream",
                    "text": [
                        "Number of all annotated samples: 384\n",
                        "Number of positive annotated samples: 192\n",
                        "Number of manually annotated samples: 76\n",
                        "Number of regular annotated samples: 308\n"
                    ]
                }
            ],
            "source": [
                "print(\"Number of all annotated samples:\", len(balanced_dataset))\n",
                "\n",
                "dataset_pos = balanced_dataset.filter(lambda example: example['label'] > 0)\n",
                "print(\"Number of positive annotated samples:\", len(dataset_pos))\n",
                "\n",
                "dataset_buff = balanced_dataset.filter(lambda example: example['category'] == \"buff\")\n",
                "print(\"Number of manually annotated samples:\", len(dataset_buff))\n",
                "\n",
                "dataset_not_buff = balanced_dataset.filter(lambda example: example['category'] != \"buff\")\n",
                "print(\"Number of regular annotated samples:\", len(dataset_not_buff))"
            ]
        },
        {
            "cell_type": "code",
            "execution_count": 17,
            "metadata": {},
            "outputs": [],
            "source": [
                "def train_test_split_balanced(dataset: Dataset, n: int, label_column='label', random_state=None):\n",
                "    \"\"\"Randomly sample n/2 datapoints from each class for the test set and return the train and test splits. \"\"\"\n",
                "    \n",
                "    # If n is odd, increment by 1 to make it even\n",
                "    if n % 2 != 0:\n",
                "        n += 1\n",
                "    \n",
                "    if random_state is not None:\n",
                "        random.seed(random_state)\n",
                "    \n",
                "    # Aggregate indices by class\n",
                "    class_indices = {label: [i for i, example in enumerate(dataset) if example[label_column] == label] \n",
                "                     for label in set(dataset[label_column])}\n",
                "    \n",
                "    # Ensure there are enough samples in each class\n",
                "    for label, indices in class_indices.items():\n",
                "        if len(indices) < n // 2:\n",
                "            raise ValueError(f\"Not enough samples in class {label} to sample {n // 2} examples.\")\n",
                "    \n",
                "    # Randomly sample n/2 indices from each class for the test set\n",
                "    test_indices = []\n",
                "    for indices in class_indices.values():\n",
                "        test_indices.extend(random.sample(indices, n // 2))\n",
                "    \n",
                "    # Determine train indices by finding the difference between all indices and the test ones\n",
                "    all_indices = set(range(len(dataset)))\n",
                "    test_set = set(test_indices)\n",
                "    train_indices = list(all_indices - test_set)\n",
                "    \n",
                "    # Select the train and test indices to create new datasets\n",
                "    train_dataset = dataset.select(train_indices)\n",
                "    test_dataset = dataset.select(test_indices)\n",
                "    \n",
                "    return DatasetDict({'train': train_dataset, 'test': test_dataset})"
            ]
        },
        {
            "cell_type": "code",
            "execution_count": 18,
            "metadata": {},
            "outputs": [
                {
                    "name": "stdout",
                    "output_type": "stream",
                    "text": [
                        "Test size: 38\n"
                    ]
                }
            ],
            "source": [
                "test_size_int = round(len(balanced_dataset) * 0.1)\n",
                "print(\"Test size:\", test_size_int)"
            ]
        },
        {
            "cell_type": "code",
            "execution_count": 19,
            "metadata": {},
            "outputs": [
                {
                    "name": "stdout",
                    "output_type": "stream",
                    "text": [
                        "Size of training set: 346\n",
                        "Size of testing set: 38\n"
                    ]
                }
            ],
            "source": [
                "split_datasets = train_test_split_balanced(dataset_not_buff, n=test_size_int, label_column='label')\n",
                "split_datasets['train'] = concatenate_datasets([split_datasets['train'], dataset_buff])\n",
                "print(\"Size of training set:\", len(split_datasets['train']))\n",
                "print(\"Size of testing set:\", len(split_datasets['test']))"
            ]
        },
        {
            "cell_type": "code",
            "execution_count": 20,
            "metadata": {},
            "outputs": [
                {
                    "name": "stdout",
                    "output_type": "stream",
                    "text": [
                        "Class frequencies: Counter({0: 19, 1: 19})\n"
                    ]
                }
            ],
            "source": [
                "# Count the occurrences of each label\n",
                "label_counts = Counter(split_datasets[\"test\"]['label'])\n",
                "print(\"Class frequencies:\", label_counts)"
            ]
        },
        {
            "cell_type": "code",
            "execution_count": 21,
            "metadata": {},
            "outputs": [
                {
                    "data": {
                        "text/plain": [
                            "DatasetDict({\n",
                            "    train: Dataset({\n",
                            "        features: ['_id', 'batch_id', 'domain', 'view_url', 'lang', 'text', 'text_length', 'word_count', 'topic', 'category', 'good_for_training', 'good_for_augmentation', 'annotation_type', 'is_topic', 'label', 'token_count'],\n",
                            "        num_rows: 346\n",
                            "    })\n",
                            "    test: Dataset({\n",
                            "        features: ['_id', 'batch_id', 'domain', 'view_url', 'lang', 'text', 'text_length', 'word_count', 'topic', 'category', 'good_for_training', 'good_for_augmentation', 'annotation_type', 'is_topic', 'label', 'token_count'],\n",
                            "        num_rows: 38\n",
                            "    })\n",
                            "})"
                        ]
                    },
                    "execution_count": 21,
                    "metadata": {},
                    "output_type": "execute_result"
                }
            ],
            "source": [
                "split_datasets "
            ]
        },
        {
            "cell_type": "markdown",
            "metadata": {},
            "source": [
                "**Save Splits:**"
            ]
        },
        {
            "cell_type": "code",
            "execution_count": 22,
            "metadata": {},
            "outputs": [],
            "source": [
                "dataset_split[\"train\"] = balanced_dataset"
            ]
        },
        {
            "cell_type": "code",
            "execution_count": 23,
            "metadata": {},
            "outputs": [
                {
                    "name": "stderr",
                    "output_type": "stream",
                    "text": [
                        "Saving the dataset (1/1 shards): 100%|██████████| 384/384 [00:00<00:00, 15175.99 examples/s]\n",
                        "Saving the dataset (1/1 shards): 100%|██████████| 44/44 [00:00<00:00, 5235.44 examples/s]\n"
                    ]
                }
            ],
            "source": [
                "dataset_split.save_to_disk(f\"../../data/tmp/processed_dataset_{topic}_buffed_shared_domain\")"
            ]
        },
        {
            "cell_type": "code",
            "execution_count": 24,
            "metadata": {},
            "outputs": [
                {
                    "name": "stderr",
                    "output_type": "stream",
                    "text": [
                        "Saving the dataset (1/1 shards): 100%|██████████| 384/384 [00:00<00:00, 13533.08 examples/s]\n",
                        "Saving the dataset (1/1 shards): 100%|██████████| 44/44 [00:00<00:00, 5288.55 examples/s]\n",
                        "Saving the dataset (1/1 shards): 100%|██████████| 3722/3722 [00:00<00:00, 24906.31 examples/s]\n"
                    ]
                }
            ],
            "source": [
                "## Save with discarded URLs\n",
                "dataset_split[\"holdout\"] = discarded_dataset\n",
                "dataset_split.save_to_disk(f\"../../data/tmp/processed_dataset_{topic}_buffed_shared_domain_holdout\")"
            ]
        },
        {
            "cell_type": "code",
            "execution_count": 25,
            "metadata": {},
            "outputs": [],
            "source": [
                "dataset_extented = load_from_disk(f\"../../data/tmp/processed_dataset_{topic}_buffed_extended_filtered\")"
            ]
        },
        {
            "cell_type": "code",
            "execution_count": 26,
            "metadata": {},
            "outputs": [
                {
                    "name": "stderr",
                    "output_type": "stream",
                    "text": [
                        "Saving the dataset (1/1 shards): 100%|██████████| 384/384 [00:00<00:00, 10056.40 examples/s]\n",
                        "Saving the dataset (1/1 shards): 100%|██████████| 44/44 [00:00<00:00, 4121.61 examples/s]\n",
                        "Saving the dataset (1/1 shards): 100%|██████████| 3722/3722 [00:00<00:00, 24931.01 examples/s]\n",
                        "Saving the dataset (1/1 shards): 100%|██████████| 53253/53253 [00:00<00:00, 88249.80 examples/s] \n"
                    ]
                }
            ],
            "source": [
                "dataset_split[\"extended\"] = dataset_extented\n",
                "dataset_split.save_to_disk(f\"../../data/tmp/processed_dataset_{topic}_buffed_shared_domain_extended\")"
            ]
        }
    ],
    "metadata": {
        "kernelspec": {
            "display_name": "s2j-content-analysis",
            "language": "python",
            "name": "python3"
        },
        "language_info": {
            "codemirror_mode": {
                "name": "ipython",
                "version": 3
            },
            "file_extension": ".py",
            "mimetype": "text/x-python",
            "name": "python",
            "nbconvert_exporter": "python",
            "pygments_lexer": "ipython3",
            "version": "3.10.8"
        }
    },
    "nbformat": 4,
    "nbformat_minor": 2
}
