{
    "cells": [
        {
            "cell_type": "markdown",
            "metadata": {},
            "source": [
                "## Sample Negative URLs Stratified by Domain"
            ]
        },
        {
            "cell_type": "code",
            "execution_count": 1,
            "metadata": {},
            "outputs": [],
            "source": [
                "import os\n",
                "import sys\n",
                "\n",
                "# Needed to import modules from parent directory\n",
                "module_path = os.path.abspath(os.path.join('..'))\n",
                "if module_path not in sys.path:\n",
                "    sys.path.append(module_path)"
            ]
        },
        {
            "cell_type": "code",
            "execution_count": 2,
            "metadata": {},
            "outputs": [
                {
                    "name": "stderr",
                    "output_type": "stream",
                    "text": [
                        "/home/jschelb/.pyenv/versions/3.10.8/envs/s2j-content-analysis/lib/python3.10/site-packages/tqdm/auto.py:21: TqdmWarning: IProgress not found. Please update jupyter and ipywidgets. See https://ipywidgets.readthedocs.io/en/stable/user_install.html\n",
                        "  from .autonotebook import tqdm as notebook_tqdm\n"
                    ]
                }
            ],
            "source": [
                "from datasets import load_from_disk, Dataset, ClassLabel, Value, Features, concatenate_datasets, DatasetDict\n",
                "from datasets import concatenate_datasets\n",
                "from transformers import AutoTokenizer\n",
                "from sklearn.model_selection import train_test_split\n",
                "import pandas as pd \n",
                "import numpy as np\n",
                "import torch\n",
                "from collections import Counter\n",
                "import random\n",
                "from tqdm.auto import tqdm"
            ]
        },
        {
            "cell_type": "code",
            "execution_count": 3,
            "metadata": {},
            "outputs": [],
            "source": [
                "import logging\n",
                "from transformers import logging as transformers_logging\n",
                "\n",
                "# Set the logging level to error for transformers, which will suppress warnings\n",
                "transformers_logging.set_verbosity_error()\n"
            ]
        },
        {
            "cell_type": "markdown",
            "metadata": {},
            "source": [
                "**Load Examples:**"
            ]
        },
        {
            "cell_type": "code",
            "execution_count": 4,
            "metadata": {},
            "outputs": [],
            "source": [
                "topic = \"cannabis\" #\"energie\" #\"kinder\" \"cannabis\""
            ]
        },
        {
            "cell_type": "code",
            "execution_count": 5,
            "metadata": {},
            "outputs": [
                {
                    "name": "stdout",
                    "output_type": "stream",
                    "text": [
                        "Dataset({\n",
                        "    features: ['_id', 'batch_id', 'domain', 'view_url', 'lang', 'text', 'text_length', 'word_count', 'topic', 'category', 'good_for_training', 'good_for_augmentation', 'annotation_type', 'is_topic', 'label', 'token_count'],\n",
                        "    num_rows: 3858\n",
                        "})\n",
                        "{'_id': '64a0946b749484eec84dbbf1', 'batch_id': 16, 'domain': 't-online.de', 'view_url': 'email.t-online.de/em', 'lang': 'de', 'text': 'Wetter DAX Telefonverzeichnisse Lotto Telekom Services Telekom Hilfe & Service Frag Magenta Kundencenter Freemail MagentaCloud Tarife & Produkte PUR-Abo Login Suchen E-Mail Login Politik Deutschland Ausland Corona-Krise Tagesanbruch Ukraine Regional Berlin Hamburg München Köln Frankfurt Alle Städte Sport Bundesliga 2. Bundesliga Zweikampf der Woche Fußball Champions League FC Bayern Newsticker Formel 1 Was macht …? Mehr Sport Liveticker Ergebnisse Anzeigen Sportwetten Wirtschaft & Finanzen Aktuelles Börse Immobilien Die Anleger Ratgeber Versicherungen Publikumspreis Anzeigen Immobilien-Teilverkauf Versichern & Vorsorgen Versicherungs-Tipp Unterhaltung Dschungelcamp Stars Royals Kino TV Musik Panorama Menschen Unglücke Kriminalität Justiz Buntes Geschichte Quiz Lesermeinungen Wetter Gesundheit Aktuelles Krankheiten & Symptome Corona Ernährung Fitness Gesund leben Heilmittel Schwangerschaft Selbsttests Leben Aktuelles Essen & Trinken Reisen Familie Alltagswissen Wissenschaft Liebe Mode & Beauty Anzeigen Heimaturlaub Spiele Online-Spiele Browsergames Tägliche Spiele 3 Gewinnt Brettspiele & Kartenspiele Bubble Shooter Gratis-Casino Kreuzworträtsel Mahjong Sudoku Wortquiz Nachhaltigkeit Klima & Umwelt Mobilität & Verkehr Heim, Garten & Wohnen Energie Finanzen & Beruf Ernährung Konsum Klima-Lexikon Mobilität Aktuelles Autos E-Autos E-Bikes und Fahrräder Motorräder Wohnmobile Bus & Bahn Recht und Verkehr Digital Aktuelles Smartphone Computer & Gadgets Sicherheit Internet Netzpolitik Heim & Garten Aktuelles Garten Haushaltstipps Bauen Wohnen Energie Wetter Wettervorhersage Wetterkarten Kaufberatung Deals Technik Haushalt & Wohnen Genuss Leben & Freizeit Haus & Garten Gesundheit Video Highlights Nachrichten Wetter Klima & Nachhaltigkeit Sport Unterhaltung Internethits Ratgeber Podcasts Diskussionsstoff Grünes Licht Tagesanbruch Die Zeitraffer Ladezeit Suchen E-Mail Login Video Lage an der Grenze zu Belarus \"Sie wollen uns destabilisieren\" Von Camilla Kohrs , Gerd Waliszewski Schlagzeilen Alle Box-Sensation: Deutscher wird Weltmeister Star sagt Auftritt in Silbereisen-Show ab Olympiasieger bricht Tour de France ab Kurz vor Beerdigung: Frau wacht auf Fallschirmspringer verliert die Kontrolle Wirtschaft: \"Das ist ein Alarmsignal\" Schlagerband ersetzt Terenzi mit Superstar \"Mordanschlag\" auf Bürgermeister-Haus Donnermond: Naturspektakel steht bevor Schlagerstar hat den Krebs besiegt Nackt-Demo radelt durch die Stadt RTL-Moderatorin mit verzweifeltem Aufruf Alle Schlagzeilen anzeigen Mehr anzeigen Anzeige Loading... Loading... Angebote der Woche Loading... Loading... Loading... Loading... Loading... Loading... Loading... Loading... Meistgelesen Umfrage: SPD verliert immer mehr an Wählergunst Tabelle zeigt, bis zu welcher Höhe Ihre Bruttorente steuerfrei bleibt Ein Star wird alles verändern – und das ist nicht Kane Das tägliche t-online Wortquiz Lassen Sie Ihre Sprachkenntnisse spielen und finden Sie das gesuchte Wort in 6 Versuchen. G L Ü C K Jetzt spielen Nikita Juferew zu Prigoschin-Aufstand Russischer Politiker: \"Putin hat alle verraten\" Zerfall eines Imperiums Nach Prigoschins Fall: Wer kocht für die russischen Soldaten? Interview | Region Hannover schränkt Wasserverbrauch ein Beginnt der Kampf ums Grundwasser, Herr Krach? Von Patrick Schiller Versteckter Kuss beim \"Schlagerbooom\"? Florian Silbereisen und Beatrice Egli flirten auf der Bühne Loading... Loading... Loading... Grüne als Hauptgegner der Union? Klingbeil über Merz: \"Die Ansage musste ich erst mal sacken lassen\" Tennis-Legende nicht dabei Darum fehlt Boris Becker dieses Jahr in Wimbledon Meinung | Rentensystem Diese drei Dinge müssen sich jetzt bei der Rente ändern Von Florian Schmidt Schöne Reiseziele Das sind Europas beliebteste Strände bei Instagram Von Lynn Zimmermann Schimmel, Viren und Bakterien Waschmittelfach reinigen: In drei einfachen Schritten Von Jennifer Buchholz Akku vs. Elektro Diese Rasenmäher überzeugen im Test Von Antonia Herfort Loading... Loading... Loading... t-online Partnerangebote Anzeigen Loading... Loading... Loading... Loading... Loading... Loading... Telekom empfiehlt Loading... Loading... Loading... Loading... Loading... Loading... Loading... Loading... Ukraine Newsblog Spenden Ukrainischer Militärnachrichtendienst \"FSB wurde mit Prigoschins Ermordung betraut\" Möglicher Plan der Ukraine \"Russland wird nur verhandeln, wenn es sich bedroht fühlt\" Diskussion im russischen Staatsfernsehen \"Dann wird der Konflikt unmittelbar eingefroren\" Von Hanna Klein , Axel Krüger Tagesanbruch - Was heute wichtig ist Was heute wichtig ist Erhalten Sie jeden Morgen einen Überblick über die Themen des Tages als Newsletter. Jetzt abonnieren Aktuelle Ausgabe lesen! Als Podcast hören Datenschutzhinweis Politik Ausland Corona-Krise Deutschland Klima & Umwelt Kolumne - Christoph Schwennicke Politik-Kompass Quiz Tagesanbruch Ukraine Krieg in der Ukraine Olaf Scholz Karl Lauterbach Annalena Baerbock Joe Biden Tagesanbruch Afghanistan-Konflikt Boris Johnson Europäische Union Internationale Politik Krisen & Konflikte Terrorismus USA Außenpolitik Gesellschaft Innenpolitik Militär & Verteidigung Parteien Umfragen Frankreichs Präsident Macron sagt Staatsbesuch in Deutschland ab Interview | Ministerpräsident über Ampel-Politik \"Da kommt kein Mensch mehr mit\" Von Tim Kummert Meinung | Tagesanbruch Klima: Es gibt eine große Hoffnung Von Florian Harms Meistgelesen Zahlreiche Leopard-Panzer endeten im Minenfeld Deutsche kentern im Urlaub: \"Hatten uns zum Sterben hingelegt\" Riesiges Militärcamp in Belarus entdeckt Alles aus Politik Loading... Unterhaltung Kino Literatur Musik Partnersuche Promis und die Corona-Krise Quiz Royals Stars TV Let\\'s Dance DSDS GNTM Sylvie Meis Heidi Klum Tatort Helene Fischer Bauer sucht Frau Skandale Dschungelcamp: Kandidaten Dschungelcamp: Quiz Oscars Eurovision Song Contest Helene Fischer Lena Meyer-Landrut Bares für Rares Bauer sucht Frau Der Bachelor Die Höhle der Löwen Dschungelcamp DSDS Germany’s Next Topmodel Kolumne - Janna Halbroth Promi Big Brother Tatort Wer wird Millionär? ARD-Show büßt Reichweite ein Silbereisens \"Schlagerboom\" schmiert ab \"Die glücklichste Frau der Welt\" Michelle schwärmt in Silbereisen-Show von neuem Freund \"Endgültig total abgehoben\" Florian Silbereisen fliegt mit dem Helikopter auf die Bühne Empfehlung der Redaktion Angekündigter Star fehlt in Show von Florian Silbereisen Fitness-Influencer \"Joestethics\" ist offenbar tot Lilly Becker rechnet mit Boris Becker ab Alles aus Unterhaltung Regional Stadt auswählen Marie Amière Outfits vom roten Teppich: Model macht Fashion-Flohmarkt in Hamburg Versteckspiel mit Schrecken Mädchen verschwindet – besorgte Oma wählt Notruf Auf der Rückreise nach Hessen Technische Mängel am Reisebus: Lehrer alarmiert Polizei Alle Städte anzeigen Schlagzeilen Denkmal für tote Einsatzkräfte beschmiert Wann versinkt Sylt in der Nordsee? Streit bei Abiturfeier eskaliert Lindemann-Fans suchen Karten für Konzert Allgaier-Insolvenz: Suche nach Investor Kinderspielzeug legt Großstadt lahm Das ändert sich ab Juli in Berlin Mann aus Spree gezogen – tot Ferienflieger bricht Landung ab Vater und Kinder retten Vierjährigen Mehr anzeigen Shopping Anzeigen Loading... Loading... Loading... Loading... Loading... Loading... Loading... Loading... Loading... Loading... Loading... Loading... Loading... Loading... Loading... Loading... Loading... Loading... Anzeigen Loading... Loading... Loading... Loading... Loading... Loading... Loading... Loading... Loading... Loading... Loading... Loading... Loading... Loading... Loading... Loading... Gesundheit Abnehmen Gesundheit aktuell Ernährung Fitness Gesund leben Gesundheitswesen Heilmittel Kindergesundheit Kolumne - Ulrike Scheuermann Krankheiten & Symptome Quiz Schwangerschaft Selbsttests Mandelentzündung Migräne Zecken Neurodermitis Scheidentrockenheit Schuppenflechte Trockene Augen Trockene Haut Zahnersatz Zahnfleischentzündung Diabetes-Risiko-Test Prostata-Selbsttest Risiko-Test Osteoporose Selbsttest Depression Test auf Schilddrüsenunterfunktion Test auf Schilddrüsenüberfunktion Wechseljahre-Test Diät Fasten Eisenmangel Fitnessübungen Fitnessvideos Laufen Muskelaufbau Fit im Alter Immunsystem stärken Insekten und Stiche Rauchen Sexualität Pflege Alternative Heilmethoden Hausmittel Heilpflanzen Medizinprodukte Heilmittel aus der Natur Pflanzenmedizin ADHS und ADS Kinderkrankheiten A-Z Gesundheit A-Z Alkohol Allergie Atemwegserkrankungen Augenkrankheiten Bakterielle Vaginose Bandscheibenvorfall Bauchschmerzen Blähungen Blasenentzündung Bluthochdruck Brüchige Nägel Brustkrebs Cholesterin & Blutfettwerte Corona Darmgesundheit Demenz Depression Diabetes mellitus Erkältungskrankheiten Gelenke Geschlechtskrankheiten Grauer Star Gürtelrose Haarausfall Hämorrhoiden Hausmittel A-Z Hausstauballergie Hautausschlag Rosazea Hautkrankheiten Hautpflege Herzerkrankungen Herzgesundheit Herzinfarkt Herzrhythmusstörungen Heuschnupfen Hörsturz Infektionskrankheiten Inkontinenz Konzentrationsstörungen Kopfläuse Kopfschmerzen Krebserkrankungen Laborwerte A-Z Laktoseintoleranz Magen-Darm-Erkrankungen Multiple Sklerose Mundgeruch Muskelbeschwerden Nackenschmerzen Nagelpilz Neurodermitis Nierenerkrankungen Osteoporose Parasiten Prostataprobleme Psychische Erkrankungen Regelschmerzen Reizdarm Reizmagen Rheuma Rückenschmerzen Scheidenpilz Schilddrüse Schlaf Schlafstörungen Schlaganfall Schuppenflechte Schwerhörigkeit Schwitzen Sexuelle Probleme Sinusitis Sodbrennen Stress Stress - Burnout Suchterkrankungen Tinnitus Trockene Augen Untersuchungen & Behandlungen A-Z Untersuchung & Behandlung Venenleiden Verletzungen Viruserkrankungen Warzen Wechseljahre Wundheilung Zahngesundheit Zahnpflege Zahnschmerzen Geburt Kinderwunsch Schmerzen vermeiden Einfacher Handgriff holt Wasser aus dem Ohr Von Silke Ahrens Von Pupsen bis Herzstolpern Welche Symptome durch Blähungen entstehen Von Wiebke Posmyk Von Essig bis Teebaumöl Hausmittel gegen Nagelpilz: Was hilft wirklich? Von Wiebke Posmyk Infektionsrisiko steigt Erster Malaria-Ausbruch in den USA seit 20 Jahren Loading... Loading... Loading... Meistgelesen E-Rezept auf Versichertenkarte startet – das sollten Sie wissen Marisken selbst entfernen – was Hausmittel bringen Rote Flecken an den Beinen – was dahintersteckt Alles aus Gesundheit Sport Ergebnisse Formel 1 2. Bundesliga Fußball Bundesliga Mehr Sport Quiz Wintersport Formel 1 Rennkalender Liveticker Ergebnisse FC Bayern-Newsblog Anzeige: Sportwetten DFB-Elf WM der Frauen 2023 Spielplan WM der Frauen 2023 Rennkalender 3. Liga Champions League Conference League DFB-Pokal EM Europa League Frauenfußball Fußball international Kolumne - Berti Vogts Kolumne - Stefan Effenberg Nationalmannschaft Deutschland Nations League Transfermarkt WM Zweikampf der Woche FC Bayern München Basketball Boxen Darts Football Golf Handball Leichtathletik Motorsport Radsport Tennis Biathlon Eishockey WM Ski Alpin Ski nordisch Skispringen Sieg gegen Serbien Deutsche U21-Handballer stürmen ins WM-Finale Eine Traditionssportart unter Druck Die Revolution wird getestet – und dann? Von Alexander Kohne Eine Kandidatin von der Abrufliste Wird sie zur Überraschung zum deutschen WM-Kader? Loading... Loading... Loading... Mehr Fußball bei t-online Loading... U21-EM Spielplan , Tabelle Loading... WM der Frauen Spielplan , Tabelle Loading... Bundesliga Spielplan , Tabelle Loading... 2. Bundesliga Spielplan , Tabelle Loading... Champions League Spielplan , Tabelle Loading... DFB Pokal Spielplan Loading... 3. Liga Spielplan , Tabelle Loading... Europa League Spielplan , Tabelle Loading... Nations League Spielplan , Tabelle Loading... Premier League Spielplan Loading... Primera Division Spielplan , Tabelle Loading... Ligue 1 Spielplan , Tabelle Loading... Serie A Spielplan , Tabelle Loading... Conference League Spielplan , Tabelle Loading... EM-Qualifikation Spielplan , Tabelle Loading... Länderspiele Spielplan Loading... Regionalliga Nord Spielplan , Tabelle Loading... Regionalliga Nordost Spielplan , Tabelle Loading... Regionalliga West Spielplan , Tabelle Loading... Regionalliga Südwest Spielplan , Tabelle Loading... Regionalliga Bayern Spielplan , Tabelle Mehr Wettbewerbe Heute U21-EM England Loading... 18:00 Loading... Portugal Frankreich Loading... 21:00 Loading... Ukraine Formel 1 Loading... GP Österreich - Rennen 15:00 Alle Events im Liveticker Mehr anzeigen Panorama Buntes Justiz Unglücke Kriminalität Lottozahlen Menschen Quiz Tiere Wetter Wissen Wetter Regenradar Wetter in Deutschland Eurojackpot am Freitag Lotto am Samstag Glücksspirale Archäologie Astronomie Geschichte Weltall Zur Universität Miete sparen – US-Student fliegt mehrmals die Woche Niederlande Frau soll 15 Jahre als Sklavin gehalten worden sein Abgeordnete schwitzten Rätsel um dicke Luft im Verteidigungsausschuss gelöst Von Lars Wienand Meistgelesen Küstenwache meldet Entdeckung in \"Titan\"-Wrack Neun Millionen beim Lotto am Samstag Regenfront zieht über Deutschland – dann wird es stürmisch Alles aus Panorama Telekom empfiehlt Anzeige Loading... Video Highlights Internethits Klima & Nachhaltigkeit Nachrichten Ratgeber Sport Unterhaltung Wetter Lifehacks Rätsel Zeitgeschichte Panorama Politik Zeitgeschichte Auto Digital Essen & Trinken Familie Gesundheit Heim & Garten Leben Lifehacks Rätsel Reisen Wirtschaft & Finanzen Staunen geht viral Schimpansin sieht nach 28 Jahren das zum ersten Mal Während eines Rennens Jetski-Fahrer verliert Kontrolle – und verursacht heftige Kollision Attacke von oben Ukrainer greifen mit Drohne an – dann folgt massive Explosion Fahrwerk defekt Bange Minuten: Passagier filmt Bruchlandung Von Kamera ertappt Wildschweine klauen Amazon-Lieferung Unvergessliches Erlebnis Nach 18 Stunden Verspätung: Mann ist einziger Passagier im Flugzeug Ausgleichende Gerechtigkeit? Brandstifter zündet Haus an – und steht plötzlich selbst in Flammen Ukrainischer Durchbruch Russischer Soldat klagt an: \"Wir werden hier sterben\" Bizarrer Anblick Wasser in Fluss färbt sich rot – aus einem kuriosen Grund Ukrainische Gegenoffensive Karte zeigt die heftigsten Gefechte: Hier gelingt ein Durchbruch 1 - 3 von 9 Beliebteste Videos Riesiges Militärcamp in Belarus entdeckt Putin irritiert erneut bei Auftritt – Szene sorgt für Diskussionen Kind stürzt von Zipline in die Tiefe Alle Videos Kaufberatung Deals Genuss Gesundheit Haus & Garten Haushalt & Wohnen Leben & Freizeit Technik Auto Deals Baumarkt-Deals Drogerie-Deals Haushaltselektronik-Deals Haushaltsgeräte-Deals Küchengeräte-Deals Mode-Deals Reise-Deals Shopping-Events Sport und Freizeit Deals Technik-Deals Essen Trinken Drogerie Fitness Medizintechnik Gartenausstattung Gartengeräte Gartengestaltung Heimwerken Einrichtung Elektronik & Leuchten Haushaltsgeräte Haushaltswaren Küchenausstattung Küchengeräte Autozubehör Baby & Kind Fahrrad Feiertage Geschenkideen Haustier Hobbys Mode & Accessoires Outdoor Wintersport Audio Computerzubehör Foto & Video Gaming Laptops & PCs Smarthome & Sicherheit Smartphone & Telefone Tablets TV & Sat Marken-Highlight Lidl bietet Vollautomaten von De\\'Longhi zum Tiefpreis an Übernimmt die Hausarbeit Saugroboter von iRobot bei Amazon stark reduziert Kassetten digitalisieren Zum Retten alter Schätze: Video-Konverter bei Aldi erhältlich Schnäppchentipp des Tages Aldi bietet Pergola mit Faltdach zum halben Preis an Empfehlungen der Redaktion Aldi verkauft Drohne zum Knallerpreis unter 270 Euro Aldi bietet vielseitige Wetterstation zum halben Preis an Jetzt reduzierte Bademode bei Otto entdecken Wirtschaft & Finanzen Aktuelles Börse & Märkte Börsen-News Die Anleger Ratgeber Aktien Aktien kaufen für Anfänger Börse Frankfurt live DAX Dow Jones NASDAQ MDAX alle Indizes Prime All Share Euro - US-Dollar ETFs Gold Kryptowährung Öl Brent Rohöl WTI Aktien-Trends A-Z Airbus Aktie Biontech Aktie Mercedes-Benz Aktie Siemens Aktie Telekom Aktie Tesla Aktie Arbeitsmarkt Immobilien Inflation Kryptowährung Verbraucher Wirtschaft Altersvorsorge Beruf & Karriere Geldanlage Immobilien Konto, Kredit & Co. Leben Steuern & Recht Verbraucher Versicherungen 3 Weitere DAX 16.147,90 +1,26% Gold 1.919,38 USD +0,57% EUR/USD 1,09 USD +0,50% Rohöl WTI 70,45 USD +0,93% Deutsche Telekom 19,99 EUR +0,33% Porsche AG Vz 113,55 EUR -0,22% DAX Top Aktien heute Sartorius Vz +4,31% 316,80 EUR Infineon +3,60% 37,84 EUR Siemens Energy +3,49% 16,18 EUR DAX Flop Aktien heute Deutsche Telekom +0,33% 19,99 EUR Bayer +0,16% 50,69 EUR RWE +0,03% 39,85 EUR Wertpapiersuche Börsen-News Marktübersicht Die \"Stütze\" aufstocken Freibeträge beim Bürgergeld: Das können Sie geltend machen \"Zugriffslimit erreicht\" Twitter führt Lese-Beschränkung ein Loading... Loading... Loading... Sechs Prozent oder mehr Experten sagen auch für 2024 sattes Rentenplus voraus Neuste Finanzratgeber Maestro-Aus ab Juli: Was ändert sich? Bis Ende Juni noch 1.500 Euro sichern Rentenpunkte zurückholen: Wer kann das? Pflege: So viel mehr zahlen Sie ab 1. Juli Wer bekommt 3.000 Euro Rente? Manchen Rentnern droht böse Überraschung Für Verbraucher ändert sich im Juli einiges Rentenerhöhung 2023: Tabelle gibt Überblick Erbe vom Ehepartner: Ab wann Sie Steuern zahlen müssen Das gilt für Stromkosten beim Bürgergeld Mehr anzeigen Leben Gegenseitige Klagen Jägermeister nimmt russischen Nachahmer auf die Hörner Rätsel im Video Ganz logisch: Wie viel Gewinn macht die Frau mit dem Pferd? Von Martin Trotz , Nicolas Lindken Am 1. Juli 2023 Höchste durchgehende Alpenseilbahn wird eröffnet Loading... Loading... Loading... Meistgelesen Heinz-Ketchup macht klare Ansage Dieses Mineralwasser schneidet im Test nicht \"gut\" ab Wie lange dauert der Vollmond? Alles aus Leben watson Große Ehre Prinzessin Kate erhält besondere Auszeichnung – Camilla ist der Grund \"Schlagerboom\" Florian Silbereisen und Beatrice Egli offenbaren in der ARD: \"Absolutes Wunschkind\" Videoplattform Youtube geht gegen findige Nutzer vor – mit drastischer Maßnahme Schlagzeilen Virologie warnt vor Mücke Burger King: Neue Ekelzustände enthüllt Mallorca: Preis-Explosion befürchtet Dating-App teilt hochsensible Userdaten Trump-Rivale besucht Ukraine Mehr anzeigen Heim & Garten Bauen Energie Garten Haushaltstipps Quiz Wohnen Zimmerpflanzen Do-it-yourself (DIY) Einbruchschutz Hausbau Umbau & Renovierung Werkzeuglexikon Heizung Strom Wasser Gartenarbeit Gemüse Obst Pflanzen Rasen Tiere Haushaltsgeräte Fieser Pflanzenschädling Junikäfer bekämpfen: Nicht nur mit Hausmitteln klappt es Von Jennifer Buchholz Ein Weinstock oder viele Weinreben vermehren: Das sind die Methoden mit Erfolg Pflanzenschutz im Garten Backpulver: Ihr Hausmittel gegen Mehltau bei Rosen Loading... Loading... Loading... Meistgelesen Darum sollten Sie jetzt ein Glas mit Salz in den Kühlschrank stellen So schneiden Sie Ihren Lavendel im Frühjahr Wie teuer ist eigentlich ein Hausboot? Alles aus Heim & Garten Mobilität Aktuelles Autos Bus und Bahn E-Autos E-Bikes und Fahrräder Motorräder Quiz Recht und Verkehr Reifen Wohnmobile Bis zu 24 Prozent auf den Listenpreis Diese Auto-Marken haben jetzt die größten Rabatte Wichtig im Ausland Internationaler Führerschein: Wann und wo wird er benötigt? Von Markus Abrahamczyk Loading... Loading... Loading... Meistgelesen Ferrari zeigt neues Topmodell Fünf Wohnmobile, die sich noch lohnen Audi plant acht neue Modelle bis Ende 2024 Alles aus Mobilität Digital Euclid vor dem Start Das Esa-Teleskop soll etwas Unsichtbares im Weltraum finden Tipps gegen Trickbetrüger \"Schockanruf\": Darum kommen sie nun häufiger vor Loading... Loading... Loading... Meistgelesen Extrem später Rückruf: Bose warnt vor Brandgefahr durch uralte Subwoofer Phishing-Betrüger wollen Geld von Paypal-Kunden stehlen Postbank: Diese Dienste fallen am Wochenende aus Alles aus Digital Kolumnisten Meinung | Werbung, Politik und die Börse Wenn politische Korrektheit Millionen kostet Von Daniel Saurenz Meinung | Russland versus Ukraine Ein Albtraum könnte die Folge sein Von Wladimir Kaminer Meinung | Am 9. Juli ist CSD Weltoffenes Köln? Ja – aber es geht noch besser! Von Peter Brings Beliebte Kolumnisten Stefan Effenberg: Effes Einwurf – Klartext rund um den Fußball Gerhard Spörl: Der Einordner – wie die Dinge liegen Nicole Diekmann: Digitale Abgründe – Zwischentöne aus dem Netz Alle Kolumnisten Spiele Browsergames Online-Spiele Bubble Shooter 3 Gewinnt Browsergames Brettspiele & Kartenspiele Denkspiele & Quizspiele Solitaire & Co. Sportspiele & Geschicklichkeitsspiele Super duper Moorhuhn Zeitmanagementspiele Fußball-Spiele Racing Games Urlaubsspiele Neue Spiele Gratis-Casino Mahjong Solitaire & Co. Puzzles & Wimmelbildspiele Sudoku Goodgame Big Farm Rail Nation Elvenar Goodgame Empire Forge of Empires Whow Jackpot Lounge 777 Garden Tales 2 Daily Solitaire Bubble Shooter HD Candy Mahjong Daily Sudoku 2 10x10 2020 Connect Kreuzworträtsel Jewel Academy Browsergame Rail Nation – luxuriös reisen mit dem Orient Express Können Sie das gesuchte Wort erraten? Wortquiz - ab sofort täglich bei t-online Denkspiele & Quizspiele Words of Wonders – wie viele Worte finden Sie? Weitere Top-Spiele Meistgespielt Forge of Empires - erschaffen Sie die Stadt der Zukunft Words of Wonders – wie viele Worte finden Sie? Lounge 777 - hohe Jackpots & tägliche Geschenke Solitaire Mahjong Candy – die meisten Punkte gibt’s für Eiscreme Daily Solitaire - spielen Sie den Klassiker Historisches Bild 02.07.2008 Dank an Gott Geschichte zum Bild Quiz Auto-Wissen Quiz: Kennen Sie diese 15 deutschen Auto-Klassiker? Wildnis-Wissen Quiz: Kennen Sie diese außergewöhnlichen Tiere? – Teil 3 Von Lena Treichel Reise-Wissen Quiz: Kennen Sie diese deutschen Sehenswürdigkeiten? Von Kim Pohlmann Beliebteste Quiz Quiz: Wer hat es gesagt? Die Promi-Edition – Teil 2 Welche Erfindung ist älter? Quiz: Erkennen Sie diese Städte aus der Luft? Die meisten scheitern an diesem Rechtschreib-Quiz − und Sie? Quiz: Wie gut kennen Sie sich mit Eis aus? Podcasts Diskussionsstoff Tagesanbruch Grünes Licht Die Zeitraffer Ladezeit Meinung | Diskussion um Klimaschutz Dürfen wir noch in den Urlaub fliegen? Von Lisa Fritsch Experte verrät im Interview \"Der Holzkohlegeschmack ist ein Mythos\" Von Alexandra Schaller Diskussion im Podcast AfD & Wagenknecht: Woher kommt der Erfolg? Von A. Leister, F. Harms und L. Fritsch Loading... Embed t-online folgen Das Unternehmen Ströer Digital Publishing Jobs & Karriere Presse Werben Kontakt Impressum Datenschutzhinweise Datenschutzhinweise (PUR) Datenschutz-Manager Jugendschutz Produkte & Services T-Online-Browser PUR-Abo Newsletter Podcasts Videos RSS-Feeds Alle Themen Netzwerk & Partner Das Telefonbuch watson.de giga.de desired.de kino.de spieletipps.de familie.de statista.de stayfriends.de Telekom Telekom Produkte & Services Kundencenter Freemail Sicherheitspaket Vertragsverlängerung Festnetz Vertragsverlängerung Mobilfunk Hilfe & Service Frag Magenta Telekom Tarife DSL Telefonieren MagentaTV Mobilfunk-Tarife Datentarife Prepaid-Tarife Magenta EINS', 'text_length': 22900, 'word_count': 2938, 'topic': 'cannabis', 'category': 'other', 'good_for_training': 'True', 'good_for_augmentation': 'True', 'annotation_type': '06.news-wo-title', 'is_topic': False, 'label': 0, 'token_count': 5169}\n"
                    ]
                }
            ],
            "source": [
                "#dataset = load_from_disk(f\"../../data/tmp/processed_dataset_{topic}_buffed\")\n",
                "dataset_split = load_from_disk(f\"../../data/tmp/processed_dataset_{topic}_buffed_split\")\n",
                "dataset = dataset_split[\"train\"]\n",
                "print(dataset)\n",
                "print(dataset[1])"
            ]
        },
        {
            "cell_type": "code",
            "execution_count": 6,
            "metadata": {},
            "outputs": [
                {
                    "name": "stdout",
                    "output_type": "stream",
                    "text": [
                        "Class frequencies: Counter({0: 3653, 1: 205})\n",
                        "Minimum class frequency: 205\n"
                    ]
                }
            ],
            "source": [
                "# Count the occurrences of each label\n",
                "label_counts = Counter(dataset['label'])\n",
                "print(\"Class frequencies:\", label_counts)\n",
                "\n",
                "# Find the minimum count\n",
                "min_count = min(label_counts.values())\n",
                "print(\"Minimum class frequency:\", min_count)"
            ]
        },
        {
            "cell_type": "markdown",
            "metadata": {},
            "source": [
                "### Stratified Sampling"
            ]
        },
        {
            "cell_type": "code",
            "execution_count": 7,
            "metadata": {},
            "outputs": [],
            "source": [
                "dataset_negative_examples = dataset.filter(lambda example: example['label'] == 0)\n",
                "dataset_positive_examples = dataset.filter(lambda example: example['label'] == 1)"
            ]
        },
        {
            "cell_type": "code",
            "execution_count": 8,
            "metadata": {},
            "outputs": [
                {
                    "name": "stdout",
                    "output_type": "stream",
                    "text": [
                        "Number of distinct domains 758\n"
                    ]
                }
            ],
            "source": [
                "print(\"Number of distinct domains\", len(set(dataset_negative_examples[\"domain\"])))"
            ]
        },
        {
            "cell_type": "code",
            "execution_count": 9,
            "metadata": {},
            "outputs": [],
            "source": [
                "N = 128  # For example, to keep the top  most frequent domains\n",
                "\n",
                "# Calculate domain frequencies\n",
                "domain_counts = Counter(dataset_negative_examples['domain'])\n",
                "top_domains = set([domain for domain, count in domain_counts.most_common(N)])"
            ]
        },
        {
            "cell_type": "code",
            "execution_count": 10,
            "metadata": {},
            "outputs": [
                {
                    "name": "stdout",
                    "output_type": "stream",
                    "text": [
                        "{'hkk.de', 'bz-berlin.de', 'daserste.de', 'sn-online.de', 'guildwars2.com', 'sueddeutsche.de', 'computerbild.de', 'haller-kreisblatt.de', 'brigitte.de', 'digitalfernsehen.de', 'hallo-muenchen.de', 'barmer.de', 'fnp.de', 'infranken.de', 'bundesgesundheitsministerium.de', 'ard-text.de', 'bbv-net.de', 'vice.com', 'hitchecker.de', 'quoka.de', 'happy-size.de', 'ardmediathek.de', 'taz.de', 'change.org', 'tk.de', 'mz.de', '24hamburg.de', 'manager-magazin.de', 'snagtights.de', 'arcamax.com', 'gutefrage.net', 'ndr.de', 'derwesten.de', 'faz.net', 'fluter.de', 'saechsische.de', 'rga.de', 'merkur.de', 'presseportal.de', 'bzga.de', 'mainpost.de', 'tag24.de', 'wdr.de', 'tz.de', 'welt.de', 'web.de', 'gegen-hartz.de', 'spiegel.de', 'msn.com', 'berliner-kurier.de', 'waz.de', 'tagesschau.de', 'seeandso.com', 'nn.de', 'freenet.de', 'n-tv.de', 'neuepresse.de', 'radio.de', 'lausitznews.de', 'suedkurier.de', 'bundesregierung.de', 'mdr.de', 'berliner-zeitung.de', 'focus.de', 'nrz.de', 'lvz.de', 'rp-online.de', 'otz.de', 'express.de', 'paris2024.org', 'youtube.com', 'stuttgarter-zeitung.de', 'fr.de', 'google.com', 'saarbruecker-zeitung.de', 'spektrum.de', 'op-online.de', 'rlp.de', 'klamm.de', 'springer.com', 'nationalgeographic.de', 'pnp.de', 'gmx.net', 'spirit-online.de', 'adac.de', 'augsburger-allgemeine.de', 'campact.de', 'gigasnutrition.com', 'uk-erlangen.de', 'zdf.de', 'bild.de', 'businessinsider.de', 'tvnow.de', 'ruhr24.de', 'br.de', 'uservoice.com', 'tvmovie.de', 'zeit.de', 'boersen-zeitung.de', 'hna.de', 'arte.tv', 'wikipedia.org', 'handelsblatt.com', 'karlsruhe-insider.de', 'familie.de', 't-online.de', 'rtl.de', 'fraunhofer.de', 'news-und-nachrichten.de', 'tagesspiegel.de', 'bundestag.de', 'mopo.de', 'yahoo.com', 'finanzen.net', 'orf.at', 'finanzfrage.net', 'geo.de', 'noz.de', 'main-echo.de', 'telepolis.de', 'heise.de', 'ukw.de', 'volksfreund.de', 'watson.de', 'tvspielfilm.de', 'stern.de', 'abendblatt.de', 'fernsehserien.de'}\n"
                    ]
                }
            ],
            "source": [
                "print(top_domains)"
            ]
        },
        {
            "cell_type": "code",
            "execution_count": 11,
            "metadata": {},
            "outputs": [],
            "source": [
                "# Mark all other domains as \"other\"\n",
                "def mark_other_domains(example):\n",
                "    if example['domain'] not in top_domains:\n",
                "        example['domain'] = 'other'\n",
                "    return example\n",
                "\n",
                "# Apply the transformation to the dataset\n",
                "dataset_negative_examples = dataset_negative_examples.map(mark_other_domains)"
            ]
        },
        {
            "cell_type": "code",
            "execution_count": 12,
            "metadata": {},
            "outputs": [
                {
                    "name": "stdout",
                    "output_type": "stream",
                    "text": [
                        "Sample size: 205\n"
                    ]
                }
            ],
            "source": [
                "# Convert to Pandas DataFrame\n",
                "df_dataset = dataset_negative_examples.to_pandas()  \n",
                "sample_size = min_count\n",
                "print(\"Sample size:\", sample_size)\n",
                "\n",
                "# Perform stratified sampling \n",
                "discarded_sample , stratified_sample = train_test_split(df_dataset, test_size=sample_size, stratify=df_dataset['domain'], random_state=42)\n",
                "stratified_sample.reset_index(drop=True, inplace=True)\n",
                "discarded_sample.reset_index(drop=True, inplace=True)"
            ]
        },
        {
            "cell_type": "code",
            "execution_count": 13,
            "metadata": {},
            "outputs": [
                {
                    "name": "stderr",
                    "output_type": "stream",
                    "text": [
                        "Casting the dataset: 100%|██████████| 205/205 [00:00<00:00, 15540.36 examples/s]\n",
                        "Casting the dataset: 100%|██████████| 3448/3448 [00:00<00:00, 61130.03 examples/s]\n"
                    ]
                },
                {
                    "data": {
                        "text/plain": [
                            "Dataset({\n",
                            "    features: ['_id', 'batch_id', 'domain', 'view_url', 'lang', 'text', 'text_length', 'word_count', 'topic', 'category', 'good_for_training', 'good_for_augmentation', 'annotation_type', 'is_topic', 'label', 'token_count'],\n",
                            "    num_rows: 205\n",
                            "})"
                        ]
                    },
                    "execution_count": 13,
                    "metadata": {},
                    "output_type": "execute_result"
                }
            ],
            "source": [
                "# Convert the stratified sample back to a Hugging Face Dataset\n",
                "stratified_dataset = Dataset.from_pandas(stratified_sample)\n",
                "discarded_dataset = Dataset.from_pandas(discarded_sample)\n",
                "\n",
                "# Cast the dataset to the new features\n",
                "new_features = dataset_positive_examples.features.copy()\n",
                "stratified_dataset = stratified_dataset.cast(new_features)\n",
                "discarded_dataset = discarded_dataset.cast(new_features)\n",
                "stratified_dataset"
            ]
        },
        {
            "cell_type": "code",
            "execution_count": 14,
            "metadata": {},
            "outputs": [
                {
                    "data": {
                        "text/html": [
                            "<div>\n",
                            "<style scoped>\n",
                            "    .dataframe tbody tr th:only-of-type {\n",
                            "        vertical-align: middle;\n",
                            "    }\n",
                            "\n",
                            "    .dataframe tbody tr th {\n",
                            "        vertical-align: top;\n",
                            "    }\n",
                            "\n",
                            "    .dataframe thead th {\n",
                            "        text-align: right;\n",
                            "    }\n",
                            "</style>\n",
                            "<table border=\"1\" class=\"dataframe\">\n",
                            "  <thead>\n",
                            "    <tr style=\"text-align: right;\">\n",
                            "      <th></th>\n",
                            "      <th>_id</th>\n",
                            "      <th>batch_id</th>\n",
                            "      <th>domain</th>\n",
                            "      <th>view_url</th>\n",
                            "      <th>lang</th>\n",
                            "      <th>text</th>\n",
                            "      <th>text_length</th>\n",
                            "      <th>word_count</th>\n",
                            "      <th>topic</th>\n",
                            "      <th>category</th>\n",
                            "      <th>good_for_training</th>\n",
                            "      <th>good_for_augmentation</th>\n",
                            "      <th>annotation_type</th>\n",
                            "      <th>is_topic</th>\n",
                            "      <th>label</th>\n",
                            "      <th>token_count</th>\n",
                            "    </tr>\n",
                            "  </thead>\n",
                            "  <tbody>\n",
                            "    <tr>\n",
                            "      <th>0</th>\n",
                            "      <td>64a0946d749484eec854d7f7</td>\n",
                            "      <td>16</td>\n",
                            "      <td>t-online.de</td>\n",
                            "      <td>www.t-online.de/nachrichten/deutschland/innenp...</td>\n",
                            "      <td>de</td>\n",
                            "      <td>Wetter DAX Telefonverzeichnisse Lotto Telekom ...</td>\n",
                            "      <td>10515</td>\n",
                            "      <td>1387</td>\n",
                            "      <td>cannabis</td>\n",
                            "      <td>news</td>\n",
                            "      <td>True</td>\n",
                            "      <td>True</td>\n",
                            "      <td>04.urls-with-title</td>\n",
                            "      <td>False</td>\n",
                            "      <td>0</td>\n",
                            "      <td>2213</td>\n",
                            "    </tr>\n",
                            "    <tr>\n",
                            "      <th>1</th>\n",
                            "      <td>64a0946f749484eec859a5ef</td>\n",
                            "      <td>16</td>\n",
                            "      <td>bild.de</td>\n",
                            "      <td>www.bild.de/regional/thueringen/thueringen-akt...</td>\n",
                            "      <td>de</td>\n",
                            "      <td>Weiter zum Hauptinhalt ↵ BILD Logo TV-Stream ...</td>\n",
                            "      <td>8408</td>\n",
                            "      <td>1141</td>\n",
                            "      <td>cannabis</td>\n",
                            "      <td>news</td>\n",
                            "      <td>True</td>\n",
                            "      <td>True</td>\n",
                            "      <td>04.urls-with-title</td>\n",
                            "      <td>False</td>\n",
                            "      <td>0</td>\n",
                            "      <td>1751</td>\n",
                            "    </tr>\n",
                            "    <tr>\n",
                            "      <th>2</th>\n",
                            "      <td>64a0946c749484eec85274ac</td>\n",
                            "      <td>16</td>\n",
                            "      <td>other</td>\n",
                            "      <td>magazin.kuechenfinder.com/baugleiche-geschirrs...</td>\n",
                            "      <td>de</td>\n",
                            "      <td>Küchenstudios Preisrechner Küchenformen Front...</td>\n",
                            "      <td>14403</td>\n",
                            "      <td>2022</td>\n",
                            "      <td>cannabis</td>\n",
                            "      <td>other</td>\n",
                            "      <td>True</td>\n",
                            "      <td>True</td>\n",
                            "      <td>04.urls-with-title</td>\n",
                            "      <td>False</td>\n",
                            "      <td>0</td>\n",
                            "      <td>3180</td>\n",
                            "    </tr>\n",
                            "    <tr>\n",
                            "      <th>3</th>\n",
                            "      <td>64a0946e749484eec8578dfa</td>\n",
                            "      <td>16</td>\n",
                            "      <td>zdf.de</td>\n",
                            "      <td>www.zdf.de/filme</td>\n",
                            "      <td>de</td>\n",
                            "      <td>Zum Hauptinhalt springen Zur Suche springen Z...</td>\n",
                            "      <td>16890</td>\n",
                            "      <td>2420</td>\n",
                            "      <td>cannabis</td>\n",
                            "      <td>news</td>\n",
                            "      <td>True</td>\n",
                            "      <td>True</td>\n",
                            "      <td>06.news-wo-title</td>\n",
                            "      <td>False</td>\n",
                            "      <td>0</td>\n",
                            "      <td>3566</td>\n",
                            "    </tr>\n",
                            "    <tr>\n",
                            "      <th>4</th>\n",
                            "      <td>64a0946d749484eec8561c0b</td>\n",
                            "      <td>16</td>\n",
                            "      <td>tvnow.de</td>\n",
                            "      <td>tvnow.de/shows/bella-italia-19832</td>\n",
                            "      <td>de</td>\n",
                            "      <td>RTL+ Musik Stöbern Einloggen Jetzt testen Übe...</td>\n",
                            "      <td>5611</td>\n",
                            "      <td>837</td>\n",
                            "      <td>cannabis</td>\n",
                            "      <td>other</td>\n",
                            "      <td>True</td>\n",
                            "      <td>True</td>\n",
                            "      <td>04.urls-with-title</td>\n",
                            "      <td>False</td>\n",
                            "      <td>0</td>\n",
                            "      <td>1249</td>\n",
                            "    </tr>\n",
                            "  </tbody>\n",
                            "</table>\n",
                            "</div>"
                        ],
                        "text/plain": [
                            "                        _id  batch_id       domain  \\\n",
                            "0  64a0946d749484eec854d7f7        16  t-online.de   \n",
                            "1  64a0946f749484eec859a5ef        16      bild.de   \n",
                            "2  64a0946c749484eec85274ac        16        other   \n",
                            "3  64a0946e749484eec8578dfa        16       zdf.de   \n",
                            "4  64a0946d749484eec8561c0b        16     tvnow.de   \n",
                            "\n",
                            "                                            view_url lang  \\\n",
                            "0  www.t-online.de/nachrichten/deutschland/innenp...   de   \n",
                            "1  www.bild.de/regional/thueringen/thueringen-akt...   de   \n",
                            "2  magazin.kuechenfinder.com/baugleiche-geschirrs...   de   \n",
                            "3                                   www.zdf.de/filme   de   \n",
                            "4                  tvnow.de/shows/bella-italia-19832   de   \n",
                            "\n",
                            "                                                text  text_length  word_count  \\\n",
                            "0  Wetter DAX Telefonverzeichnisse Lotto Telekom ...        10515        1387   \n",
                            "1   Weiter zum Hauptinhalt ↵ BILD Logo TV-Stream ...         8408        1141   \n",
                            "2   Küchenstudios Preisrechner Küchenformen Front...        14403        2022   \n",
                            "3   Zum Hauptinhalt springen Zur Suche springen Z...        16890        2420   \n",
                            "4   RTL+ Musik Stöbern Einloggen Jetzt testen Übe...         5611         837   \n",
                            "\n",
                            "      topic category good_for_training good_for_augmentation  \\\n",
                            "0  cannabis     news              True                  True   \n",
                            "1  cannabis     news              True                  True   \n",
                            "2  cannabis    other              True                  True   \n",
                            "3  cannabis     news              True                  True   \n",
                            "4  cannabis    other              True                  True   \n",
                            "\n",
                            "      annotation_type  is_topic  label  token_count  \n",
                            "0  04.urls-with-title     False      0         2213  \n",
                            "1  04.urls-with-title     False      0         1751  \n",
                            "2  04.urls-with-title     False      0         3180  \n",
                            "3    06.news-wo-title     False      0         3566  \n",
                            "4  04.urls-with-title     False      0         1249  "
                        ]
                    },
                    "execution_count": 14,
                    "metadata": {},
                    "output_type": "execute_result"
                }
            ],
            "source": [
                "stratified_sample.head()"
            ]
        },
        {
            "cell_type": "code",
            "execution_count": 15,
            "metadata": {},
            "outputs": [
                {
                    "name": "stdout",
                    "output_type": "stream",
                    "text": [
                        "Class frequencies: Counter({0: 205, 1: 205})\n"
                    ]
                }
            ],
            "source": [
                "balanced_dataset = concatenate_datasets([stratified_dataset, dataset_positive_examples])\n",
                "\n",
                "label_counts = Counter(balanced_dataset['label'])\n",
                "print(\"Class frequencies:\", label_counts)"
            ]
        },
        {
            "cell_type": "markdown",
            "metadata": {},
            "source": [
                "**Split in Test and Train Dataset**"
            ]
        },
        {
            "cell_type": "code",
            "execution_count": 16,
            "metadata": {},
            "outputs": [
                {
                    "name": "stdout",
                    "output_type": "stream",
                    "text": [
                        "Number of all annotated samples: 410\n",
                        "Number of positive annotated samples: 205\n",
                        "Number of manually annotated samples: 150\n",
                        "Number of regular annotated samples: 260\n"
                    ]
                }
            ],
            "source": [
                "print(\"Number of all annotated samples:\", len(balanced_dataset))\n",
                "\n",
                "dataset_pos = balanced_dataset.filter(lambda example: example['label'] > 0)\n",
                "print(\"Number of positive annotated samples:\", len(dataset_pos))\n",
                "\n",
                "dataset_buff = balanced_dataset.filter(lambda example: example['category'] == \"buff\")\n",
                "print(\"Number of manually annotated samples:\", len(dataset_buff))\n",
                "\n",
                "dataset_not_buff = balanced_dataset.filter(lambda example: example['category'] != \"buff\")\n",
                "print(\"Number of regular annotated samples:\", len(dataset_not_buff))"
            ]
        },
        {
            "cell_type": "code",
            "execution_count": 17,
            "metadata": {},
            "outputs": [],
            "source": [
                "def train_test_split_balanced(dataset: Dataset, n: int, label_column='label', random_state=None):\n",
                "    \"\"\"Randomly sample n/2 datapoints from each class for the test set and return the train and test splits. \"\"\"\n",
                "    \n",
                "    # If n is odd, increment by 1 to make it even\n",
                "    if n % 2 != 0:\n",
                "        n += 1\n",
                "    \n",
                "    if random_state is not None:\n",
                "        random.seed(random_state)\n",
                "    \n",
                "    # Aggregate indices by class\n",
                "    class_indices = {label: [i for i, example in enumerate(dataset) if example[label_column] == label] \n",
                "                     for label in set(dataset[label_column])}\n",
                "    \n",
                "    # Ensure there are enough samples in each class\n",
                "    for label, indices in class_indices.items():\n",
                "        if len(indices) < n // 2:\n",
                "            raise ValueError(f\"Not enough samples in class {label} to sample {n // 2} examples.\")\n",
                "    \n",
                "    # Randomly sample n/2 indices from each class for the test set\n",
                "    test_indices = []\n",
                "    for indices in class_indices.values():\n",
                "        test_indices.extend(random.sample(indices, n // 2))\n",
                "    \n",
                "    # Determine train indices by finding the difference between all indices and the test ones\n",
                "    all_indices = set(range(len(dataset)))\n",
                "    test_set = set(test_indices)\n",
                "    train_indices = list(all_indices - test_set)\n",
                "    \n",
                "    # Select the train and test indices to create new datasets\n",
                "    train_dataset = dataset.select(train_indices)\n",
                "    test_dataset = dataset.select(test_indices)\n",
                "    \n",
                "    return DatasetDict({'train': train_dataset, 'test': test_dataset})"
            ]
        },
        {
            "cell_type": "code",
            "execution_count": 18,
            "metadata": {},
            "outputs": [
                {
                    "name": "stdout",
                    "output_type": "stream",
                    "text": [
                        "Test size: 41\n"
                    ]
                }
            ],
            "source": [
                "test_size_int = round(len(balanced_dataset) * 0.1)\n",
                "print(\"Test size:\", test_size_int)"
            ]
        },
        {
            "cell_type": "code",
            "execution_count": 19,
            "metadata": {},
            "outputs": [
                {
                    "name": "stdout",
                    "output_type": "stream",
                    "text": [
                        "Size of training set: 368\n",
                        "Size of testing set: 42\n"
                    ]
                }
            ],
            "source": [
                "split_datasets = train_test_split_balanced(dataset_not_buff, n=test_size_int, label_column='label')\n",
                "split_datasets['train'] = concatenate_datasets([split_datasets['train'], dataset_buff])\n",
                "print(\"Size of training set:\", len(split_datasets['train']))\n",
                "print(\"Size of testing set:\", len(split_datasets['test']))"
            ]
        },
        {
            "cell_type": "code",
            "execution_count": 20,
            "metadata": {},
            "outputs": [
                {
                    "name": "stdout",
                    "output_type": "stream",
                    "text": [
                        "Class frequencies: Counter({0: 21, 1: 21})\n"
                    ]
                }
            ],
            "source": [
                "# Count the occurrences of each label\n",
                "label_counts = Counter(split_datasets[\"test\"]['label'])\n",
                "print(\"Class frequencies:\", label_counts)"
            ]
        },
        {
            "cell_type": "code",
            "execution_count": 21,
            "metadata": {},
            "outputs": [
                {
                    "data": {
                        "text/plain": [
                            "DatasetDict({\n",
                            "    train: Dataset({\n",
                            "        features: ['_id', 'batch_id', 'domain', 'view_url', 'lang', 'text', 'text_length', 'word_count', 'topic', 'category', 'good_for_training', 'good_for_augmentation', 'annotation_type', 'is_topic', 'label', 'token_count'],\n",
                            "        num_rows: 368\n",
                            "    })\n",
                            "    test: Dataset({\n",
                            "        features: ['_id', 'batch_id', 'domain', 'view_url', 'lang', 'text', 'text_length', 'word_count', 'topic', 'category', 'good_for_training', 'good_for_augmentation', 'annotation_type', 'is_topic', 'label', 'token_count'],\n",
                            "        num_rows: 42\n",
                            "    })\n",
                            "})"
                        ]
                    },
                    "execution_count": 21,
                    "metadata": {},
                    "output_type": "execute_result"
                }
            ],
            "source": [
                "split_datasets "
            ]
        },
        {
            "cell_type": "markdown",
            "metadata": {},
            "source": [
                "**Save Splits:**"
            ]
        },
        {
            "cell_type": "code",
            "execution_count": 22,
            "metadata": {},
            "outputs": [],
            "source": [
                "dataset_split[\"train\"] = balanced_dataset"
            ]
        },
        {
            "cell_type": "code",
            "execution_count": 23,
            "metadata": {},
            "outputs": [
                {
                    "name": "stderr",
                    "output_type": "stream",
                    "text": [
                        "Saving the dataset (1/1 shards): 100%|██████████| 410/410 [00:00<00:00, 12795.98 examples/s]\n",
                        "Saving the dataset (1/1 shards): 100%|██████████| 46/46 [00:00<00:00, 4456.97 examples/s]\n"
                    ]
                }
            ],
            "source": [
                "dataset_split.save_to_disk(f\"../../data/tmp/processed_dataset_{topic}_buffed_stratified\")"
            ]
        },
        {
            "cell_type": "code",
            "execution_count": 24,
            "metadata": {},
            "outputs": [
                {
                    "name": "stderr",
                    "output_type": "stream",
                    "text": [
                        "Saving the dataset (1/1 shards): 100%|██████████| 410/410 [00:00<00:00, 16616.72 examples/s]\n",
                        "Saving the dataset (1/1 shards): 100%|██████████| 46/46 [00:00<00:00, 4286.75 examples/s]\n",
                        "Saving the dataset (1/1 shards): 100%|██████████| 3448/3448 [00:00<00:00, 44993.12 examples/s]\n"
                    ]
                }
            ],
            "source": [
                "## Save with discarded URLs\n",
                "dataset_split[\"holdout\"] = discarded_dataset\n",
                "dataset_split.save_to_disk(f\"../../data/tmp/processed_dataset_{topic}_buffed_stratified_holdout\")"
            ]
        },
        {
            "cell_type": "code",
            "execution_count": 25,
            "metadata": {},
            "outputs": [],
            "source": [
                "dataset_extented = load_from_disk(f\"../../data/tmp/processed_dataset_{topic}_buffed_extended_filtered\")"
            ]
        },
        {
            "cell_type": "code",
            "execution_count": 26,
            "metadata": {},
            "outputs": [
                {
                    "name": "stderr",
                    "output_type": "stream",
                    "text": [
                        "Saving the dataset (1/1 shards): 100%|██████████| 410/410 [00:00<00:00, 14444.77 examples/s]\n",
                        "Saving the dataset (1/1 shards): 100%|██████████| 46/46 [00:00<00:00, 4255.73 examples/s]\n",
                        "Saving the dataset (1/1 shards): 100%|██████████| 3448/3448 [00:00<00:00, 33631.06 examples/s]\n",
                        "Saving the dataset (1/1 shards): 100%|██████████| 44432/44432 [00:00<00:00, 75962.63 examples/s] \n"
                    ]
                }
            ],
            "source": [
                "dataset_split[\"extended\"] = dataset_extented\n",
                "dataset_split.save_to_disk(f\"../../data/tmp/processed_dataset_{topic}_buffed_stratified_extended\")"
            ]
        }
    ],
    "metadata": {
        "kernelspec": {
            "display_name": "s2j-content-analysis",
            "language": "python",
            "name": "python3"
        },
        "language_info": {
            "codemirror_mode": {
                "name": "ipython",
                "version": 3
            },
            "file_extension": ".py",
            "mimetype": "text/x-python",
            "name": "python",
            "nbconvert_exporter": "python",
            "pygments_lexer": "ipython3",
            "version": "3.10.8"
        }
    },
    "nbformat": 4,
    "nbformat_minor": 2
}
