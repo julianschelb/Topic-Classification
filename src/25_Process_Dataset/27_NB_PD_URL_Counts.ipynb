{
    "cells": [
        {
            "cell_type": "markdown",
            "metadata": {},
            "source": [
                "## Count Webpages per Split"
            ]
        },
        {
            "cell_type": "code",
            "execution_count": 1,
            "metadata": {},
            "outputs": [],
            "source": [
                "import os\n",
                "import sys\n",
                "\n",
                "# Needed to import modules from parent directory\n",
                "module_path = os.path.abspath(os.path.join('..'))\n",
                "if module_path not in sys.path:\n",
                "    sys.path.append(module_path)"
            ]
        },
        {
            "cell_type": "code",
            "execution_count": 2,
            "metadata": {},
            "outputs": [
                {
                    "name": "stderr",
                    "output_type": "stream",
                    "text": [
                        "/home/jschelb/.pyenv/versions/3.10.8/envs/s2j-content-analysis/lib/python3.10/site-packages/tqdm/auto.py:21: TqdmWarning: IProgress not found. Please update jupyter and ipywidgets. See https://ipywidgets.readthedocs.io/en/stable/user_install.html\n",
                        "  from .autonotebook import tqdm as notebook_tqdm\n"
                    ]
                }
            ],
            "source": [
                "from datasets import load_from_disk, Dataset, ClassLabel, Value, Features, concatenate_datasets\n",
                "from transformers import AutoTokenizer\n",
                "import pandas as pd \n",
                "import numpy as np\n",
                "import torch\n",
                "from collections import Counter\n",
                "import random\n",
                "from tabulate import tabulate"
            ]
        },
        {
            "cell_type": "code",
            "execution_count": 3,
            "metadata": {},
            "outputs": [],
            "source": [
                "TOPICS = [\"energie\", \"kinder\", \"cannabis\"] #\"energie\" \"kinder\"   \"cannabis\" \n",
                "SAMPLING = \"random\" # \"random\", \"stratified\", \"clustered\", \"shared_domain\"\n",
                "SUFFIX = \"_extended\" #\"\", \"_holdout\", \"_extended\""
            ]
        },
        {
            "cell_type": "code",
            "execution_count": 4,
            "metadata": {},
            "outputs": [],
            "source": [
                "results = []\n",
                "\n",
                "for topic in TOPICS:\n",
                "    dataset = load_from_disk(f\"../../data/tmp/processed_dataset_{topic}_buffed_{SAMPLING}{SUFFIX}\")\n",
                "    dataset[\"holdout\"] = concatenate_datasets([dataset[\"holdout\"], dataset[\"test\"]])\n",
                "    \n",
                "    # Collect the counts for each split\n",
                "    counts = {\n",
                "        \"Topic\": topic,\n",
                "        \"Train\": dataset['train'].num_rows if 'train' in dataset else 0,\n",
                "        \"Test\": dataset['test'].num_rows if 'test' in dataset else 0,\n",
                "        \"Holdout\": dataset['holdout'].num_rows if 'holdout' in dataset else 0,\n",
                "        \"Extended\": dataset['extended'].num_rows if 'extended' in dataset else 0\n",
                "    }\n",
                "    \n",
                "    # Append the counts to the results list\n",
                "    results.append(counts)"
            ]
        },
        {
            "cell_type": "code",
            "execution_count": 5,
            "metadata": {},
            "outputs": [
                {
                    "data": {
                        "text/html": [
                            "<table>\n",
                            "<thead>\n",
                            "<tr><th style=\"text-align: right;\">  </th><th>Topic   </th><th style=\"text-align: right;\">  Train</th><th style=\"text-align: right;\">  Test</th><th style=\"text-align: right;\">  Holdout</th><th style=\"text-align: right;\">  Extended</th></tr>\n",
                            "</thead>\n",
                            "<tbody>\n",
                            "<tr><td style=\"text-align: right;\"> 0</td><td>energie </td><td style=\"text-align: right;\">    408</td><td style=\"text-align: right;\">    46</td><td style=\"text-align: right;\">     4210</td><td style=\"text-align: right;\">     45925</td></tr>\n",
                            "<tr><td style=\"text-align: right;\"> 1</td><td>kinder  </td><td style=\"text-align: right;\">    384</td><td style=\"text-align: right;\">    44</td><td style=\"text-align: right;\">     3766</td><td style=\"text-align: right;\">     53253</td></tr>\n",
                            "<tr><td style=\"text-align: right;\"> 2</td><td>cannabis</td><td style=\"text-align: right;\">    410</td><td style=\"text-align: right;\">    46</td><td style=\"text-align: right;\">     3494</td><td style=\"text-align: right;\">     44432</td></tr>\n",
                            "</tbody>\n",
                            "</table>"
                        ],
                        "text/plain": [
                            "'<table>\\n<thead>\\n<tr><th style=\"text-align: right;\">  </th><th>Topic   </th><th style=\"text-align: right;\">  Train</th><th style=\"text-align: right;\">  Test</th><th style=\"text-align: right;\">  Holdout</th><th style=\"text-align: right;\">  Extended</th></tr>\\n</thead>\\n<tbody>\\n<tr><td style=\"text-align: right;\"> 0</td><td>energie </td><td style=\"text-align: right;\">    408</td><td style=\"text-align: right;\">    46</td><td style=\"text-align: right;\">     4210</td><td style=\"text-align: right;\">     45925</td></tr>\\n<tr><td style=\"text-align: right;\"> 1</td><td>kinder  </td><td style=\"text-align: right;\">    384</td><td style=\"text-align: right;\">    44</td><td style=\"text-align: right;\">     3766</td><td style=\"text-align: right;\">     53253</td></tr>\\n<tr><td style=\"text-align: right;\"> 2</td><td>cannabis</td><td style=\"text-align: right;\">    410</td><td style=\"text-align: right;\">    46</td><td style=\"text-align: right;\">     3494</td><td style=\"text-align: right;\">     44432</td></tr>\\n</tbody>\\n</table>'"
                        ]
                    },
                    "metadata": {},
                    "output_type": "display_data"
                }
            ],
            "source": [
                "# Print the HTML table\n",
                "df_counts = pd.DataFrame(results)\n",
                "table_html = tabulate(df_counts, headers='keys', tablefmt='html')\n",
                "display(table_html)"
            ]
        },
        {
            "cell_type": "code",
            "execution_count": 9,
            "metadata": {},
            "outputs": [],
            "source": [
                "# Initialize a list to store the results\n",
                "results = []\n",
                "\n",
                "# Loop over each topic\n",
                "for topic in TOPICS:\n",
                "    # Load the dataset\n",
                "    dataset_path = f\"../../data/tmp/processed_dataset_{topic}_buffed_{SAMPLING}{SUFFIX}\"\n",
                "    dataset = load_from_disk(dataset_path)\n",
                "    \n",
                "    # Combine holdout and test datasets\n",
                "    if 'holdout' in dataset and 'test' in dataset:\n",
                "        dataset[\"holdout\"] = concatenate_datasets([dataset[\"holdout\"], dataset[\"test\"]])\n",
                "    \n",
                "    # Initialize counts\n",
                "    counts = {\"Topic\": topic}\n",
                "    \n",
                "    # Collect the counts for each split\n",
                "    for split in ['train', 'test', 'holdout', 'extended']:\n",
                "        if split in dataset:\n",
                "            label_counts = dataset[split].to_pandas()['label'].value_counts().to_dict()\n",
                "            counts[f'{split}_related'] = label_counts.get(1, 0)\n",
                "            counts[f'{split}_unrelated'] = label_counts.get(0, 0)\n",
                "        else:\n",
                "            counts[f'{split}_related'] = 0\n",
                "            counts[f'{split}_unrelated'] = 0\n",
                "    \n",
                "    # Append the counts to the results list\n",
                "    results.append(counts)"
            ]
        },
        {
            "cell_type": "code",
            "execution_count": 10,
            "metadata": {},
            "outputs": [
                {
                    "data": {
                        "text/html": [
                            "<table>\n",
                            "<thead>\n",
                            "<tr><th style=\"text-align: right;\">  </th><th>Topic   </th><th style=\"text-align: right;\">  train_related</th><th style=\"text-align: right;\">  train_unrelated</th><th style=\"text-align: right;\">  test_related</th><th style=\"text-align: right;\">  test_unrelated</th><th style=\"text-align: right;\">  holdout_related</th><th style=\"text-align: right;\">  holdout_unrelated</th><th style=\"text-align: right;\">  extended_related</th><th style=\"text-align: right;\">  extended_unrelated</th></tr>\n",
                            "</thead>\n",
                            "<tbody>\n",
                            "<tr><td style=\"text-align: right;\"> 0</td><td>energie </td><td style=\"text-align: right;\">            204</td><td style=\"text-align: right;\">              204</td><td style=\"text-align: right;\">            23</td><td style=\"text-align: right;\">              23</td><td style=\"text-align: right;\">               23</td><td style=\"text-align: right;\">               4187</td><td style=\"text-align: right;\">                31</td><td style=\"text-align: right;\">               45894</td></tr>\n",
                            "<tr><td style=\"text-align: right;\"> 1</td><td>kinder  </td><td style=\"text-align: right;\">            192</td><td style=\"text-align: right;\">              192</td><td style=\"text-align: right;\">            22</td><td style=\"text-align: right;\">              22</td><td style=\"text-align: right;\">               22</td><td style=\"text-align: right;\">               3744</td><td style=\"text-align: right;\">                45</td><td style=\"text-align: right;\">               53208</td></tr>\n",
                            "<tr><td style=\"text-align: right;\"> 2</td><td>cannabis</td><td style=\"text-align: right;\">            205</td><td style=\"text-align: right;\">              205</td><td style=\"text-align: right;\">            23</td><td style=\"text-align: right;\">              23</td><td style=\"text-align: right;\">               23</td><td style=\"text-align: right;\">               3471</td><td style=\"text-align: right;\">                29</td><td style=\"text-align: right;\">               44403</td></tr>\n",
                            "</tbody>\n",
                            "</table>"
                        ],
                        "text/plain": [
                            "'<table>\\n<thead>\\n<tr><th style=\"text-align: right;\">  </th><th>Topic   </th><th style=\"text-align: right;\">  train_related</th><th style=\"text-align: right;\">  train_unrelated</th><th style=\"text-align: right;\">  test_related</th><th style=\"text-align: right;\">  test_unrelated</th><th style=\"text-align: right;\">  holdout_related</th><th style=\"text-align: right;\">  holdout_unrelated</th><th style=\"text-align: right;\">  extended_related</th><th style=\"text-align: right;\">  extended_unrelated</th></tr>\\n</thead>\\n<tbody>\\n<tr><td style=\"text-align: right;\"> 0</td><td>energie </td><td style=\"text-align: right;\">            204</td><td style=\"text-align: right;\">              204</td><td style=\"text-align: right;\">            23</td><td style=\"text-align: right;\">              23</td><td style=\"text-align: right;\">               23</td><td style=\"text-align: right;\">               4187</td><td style=\"text-align: right;\">                31</td><td style=\"text-align: right;\">               45894</td></tr>\\n<tr><td style=\"text-align: right;\"> 1</td><td>kinder  </td><td style=\"text-align: right;\">            192</td><td style=\"text-align: right;\">              192</td><td style=\"text-align: right;\">            22</td><td style=\"text-align: right;\">              22</td><td style=\"text-align: right;\">               22</td><td style=\"text-align: right;\">               3744</td><td style=\"text-align: right;\">                45</td><td style=\"text-align: right;\">               53208</td></tr>\\n<tr><td style=\"text-align: right;\"> 2</td><td>cannabis</td><td style=\"text-align: right;\">            205</td><td style=\"text-align: right;\">              205</td><td style=\"text-align: right;\">            23</td><td style=\"text-align: right;\">              23</td><td style=\"text-align: right;\">               23</td><td style=\"text-align: right;\">               3471</td><td style=\"text-align: right;\">                29</td><td style=\"text-align: right;\">               44403</td></tr>\\n</tbody>\\n</table>'"
                        ]
                    },
                    "metadata": {},
                    "output_type": "display_data"
                }
            ],
            "source": [
                "# Print the HTML table\n",
                "df_counts = pd.DataFrame(results)\n",
                "table_html = tabulate(df_counts, headers='keys', tablefmt='html')\n",
                "display(table_html)"
            ]
        },
        {
            "cell_type": "code",
            "execution_count": null,
            "metadata": {},
            "outputs": [],
            "source": []
        }
    ],
    "metadata": {
        "kernelspec": {
            "display_name": "s2j-content-analysis",
            "language": "python",
            "name": "python3"
        },
        "language_info": {
            "codemirror_mode": {
                "name": "ipython",
                "version": 3
            },
            "file_extension": ".py",
            "mimetype": "text/x-python",
            "name": "python",
            "nbconvert_exporter": "python",
            "pygments_lexer": "ipython3",
            "version": "3.10.8"
        }
    },
    "nbformat": 4,
    "nbformat_minor": 2
}
