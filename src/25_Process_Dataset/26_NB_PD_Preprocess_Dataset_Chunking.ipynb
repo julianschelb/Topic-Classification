{
    "cells": [
        {
            "cell_type": "markdown",
            "metadata": {},
            "source": [
                "## Split Webpage Content in Chunks"
            ]
        },
        {
            "cell_type": "code",
            "execution_count": 1,
            "metadata": {},
            "outputs": [],
            "source": [
                "import os\n",
                "import sys\n",
                "\n",
                "# Needed to import modules from parent directory\n",
                "module_path = os.path.abspath(os.path.join('..'))\n",
                "if module_path not in sys.path:\n",
                "    sys.path.append(module_path)"
            ]
        },
        {
            "cell_type": "code",
            "execution_count": 2,
            "metadata": {},
            "outputs": [
                {
                    "name": "stderr",
                    "output_type": "stream",
                    "text": [
                        "/home/jschelb/.pyenv/versions/3.10.8/envs/s2j-content-analysis/lib/python3.10/site-packages/tqdm/auto.py:21: TqdmWarning: IProgress not found. Please update jupyter and ipywidgets. See https://ipywidgets.readthedocs.io/en/stable/user_install.html\n",
                        "  from .autonotebook import tqdm as notebook_tqdm\n"
                    ]
                }
            ],
            "source": [
                "from datasets import load_from_disk, Dataset, ClassLabel, Value, Features\n",
                "from transformers import AutoTokenizer\n",
                "import pandas as pd \n",
                "import numpy as np\n",
                "import torch\n",
                "from collections import Counter\n",
                "import random"
            ]
        },
        {
            "cell_type": "code",
            "execution_count": 3,
            "metadata": {},
            "outputs": [],
            "source": [
                "import logging\n",
                "from transformers import logging as transformers_logging\n",
                "\n",
                "# Set the logging level to error for transformers, which will suppress warnings\n",
                "transformers_logging.set_verbosity_error()\n"
            ]
        },
        {
            "cell_type": "markdown",
            "metadata": {},
            "source": [
                "**Load Examples:**"
            ]
        },
        {
            "cell_type": "code",
            "execution_count": 4,
            "metadata": {},
            "outputs": [],
            "source": [
                "topic = \"cannabis\" #\"energie\" ✅ \"kinder\" ✅  \"cannabis\" ✅\n",
                "sampling = \"shared_domain\" # \"random\" ✅✅✅, \"stratified\" ✅✅✅, \"clustered\" ✅✅✅, \"shared_domain\" ✅✅✅\n",
                "suffix = \"_extended\" #\"\"✅, \"_holdout\", \"_extended\" ✅\n",
                "\n",
                "MODEL_NAME = \"FacebookAI/xlm-roberta-base\"\n",
                "MAX_CONTENT_LENGTH = 384 # 496, 192\n",
                "OVERLAP = 64\n",
                "\n",
                "NUM_THREADS = 26"
            ]
        },
        {
            "cell_type": "code",
            "execution_count": 5,
            "metadata": {},
            "outputs": [
                {
                    "name": "stdout",
                    "output_type": "stream",
                    "text": [
                        "DatasetDict({\n",
                        "    train: Dataset({\n",
                        "        features: ['_id', 'batch_id', 'domain', 'view_url', 'lang', 'text', 'text_length', 'word_count', 'topic', 'category', 'good_for_training', 'good_for_augmentation', 'annotation_type', 'is_topic', 'label', 'token_count'],\n",
                        "        num_rows: 410\n",
                        "    })\n",
                        "    test: Dataset({\n",
                        "        features: ['_id', 'batch_id', 'domain', 'view_url', 'lang', 'text', 'text_length', 'word_count', 'topic', 'category', 'good_for_training', 'good_for_augmentation', 'annotation_type', 'is_topic', 'label', 'token_count'],\n",
                        "        num_rows: 46\n",
                        "    })\n",
                        "    holdout: Dataset({\n",
                        "        features: ['_id', 'batch_id', 'domain', 'view_url', 'lang', 'text', 'text_length', 'word_count', 'topic', 'category', 'good_for_training', 'good_for_augmentation', 'annotation_type', 'is_topic', 'label', 'token_count'],\n",
                        "        num_rows: 3448\n",
                        "    })\n",
                        "    extended: Dataset({\n",
                        "        features: ['_id', 'batch_id', 'domain', 'view_url', 'lang', 'text', 'text_length', 'word_count', 'topic', 'category', 'good_for_training', 'good_for_augmentation', 'annotation_type', 'is_topic', 'label', 'token_count'],\n",
                        "        num_rows: 44432\n",
                        "    })\n",
                        "})\n",
                        "{'_id': '64a0946b749484eec84f20d7', 'batch_id': 16, 'domain': 'freenet.de', 'view_url': 'www.freenet.de/unterhaltung/royals/kronprinzessin-victoria-strahlt-zum-nationalfeiertag-mit-ihrer-familie-40461212.html?utm_source=paid&utm_medium=referral&utm_campaign=newsaggregator', 'lang': 'de', 'text': ' Mobilfunk Mobilfunk Unabhängiger Mobilfunk in allen Netzen Internet Internet für zu Hause und unterwegs TV-Entertainment Fernsehen wann und wo du willst Mail & Cloud Gratis E-Mail, Webseiten und Cloudspeicher Alle Angebote Mobilfunk Internet TV-Entertainment Mail & Cloud Alle Angebote News Politik Vermischtes Wirtschaft Gute Nachrichten Wetter Einbürgerungstest IQ-Test Außenpolitiker Roth sieht Stabilität Frankreichs in Gefahr \"Bibi Ciao\": Israelis protestieren erneut gegen Justizreform Serben geben mehr als 100.000 illegale Waffen ab Sport Liveticker Bundesliga 2. Bundesliga Champions League DFB-Pokal Nationalmannschaft Formel 1 Datencenter Fussball-Quiz Verstappen Sprintsieger in Spielberg - Hülkenberg Sechster Hertha-Präsident: \"Die Revolution hat schon begonnen\" Hülkenberg zu Haas: \"Zeichen, dass die Ehe weitergeht\" Finanzen Finanznachrichten Börse Jobs & Karriere Kredit & Banking Recht & Steuern Spartipps Immobilien Versicherung Strom- und Gaspreisvergleich Brutto-Netto-Rechner Finanzrechner Tipptrainer Twitter-Lesebeschränkungen sorgen für Unmut bei Nutzern SPD-Chef Klingbeil will weitere Mindestlohn-Erhöhung Heizungsgesetz: SPD betont Mieterschutz Auto Neuheiten Tests Magazin Youngtimer & Oldtimer Wohnmobile Elektro-Autos Service Fuhrparkmanagement Promille-Rechner Bussgeldrechner Führerscheintest Alle Campingbus-Neuheiten 2023 im Überblick: Mehr Auswahl beim Basisfahrzeug Truckhouse BCR Wohnkabine aus CFK auf RAM 3500: Hightech-Hütte mit Fernweh-Garantie Akkuzellen-Fertigung in Deutschland und Europa: BASF startet Kathoden-Produktion in der Lausitz Unterhaltung Promis TV Kino Royals Video Cartoons Witze Quizzes und Tests Memos \"Süße Magnolien\" und mehr: Die Serien-Tipps im Juli Nach zwei Wochen: Amanda Bynes aus Psychiatrie entlassen Neue Doku für Lilly \"ein Abschied\" vom Leben mit Boris Becker Lifestyle Ratgeber Reisen Gesundheit E-Bike Ferientermine 2023 Horoskop Fashion Medikamentenvergleich Mit Rock und Kleid aufs Fahrrad? Mit diesen Tricks geht nichts schief Pusteln und juckende Haut: Sonnenallergie vorbeugen und behandeln Polignano a Mare und mehr: Cliff Diving vor atemberaubenden Kulissen Digital Download-Center Digital News Computer & Mobile Online & Sicherheit Windows & Software Mail & Cloud Blog Weltasteroidentag: Mit diesen Apps die Sterne entdecken WhatsApp: Erkennen Sie, wer Sie blockiert hat Android 14: Bekommt Ihr Handy das Update? Spielen Online-Spiele Fantasy Zoo und Park Militär Lustig und spannend Piraten und Soldaten Sport und Jagd Bauernhof Magie Solitär: Den beliebten Karten-Klassiker kostenlos online spielen Exchange Classic: Kombinieren für echte Könner Mahjong: Hier sind Geschick und Schnelligkeit gefragt Online-Spiele Solitär Exchange Exchange Classic Mahjong Sudoku Sudoken Sudoku Street Cuboro Riddles Snowball Gumblast Shooter Bubbles Schach Fibonacci 2048 - Power of 2 Doppel Rushtower Wortblitz Wimmelbild Ski Racer Mail Mehr als nur Mail & Cloud NEU: freenet.de WiFi Sicherheitsversprechen Leistungsumfang freenet Apps Mail & Cloud-Blog Kostenlos registrieren inkl. 1 GB freenet.de WiFi E-Mail-Adresse sichern freenet Mail inkl. 1 GB freenet.de WiFi Mehr zum E-Mail-Postfach freenet Cloud Mehr zur sicheren Cloud Domain freenet Webhosting Die perfekte Lösung für Ihre eigene Website Homepage erstellen ♥ Kundenservice Wir haben neue Inhalte auf der Startseite für Sie Jetzt Startseite laden Abbrechen DAS KÖNNTE SIE INTERESSIEREN freenet.de > Unterhaltung > Royals > Kronprinzessin Victoria strahlt zum Nationalfeiertag mit ihrer Familie Kronprinzessin Victoria strahlt zum Nationalfeiertag mit ihrer Familie © Linda Broström/The Royal Court of Sweden Kronprinzessin Victoria und ihr Mann Prinz Daniel mit den gemeinsamen Kindern. 06.06.2023 - 15:36 Uhr Gut gelaunt hat sich die schwedische Thronfolgerfamilie dem Volk am Nationalfeiertag gezeigt. Bereits einen Tag zuvor postete der Palast süße Bilder von Victoria, Daniel und den Kindern. Am heutigen 6. Juni feiert Schweden seinen Nationalfeiertag - und die Königsfamilie ist wie gewohnt mittendrin. Kronprinzessin Victoria (45) zeigte sich dem Volk vor dem Stockholmer Schloss bereits gut gelaunt in Tracht mit Ehemann Daniel (49) sowie den beiden Kindern Estelle (11) und Oscar (7). Estelle winkt mit Brille Dabei präsentierte Prinzessin Estelle einmal mehr ihr neues Accessoire . Seit einigen Monaten trägt die künftige schwedische Königin eine Brille . Auf zwei Bildern, die das Königshaus auf seiner Instagram-Seite vorab zum Nationalfeiertag veröffentlichte, lachte Estelle hingegen ohne Brille . Auf Schloss Gripsholm war die Thronfolgerfamilie in Einstimmung auf den Tag fotografiert worden. Auffällig: Prinz Oscar lacht auf den am 5. Juni veröffentlichten Bildern herzlich. Da der Junge bei öffentlichen Auftritten oft weniger gut gelaunt zu sehen ist, wird er mitunter als \"Grummel-Prinz\" betitelt. Neben seiner Schwester sowie zusammen mit den Eltern strahlte er aber in die Kamera. Am 6. Juni feiern König Carl XVI. Gustaf (77) und Königin Silvia (79) sowie ihre Familie zusammen mit dem Volk. Es gibt ein umfangreiches Programm: einen \"Tag des offenen Schlosses\", zu der das Königshaus auch auf Instagram einlud, die Wachablösung , an der Victorias Bruder Carl Philip (44) teilnahm, und Feierlichkeiten im Freilichtmuseum Skansen in Stockholm . Am Abend findet ein Empfang im Nordiska Museet statt. Der König feiert 50. Jubiläum Für die Kinder des Thronfolgerpaars hatte es vorab eine Lehrstunde im Schloss Gripsholm gegeben. Dort lernten sie mehr über ihre Familie . \"Während des Besuchs erfuhren Prinzessin Estelle und Prinz Oscar mehr über König Gustav I. Im Laufe des Jahres wird das Vasa-Jubiläum auf Schloss Gripsholm mit Vorträgen, Filmvorführungen und Konzerten gefeiert\", teilte das schwedische Königshaus mit. Vor 500 Jahren wurde Gustav Vasa zum schwedischen König gewählt. Und noch ein Jubiläum wird in Schweden in diesem Jahr gefeiert: Der amtierende König Carl XVI. Gustaf sitzt seit 50 Jahren auf dem Thron. Quelle: spot on news AG ZURÜCK ZUR STARTSEITE Video Meistgelesen \"Stress ausschwitzen\": Salma Hayek postet Bild von sich aus der Sauna Bella Lesnik spricht offen über ihre Pansexualität Die skandalösesten Promi-Outfits der letzten Jahre Traurige Gewissheit: Britischer Schauspieler Julian Sands ist tot \"Die Bachelorette\": Wer erobert das Herz von Jennifer Saro? Bildershow Erkannt? So sehen die Stars ungeschminkt aus! Cartoons \"Nicht Lustig\" Schräge Figuren, schwarzer Humor Memo-Spiel \"Big Brother\": Das machen die Kult-Bewohner heute Cartoons \"Auweia\" Alltäglicher Humor und Vögel Services Börse Download-Center Fashion Ferientermine Jobbörse Medikamentenvergleich Wetter Entertainment Cartoons Einbürgerungstest Führerscheintest Horoskop Promi-Quiz Spiele Videos Wissens-Quiz Witze Finanzen & Produkte Discounter-Angebote Festnetz freenet Cloud freenet Mail freenet Webhosting Kfz-Versicherung Online-Sicherheit Ratenkredit Brutto-Netto-Rechner TV-Vergleich Online Angebote freenet Mobilfunk freenet TV freenet Internet freenet Business freenet Energy freenet Video freenet Mobile klarmobil carmada.de freenet.de Kundenservice Impressum Datenschutz Datenschutzmanager AGB Gender-Hinweis Presse Mediadaten Karriere Vertragskündigung gekennzeichnet mit freenet ist Mitglied im JUSPROG e.V. ', 'text_length': 7271, 'word_count': 973, 'topic': 'cannabis', 'category': 'other', 'good_for_training': 'True', 'good_for_augmentation': 'True', 'annotation_type': '04.urls-with-title', 'is_topic': False, 'label': 0, 'token_count': 1593}\n"
                    ]
                }
            ],
            "source": [
                "#dataset = load_from_disk(f\"../../data//tmp/processed_dataset_{topic}_buffed_random\")\n",
                "dataset = load_from_disk(f\"../../data/tmp/processed_dataset_{topic}_buffed_{sampling}{suffix}\")\n",
                "print(dataset)\n",
                "print(dataset[\"test\"][1])"
            ]
        },
        {
            "cell_type": "markdown",
            "metadata": {},
            "source": [
                "**Chunkify Exmaples:**"
            ]
        },
        {
            "cell_type": "code",
            "execution_count": 6,
            "metadata": {},
            "outputs": [],
            "source": [
                "from langchain.text_splitter import RecursiveCharacterTextSplitter, CharacterTextSplitter"
            ]
        },
        {
            "cell_type": "code",
            "execution_count": 7,
            "metadata": {},
            "outputs": [],
            "source": [
                "# Load a pre-trained tokenizer\n",
                "tokenizer = AutoTokenizer.from_pretrained(MODEL_NAME)"
            ]
        },
        {
            "cell_type": "code",
            "execution_count": 8,
            "metadata": {},
            "outputs": [
                {
                    "name": "stdout",
                    "output_type": "stream",
                    "text": [
                        "10\n"
                    ]
                }
            ],
            "source": [
                "def get_input_length(text):\n",
                "    \"\"\" Tokenize the input text and return the number of tokens \"\"\"\n",
                "    return len(tokenizer.encode(text, add_special_tokens=True, truncation=False, padding=False))\n",
                "\n",
                "print(get_input_length(\"Hello, my name is John Doe\"))"
            ]
        },
        {
            "cell_type": "code",
            "execution_count": 9,
            "metadata": {},
            "outputs": [],
            "source": [
                "text_splitter = RecursiveCharacterTextSplitter(\n",
                "    chunk_size=MAX_CONTENT_LENGTH,\n",
                "    chunk_overlap=OVERLAP,\n",
                "    length_function=get_input_length,\n",
                "    separators = [\"\\n\\n\", \"\\n\", \".\", \"?\", \"!\", \" \", \"\"]\n",
                ")\n",
                "\n",
                "# text_splitter = CharacterTextSplitter(\n",
                "#     separator = \".\", # Split text by sentences\n",
                "#     chunk_size=MAX_CONTENT_LENGTH,\n",
                "#     chunk_overlap=OVERLAP,\n",
                "#     length_function=get_input_length,\n",
                "#     is_separator_regex=False,\n",
                "# )"
            ]
        },
        {
            "cell_type": "code",
            "execution_count": 10,
            "metadata": {},
            "outputs": [
                {
                    "name": "stdout",
                    "output_type": "stream",
                    "text": [
                        "8\n",
                        "News Ratgeber Finanzen & Verbraucher Verbraucher \"Shoppe wie Milliardäre\": Wie seriös ist die Temu-App? Aktualisiert am 04.07.2023, 11:17 Uhr Wie seriös ist Temu wirklich? © IMAGO/NurPhoto/Jakub Porzycki Lesedauer: 5 Min. Teilen Artikel teilen Von Lisa-Marie Yilmaz Sie ist die aktuelle Nummer 1 der Shopping-Apps: Temu. Aber was genau hat es mit der App aus China auf sich? Wir haben uns die Plattform einmal genauer angeschaut. Mehr zum Thema Verbraucher Vorbei sind die Zeiten, in denen WhatsApp , TikTok oder ChatGPT die Charts der Top-Gratis Apps in den App- und Play-Stores von iOS und Android anführten. Denn Deutschlands neue Nummer 1 heißt aktuell Temu – mehr als 50 Millionen Mal wurde das digitale Shopping-Portal bereits heruntergeladen. Was hat es mit der Shopping-App aus China auf sich, woher kommt der Hype und ist der Online-Marktplatz eigentlich seriös? Ein Überblick. \"Shoppe wie die Milliardäre\" – getreu diesem Motto wirbt Temu, die Shopping-App aus China und lockt nicht nur mit Gratis-Versand, sondern zudem mit Schnäppchen \"bis zu 90 Prozent Rabatt\". Dabei muss man gar nicht zwingend reich, geschweige denn ein Milliardär sein, um bei Temu (ausgesprochen \"Tii-Muh\") den digitalen Warenkorb zu füllen\n",
                        "Length of text: 321\n"
                    ]
                }
            ],
            "source": [
                "test_text = dataset['train'][0]['text']\n",
                "#print(test_text)\n",
                "\n",
                "texts = text_splitter.split_text(test_text)\n",
                "print(len(texts)) \n",
                "\n",
                "print(texts[0])\n",
                "print(\"Length of text:\", get_input_length(texts[0]))"
            ]
        },
        {
            "cell_type": "code",
            "execution_count": 11,
            "metadata": {},
            "outputs": [],
            "source": [
                "def expandRow(row, col_name):\n",
                "    \"\"\"\n",
                "    Generate prompts based on text chunks from the input row.\n",
                "    \"\"\"\n",
                "    rows = []\n",
                "\n",
                "    # Split the text into chunks\n",
                "    text_chunks = text_splitter.split_text(row.get(col_name, \"\"))\n",
                "\n",
                "    # Generate prompts for each text chunk\n",
                "    for chunk_id, text_chunk in enumerate(text_chunks):\n",
                "        new_row = {\n",
                "            **row, 'chunk_id': chunk_id, 'text': text_chunk\n",
                "        }\n",
                "        rows.append(new_row)\n",
                "\n",
                "    return rows"
            ]
        },
        {
            "cell_type": "code",
            "execution_count": 12,
            "metadata": {},
            "outputs": [],
            "source": [
                "from multiprocessing import Pool\n",
                "\n",
                "\n",
                "def processDataset(dataset, num_processes, func, params=()):\n",
                "    \"\"\"Process a list of articles in parallel using a multiprocessing Pool.\"\"\"\n",
                "\n",
                "    # Creates a list of arguments for each call to func\n",
                "    # Uses starmap to pass multiple arguments to func\n",
                "    with Pool(processes=num_processes) as pool:\n",
                "        args = [(row,) + params for row in dataset]\n",
                "        dataset = list(pool.starmap(func, args))\n",
                "\n",
                "    # Flatten the resulting list of lists\n",
                "    # and convert it into a Dataset\n",
                "    dataset = [item for sublist in dataset for item in sublist]\n",
                "    dataset = Dataset.from_dict(\n",
                "        {key: [dic[key] for dic in dataset] for key in dataset[0]})\n",
                "\n",
                "    return dataset"
            ]
        },
        {
            "cell_type": "code",
            "execution_count": 13,
            "metadata": {},
            "outputs": [
                {
                    "name": "stderr",
                    "output_type": "stream",
                    "text": [
                        "huggingface/tokenizers: The current process just got forked, after parallelism has already been used. Disabling parallelism to avoid deadlocks...\n",
                        "To disable this warning, you can either:\n",
                        "\t- Avoid using `tokenizers` before the fork if possible\n",
                        "\t- Explicitly set the environment variable TOKENIZERS_PARALLELISM=(true | false)\n",
                        "huggingface/tokenizers: The current process just got forked, after parallelism has already been used. Disabling parallelism to avoid deadlocks...\n",
                        "To disable this warning, you can either:\n",
                        "\t- Avoid using `tokenizers` before the fork if possible\n",
                        "\t- Explicitly set the environment variable TOKENIZERS_PARALLELISM=(true | false)\n",
                        "huggingface/tokenizers: The current process just got forked, after parallelism has already been used. Disabling parallelism to avoid deadlocks...\n",
                        "To disable this warning, you can either:\n",
                        "\t- Avoid using `tokenizers` before the fork if possible\n",
                        "\t- Explicitly set the environment variable TOKENIZERS_PARALLELISM=(true | false)\n",
                        "huggingface/tokenizers: The current process just got forked, after parallelism has already been used. Disabling parallelism to avoid deadlocks...\n",
                        "To disable this warning, you can either:\n",
                        "\t- Avoid using `tokenizers` before the fork if possible\n",
                        "\t- Explicitly set the environment variable TOKENIZERS_PARALLELISM=(true | false)\n",
                        "huggingface/tokenizers: The current process just got forked, after parallelism has already been used. Disabling parallelism to avoid deadlocks...\n",
                        "To disable this warning, you can either:\n",
                        "\t- Avoid using `tokenizers` before the fork if possible\n",
                        "\t- Explicitly set the environment variable TOKENIZERS_PARALLELISM=(true | false)\n",
                        "huggingface/tokenizers: The current process just got forked, after parallelism has already been used. Disabling parallelism to avoid deadlocks...\n",
                        "To disable this warning, you can either:\n",
                        "\t- Avoid using `tokenizers` before the fork if possible\n",
                        "\t- Explicitly set the environment variable TOKENIZERS_PARALLELISM=(true | false)\n",
                        "huggingface/tokenizers: The current process just got forked, after parallelism has already been used. Disabling parallelism to avoid deadlocks...\n",
                        "To disable this warning, you can either:\n",
                        "\t- Avoid using `tokenizers` before the fork if possible\n",
                        "\t- Explicitly set the environment variable TOKENIZERS_PARALLELISM=(true | false)\n",
                        "huggingface/tokenizers: The current process just got forked, after parallelism has already been used. Disabling parallelism to avoid deadlocks...\n",
                        "To disable this warning, you can either:\n",
                        "\t- Avoid using `tokenizers` before the fork if possible\n",
                        "\t- Explicitly set the environment variable TOKENIZERS_PARALLELISM=(true | false)\n",
                        "huggingface/tokenizers: The current process just got forked, after parallelism has already been used. Disabling parallelism to avoid deadlocks...\n",
                        "To disable this warning, you can either:\n",
                        "\t- Avoid using `tokenizers` before the fork if possible\n",
                        "\t- Explicitly set the environment variable TOKENIZERS_PARALLELISM=(true | false)\n",
                        "huggingface/tokenizers: The current process just got forked, after parallelism has already been used. Disabling parallelism to avoid deadlocks...\n",
                        "To disable this warning, you can either:\n",
                        "\t- Avoid using `tokenizers` before the fork if possible\n",
                        "\t- Explicitly set the environment variable TOKENIZERS_PARALLELISM=(true | false)\n",
                        "huggingface/tokenizers: The current process just got forked, after parallelism has already been used. Disabling parallelism to avoid deadlocks...\n",
                        "To disable this warning, you can either:\n",
                        "\t- Avoid using `tokenizers` before the fork if possible\n",
                        "\t- Explicitly set the environment variable TOKENIZERS_PARALLELISM=(true | false)\n",
                        "huggingface/tokenizers: The current process just got forked, after parallelism has already been used. Disabling parallelism to avoid deadlocks...\n",
                        "To disable this warning, you can either:\n",
                        "\t- Avoid using `tokenizers` before the fork if possible\n",
                        "\t- Explicitly set the environment variable TOKENIZERS_PARALLELISM=(true | false)\n",
                        "huggingface/tokenizers: The current process just got forked, after parallelism has already been used. Disabling parallelism to avoid deadlocks...\n",
                        "To disable this warning, you can either:\n",
                        "\t- Avoid using `tokenizers` before the fork if possible\n",
                        "\t- Explicitly set the environment variable TOKENIZERS_PARALLELISM=(true | false)\n",
                        "huggingface/tokenizers: The current process just got forked, after parallelism has already been used. Disabling parallelism to avoid deadlocks...\n",
                        "To disable this warning, you can either:\n",
                        "\t- Avoid using `tokenizers` before the fork if possible\n",
                        "\t- Explicitly set the environment variable TOKENIZERS_PARALLELISM=(true | false)\n",
                        "huggingface/tokenizers: The current process just got forked, after parallelism has already been used. Disabling parallelism to avoid deadlocks...\n",
                        "To disable this warning, you can either:\n",
                        "\t- Avoid using `tokenizers` before the fork if possible\n",
                        "\t- Explicitly set the environment variable TOKENIZERS_PARALLELISM=(true | false)\n",
                        "huggingface/tokenizers: The current process just got forked, after parallelism has already been used. Disabling parallelism to avoid deadlocks...\n",
                        "To disable this warning, you can either:\n",
                        "\t- Avoid using `tokenizers` before the fork if possible\n",
                        "\t- Explicitly set the environment variable TOKENIZERS_PARALLELISM=(true | false)\n",
                        "huggingface/tokenizers: The current process just got forked, after parallelism has already been used. Disabling parallelism to avoid deadlocks...\n",
                        "To disable this warning, you can either:\n",
                        "\t- Avoid using `tokenizers` before the fork if possible\n",
                        "\t- Explicitly set the environment variable TOKENIZERS_PARALLELISM=(true | false)\n",
                        "huggingface/tokenizers: The current process just got forked, after parallelism has already been used. Disabling parallelism to avoid deadlocks...\n",
                        "To disable this warning, you can either:\n",
                        "\t- Avoid using `tokenizers` before the fork if possible\n",
                        "\t- Explicitly set the environment variable TOKENIZERS_PARALLELISM=(true | false)\n",
                        "huggingface/tokenizers: The current process just got forked, after parallelism has already been used. Disabling parallelism to avoid deadlocks...\n",
                        "To disable this warning, you can either:\n",
                        "\t- Avoid using `tokenizers` before the fork if possible\n",
                        "\t- Explicitly set the environment variable TOKENIZERS_PARALLELISM=(true | false)\n",
                        "huggingface/tokenizers: The current process just got forked, after parallelism has already been used. Disabling parallelism to avoid deadlocks...\n",
                        "To disable this warning, you can either:\n",
                        "\t- Avoid using `tokenizers` before the fork if possible\n",
                        "\t- Explicitly set the environment variable TOKENIZERS_PARALLELISM=(true | false)\n",
                        "huggingface/tokenizers: The current process just got forked, after parallelism has already been used. Disabling parallelism to avoid deadlocks...\n",
                        "To disable this warning, you can either:\n",
                        "\t- Avoid using `tokenizers` before the fork if possible\n",
                        "\t- Explicitly set the environment variable TOKENIZERS_PARALLELISM=(true | false)\n",
                        "huggingface/tokenizers: The current process just got forked, after parallelism has already been used. Disabling parallelism to avoid deadlocks...\n",
                        "To disable this warning, you can either:\n",
                        "\t- Avoid using `tokenizers` before the fork if possible\n",
                        "\t- Explicitly set the environment variable TOKENIZERS_PARALLELISM=(true | false)\n",
                        "huggingface/tokenizers: The current process just got forked, after parallelism has already been used. Disabling parallelism to avoid deadlocks...\n",
                        "To disable this warning, you can either:\n",
                        "\t- Avoid using `tokenizers` before the fork if possible\n",
                        "\t- Explicitly set the environment variable TOKENIZERS_PARALLELISM=(true | false)\n",
                        "huggingface/tokenizers: The current process just got forked, after parallelism has already been used. Disabling parallelism to avoid deadlocks...\n",
                        "To disable this warning, you can either:\n",
                        "\t- Avoid using `tokenizers` before the fork if possible\n",
                        "\t- Explicitly set the environment variable TOKENIZERS_PARALLELISM=(true | false)\n",
                        "huggingface/tokenizers: The current process just got forked, after parallelism has already been used. Disabling parallelism to avoid deadlocks...\n",
                        "To disable this warning, you can either:\n",
                        "\t- Avoid using `tokenizers` before the fork if possible\n",
                        "\t- Explicitly set the environment variable TOKENIZERS_PARALLELISM=(true | false)\n",
                        "huggingface/tokenizers: The current process just got forked, after parallelism has already been used. Disabling parallelism to avoid deadlocks...\n",
                        "To disable this warning, you can either:\n",
                        "\t- Avoid using `tokenizers` before the fork if possible\n",
                        "\t- Explicitly set the environment variable TOKENIZERS_PARALLELISM=(true | false)\n",
                        "huggingface/tokenizers: The current process just got forked, after parallelism has already been used. Disabling parallelism to avoid deadlocks...\n",
                        "To disable this warning, you can either:\n",
                        "\t- Avoid using `tokenizers` before the fork if possible\n",
                        "\t- Explicitly set the environment variable TOKENIZERS_PARALLELISM=(true | false)\n",
                        "huggingface/tokenizers: The current process just got forked, after parallelism has already been used. Disabling parallelism to avoid deadlocks...\n",
                        "To disable this warning, you can either:\n",
                        "\t- Avoid using `tokenizers` before the fork if possible\n",
                        "\t- Explicitly set the environment variable TOKENIZERS_PARALLELISM=(true | false)\n",
                        "huggingface/tokenizers: The current process just got forked, after parallelism has already been used. Disabling parallelism to avoid deadlocks...\n",
                        "To disable this warning, you can either:\n",
                        "\t- Avoid using `tokenizers` before the fork if possible\n",
                        "\t- Explicitly set the environment variable TOKENIZERS_PARALLELISM=(true | false)\n",
                        "huggingface/tokenizers: The current process just got forked, after parallelism has already been used. Disabling parallelism to avoid deadlocks...\n",
                        "To disable this warning, you can either:\n",
                        "\t- Avoid using `tokenizers` before the fork if possible\n",
                        "\t- Explicitly set the environment variable TOKENIZERS_PARALLELISM=(true | false)\n",
                        "huggingface/tokenizers: The current process just got forked, after parallelism has already been used. Disabling parallelism to avoid deadlocks...\n",
                        "To disable this warning, you can either:\n",
                        "\t- Avoid using `tokenizers` before the fork if possible\n",
                        "\t- Explicitly set the environment variable TOKENIZERS_PARALLELISM=(true | false)\n",
                        "huggingface/tokenizers: The current process just got forked, after parallelism has already been used. Disabling parallelism to avoid deadlocks...\n",
                        "To disable this warning, you can either:\n",
                        "\t- Avoid using `tokenizers` before the fork if possible\n",
                        "\t- Explicitly set the environment variable TOKENIZERS_PARALLELISM=(true | false)\n",
                        "huggingface/tokenizers: The current process just got forked, after parallelism has already been used. Disabling parallelism to avoid deadlocks...\n",
                        "To disable this warning, you can either:\n",
                        "\t- Avoid using `tokenizers` before the fork if possible\n",
                        "\t- Explicitly set the environment variable TOKENIZERS_PARALLELISM=(true | false)\n",
                        "huggingface/tokenizers: The current process just got forked, after parallelism has already been used. Disabling parallelism to avoid deadlocks...\n",
                        "To disable this warning, you can either:\n",
                        "\t- Avoid using `tokenizers` before the fork if possible\n",
                        "\t- Explicitly set the environment variable TOKENIZERS_PARALLELISM=(true | false)\n",
                        "huggingface/tokenizers: The current process just got forked, after parallelism has already been used. Disabling parallelism to avoid deadlocks...\n",
                        "To disable this warning, you can either:\n",
                        "\t- Avoid using `tokenizers` before the fork if possible\n",
                        "\t- Explicitly set the environment variable TOKENIZERS_PARALLELISM=(true | false)\n",
                        "huggingface/tokenizers: The current process just got forked, after parallelism has already been used. Disabling parallelism to avoid deadlocks...\n",
                        "To disable this warning, you can either:\n",
                        "\t- Avoid using `tokenizers` before the fork if possible\n",
                        "\t- Explicitly set the environment variable TOKENIZERS_PARALLELISM=(true | false)\n",
                        "huggingface/tokenizers: The current process just got forked, after parallelism has already been used. Disabling parallelism to avoid deadlocks...\n",
                        "To disable this warning, you can either:\n",
                        "\t- Avoid using `tokenizers` before the fork if possible\n",
                        "\t- Explicitly set the environment variable TOKENIZERS_PARALLELISM=(true | false)\n",
                        "huggingface/tokenizers: The current process just got forked, after parallelism has already been used. Disabling parallelism to avoid deadlocks...\n",
                        "To disable this warning, you can either:\n",
                        "\t- Avoid using `tokenizers` before the fork if possible\n",
                        "\t- Explicitly set the environment variable TOKENIZERS_PARALLELISM=(true | false)\n",
                        "huggingface/tokenizers: The current process just got forked, after parallelism has already been used. Disabling parallelism to avoid deadlocks...\n",
                        "To disable this warning, you can either:\n",
                        "\t- Avoid using `tokenizers` before the fork if possible\n",
                        "\t- Explicitly set the environment variable TOKENIZERS_PARALLELISM=(true | false)\n",
                        "huggingface/tokenizers: The current process just got forked, after parallelism has already been used. Disabling parallelism to avoid deadlocks...\n",
                        "To disable this warning, you can either:\n",
                        "\t- Avoid using `tokenizers` before the fork if possible\n",
                        "\t- Explicitly set the environment variable TOKENIZERS_PARALLELISM=(true | false)\n",
                        "huggingface/tokenizers: The current process just got forked, after parallelism has already been used. Disabling parallelism to avoid deadlocks...\n",
                        "To disable this warning, you can either:\n",
                        "\t- Avoid using `tokenizers` before the fork if possible\n",
                        "\t- Explicitly set the environment variable TOKENIZERS_PARALLELISM=(true | false)\n",
                        "huggingface/tokenizers: The current process just got forked, after parallelism has already been used. Disabling parallelism to avoid deadlocks...\n",
                        "To disable this warning, you can either:\n",
                        "\t- Avoid using `tokenizers` before the fork if possible\n",
                        "\t- Explicitly set the environment variable TOKENIZERS_PARALLELISM=(true | false)\n",
                        "huggingface/tokenizers: The current process just got forked, after parallelism has already been used. Disabling parallelism to avoid deadlocks...\n",
                        "To disable this warning, you can either:\n",
                        "\t- Avoid using `tokenizers` before the fork if possible\n",
                        "\t- Explicitly set the environment variable TOKENIZERS_PARALLELISM=(true | false)\n",
                        "huggingface/tokenizers: The current process just got forked, after parallelism has already been used. Disabling parallelism to avoid deadlocks...\n",
                        "To disable this warning, you can either:\n",
                        "\t- Avoid using `tokenizers` before the fork if possible\n",
                        "\t- Explicitly set the environment variable TOKENIZERS_PARALLELISM=(true | false)\n",
                        "huggingface/tokenizers: The current process just got forked, after parallelism has already been used. Disabling parallelism to avoid deadlocks...\n",
                        "To disable this warning, you can either:\n",
                        "\t- Avoid using `tokenizers` before the fork if possible\n",
                        "\t- Explicitly set the environment variable TOKENIZERS_PARALLELISM=(true | false)\n",
                        "huggingface/tokenizers: The current process just got forked, after parallelism has already been used. Disabling parallelism to avoid deadlocks...\n",
                        "To disable this warning, you can either:\n",
                        "\t- Avoid using `tokenizers` before the fork if possible\n",
                        "\t- Explicitly set the environment variable TOKENIZERS_PARALLELISM=(true | false)\n",
                        "huggingface/tokenizers: The current process just got forked, after parallelism has already been used. Disabling parallelism to avoid deadlocks...\n",
                        "To disable this warning, you can either:\n",
                        "\t- Avoid using `tokenizers` before the fork if possible\n",
                        "\t- Explicitly set the environment variable TOKENIZERS_PARALLELISM=(true | false)\n",
                        "huggingface/tokenizers: The current process just got forked, after parallelism has already been used. Disabling parallelism to avoid deadlocks...\n",
                        "To disable this warning, you can either:\n",
                        "\t- Avoid using `tokenizers` before the fork if possible\n",
                        "\t- Explicitly set the environment variable TOKENIZERS_PARALLELISM=(true | false)\n",
                        "huggingface/tokenizers: The current process just got forked, after parallelism has already been used. Disabling parallelism to avoid deadlocks...\n",
                        "To disable this warning, you can either:\n",
                        "\t- Avoid using `tokenizers` before the fork if possible\n",
                        "\t- Explicitly set the environment variable TOKENIZERS_PARALLELISM=(true | false)\n",
                        "huggingface/tokenizers: The current process just got forked, after parallelism has already been used. Disabling parallelism to avoid deadlocks...\n",
                        "To disable this warning, you can either:\n",
                        "\t- Avoid using `tokenizers` before the fork if possible\n",
                        "\t- Explicitly set the environment variable TOKENIZERS_PARALLELISM=(true | false)\n",
                        "huggingface/tokenizers: The current process just got forked, after parallelism has already been used. Disabling parallelism to avoid deadlocks...\n",
                        "To disable this warning, you can either:\n",
                        "\t- Avoid using `tokenizers` before the fork if possible\n",
                        "\t- Explicitly set the environment variable TOKENIZERS_PARALLELISM=(true | false)\n",
                        "huggingface/tokenizers: The current process just got forked, after parallelism has already been used. Disabling parallelism to avoid deadlocks...\n",
                        "To disable this warning, you can either:\n",
                        "\t- Avoid using `tokenizers` before the fork if possible\n",
                        "\t- Explicitly set the environment variable TOKENIZERS_PARALLELISM=(true | false)\n",
                        "huggingface/tokenizers: The current process just got forked, after parallelism has already been used. Disabling parallelism to avoid deadlocks...\n",
                        "To disable this warning, you can either:\n",
                        "\t- Avoid using `tokenizers` before the fork if possible\n",
                        "\t- Explicitly set the environment variable TOKENIZERS_PARALLELISM=(true | false)\n",
                        "huggingface/tokenizers: The current process just got forked, after parallelism has already been used. Disabling parallelism to avoid deadlocks...\n",
                        "To disable this warning, you can either:\n",
                        "\t- Avoid using `tokenizers` before the fork if possible\n",
                        "\t- Explicitly set the environment variable TOKENIZERS_PARALLELISM=(true | false)\n",
                        "huggingface/tokenizers: The current process just got forked, after parallelism has already been used. Disabling parallelism to avoid deadlocks...\n",
                        "To disable this warning, you can either:\n",
                        "\t- Avoid using `tokenizers` before the fork if possible\n",
                        "\t- Explicitly set the environment variable TOKENIZERS_PARALLELISM=(true | false)\n",
                        "huggingface/tokenizers: The current process just got forked, after parallelism has already been used. Disabling parallelism to avoid deadlocks...\n",
                        "To disable this warning, you can either:\n",
                        "\t- Avoid using `tokenizers` before the fork if possible\n",
                        "\t- Explicitly set the environment variable TOKENIZERS_PARALLELISM=(true | false)\n",
                        "huggingface/tokenizers: The current process just got forked, after parallelism has already been used. Disabling parallelism to avoid deadlocks...\n",
                        "To disable this warning, you can either:\n",
                        "\t- Avoid using `tokenizers` before the fork if possible\n",
                        "\t- Explicitly set the environment variable TOKENIZERS_PARALLELISM=(true | false)\n",
                        "huggingface/tokenizers: The current process just got forked, after parallelism has already been used. Disabling parallelism to avoid deadlocks...\n",
                        "To disable this warning, you can either:\n",
                        "\t- Avoid using `tokenizers` before the fork if possible\n",
                        "\t- Explicitly set the environment variable TOKENIZERS_PARALLELISM=(true | false)\n",
                        "huggingface/tokenizers: The current process just got forked, after parallelism has already been used. Disabling parallelism to avoid deadlocks...\n",
                        "To disable this warning, you can either:\n",
                        "\t- Avoid using `tokenizers` before the fork if possible\n",
                        "\t- Explicitly set the environment variable TOKENIZERS_PARALLELISM=(true | false)\n",
                        "huggingface/tokenizers: The current process just got forked, after parallelism has already been used. Disabling parallelism to avoid deadlocks...\n",
                        "To disable this warning, you can either:\n",
                        "\t- Avoid using `tokenizers` before the fork if possible\n",
                        "\t- Explicitly set the environment variable TOKENIZERS_PARALLELISM=(true | false)\n",
                        "huggingface/tokenizers: The current process just got forked, after parallelism has already been used. Disabling parallelism to avoid deadlocks...\n",
                        "To disable this warning, you can either:\n",
                        "\t- Avoid using `tokenizers` before the fork if possible\n",
                        "\t- Explicitly set the environment variable TOKENIZERS_PARALLELISM=(true | false)\n",
                        "huggingface/tokenizers: The current process just got forked, after parallelism has already been used. Disabling parallelism to avoid deadlocks...\n",
                        "To disable this warning, you can either:\n",
                        "\t- Avoid using `tokenizers` before the fork if possible\n",
                        "\t- Explicitly set the environment variable TOKENIZERS_PARALLELISM=(true | false)\n",
                        "huggingface/tokenizers: The current process just got forked, after parallelism has already been used. Disabling parallelism to avoid deadlocks...\n",
                        "To disable this warning, you can either:\n",
                        "\t- Avoid using `tokenizers` before the fork if possible\n",
                        "\t- Explicitly set the environment variable TOKENIZERS_PARALLELISM=(true | false)\n",
                        "huggingface/tokenizers: The current process just got forked, after parallelism has already been used. Disabling parallelism to avoid deadlocks...\n",
                        "To disable this warning, you can either:\n",
                        "\t- Avoid using `tokenizers` before the fork if possible\n",
                        "\t- Explicitly set the environment variable TOKENIZERS_PARALLELISM=(true | false)\n",
                        "huggingface/tokenizers: The current process just got forked, after parallelism has already been used. Disabling parallelism to avoid deadlocks...\n",
                        "To disable this warning, you can either:\n",
                        "\t- Avoid using `tokenizers` before the fork if possible\n",
                        "\t- Explicitly set the environment variable TOKENIZERS_PARALLELISM=(true | false)\n",
                        "huggingface/tokenizers: The current process just got forked, after parallelism has already been used. Disabling parallelism to avoid deadlocks...\n",
                        "To disable this warning, you can either:\n",
                        "\t- Avoid using `tokenizers` before the fork if possible\n",
                        "\t- Explicitly set the environment variable TOKENIZERS_PARALLELISM=(true | false)\n",
                        "huggingface/tokenizers: The current process just got forked, after parallelism has already been used. Disabling parallelism to avoid deadlocks...\n",
                        "To disable this warning, you can either:\n",
                        "\t- Avoid using `tokenizers` before the fork if possible\n",
                        "\t- Explicitly set the environment variable TOKENIZERS_PARALLELISM=(true | false)\n",
                        "huggingface/tokenizers: The current process just got forked, after parallelism has already been used. Disabling parallelism to avoid deadlocks...\n",
                        "To disable this warning, you can either:\n",
                        "\t- Avoid using `tokenizers` before the fork if possible\n",
                        "\t- Explicitly set the environment variable TOKENIZERS_PARALLELISM=(true | false)\n",
                        "huggingface/tokenizers: The current process just got forked, after parallelism has already been used. Disabling parallelism to avoid deadlocks...\n",
                        "To disable this warning, you can either:\n",
                        "\t- Avoid using `tokenizers` before the fork if possible\n",
                        "\t- Explicitly set the environment variable TOKENIZERS_PARALLELISM=(true | false)\n",
                        "huggingface/tokenizers: The current process just got forked, after parallelism has already been used. Disabling parallelism to avoid deadlocks...\n",
                        "To disable this warning, you can either:\n",
                        "\t- Avoid using `tokenizers` before the fork if possible\n",
                        "\t- Explicitly set the environment variable TOKENIZERS_PARALLELISM=(true | false)\n",
                        "huggingface/tokenizers: The current process just got forked, after parallelism has already been used. Disabling parallelism to avoid deadlocks...\n",
                        "To disable this warning, you can either:\n",
                        "\t- Avoid using `tokenizers` before the fork if possible\n",
                        "\t- Explicitly set the environment variable TOKENIZERS_PARALLELISM=(true | false)\n",
                        "huggingface/tokenizers: The current process just got forked, after parallelism has already been used. Disabling parallelism to avoid deadlocks...\n",
                        "To disable this warning, you can either:\n",
                        "\t- Avoid using `tokenizers` before the fork if possible\n",
                        "\t- Explicitly set the environment variable TOKENIZERS_PARALLELISM=(true | false)\n",
                        "huggingface/tokenizers: The current process just got forked, after parallelism has already been used. Disabling parallelism to avoid deadlocks...\n",
                        "To disable this warning, you can either:\n",
                        "\t- Avoid using `tokenizers` before the fork if possible\n",
                        "\t- Explicitly set the environment variable TOKENIZERS_PARALLELISM=(true | false)\n",
                        "huggingface/tokenizers: The current process just got forked, after parallelism has already been used. Disabling parallelism to avoid deadlocks...\n",
                        "To disable this warning, you can either:\n",
                        "\t- Avoid using `tokenizers` before the fork if possible\n",
                        "\t- Explicitly set the environment variable TOKENIZERS_PARALLELISM=(true | false)\n",
                        "huggingface/tokenizers: The current process just got forked, after parallelism has already been used. Disabling parallelism to avoid deadlocks...\n",
                        "To disable this warning, you can either:\n",
                        "\t- Avoid using `tokenizers` before the fork if possible\n",
                        "\t- Explicitly set the environment variable TOKENIZERS_PARALLELISM=(true | false)\n",
                        "huggingface/tokenizers: The current process just got forked, after parallelism has already been used. Disabling parallelism to avoid deadlocks...\n",
                        "To disable this warning, you can either:\n",
                        "\t- Avoid using `tokenizers` before the fork if possible\n",
                        "\t- Explicitly set the environment variable TOKENIZERS_PARALLELISM=(true | false)\n",
                        "huggingface/tokenizers: The current process just got forked, after parallelism has already been used. Disabling parallelism to avoid deadlocks...\n",
                        "To disable this warning, you can either:\n",
                        "\t- Avoid using `tokenizers` before the fork if possible\n",
                        "\t- Explicitly set the environment variable TOKENIZERS_PARALLELISM=(true | false)\n",
                        "huggingface/tokenizers: The current process just got forked, after parallelism has already been used. Disabling parallelism to avoid deadlocks...\n",
                        "To disable this warning, you can either:\n",
                        "\t- Avoid using `tokenizers` before the fork if possible\n",
                        "\t- Explicitly set the environment variable TOKENIZERS_PARALLELISM=(true | false)\n",
                        "huggingface/tokenizers: The current process just got forked, after parallelism has already been used. Disabling parallelism to avoid deadlocks...\n",
                        "To disable this warning, you can either:\n",
                        "\t- Avoid using `tokenizers` before the fork if possible\n",
                        "\t- Explicitly set the environment variable TOKENIZERS_PARALLELISM=(true | false)\n",
                        "huggingface/tokenizers: The current process just got forked, after parallelism has already been used. Disabling parallelism to avoid deadlocks...\n",
                        "To disable this warning, you can either:\n",
                        "\t- Avoid using `tokenizers` before the fork if possible\n",
                        "\t- Explicitly set the environment variable TOKENIZERS_PARALLELISM=(true | false)\n",
                        "huggingface/tokenizers: The current process just got forked, after parallelism has already been used. Disabling parallelism to avoid deadlocks...\n",
                        "To disable this warning, you can either:\n",
                        "\t- Avoid using `tokenizers` before the fork if possible\n",
                        "\t- Explicitly set the environment variable TOKENIZERS_PARALLELISM=(true | false)\n",
                        "huggingface/tokenizers: The current process just got forked, after parallelism has already been used. Disabling parallelism to avoid deadlocks...\n",
                        "To disable this warning, you can either:\n",
                        "\t- Avoid using `tokenizers` before the fork if possible\n",
                        "\t- Explicitly set the environment variable TOKENIZERS_PARALLELISM=(true | false)\n",
                        "huggingface/tokenizers: The current process just got forked, after parallelism has already been used. Disabling parallelism to avoid deadlocks...\n",
                        "To disable this warning, you can either:\n",
                        "\t- Avoid using `tokenizers` before the fork if possible\n",
                        "\t- Explicitly set the environment variable TOKENIZERS_PARALLELISM=(true | false)\n",
                        "huggingface/tokenizers: The current process just got forked, after parallelism has already been used. Disabling parallelism to avoid deadlocks...\n",
                        "To disable this warning, you can either:\n",
                        "\t- Avoid using `tokenizers` before the fork if possible\n",
                        "\t- Explicitly set the environment variable TOKENIZERS_PARALLELISM=(true | false)\n",
                        "huggingface/tokenizers: The current process just got forked, after parallelism has already been used. Disabling parallelism to avoid deadlocks...\n",
                        "To disable this warning, you can either:\n",
                        "\t- Avoid using `tokenizers` before the fork if possible\n",
                        "\t- Explicitly set the environment variable TOKENIZERS_PARALLELISM=(true | false)\n",
                        "huggingface/tokenizers: The current process just got forked, after parallelism has already been used. Disabling parallelism to avoid deadlocks...\n",
                        "To disable this warning, you can either:\n",
                        "\t- Avoid using `tokenizers` before the fork if possible\n",
                        "\t- Explicitly set the environment variable TOKENIZERS_PARALLELISM=(true | false)\n",
                        "huggingface/tokenizers: The current process just got forked, after parallelism has already been used. Disabling parallelism to avoid deadlocks...\n",
                        "To disable this warning, you can either:\n",
                        "\t- Avoid using `tokenizers` before the fork if possible\n",
                        "\t- Explicitly set the environment variable TOKENIZERS_PARALLELISM=(true | false)\n",
                        "huggingface/tokenizers: The current process just got forked, after parallelism has already been used. Disabling parallelism to avoid deadlocks...\n",
                        "To disable this warning, you can either:\n",
                        "\t- Avoid using `tokenizers` before the fork if possible\n",
                        "\t- Explicitly set the environment variable TOKENIZERS_PARALLELISM=(true | false)\n",
                        "huggingface/tokenizers: The current process just got forked, after parallelism has already been used. Disabling parallelism to avoid deadlocks...\n",
                        "To disable this warning, you can either:\n",
                        "\t- Avoid using `tokenizers` before the fork if possible\n",
                        "\t- Explicitly set the environment variable TOKENIZERS_PARALLELISM=(true | false)\n",
                        "huggingface/tokenizers: The current process just got forked, after parallelism has already been used. Disabling parallelism to avoid deadlocks...\n",
                        "To disable this warning, you can either:\n",
                        "\t- Avoid using `tokenizers` before the fork if possible\n",
                        "\t- Explicitly set the environment variable TOKENIZERS_PARALLELISM=(true | false)\n",
                        "huggingface/tokenizers: The current process just got forked, after parallelism has already been used. Disabling parallelism to avoid deadlocks...\n",
                        "To disable this warning, you can either:\n",
                        "\t- Avoid using `tokenizers` before the fork if possible\n",
                        "\t- Explicitly set the environment variable TOKENIZERS_PARALLELISM=(true | false)\n",
                        "huggingface/tokenizers: The current process just got forked, after parallelism has already been used. Disabling parallelism to avoid deadlocks...\n",
                        "To disable this warning, you can either:\n",
                        "\t- Avoid using `tokenizers` before the fork if possible\n",
                        "\t- Explicitly set the environment variable TOKENIZERS_PARALLELISM=(true | false)\n",
                        "huggingface/tokenizers: The current process just got forked, after parallelism has already been used. Disabling parallelism to avoid deadlocks...\n",
                        "To disable this warning, you can either:\n",
                        "\t- Avoid using `tokenizers` before the fork if possible\n",
                        "\t- Explicitly set the environment variable TOKENIZERS_PARALLELISM=(true | false)\n",
                        "huggingface/tokenizers: The current process just got forked, after parallelism has already been used. Disabling parallelism to avoid deadlocks...\n",
                        "To disable this warning, you can either:\n",
                        "\t- Avoid using `tokenizers` before the fork if possible\n",
                        "\t- Explicitly set the environment variable TOKENIZERS_PARALLELISM=(true | false)\n",
                        "huggingface/tokenizers: The current process just got forked, after parallelism has already been used. Disabling parallelism to avoid deadlocks...\n",
                        "To disable this warning, you can either:\n",
                        "\t- Avoid using `tokenizers` before the fork if possible\n",
                        "\t- Explicitly set the environment variable TOKENIZERS_PARALLELISM=(true | false)\n",
                        "huggingface/tokenizers: The current process just got forked, after parallelism has already been used. Disabling parallelism to avoid deadlocks...\n",
                        "To disable this warning, you can either:\n",
                        "\t- Avoid using `tokenizers` before the fork if possible\n",
                        "\t- Explicitly set the environment variable TOKENIZERS_PARALLELISM=(true | false)\n",
                        "huggingface/tokenizers: The current process just got forked, after parallelism has already been used. Disabling parallelism to avoid deadlocks...\n",
                        "To disable this warning, you can either:\n",
                        "\t- Avoid using `tokenizers` before the fork if possible\n",
                        "\t- Explicitly set the environment variable TOKENIZERS_PARALLELISM=(true | false)\n",
                        "huggingface/tokenizers: The current process just got forked, after parallelism has already been used. Disabling parallelism to avoid deadlocks...\n",
                        "To disable this warning, you can either:\n",
                        "\t- Avoid using `tokenizers` before the fork if possible\n",
                        "\t- Explicitly set the environment variable TOKENIZERS_PARALLELISM=(true | false)\n",
                        "huggingface/tokenizers: The current process just got forked, after parallelism has already been used. Disabling parallelism to avoid deadlocks...\n",
                        "To disable this warning, you can either:\n",
                        "\t- Avoid using `tokenizers` before the fork if possible\n",
                        "\t- Explicitly set the environment variable TOKENIZERS_PARALLELISM=(true | false)\n",
                        "huggingface/tokenizers: The current process just got forked, after parallelism has already been used. Disabling parallelism to avoid deadlocks...\n",
                        "To disable this warning, you can either:\n",
                        "\t- Avoid using `tokenizers` before the fork if possible\n",
                        "\t- Explicitly set the environment variable TOKENIZERS_PARALLELISM=(true | false)\n",
                        "huggingface/tokenizers: The current process just got forked, after parallelism has already been used. Disabling parallelism to avoid deadlocks...\n",
                        "To disable this warning, you can either:\n",
                        "\t- Avoid using `tokenizers` before the fork if possible\n",
                        "\t- Explicitly set the environment variable TOKENIZERS_PARALLELISM=(true | false)\n",
                        "huggingface/tokenizers: The current process just got forked, after parallelism has already been used. Disabling parallelism to avoid deadlocks...\n",
                        "To disable this warning, you can either:\n",
                        "\t- Avoid using `tokenizers` before the fork if possible\n",
                        "\t- Explicitly set the environment variable TOKENIZERS_PARALLELISM=(true | false)\n",
                        "huggingface/tokenizers: The current process just got forked, after parallelism has already been used. Disabling parallelism to avoid deadlocks...\n",
                        "To disable this warning, you can either:\n",
                        "\t- Avoid using `tokenizers` before the fork if possible\n",
                        "\t- Explicitly set the environment variable TOKENIZERS_PARALLELISM=(true | false)\n",
                        "huggingface/tokenizers: The current process just got forked, after parallelism has already been used. Disabling parallelism to avoid deadlocks...\n",
                        "To disable this warning, you can either:\n",
                        "\t- Avoid using `tokenizers` before the fork if possible\n",
                        "\t- Explicitly set the environment variable TOKENIZERS_PARALLELISM=(true | false)\n"
                    ]
                }
            ],
            "source": [
                "params = (\"text\",)\n",
                "\n",
                "for split in dataset:\n",
                "    dataset[split] = processDataset(dataset[split], NUM_THREADS, expandRow, params)"
            ]
        },
        {
            "cell_type": "code",
            "execution_count": 14,
            "metadata": {},
            "outputs": [
                {
                    "name": "stdout",
                    "output_type": "stream",
                    "text": [
                        "Class frequencies: Counter({0: 2056, 1: 1997})\n"
                    ]
                }
            ],
            "source": [
                "label_counts = Counter(dataset[\"train\"]['label'])\n",
                "print(\"Class frequencies:\", label_counts)"
            ]
        },
        {
            "cell_type": "code",
            "execution_count": 15,
            "metadata": {},
            "outputs": [
                {
                    "data": {
                        "text/plain": [
                            "DatasetDict({\n",
                            "    train: Dataset({\n",
                            "        features: ['_id', 'batch_id', 'domain', 'view_url', 'lang', 'text', 'text_length', 'word_count', 'topic', 'category', 'good_for_training', 'good_for_augmentation', 'annotation_type', 'is_topic', 'label', 'token_count', 'chunk_id'],\n",
                            "        num_rows: 4053\n",
                            "    })\n",
                            "    test: Dataset({\n",
                            "        features: ['_id', 'batch_id', 'domain', 'view_url', 'lang', 'text', 'text_length', 'word_count', 'topic', 'category', 'good_for_training', 'good_for_augmentation', 'annotation_type', 'is_topic', 'label', 'token_count', 'chunk_id'],\n",
                            "        num_rows: 507\n",
                            "    })\n",
                            "    holdout: Dataset({\n",
                            "        features: ['_id', 'batch_id', 'domain', 'view_url', 'lang', 'text', 'text_length', 'word_count', 'topic', 'category', 'good_for_training', 'good_for_augmentation', 'annotation_type', 'is_topic', 'label', 'token_count', 'chunk_id'],\n",
                            "        num_rows: 33464\n",
                            "    })\n",
                            "    extended: Dataset({\n",
                            "        features: ['_id', 'batch_id', 'domain', 'view_url', 'lang', 'text', 'text_length', 'word_count', 'topic', 'category', 'good_for_training', 'good_for_augmentation', 'annotation_type', 'is_topic', 'label', 'token_count', 'chunk_id'],\n",
                            "        num_rows: 224737\n",
                            "    })\n",
                            "})"
                        ]
                    },
                    "execution_count": 15,
                    "metadata": {},
                    "output_type": "execute_result"
                }
            ],
            "source": [
                "dataset"
            ]
        },
        {
            "cell_type": "code",
            "execution_count": 16,
            "metadata": {},
            "outputs": [
                {
                    "name": "stderr",
                    "output_type": "stream",
                    "text": [
                        "Map (num_proc=26): 100%|██████████| 4053/4053 [00:02<00:00, 1515.95 examples/s]\n",
                        "Map (num_proc=26): 100%|██████████| 507/507 [00:00<00:00, 706.57 examples/s] \n",
                        "Map (num_proc=26): 100%|██████████| 33464/33464 [00:06<00:00, 5097.43 examples/s]\n",
                        "Map (num_proc=26): 100%|██████████| 224737/224737 [00:39<00:00, 5732.18 examples/s] \n"
                    ]
                }
            ],
            "source": [
                "def update_metrics(example):\n",
                "    example['text_length'] = len(example['text'])\n",
                "    example['word_count'] = len(example['text'].split())\n",
                "    example['token_count'] = get_input_length(example['text'])\n",
                "    return example\n",
                "\n",
                "dataset = dataset.map(update_metrics, num_proc=NUM_THREADS)"
            ]
        },
        {
            "cell_type": "code",
            "execution_count": 17,
            "metadata": {},
            "outputs": [
                {
                    "data": {
                        "text/plain": [
                            "{'_id': '64b2b8a46b2e16875552e442',\n",
                            " 'batch_id': 17,\n",
                            " 'domain': 'gmx.net',\n",
                            " 'view_url': 'www.gmx.net/magazine/ratgeber/finanzen-verbraucher/schnaeppchen-app-temu-guenstig-serioes-38371568#.homepage.hero.Schon%20von%20Temu%20geh%C3%B6rt?%20Das%20steckt%20hinter%20der%20neuen%20Schn%C3%A4ppchen-App.3',\n",
                            " 'lang': 'de',\n",
                            " 'text': 'News Ratgeber Finanzen & Verbraucher Verbraucher \"Shoppe wie Milliardäre\": Wie seriös ist die Temu-App? Aktualisiert am 04.07.2023, 11:17 Uhr Wie seriös ist Temu wirklich? ©\\xa0IMAGO/NurPhoto/Jakub Porzycki Lesedauer: 5 Min. Teilen Artikel teilen Von Lisa-Marie Yilmaz Sie ist die aktuelle Nummer 1 der Shopping-Apps: Temu. Aber was genau hat es mit der App aus China auf sich? Wir haben uns die Plattform einmal genauer angeschaut. Mehr zum Thema Verbraucher Vorbei sind die Zeiten, in denen WhatsApp , TikTok oder ChatGPT die Charts der Top-Gratis Apps in den App- und Play-Stores von iOS und Android anführten. Denn Deutschlands neue Nummer 1 heißt aktuell Temu – mehr als 50 Millionen Mal wurde das digitale Shopping-Portal bereits heruntergeladen. Was hat es mit der Shopping-App aus China auf sich, woher kommt der Hype und ist der Online-Marktplatz eigentlich seriös? Ein Überblick. \"Shoppe wie die Milliardäre\" – getreu diesem Motto wirbt Temu, die Shopping-App aus China und lockt nicht nur mit Gratis-Versand, sondern zudem mit Schnäppchen \"bis zu 90 Prozent Rabatt\". Dabei muss man gar nicht zwingend reich, geschweige denn ein Milliardär sein, um bei Temu (ausgesprochen \"Tii-Muh\") den digitalen Warenkorb zu füllen',\n",
                            " 'text_length': 1224,\n",
                            " 'word_count': 188,\n",
                            " 'topic': 'cannabis',\n",
                            " 'category': 'news',\n",
                            " 'good_for_training': 'True',\n",
                            " 'good_for_augmentation': 'True',\n",
                            " 'annotation_type': '04.urls-with-title',\n",
                            " 'is_topic': False,\n",
                            " 'label': 0,\n",
                            " 'token_count': 321,\n",
                            " 'chunk_id': 0}"
                        ]
                    },
                    "execution_count": 17,
                    "metadata": {},
                    "output_type": "execute_result"
                }
            ],
            "source": [
                "dataset[\"train\"][0]"
            ]
        },
        {
            "cell_type": "code",
            "execution_count": 18,
            "metadata": {},
            "outputs": [
                {
                    "name": "stderr",
                    "output_type": "stream",
                    "text": [
                        "Saving the dataset (1/1 shards): 100%|██████████| 4053/4053 [00:00<00:00, 183909.75 examples/s]\n",
                        "Saving the dataset (1/1 shards): 100%|██████████| 507/507 [00:00<00:00, 50198.58 examples/s]\n",
                        "Saving the dataset (1/1 shards): 100%|██████████| 33464/33464 [00:00<00:00, 386348.77 examples/s]\n",
                        "Saving the dataset (1/1 shards): 100%|██████████| 224737/224737 [00:00<00:00, 414720.49 examples/s]\n"
                    ]
                }
            ],
            "source": [
                "# dataset.save_to_disk(f\"../../data//tmp/processed_dataset_{topic}_buffed_chunkified_random_{MAX_CONTENT_LENGTH}\") # TODO\n",
                "\n",
                "dataset.save_to_disk(f\"../../data/tmp/processed_dataset_{topic}_buffed_chunkified_{sampling}{suffix}_{MAX_CONTENT_LENGTH}\")"
            ]
        },
        {
            "cell_type": "markdown",
            "metadata": {},
            "source": [
                "## Statistics"
            ]
        },
        {
            "cell_type": "code",
            "execution_count": 19,
            "metadata": {},
            "outputs": [],
            "source": [
                "token_counts = dataset[\"train\"][\"token_count\"]"
            ]
        },
        {
            "cell_type": "code",
            "execution_count": 20,
            "metadata": {},
            "outputs": [
                {
                    "name": "stdout",
                    "output_type": "stream",
                    "text": [
                        "Maximum token count: 382\n",
                        "Minimum token count: 3\n",
                        "Average token count: 250.68936590180112\n",
                        "Standard deviation of token count: 91.55785782930504\n"
                    ]
                }
            ],
            "source": [
                "max_token_count = max(token_counts)\n",
                "min_token_count = min(token_counts)\n",
                "avg_token_count = sum(token_counts) / len(token_counts)\n",
                "std_token_count = np.std(token_counts)  # Using numpy for standard deviation\n",
                "\n",
                "print(f\"Maximum token count: {max_token_count}\")\n",
                "print(f\"Minimum token count: {min_token_count}\")\n",
                "print(f\"Average token count: {avg_token_count}\")\n",
                "print(f\"Standard deviation of token count: {std_token_count}\")"
            ]
        },
        {
            "cell_type": "code",
            "execution_count": 21,
            "metadata": {},
            "outputs": [
                {
                    "data": {
                        "image/png": "[encoded data removed]",
                        "text/plain": [
                            "<Figure size 1000x600 with 1 Axes>"
                        ]
                    },
                    "metadata": {},
                    "output_type": "display_data"
                }
            ],
            "source": [
                "import matplotlib.pyplot as plt\n",
                "\n",
                "# Plotting the distribution of token counts with a more muted color\n",
                "plt.figure(figsize=(10, 6))\n",
                "plt.hist(token_counts, bins=50, alpha=0.75, color='slategray')\n",
                "plt.title('Distribution of Token Counts')\n",
                "plt.xlabel('Token Count')\n",
                "plt.ylabel('Frequency')\n",
                "plt.grid(axis='y', alpha=0.75)\n",
                "\n",
                "plt.show()"
            ]
        },
        {
            "cell_type": "code",
            "execution_count": 22,
            "metadata": {},
            "outputs": [
                {
                    "name": "stdout",
                    "output_type": "stream",
                    "text": [
                        "Interval: 0 tokens to 49 tokens\n",
                        "Example Text: Währungsrechner Versicherungen Nachrichtenarchiv Facebook Twitter Wo Sie uns noch folgen können Tarifkonflikt Bahngewerkschaft EVG sagt Streik ab Bahnreisende bleiben vorerst von weiteren Ausständen verschont\n",
                        "Token Count: 48\n",
                        "--------------------------------------------------------------------------------\n",
                        "Interval: 50 tokens to 99 tokens\n",
                        "Example Text: . Dies sei nicht ausreichend. Der bei der Deutschen Bahn für den Personenfernverkehr zuständige Vorstand Michael Peterson hatte die EVG zu einer raschen Annahme der Schlichtungsgespräche aufgefordert. »Die Sommerferien stehen vor der Tür«, sagte er. »Die neuerlichen Streikdrohungen verunsichern alle Menschen, die bei ihren Reiseplanungen auf die Bahn gesetzt haben\n",
                        "Token Count: 85\n",
                        "--------------------------------------------------------------------------------\n",
                        "Interval: 100 tokens to 149 tokens\n",
                        "Example Text: Zum Inhalt springen DER SPIEGEL Wirtschaft Abonnement Abo Anmelden Menü öffnen News Ticker Magazin Audio Account Menü Startseite Wirtschaft Verbraucher & Service Deutsche Bahn Deutsche Bahn: Bahnstreik abgesagt - EVG nimmt Angebot für Schlichtung an Suche starten Suche öffnen EILMELDUNG — __proto_headline__ EILMELDUNG — __proto_headline__ Anmelden Abonnement Suche starten Startseite Schlagzeilen Krieg in der Ukraine Meinung Newsletter SPIEGEL+ Magazine Politik Menü Politik aufklappen Bundesregierung Bundestag Ausland Menü\n",
                        "Token Count: 116\n",
                        "--------------------------------------------------------------------------------\n",
                        "Interval: 150 tokens to 199 tokens\n",
                        "Example Text: .06.2023, 13:54 Uhr Was für ein schönes Gefühl: Einfach ausstrecken in frischer, gut riechender Bettwäsche. Was aber tun, wenn die Bettwäsche aus dem Schrank muffig riecht? Häufig gesucht USA Europa Deutschland Smartwatch DHL Senden Sie uns Ihr Feedback Kontakt in die Redaktion News Ratgeber Finanzen & Verbraucher Login Impressum | Datenschutz | Jugendschutz Verträge hier kündigen | Sitemap Kostenlos registrieren E-Mail Cloud Mobilfunk & DSL WEB.Cent Cashback Energie News Alle Themen von A-Z Regionales Politik Wirtschaft Panorama Unterhaltung Sport Wissen Gesundheit Kolumnen Service In eigener Sache United Internet for UNICEF Shop Apps Versicherung Lotto Games Finanzen Vergleichswelt Übersetzer Impressum So arbeitet die Redaktion GMX im Überblick\n",
                        "Token Count: 171\n",
                        "--------------------------------------------------------------------------------\n",
                        "Interval: 200 tokens to 249 tokens\n",
                        "Example Text: . Bundesliga DFB-Pokal Premier League Champions League Europa League Internationale Ligen Übersicht Fußball Formel 1 Basketball Tennis Boxen NFL Alles rund ums Fahrrad FOCUS Kleinanzeige Sport Übersicht Sport Reisen Urlaubs-Check Reise-Inspiration Fliegen Service Hotels Reiseziele in Deutschland Reiseziele in Europa Reiseziele in der Ferne Camping Reisen in Südschweden Übersicht Reisen Auto Fahrberichte Elektromobilität News E-Bikes Tests Wissen Kaufberatung E-Auto Finder Übersicht Elektromobilität Neuheiten SUVs Sportwagen Concept Cars Cabrios Alternative Antriebe Vans Obere Mittelklasse Oberklasse Kompaktwagen Mittelklasse Kleinwagen Reisemobil Übersicht Neuheiten Gebrauchtwagen Gebrauchtwagen-Check DAT-Fahrzeugbewertung Typencheck Youngtimer Oldtimer Übersicht Gebrauchtwagen Ratgeber Unterhaltung Zubehör Recht Autonomes Fahren Unterwegs Kosten Diesel-Special Sicherheit Übersicht Ratgeber Motorrad 300 Euro E-Auto-Bonus p.a. geschenkt E-Auto Probefahren auf EFAHRER\n",
                        "Token Count: 220\n",
                        "--------------------------------------------------------------------------------\n",
                        "Interval: 250 tokens to 299 tokens\n",
                        "Example Text: . Diese gibt es jedoch erst dann, wenn man sich bei der App registriert hat – ein Vorgang, der ohnehin getätigt werden muss, um in den Bezahlvorgang zu gelangen. Kommt es zu einem Kaufabschluss, ist in den meisten Fällen Geduld bei den Käuferinnen und Käufern gefragt. Denn da der Versand aus dem Ausland erfolgt, muss teils mit sehr langen Lieferzeiten gerechnet werden. Zwar werden die Produkte von Temu eigenen Angaben zufolge versandkostenfrei über Dienstleister wie DHL und Hermes verschickt, nichtsdestotrotz können zusätzlich zum Kaufpreis weitere Zoll- und Service-Gebühren anfallen, was den Effekt der vermeintlich eingesparten Lieferkosten aufhebt. Negative Bewertungen von Temu bei \"Trustpilot\" Von teils sehr langen Wartezeiten sowie zusätzlichen Kosten ist auch im Rahmen verschiedener Nutzerwertungen zu lesen. Das Portal \"Trustpilot\" bewertet Temu aktuell mit 3,3 von 5 Sternen (Stand: 28.6.). Somit erhält die Shopping-App die Bewertung \"Akzeptabel\". Auffällig ist hier, dass die 5-Sterne-Rezensionen häufig mit Gutscheincodes versehen sind – insofern ist es fraglich, inwiefern es sich hierbei nicht eher um Werbemaßnahmen statt um authentische Nutzerbewertungen handelt\n",
                        "Token Count: 295\n",
                        "--------------------------------------------------------------------------------\n",
                        "Interval: 300 tokens to 349 tokens\n",
                        "Example Text: News Ratgeber Finanzen & Verbraucher Verbraucher \"Shoppe wie Milliardäre\": Wie seriös ist die Temu-App? Aktualisiert am 04.07.2023, 11:17 Uhr Wie seriös ist Temu wirklich? © IMAGO/NurPhoto/Jakub Porzycki Lesedauer: 5 Min. Teilen Artikel teilen Von Lisa-Marie Yilmaz Sie ist die aktuelle Nummer 1 der Shopping-Apps: Temu. Aber was genau hat es mit der App aus China auf sich? Wir haben uns die Plattform einmal genauer angeschaut. Mehr zum Thema Verbraucher Vorbei sind die Zeiten, in denen WhatsApp , TikTok oder ChatGPT die Charts der Top-Gratis Apps in den App- und Play-Stores von iOS und Android anführten. Denn Deutschlands neue Nummer 1 heißt aktuell Temu – mehr als 50 Millionen Mal wurde das digitale Shopping-Portal bereits heruntergeladen. Was hat es mit der Shopping-App aus China auf sich, woher kommt der Hype und ist der Online-Marktplatz eigentlich seriös? Ein Überblick. \"Shoppe wie die Milliardäre\" – getreu diesem Motto wirbt Temu, die Shopping-App aus China und lockt nicht nur mit Gratis-Versand, sondern zudem mit Schnäppchen \"bis zu 90 Prozent Rabatt\". Dabei muss man gar nicht zwingend reich, geschweige denn ein Milliardär sein, um bei Temu (ausgesprochen \"Tii-Muh\") den digitalen Warenkorb zu füllen\n",
                        "Token Count: 321\n",
                        "--------------------------------------------------------------------------------\n",
                        "Interval: 350 tokens to 399 tokens\n",
                        "Example Text: .« ssu/mamk/dpa/Reuters Diskutieren Sie mit Feedback Mehr lesen über Deutsche Bahn Bahnstreik Kostenlose Online-Spiele mehr Spiele Kreuzworträt­sel Solitär Sudoku Mahjong Bubble-Shooter Jackpot Snake Exchange 2048 Doppel Rushtower Sudoken Street Wortblitz Fibonacci Gumblast Wimmelbild Skiracer Trivial Pursuit Serviceangebote von SPIEGEL-Partnern Gutscheine Anzeige eBay Gutscheine CHRIST Gutscheine Expedia Gutscheine tink Gutscheine Top Gutscheine Alle Shops Auto Bußgeldrechner Firmenwagenrechner Job Brutto-Netto-Rechner Jobsuche Kurzarbeitergeld-Rechner Studienfächer erklärt Finanzen Gehaltsvergleich Immobilienbewertung Studium und Finanzen Versicherungen Währungsrechner Freizeit Bücher bestellen Eurojackpot Ferientermine GlücksSpirale Gutscheine LOTTO 6aus49 Seniorenportal Spiele Das tägliche Quiz Alle Magazine des SPIEGEL DER SPIEGEL SPIEGEL WISSEN SPIEGEL GESCHICHTE SPIEGEL START SPIEGEL GELD SPIEGEL COACHING SPIEGEL CHRONIK SPIEGEL SPEZIAL Dein SPIEGEL SPIEGEL EDITION SPIEGEL BESTSELLER S-Magazin SPIEGEL LEBEN SPIEGEL BIOGRAFIE SPIEGEL Gruppe Abo Abo kündigen Shop manager magazin Harvard Business manager buchreport Werbung Jobs MANUFAKTUR SPIEGEL Akademie SPIEGEL Ed Impressum Datenschutz Nutzungsbedingungen Teilnahmebedingungen Cookies & Tracking Newsletter Kontakt Hilfe Text- & Nutzungsrechte Facebook Twitter Wo Sie uns noch folgen können Audio Player maximieren Die Wiedergabe wurde unterbrochen\n",
                        "Token Count: 361\n",
                        "--------------------------------------------------------------------------------\n"
                    ]
                }
            ],
            "source": [
                "# Initialize a dictionary to keep track of the first example encountered in each interval\n",
                "selected_examples = {}\n",
                "\n",
                "# Example iteration over the dataset\n",
                "for example in dataset[\"train\"]:\n",
                "    interval = (example['token_count'] // 50) * 50\n",
                "    if interval not in selected_examples:\n",
                "        selected_examples[interval] = example\n",
                "\n",
                "# Sort the selected examples by their interval (token count range) before printing\n",
                "sorted_intervals = sorted(selected_examples.keys())\n",
                "\n",
                "# Now, print one example for each interval, in order\n",
                "for interval in sorted_intervals:\n",
                "    example = selected_examples[interval]\n",
                "    print(f\"Interval: {interval} tokens to {interval + 49} tokens\")\n",
                "    print(f\"Example Text: {example['text']}\")\n",
                "    print(f\"Token Count: {example['token_count']}\")\n",
                "    print(\"-\" * 80)\n"
            ]
        },
        {
            "cell_type": "code",
            "execution_count": null,
            "metadata": {},
            "outputs": [],
            "source": []
        }
    ],
    "metadata": {
        "kernelspec": {
            "display_name": "s2j-content-analysis",
            "language": "python",
            "name": "python3"
        },
        "language_info": {
            "codemirror_mode": {
                "name": "ipython",
                "version": 3
            },
            "file_extension": ".py",
            "mimetype": "text/x-python",
            "name": "python",
            "nbconvert_exporter": "python",
            "pygments_lexer": "ipython3",
            "version": "3.10.8"
        }
    },
    "nbformat": 4,
    "nbformat_minor": 2
}
