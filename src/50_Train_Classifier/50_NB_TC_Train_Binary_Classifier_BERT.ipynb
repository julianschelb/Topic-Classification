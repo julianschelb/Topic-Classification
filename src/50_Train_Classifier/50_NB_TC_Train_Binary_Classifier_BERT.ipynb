{
 "cells": [
  {
   "cell_type": "markdown",
   "metadata": {},
   "source": [
    "## Train Classifier: BERT"
   ]
  },
  {
   "cell_type": "code",
   "execution_count": 1,
   "metadata": {},
   "outputs": [
    {
     "name": "stderr",
     "output_type": "stream",
     "text": [
      "/home/jschelb/.pyenv/versions/3.10.8/envs/s2j-content-analysis/lib/python3.10/site-packages/tqdm/auto.py:21: TqdmWarning: IProgress not found. Please update jupyter and ipywidgets. See https://ipywidgets.readthedocs.io/en/stable/user_install.html\n",
      "  from .autonotebook import tqdm as notebook_tqdm\n"
     ]
    }
   ],
   "source": [
    "from transformers import AutoTokenizer, AutoModelForSequenceClassification, TrainingArguments, Trainer\n",
    "from datasets import load_dataset, load_from_disk\n",
    "from sklearn.metrics import accuracy_score\n",
    "import random\n",
    "import numpy as np\n",
    "import torch\n",
    "import os"
   ]
  },
  {
   "cell_type": "code",
   "execution_count": 2,
   "metadata": {},
   "outputs": [],
   "source": [
    "topic = \"energie\" #\"energie\" #\"kinder\" \"cannabis\""
   ]
  },
  {
   "cell_type": "markdown",
   "metadata": {},
   "source": [
    "## Load Dataset"
   ]
  },
  {
   "cell_type": "code",
   "execution_count": 3,
   "metadata": {},
   "outputs": [],
   "source": [
    "dataset = load_from_disk(f\"../../data/tmp/processed_dataset_{topic}_buffed_chunkified_random_384\")"
   ]
  },
  {
   "cell_type": "code",
   "execution_count": 4,
   "metadata": {},
   "outputs": [],
   "source": [
    "# dataset_holdout = load_from_disk(f\"../../data/tmp/processed_dataset_{topic}_buffed_chunkified_random_holdout\")\n",
    "\n",
    "# #Shuffle the dataset\n",
    "# dataset_holdout = dataset_holdout.shuffle(seed=42)\n",
    "\n",
    "# #Sample 6_000 random examples\n",
    "# num_samples = 5_000\n",
    "# dataset_holdout = dataset_holdout.select(range(num_samples))\n",
    "\n",
    "# from datasets import concatenate_datasets\n",
    "# dataset[\"train\"] = concatenate_datasets([dataset[\"train\"], dataset_holdout])\n",
    "# dataset[\"train\"] = dataset[\"train\"].shuffle(seed=42)"
   ]
  },
  {
   "cell_type": "code",
   "execution_count": 5,
   "metadata": {},
   "outputs": [],
   "source": [
    "# Sample 100 random indices from the training dataset\n",
    "#random_indices = random.sample(range(len(dataset['train'])), 100)\n",
    "\n",
    "# Select 100 examples from the training dataset\n",
    "#dataset['train'] = dataset['train'].select(random_indices)"
   ]
  },
  {
   "cell_type": "code",
   "execution_count": 6,
   "metadata": {},
   "outputs": [
    {
     "name": "stdout",
     "output_type": "stream",
     "text": [
      "DatasetDict({\n",
      "    train: Dataset({\n",
      "        features: ['_id', 'batch_id', 'domain', 'view_url', 'lang', 'text', 'text_length', 'word_count', 'topic', 'category', 'good_for_training', 'good_for_augmentation', 'annotation_type', 'is_topic', 'label', 'token_count', 'chunk_id'],\n",
      "        num_rows: 3398\n",
      "    })\n",
      "    test: Dataset({\n",
      "        features: ['_id', 'batch_id', 'domain', 'view_url', 'lang', 'text', 'text_length', 'word_count', 'topic', 'category', 'good_for_training', 'good_for_augmentation', 'annotation_type', 'is_topic', 'label', 'token_count', 'chunk_id'],\n",
      "        num_rows: 478\n",
      "    })\n",
      "})\n",
      "{'_id': '64a0946d749484eec855d4bb', 'batch_id': 16, 'domain': 't-online.de', 'view_url': 'email.t-online.de/em#f=INBOX&m=15411876806784410&method=showReadmail', 'lang': 'de', 'text': '. Bundesliga Zweikampf der Woche Fußball Champions League FC Bayern Newsticker Formel 1 Was macht …', 'text_length': 99, 'word_count': 16, 'topic': 'energie', 'category': 'other', 'good_for_training': 'True', 'good_for_augmentation': 'True', 'annotation_type': '06.news-wo-title', 'is_topic': False, 'label': 0, 'token_count': 21, 'chunk_id': 1}\n"
     ]
    }
   ],
   "source": [
    "# Explore the dataset\n",
    "print(dataset)\n",
    "print(dataset['train'][1]) "
   ]
  },
  {
   "cell_type": "markdown",
   "metadata": {},
   "source": [
    "## Prepare Data"
   ]
  },
  {
   "cell_type": "code",
   "execution_count": 7,
   "metadata": {},
   "outputs": [],
   "source": [
    "MODEL_NAME = \"deepset/gbert-large\""
   ]
  },
  {
   "cell_type": "code",
   "execution_count": 8,
   "metadata": {},
   "outputs": [],
   "source": [
    "# Load a pre-trained tokenizer\n",
    "tokenizer = AutoTokenizer.from_pretrained(MODEL_NAME)"
   ]
  },
  {
   "cell_type": "code",
   "execution_count": 9,
   "metadata": {},
   "outputs": [
    {
     "name": "stderr",
     "output_type": "stream",
     "text": [
      "Map:   0%|          | 0/478 [00:00<?, ? examples/s]"
     ]
    },
    {
     "name": "stderr",
     "output_type": "stream",
     "text": [
      "Map: 100%|██████████| 478/478 [00:00<00:00, 2569.41 examples/s]\n"
     ]
    }
   ],
   "source": [
    "# Tokenize the text\n",
    "def tokenize_function(examples):\n",
    "    return tokenizer(examples[\"text\"], padding=\"max_length\", truncation=True)\n",
    "\n",
    "tokenized_datasets = dataset.map(tokenize_function, batched=True)"
   ]
  },
  {
   "cell_type": "markdown",
   "metadata": {},
   "source": [
    "## Prepare Model"
   ]
  },
  {
   "cell_type": "code",
   "execution_count": 10,
   "metadata": {},
   "outputs": [
    {
     "name": "stderr",
     "output_type": "stream",
     "text": [
      "Some weights of BertForSequenceClassification were not initialized from the model checkpoint at deepset/gbert-large and are newly initialized: ['classifier.weight', 'classifier.bias']\n",
      "You should probably TRAIN this model on a down-stream task to be able to use it for predictions and inference.\n"
     ]
    }
   ],
   "source": [
    "# Load a pre-trained model for sequence classification\n",
    "model = AutoModelForSequenceClassification.from_pretrained(MODEL_NAME, num_labels=2)\n"
   ]
  },
  {
   "cell_type": "markdown",
   "metadata": {},
   "source": [
    "## Train Model"
   ]
  },
  {
   "cell_type": "code",
   "execution_count": 11,
   "metadata": {},
   "outputs": [],
   "source": [
    "\n",
    "def compute_metrics(p):\n",
    "    preds = np.argmax(p.predictions, axis=1)\n",
    "    return {\"accuracy\": accuracy_score(p.label_ids, preds)}\n"
   ]
  },
  {
   "cell_type": "code",
   "execution_count": 12,
   "metadata": {},
   "outputs": [],
   "source": [
    "# Define training arguments\n",
    "training_args = TrainingArguments(\n",
    "    output_dir=\"./results\",\n",
    "    learning_rate=2e-5,\n",
    "    per_device_train_batch_size=4,\n",
    "    per_device_eval_batch_size=4,\n",
    "    num_train_epochs=5,             # number of training epochs\n",
    "    weight_decay=0.01,  # Weight decay if we apply some form of weight regularization.\n",
    "    logging_dir='./logs',  # Directory where the training logs will be stored.\n",
    "    logging_strategy=\"steps\",  # The logging strategy determines when to log\n",
    "    logging_steps=100,  # Number of steps between logging of training loss.\n",
    "    evaluation_strategy=\"steps\",  # Evaluation is done\n",
    "    eval_steps=100,  # Number of steps between evaluations.\n",
    "    load_best_model_at_end=True,  # load the best model at the end of training.\n",
    "    metric_for_best_model=\"eval_loss\",\n",
    "    lr_scheduler_type='linear',  # The scheduler type to use, e.g., 'linear', 'cosine'\n",
    "    warmup_ratio=0.1  # Proportion of training to perform linear learning rate warmup for.\n",
    ")"
   ]
  },
  {
   "cell_type": "code",
   "execution_count": 13,
   "metadata": {},
   "outputs": [
    {
     "name": "stdout",
     "output_type": "stream",
     "text": [
      "Class weights: tensor([1.0241, 0.9770])\n"
     ]
    }
   ],
   "source": [
    "from sklearn.utils.class_weight import compute_class_weight\n",
    "import numpy as np\n",
    "\n",
    "# Calculate class weights inversely proportional to class frequencies\n",
    "labels = tokenized_datasets[\"train\"]['label']\n",
    "class_weights = compute_class_weight(class_weight='balanced', classes=np.unique(labels), y=labels)\n",
    "\n",
    "# Convert class weights to a tensor\n",
    "class_weights_tensor = torch.tensor(class_weights, dtype=torch.float)\n",
    "print(\"Class weights:\", class_weights_tensor)"
   ]
  },
  {
   "cell_type": "code",
   "execution_count": 14,
   "metadata": {},
   "outputs": [],
   "source": [
    "from torch import nn\n",
    "\n",
    "class CustomTrainer(Trainer):\n",
    "    def compute_loss(self, model, inputs, return_outputs=False):\n",
    "        labels = inputs.get(\"labels\")\n",
    "        # forward pass\n",
    "        outputs = model(**inputs)\n",
    "        logits = outputs.get('logits')\n",
    "        # compute custom loss\n",
    "        loss_fct = nn.CrossEntropyLoss(weight=class_weights_tensor)\n",
    "        loss = loss_fct(logits.view(-1, self.model.config.num_labels), labels.view(-1))\n",
    "        return (loss, outputs) if return_outputs else loss"
   ]
  },
  {
   "cell_type": "code",
   "execution_count": 15,
   "metadata": {},
   "outputs": [],
   "source": [
    "from transformers import EarlyStoppingCallback\n",
    "\n",
    "# Create a Trainer\n",
    "trainer = Trainer(\n",
    "    model=model,\n",
    "    args=training_args,\n",
    "    train_dataset=tokenized_datasets[\"train\"],\n",
    "    eval_dataset=tokenized_datasets[\"test\"],\n",
    "    compute_metrics=compute_metrics,\n",
    "    callbacks=[EarlyStoppingCallback(early_stopping_patience=5)]\n",
    ")"
   ]
  },
  {
   "cell_type": "code",
   "execution_count": 16,
   "metadata": {},
   "outputs": [
    {
     "name": "stderr",
     "output_type": "stream",
     "text": [
      "/home/jschelb/.pyenv/versions/3.10.8/envs/s2j-content-analysis/lib/python3.10/site-packages/torch/nn/parallel/_functions.py:68: UserWarning: Was asked to gather along dimension 0, but all input tensors were scalars; will instead unsqueeze and return a vector.\n",
      "  warnings.warn('Was asked to gather along dimension 0, but all '\n"
     ]
    },
    {
     "data": {
      "text/html": [
       "\n",
       "    <div>\n",
       "      \n",
       "      <progress value='2000' max='2125' style='width:300px; height:20px; vertical-align: middle;'></progress>\n",
       "      [2000/2125 41:50 < 02:37, 0.80 it/s, Epoch 4/5]\n",
       "    </div>\n",
       "    <table border=\"1\" class=\"dataframe\">\n",
       "  <thead>\n",
       " <tr style=\"text-align: left;\">\n",
       "      <th>Step</th>\n",
       "      <th>Training Loss</th>\n",
       "      <th>Validation Loss</th>\n",
       "      <th>Accuracy</th>\n",
       "    </tr>\n",
       "  </thead>\n",
       "  <tbody>\n",
       "    <tr>\n",
       "      <td>100</td>\n",
       "      <td>0.525700</td>\n",
       "      <td>0.349846</td>\n",
       "      <td>0.853556</td>\n",
       "    </tr>\n",
       "    <tr>\n",
       "      <td>200</td>\n",
       "      <td>0.304700</td>\n",
       "      <td>0.111291</td>\n",
       "      <td>0.970711</td>\n",
       "    </tr>\n",
       "    <tr>\n",
       "      <td>300</td>\n",
       "      <td>0.267200</td>\n",
       "      <td>0.096688</td>\n",
       "      <td>0.972803</td>\n",
       "    </tr>\n",
       "    <tr>\n",
       "      <td>400</td>\n",
       "      <td>0.279700</td>\n",
       "      <td>0.197961</td>\n",
       "      <td>0.945607</td>\n",
       "    </tr>\n",
       "    <tr>\n",
       "      <td>500</td>\n",
       "      <td>0.199800</td>\n",
       "      <td>0.137178</td>\n",
       "      <td>0.972803</td>\n",
       "    </tr>\n",
       "    <tr>\n",
       "      <td>600</td>\n",
       "      <td>0.152100</td>\n",
       "      <td>0.101087</td>\n",
       "      <td>0.983264</td>\n",
       "    </tr>\n",
       "    <tr>\n",
       "      <td>700</td>\n",
       "      <td>0.173300</td>\n",
       "      <td>0.145805</td>\n",
       "      <td>0.976987</td>\n",
       "    </tr>\n",
       "    <tr>\n",
       "      <td>800</td>\n",
       "      <td>0.177200</td>\n",
       "      <td>0.076826</td>\n",
       "      <td>0.981172</td>\n",
       "    </tr>\n",
       "    <tr>\n",
       "      <td>900</td>\n",
       "      <td>0.123900</td>\n",
       "      <td>0.100465</td>\n",
       "      <td>0.976987</td>\n",
       "    </tr>\n",
       "    <tr>\n",
       "      <td>1000</td>\n",
       "      <td>0.079900</td>\n",
       "      <td>0.162827</td>\n",
       "      <td>0.966527</td>\n",
       "    </tr>\n",
       "    <tr>\n",
       "      <td>1100</td>\n",
       "      <td>0.101000</td>\n",
       "      <td>0.099786</td>\n",
       "      <td>0.983264</td>\n",
       "    </tr>\n",
       "    <tr>\n",
       "      <td>1200</td>\n",
       "      <td>0.077200</td>\n",
       "      <td>0.105079</td>\n",
       "      <td>0.983264</td>\n",
       "    </tr>\n",
       "    <tr>\n",
       "      <td>1300</td>\n",
       "      <td>0.051900</td>\n",
       "      <td>0.108163</td>\n",
       "      <td>0.981172</td>\n",
       "    </tr>\n",
       "    <tr>\n",
       "      <td>1400</td>\n",
       "      <td>0.054500</td>\n",
       "      <td>0.116677</td>\n",
       "      <td>0.979079</td>\n",
       "    </tr>\n",
       "    <tr>\n",
       "      <td>1500</td>\n",
       "      <td>0.060000</td>\n",
       "      <td>0.083713</td>\n",
       "      <td>0.983264</td>\n",
       "    </tr>\n",
       "    <tr>\n",
       "      <td>1600</td>\n",
       "      <td>0.029900</td>\n",
       "      <td>0.097327</td>\n",
       "      <td>0.985356</td>\n",
       "    </tr>\n",
       "    <tr>\n",
       "      <td>1700</td>\n",
       "      <td>0.041000</td>\n",
       "      <td>0.086281</td>\n",
       "      <td>0.983264</td>\n",
       "    </tr>\n",
       "    <tr>\n",
       "      <td>1800</td>\n",
       "      <td>0.047100</td>\n",
       "      <td>0.084004</td>\n",
       "      <td>0.985356</td>\n",
       "    </tr>\n",
       "    <tr>\n",
       "      <td>1900</td>\n",
       "      <td>0.031700</td>\n",
       "      <td>0.108135</td>\n",
       "      <td>0.981172</td>\n",
       "    </tr>\n",
       "    <tr>\n",
       "      <td>2000</td>\n",
       "      <td>0.017000</td>\n",
       "      <td>0.120117</td>\n",
       "      <td>0.981172</td>\n",
       "    </tr>\n",
       "  </tbody>\n",
       "</table><p>"
      ],
      "text/plain": [
       "<IPython.core.display.HTML object>"
      ]
     },
     "metadata": {},
     "output_type": "display_data"
    },
    {
     "name": "stderr",
     "output_type": "stream",
     "text": [
      "/home/jschelb/.pyenv/versions/3.10.8/envs/s2j-content-analysis/lib/python3.10/site-packages/torch/nn/parallel/_functions.py:68: UserWarning: Was asked to gather along dimension 0, but all input tensors were scalars; will instead unsqueeze and return a vector.\n",
      "  warnings.warn('Was asked to gather along dimension 0, but all '\n",
      "/home/jschelb/.pyenv/versions/3.10.8/envs/s2j-content-analysis/lib/python3.10/site-packages/torch/nn/parallel/_functions.py:68: UserWarning: Was asked to gather along dimension 0, but all input tensors were scalars; will instead unsqueeze and return a vector.\n",
      "  warnings.warn('Was asked to gather along dimension 0, but all '\n",
      "/home/jschelb/.pyenv/versions/3.10.8/envs/s2j-content-analysis/lib/python3.10/site-packages/torch/nn/parallel/_functions.py:68: UserWarning: Was asked to gather along dimension 0, but all input tensors were scalars; will instead unsqueeze and return a vector.\n",
      "  warnings.warn('Was asked to gather along dimension 0, but all '\n",
      "/home/jschelb/.pyenv/versions/3.10.8/envs/s2j-content-analysis/lib/python3.10/site-packages/torch/nn/parallel/_functions.py:68: UserWarning: Was asked to gather along dimension 0, but all input tensors were scalars; will instead unsqueeze and return a vector.\n",
      "  warnings.warn('Was asked to gather along dimension 0, but all '\n",
      "/home/jschelb/.pyenv/versions/3.10.8/envs/s2j-content-analysis/lib/python3.10/site-packages/torch/nn/parallel/_functions.py:68: UserWarning: Was asked to gather along dimension 0, but all input tensors were scalars; will instead unsqueeze and return a vector.\n",
      "  warnings.warn('Was asked to gather along dimension 0, but all '\n",
      "/home/jschelb/.pyenv/versions/3.10.8/envs/s2j-content-analysis/lib/python3.10/site-packages/torch/nn/parallel/_functions.py:68: UserWarning: Was asked to gather along dimension 0, but all input tensors were scalars; will instead unsqueeze and return a vector.\n",
      "  warnings.warn('Was asked to gather along dimension 0, but all '\n",
      "/home/jschelb/.pyenv/versions/3.10.8/envs/s2j-content-analysis/lib/python3.10/site-packages/torch/nn/parallel/_functions.py:68: UserWarning: Was asked to gather along dimension 0, but all input tensors were scalars; will instead unsqueeze and return a vector.\n",
      "  warnings.warn('Was asked to gather along dimension 0, but all '\n",
      "/home/jschelb/.pyenv/versions/3.10.8/envs/s2j-content-analysis/lib/python3.10/site-packages/torch/nn/parallel/_functions.py:68: UserWarning: Was asked to gather along dimension 0, but all input tensors were scalars; will instead unsqueeze and return a vector.\n",
      "  warnings.warn('Was asked to gather along dimension 0, but all '\n",
      "/home/jschelb/.pyenv/versions/3.10.8/envs/s2j-content-analysis/lib/python3.10/site-packages/torch/nn/parallel/_functions.py:68: UserWarning: Was asked to gather along dimension 0, but all input tensors were scalars; will instead unsqueeze and return a vector.\n",
      "  warnings.warn('Was asked to gather along dimension 0, but all '\n",
      "/home/jschelb/.pyenv/versions/3.10.8/envs/s2j-content-analysis/lib/python3.10/site-packages/torch/nn/parallel/_functions.py:68: UserWarning: Was asked to gather along dimension 0, but all input tensors were scalars; will instead unsqueeze and return a vector.\n",
      "  warnings.warn('Was asked to gather along dimension 0, but all '\n",
      "/home/jschelb/.pyenv/versions/3.10.8/envs/s2j-content-analysis/lib/python3.10/site-packages/torch/nn/parallel/_functions.py:68: UserWarning: Was asked to gather along dimension 0, but all input tensors were scalars; will instead unsqueeze and return a vector.\n",
      "  warnings.warn('Was asked to gather along dimension 0, but all '\n",
      "/home/jschelb/.pyenv/versions/3.10.8/envs/s2j-content-analysis/lib/python3.10/site-packages/torch/nn/parallel/_functions.py:68: UserWarning: Was asked to gather along dimension 0, but all input tensors were scalars; will instead unsqueeze and return a vector.\n",
      "  warnings.warn('Was asked to gather along dimension 0, but all '\n",
      "/home/jschelb/.pyenv/versions/3.10.8/envs/s2j-content-analysis/lib/python3.10/site-packages/torch/nn/parallel/_functions.py:68: UserWarning: Was asked to gather along dimension 0, but all input tensors were scalars; will instead unsqueeze and return a vector.\n",
      "  warnings.warn('Was asked to gather along dimension 0, but all '\n",
      "/home/jschelb/.pyenv/versions/3.10.8/envs/s2j-content-analysis/lib/python3.10/site-packages/torch/nn/parallel/_functions.py:68: UserWarning: Was asked to gather along dimension 0, but all input tensors were scalars; will instead unsqueeze and return a vector.\n",
      "  warnings.warn('Was asked to gather along dimension 0, but all '\n",
      "/home/jschelb/.pyenv/versions/3.10.8/envs/s2j-content-analysis/lib/python3.10/site-packages/torch/nn/parallel/_functions.py:68: UserWarning: Was asked to gather along dimension 0, but all input tensors were scalars; will instead unsqueeze and return a vector.\n",
      "  warnings.warn('Was asked to gather along dimension 0, but all '\n",
      "/home/jschelb/.pyenv/versions/3.10.8/envs/s2j-content-analysis/lib/python3.10/site-packages/torch/nn/parallel/_functions.py:68: UserWarning: Was asked to gather along dimension 0, but all input tensors were scalars; will instead unsqueeze and return a vector.\n",
      "  warnings.warn('Was asked to gather along dimension 0, but all '\n",
      "/home/jschelb/.pyenv/versions/3.10.8/envs/s2j-content-analysis/lib/python3.10/site-packages/torch/nn/parallel/_functions.py:68: UserWarning: Was asked to gather along dimension 0, but all input tensors were scalars; will instead unsqueeze and return a vector.\n",
      "  warnings.warn('Was asked to gather along dimension 0, but all '\n",
      "/home/jschelb/.pyenv/versions/3.10.8/envs/s2j-content-analysis/lib/python3.10/site-packages/torch/nn/parallel/_functions.py:68: UserWarning: Was asked to gather along dimension 0, but all input tensors were scalars; will instead unsqueeze and return a vector.\n",
      "  warnings.warn('Was asked to gather along dimension 0, but all '\n",
      "/home/jschelb/.pyenv/versions/3.10.8/envs/s2j-content-analysis/lib/python3.10/site-packages/torch/nn/parallel/_functions.py:68: UserWarning: Was asked to gather along dimension 0, but all input tensors were scalars; will instead unsqueeze and return a vector.\n",
      "  warnings.warn('Was asked to gather along dimension 0, but all '\n"
     ]
    },
    {
     "data": {
      "text/plain": [
       "TrainOutput(global_step=2000, training_loss=0.13974343490600585, metrics={'train_runtime': 2513.3506, 'train_samples_per_second': 6.76, 'train_steps_per_second': 0.845, 'total_flos': 1.4903446362341376e+16, 'train_loss': 0.13974343490600585, 'epoch': 4.71})"
      ]
     },
     "execution_count": 16,
     "metadata": {},
     "output_type": "execute_result"
    }
   ],
   "source": [
    "# Train the model\n",
    "trainer.train()"
   ]
  },
  {
   "cell_type": "markdown",
   "metadata": {},
   "source": [
    "## Evaluate Model"
   ]
  },
  {
   "cell_type": "code",
   "execution_count": 17,
   "metadata": {},
   "outputs": [
    {
     "data": {
      "text/plain": [
       "DatasetDict({\n",
       "    train: Dataset({\n",
       "        features: ['_id', 'batch_id', 'domain', 'view_url', 'lang', 'text', 'text_length', 'word_count', 'topic', 'category', 'good_for_training', 'good_for_augmentation', 'annotation_type', 'is_topic', 'label', 'token_count', 'chunk_id', 'input_ids', 'token_type_ids', 'attention_mask'],\n",
       "        num_rows: 3398\n",
       "    })\n",
       "    test: Dataset({\n",
       "        features: ['_id', 'batch_id', 'domain', 'view_url', 'lang', 'text', 'text_length', 'word_count', 'topic', 'category', 'good_for_training', 'good_for_augmentation', 'annotation_type', 'is_topic', 'label', 'token_count', 'chunk_id', 'input_ids', 'token_type_ids', 'attention_mask'],\n",
       "        num_rows: 478\n",
       "    })\n",
       "})"
      ]
     },
     "execution_count": 17,
     "metadata": {},
     "output_type": "execute_result"
    }
   ],
   "source": [
    "tokenized_datasets"
   ]
  },
  {
   "cell_type": "code",
   "execution_count": 18,
   "metadata": {},
   "outputs": [
    {
     "name": "stderr",
     "output_type": "stream",
     "text": [
      "/home/jschelb/.pyenv/versions/3.10.8/envs/s2j-content-analysis/lib/python3.10/site-packages/torch/nn/parallel/_functions.py:68: UserWarning: Was asked to gather along dimension 0, but all input tensors were scalars; will instead unsqueeze and return a vector.\n",
      "  warnings.warn('Was asked to gather along dimension 0, but all '\n"
     ]
    },
    {
     "data": {
      "text/html": [
       "\n",
       "    <div>\n",
       "      \n",
       "      <progress value='41' max='60' style='width:300px; height:20px; vertical-align: middle;'></progress>\n",
       "      [41/60 00:14 < 00:07, 2.68 it/s]\n",
       "    </div>\n",
       "    "
      ],
      "text/plain": [
       "<IPython.core.display.HTML object>"
      ]
     },
     "metadata": {},
     "output_type": "display_data"
    },
    {
     "data": {
      "text/plain": [
       "{'eval_loss': 0.08371259272098541,\n",
       " 'eval_accuracy': 0.9832635983263598,\n",
       " 'eval_runtime': 22.3278,\n",
       " 'eval_samples_per_second': 21.408,\n",
       " 'eval_steps_per_second': 2.687,\n",
       " 'epoch': 4.71}"
      ]
     },
     "execution_count": 18,
     "metadata": {},
     "output_type": "execute_result"
    }
   ],
   "source": [
    "# Evaluate the model\n",
    "trainer.evaluate(tokenized_datasets[\"test\"])"
   ]
  },
  {
   "cell_type": "markdown",
   "metadata": {},
   "source": [
    "## Save Model"
   ]
  },
  {
   "cell_type": "code",
   "execution_count": 19,
   "metadata": {},
   "outputs": [
    {
     "data": {
      "text/plain": [
       "('../models/bert_energie_model_buff/tokenizer_config.json',\n",
       " '../models/bert_energie_model_buff/special_tokens_map.json',\n",
       " '../models/bert_energie_model_buff/vocab.txt',\n",
       " '../models/bert_energie_model_buff/added_tokens.json',\n",
       " '../models/bert_energie_model_buff/tokenizer.json')"
      ]
     },
     "execution_count": 19,
     "metadata": {},
     "output_type": "execute_result"
    }
   ],
   "source": [
    "locsl_path = \"../models/bert_\" + topic + \"_model_buff\"\n",
    "trainer.save_model(locsl_path)\n",
    "tokenizer.save_pretrained(locsl_path)"
   ]
  },
  {
   "cell_type": "markdown",
   "metadata": {},
   "source": [
    "## Test Model"
   ]
  },
  {
   "cell_type": "code",
   "execution_count": 20,
   "metadata": {},
   "outputs": [
    {
     "name": "stdout",
     "output_type": "stream",
     "text": [
      "0\n",
      "[CLS]. Folge 3 : Dämonen in Amsterdam ( S03 / E03 ) Kommissar Van der Valk [UNK] Das Erste UT 89 Min. Folge 3 : Dämonen in Amsterdam ( S03 / E03 ) - Hörfassung Kommissar Van der Valk [UNK] Das Erste UT AD 89 Min. Folge 3 : Magic in Amsterdam ( S03 / E03 ) ( OV ) Kommissar Van der Valk [UNK] Das Erste OV 89 Min. Folge 2 : Erlösung in Amsterdam ( S03 / E02 ) Kommissar Van der Valk [UNK] Das Erste UT 89 Min. Folge 2 : Erlösung in Amsterdam ( S03 / E02 ) - Hörfassung Kommissar Van der Valk [UNK] Das Erste UT AD 89 Min. Folge 2 : Redemption in Amsterdam ( S03 / E02 ) ( OV ) Kommissar Van der Valk [UNK] Das Erste OV 89 Min. Folge 1 : Freiheit in Amsterdam ( S03 / E01 ) Kommissar Van der Valk [UNK] Das Erste UT 89 Min. Folge 1 : Freiheit in Amsterdam ( S03 / E01 ) - Hörfassung Kommissar Van der Valk [UNK] Das Erste UT AD 89 Min. Folge 1 : Freedom in Amsterdam ( S03 / E01 ) ( OV ) Kommissar Van der Valk [UNK] Das Erste OV 89 Min. Folge 2 : Only in Amsterdam ( S01 / E02 ) ( OV ) Kommissar Van der Valk [UNK] Das Erste OV 90 Min. Folge 3 : Death in Amsterdam ( S01 / E03 ) ( OV ) Kommissar Van der Valk [UNK] Das Erste OV 90 Min [SEP] [PAD] [PAD] [PAD] [PAD] [PAD] [PAD] [PAD] [PAD] [PAD] [PAD] [PAD] [PAD] [PAD] [PAD] [PAD] [PAD] [PAD] [PAD] [PAD] [PAD] [PAD] [PAD] [PAD] [PAD] [PAD] [PAD] [PAD] [PAD] [PAD] [PAD] [PAD] [PAD] [PAD] [PAD] [PAD] [PAD] [PAD] [PAD] [PAD] [PAD] [PAD] [PAD] [PAD] [PAD] [PAD] [PAD] [PAD] [PAD] [PAD] [PAD] [PAD] [PAD] [PAD] [PAD] [PAD] [PAD] [PAD] [PAD] [PAD] [PAD] [PAD] [PAD] [PAD] [PAD] [PAD] [PAD] [PAD] [PAD] [PAD] [PAD] [PAD] [PAD] [PAD] [PAD] [PAD] [PAD] [PAD] [PAD] [PAD] [PAD] [PAD] [PAD] [PAD] [PAD] [PAD] [PAD] [PAD] [PAD] [PAD] [PAD] [PAD] [PAD] [PAD] [PAD] [PAD] [PAD] [PAD] [PAD] [PAD] [PAD] [PAD] [PAD] [PAD] [PAD] [PAD] [PAD] [PAD] [PAD] [PAD] [PAD] [PAD] [PAD] [PAD] [PAD] [PAD] [PAD] [PAD] [PAD] [PAD] [PAD] [PAD] [PAD] [PAD] [PAD] [PAD] [PAD] [PAD] [PAD] [PAD] [PAD] [PAD] [PAD] [PAD] [PAD] [PAD] [PAD] [PAD] [PAD] [PAD] [PAD] [PAD] [PAD] [PAD] [PAD] [PAD] [PAD] [PAD] [PAD] [PAD] [PAD] [PAD] [PAD] [PAD] [PAD] [PAD] [PAD] [PAD] [PAD] [PAD] [PAD] [PAD] [PAD] [PAD] [PAD] [PAD] [PAD] [PAD] [PAD] [PAD] [PAD] [PAD] [PAD] [PAD] [PAD] [PAD] [PAD] [PAD] [PAD] [PAD] [PAD] [PAD] [PAD] [PAD]\n"
     ]
    }
   ],
   "source": [
    "id = 1\n",
    "input_ids = tokenized_datasets[\"test\"][id][\"input_ids\"]\n",
    "label = tokenized_datasets[\"test\"][id][\"label\"]\n",
    "print(label)\n",
    "print(tokenizer.decode(input_ids))\n",
    "#print(input_ids)\n"
   ]
  },
  {
   "cell_type": "code",
   "execution_count": 21,
   "metadata": {},
   "outputs": [
    {
     "name": "stderr",
     "output_type": "stream",
     "text": [
      "We strongly recommend passing in an `attention_mask` since your input_ids may be padded. See https://huggingface.co/docs/transformers/troubleshooting#incorrect-output-when-padding-tokens-arent-masked.\n"
     ]
    },
    {
     "name": "stdout",
     "output_type": "stream",
     "text": [
      "tensor([[ 3.8294, -4.5701]], device='cuda:0', grad_fn=<AddmmBackward0>)\n"
     ]
    }
   ],
   "source": [
    "output = model(input_ids = torch.tensor([input_ids], device='cuda')) \n",
    "print(output.logits)"
   ]
  },
  {
   "cell_type": "code",
   "execution_count": 22,
   "metadata": {},
   "outputs": [
    {
     "name": "stdout",
     "output_type": "stream",
     "text": [
      "tensor([0], device='cuda:0')\n"
     ]
    }
   ],
   "source": [
    "probabilities = torch.nn.functional.softmax(output.logits, dim=1)\n",
    "predicted_class = torch.argmax(probabilities, dim=1)\n",
    "print(predicted_class)"
   ]
  },
  {
   "cell_type": "markdown",
   "metadata": {},
   "source": [
    "**Constructed Positive Example**"
   ]
  },
  {
   "cell_type": "code",
   "execution_count": 23,
   "metadata": {},
   "outputs": [
    {
     "name": "stdout",
     "output_type": "stream",
     "text": [
      "Predicted class: 0\n"
     ]
    }
   ],
   "source": [
    "\n",
    "# Your test example\n",
    "test_example = \"\"\"\n",
    "Verständnis zur Legalisierung von Cannabis\n",
    "\n",
    "Die Legalisierung von Cannabis, auch bekannt als Marihuana, ist ein Thema bedeutender Debatten und politischer Veränderungen in verschiedenen Ländern weltweit. Die Bewegung hin zur Legalisierung repräsentiert einen Wandel in der Wahrnehmung und Regulierung von Cannabis, von einer streng kontrollierten Substanz hin zu einer liberaler regulierten, oft sowohl für medizinische als auch für Freizeitzwecke.\n",
    "\n",
    "Historischer Kontext: Traditionell war Cannabis in den meisten Teilen der Welt illegal, klassifiziert neben vielen anderen kontrollierten Substanzen. Diese Klassifizierung erfolgte hauptsächlich aufgrund von Bedenken hinsichtlich seines Potenzials für Missbrauch, seiner psychoaktiven Effekte und möglicher Gesundheitsrisiken.\n",
    "\"\"\"\n",
    "\n",
    "# Tokenize the text\n",
    "inputs = tokenizer(test_example, return_tensors=\"pt\", padding=True, truncation=True, max_length=512)\n",
    "\n",
    "# Predict the class\n",
    "with torch.no_grad():\n",
    "    outputs = model(**inputs.to('cuda'))    \n",
    "    predictions = torch.nn.functional.softmax(outputs.logits, dim=-1)\n",
    "\n",
    "# Get the predicted class (the one with the highest probability)\n",
    "predicted_class = torch.argmax(predictions).item()\n",
    "\n",
    "# Print the predicted class\n",
    "print(\"Predicted class:\", predicted_class)"
   ]
  },
  {
   "cell_type": "markdown",
   "metadata": {},
   "source": [
    "**Constructed Negative Example**"
   ]
  },
  {
   "cell_type": "code",
   "execution_count": 24,
   "metadata": {},
   "outputs": [
    {
     "name": "stdout",
     "output_type": "stream",
     "text": [
      "Predicted class: 0\n"
     ]
    }
   ],
   "source": [
    "\n",
    "# Your test example\n",
    "test_example = \"\"\"\n",
    "Die Faszination Süßer Katzen\n",
    "\n",
    "Katzen sind faszinierende und unglaublich beliebte Haustiere. Ihre Anmut, Unabhängigkeit und das spielerische Wesen machen sie zu einem Liebling vieler Menschen. Besonders süße Katzen haben eine besondere Anziehungskraft, die das Herz vieler Tierliebhaber erobert.\n",
    "\n",
    "Eleganz und Anmut: Katzen sind bekannt für ihre elegante und anmutige Art. Mit ihren geschmeidigen Bewegungen und dem majestätischen Gang ziehen sie die Aufmerksamkeit auf sich. Ihre Fähigkeit, sich leise und behände zu bewegen, verleiht ihnen eine fast mystische Aura.\n",
    "\"\"\"\n",
    "\n",
    "# Tokenize the text\n",
    "inputs = tokenizer(test_example, return_tensors=\"pt\", padding=True, truncation=True, max_length=512)\n",
    "\n",
    "# Predict the class\n",
    "with torch.no_grad():\n",
    "    outputs = model(**inputs.to('cuda'))    \n",
    "    predictions = torch.nn.functional.softmax(outputs.logits, dim=-1)\n",
    "\n",
    "# Get the predicted class (the one with the highest probability)\n",
    "predicted_class = torch.argmax(predictions).item()\n",
    "\n",
    "# Print the predicted class\n",
    "print(\"Predicted class:\", predicted_class)"
   ]
  },
  {
   "cell_type": "code",
   "execution_count": 25,
   "metadata": {},
   "outputs": [
    {
     "data": {
      "text/plain": [
       "Dataset({\n",
       "    features: ['_id', 'batch_id', 'domain', 'view_url', 'lang', 'text', 'text_length', 'word_count', 'topic', 'category', 'good_for_training', 'good_for_augmentation', 'annotation_type', 'is_topic', 'label', 'token_count', 'chunk_id', 'input_ids', 'token_type_ids', 'attention_mask'],\n",
       "    num_rows: 478\n",
       "})"
      ]
     },
     "execution_count": 25,
     "metadata": {},
     "output_type": "execute_result"
    }
   ],
   "source": [
    "tokenized_datasets[\"test\"]"
   ]
  },
  {
   "cell_type": "code",
   "execution_count": 26,
   "metadata": {},
   "outputs": [],
   "source": [
    "# Calculate the accuracy on the test dataset \n",
    "preds = []\n",
    "labels = []\n",
    "for row in tokenized_datasets[\"test\"]:\n",
    "    inputs = tokenizer(row[\"text\"], return_tensors=\"pt\", padding=True, truncation=True, max_length=512)\n",
    "    with torch.no_grad():\n",
    "        outputs = model(**inputs.to('cuda'))    \n",
    "        predictions = torch.nn.functional.softmax(outputs.logits, dim=-1)\n",
    "        predicted_class = torch.argmax(predictions).item()\n",
    "    \n",
    "    preds.append(predicted_class)\n",
    "    labels.append(row[\"label\"])"
   ]
  },
  {
   "cell_type": "code",
   "execution_count": 27,
   "metadata": {},
   "outputs": [
    {
     "name": "stdout",
     "output_type": "stream",
     "text": [
      "Accuracy: 98.33%\n",
      "Precision: 1.00\n",
      "Recall: 0.98\n",
      "F1 Score: 0.99\n"
     ]
    }
   ],
   "source": [
    "from sklearn.metrics import accuracy_score, precision_score, recall_score, f1_score\n",
    "\n",
    "# Assuming labels and preds are lists or arrays containing the true labels and predicted labels respectively\n",
    "accuracy = accuracy_score(labels, preds)\n",
    "precision = precision_score(labels, preds)\n",
    "recall = recall_score(labels, preds)\n",
    "f1 = f1_score(labels, preds)\n",
    "\n",
    "print(\"Accuracy: {:.2f}%\".format(accuracy * 100))\n",
    "print(\"Precision: {:.2f}\".format(precision))\n",
    "print(\"Recall: {:.2f}\".format(recall))\n",
    "print(\"F1 Score: {:.2f}\".format(f1))\n"
   ]
  },
  {
   "cell_type": "markdown",
   "metadata": {},
   "source": [
    "Accuracy: 94.92%\n",
    "Precision: 0.93\n",
    "Recall: 0.97\n",
    "F1 Score: 0.95"
   ]
  },
  {
   "cell_type": "code",
   "execution_count": 28,
   "metadata": {},
   "outputs": [
    {
     "data": {
      "image/png": "[encoded data removed]",
      "text/plain": [
       "<Figure size 800x600 with 2 Axes>"
      ]
     },
     "metadata": {},
     "output_type": "display_data"
    }
   ],
   "source": [
    "import seaborn as sns\n",
    "import matplotlib.pyplot as plt\n",
    "from sklearn.metrics import confusion_matrix\n",
    "\n",
    "# Assuming labels and preds are lists or arrays containing the true labels and predicted labels respectively\n",
    "cm = confusion_matrix(labels, preds)\n",
    "\n",
    "# Create a seaborn heatmap with annotations\n",
    "plt.figure(figsize=(8, 6))\n",
    "sns.heatmap(cm, annot=True, fmt=\"d\", cmap=\"Oranges\", cbar=True)\n",
    "\n",
    "# Add labels and title\n",
    "plt.xlabel(\"Predicted labels\")\n",
    "plt.ylabel(\"True labels\")\n",
    "plt.title(\"Confusion Matrix\")\n",
    "\n",
    "# Show plot\n",
    "plt.show()\n"
   ]
  },
  {
   "cell_type": "code",
   "execution_count": 29,
   "metadata": {},
   "outputs": [
    {
     "name": "stdout",
     "output_type": "stream",
     "text": [
      ". Ausgehend von einem Mindestlohn von 12 Euro je Arbeitsstunde im Jahr 2023 beträgt die monatliche Entgeltgrenze 520 Euro. Die maximal zulässige Anzahl von Arbeitsstunden bei 520-Euro-Minijobbern liegt dauerhaft bei 43 Stunden pro Monat. Mindest-Ausbildungsvergütung steigt Für im Jahr 2023 begonnene Ausbildungsverhältnisse beträgt die monatliche Mindestausbildungsvergütung im ersten Jahr einer Berufsausbildung 620 Euro (2022: 585 Euro). Im zweiten und dritten Ausbildungsjahr steigt sie auf 732 Euro (2022: 690 Euro) bzw. 837 Euro (2022: 790 Euro) an. Höhere Ansätze für Unterkunft und Verpflegung Die Sachbezugswerte für Unterkunft und Verpflegung steigen. Der Gesamtsachbezugswert für Verpflegung wird von bisher 270 Euro auf 288 Euro im Monat erhöht. Er setzt sich zusammen aus 60 Euro für Frühstück sowie jeweils 114 Euro für Mittag- und Abendessen. Die Werte für eine Unterkunft (belegt mit einem Beschäftigten) steigen zum neuen Jahr ebenfalls von derzeit monatlich 241 Euro auf 265 Euro, bei Aufnahme in den Arbeitgeberhaushalt von 204,85 Euro auf 225,25 Euro. Höhere Beiträge zur gesetzlichen Sozialversicherung Der durchschnittliche Zusatzbeitrag in der gesetzlichen Krankenversicherung steigt von 1,3 auf 1,6 Prozent. Viele gesetzliche Krankenkassen werden ihre Zusatzbeiträge, die hälftig von Arbeitgeber und Arbeitnehmer zu tragen sind, mindestens in diesem Umfang erhöhen müssen. Der Beitragssatz zur Arbeitslosenversicherung, der ab dem Jahr 2020 aufgrund hoher Rücklagen der Bundesagentur für Arbeit befristet bis 31. Dezember 2022 auf 2,4 Prozent abgesenkt war, liegt ab 1\n",
      "True label: 1\n",
      "Predicted label: 0\n",
      "\n",
      ". Liga Motorsport Fußball-WM Olympia Großbritannien Blitzmeldung Spanien Kultur/Medien Leute Musik Fernsehen Kino Literatur Gesellschaft Großbritannien Bühne Kunst Gesundheit Gemischtes Gesundheit Unglücke Gesellschaft Polizeimeldung Kriminalität Leute Straßenverkehr Justiz Glücksspiel Lotto Wetter Jetzt kostenlos registrieren ! Verpassen Sie keine aktuellen Neuigkeiten mehr, registrieren Sie sich kostenlos zu unseren Diensten. Jetzt registrieren News & Nachrichten Wirtschaft Politik Sport Kultur & Medien Gemischtes Interessante Artikel SPD-Chefs fordern Freigabe von Cannabis US-Börsen treten auf der Stelle - Euro deutlich stärker Reisebranche verlangt finanziellen Ausgleich für Flugchaos Schwesig mahnt Grundgesetzänderung für Digitalpakt an Habeck nennt Bierhoff-Kritik an Özil \"bigott\" Erste deutsche Batteriezellenfabrik könnte nach NRW kommen SPD-Fraktionsvize zeigt sich empört über Autokonzerne DAX im Feiertagshandel schwach - Lufthansa sehr gefragt Emnid-Umfrage: Deutsche vertrauen Macron mehr als Merkel BAMF: Syrer erhalten geringeren Schutzstatus Soziale Medien Weitere Seiten Reise-und-Urlaubsziele.de Aktuelle-Auto-News.de Freizeit-Haus-und-Garten.de © 2023 | V&s=e | news-und-nachrichten.de Impressum Datenschutz AGB Kontakt\n",
      "True label: 0\n",
      "Predicted label: 1\n",
      "\n",
      ". Die Zertifizierung wurde im Bereich Zufriedenheit Ã¼ber den gesamten Prozess anhand besonders strenger Kriterien geprÃ¼ft. Das Zertifikat basiert auf einer reprÃ¤sentativen Kundenzufriedenheitsanalyse. Weitere Informationen erhalten Sie HIER . Zur Auszeichnung Die Nr. 1 inÂ Deutschland Die Financial Times und Statista haben Enpal aus 1.000 fÃ¼hrenden Unternehmen in Europa als das wachstumsstÃ¤rkste Unternehmen in Deutschland gekÃ¼rt. In der Energiebranche nimmt Enpal sogar europaweit den ersten Platz ein. Mehr Informationen finden Sie HIER . Zum Preis FOCUSÂ Wachstumschampion 2023 Aus Ã¼ber 12.000 Kandidaten haben FOCUS und Statista Enpal in der Kategorie \"Energie und Versorger\" als Wachstumschampion ausgezeichnet. Mehr Informationen dazu finden Sie HIER . FÃ¼r mehr Infos klicken Sie hier Zum Zertifikat TÃV geprÃ¼fte Kundenzufriedenheit: Gut Enpals Kundenzufriedenheit ist mit Note \"Gut\" durch den TÃV Saarland zertifiziert (SC45293). Die Zertifizierung wurde im Bereich Zufriedenheit Ã¼ber den gesamten Prozess anhand besonders strenger Kriterien geprÃ¼ft. Das Zertifikat basiert auf einer reprÃ¤sentativen Kundenzufriedenheitsanalyse. Weitere Informationen erhalten Sie HIER . Zum Preis WachstumsstÃ¤rkstes Unternehmen Deutschlands 2022 Die Financial Times und Statista haben Enpal als das wachstumsstÃ¤rkste Unternehmen in Deutschland gekÃ¼rt. Mehr Informationen dazu finden Sie hier . Zum Preis FOCUSÂ Wachstumschampion 2023 Aus Ã¼ber 12\n",
      "True label: 1\n",
      "Predicted label: 0\n",
      "\n",
      "Amrumbank West geht ab 2025 an 12 Großkunden Previous Next 1 2 RWE Supply & Trading schließt Stromlieferverträge ( Power Purchase Agreements, PPA ) über rund 1\n",
      "True label: 1\n",
      "Predicted label: 0\n",
      "\n",
      "Wetter DAX Telefonverzeichnisse Lotto Telekom Services Telekom Hilfe & Service Frag Magenta Kundencenter Freemail MagentaCloud Tarife & Produkte PUR-Abo Login Suchen E-Mail Login Politik Deutschland Ausland Corona-Krise Tagesanbruch Ukraine Regional Berlin Hamburg München Köln Frankfurt Alle Städte Sport Bundesliga 2\n",
      "True label: 1\n",
      "Predicted label: 0\n",
      "\n",
      ".. Loading... Shopping Anzeigen Loading... Loading... Loading... Loading... Loading... Loading... Loading... Loading... Loading... Loading... Loading... Loading..\n",
      "True label: 1\n",
      "Predicted label: 0\n",
      "\n",
      "... Loading... Loading... Loading... Neueste Artikel Interview | Ministerpräsident über Ampel-Politik \"Da kommt kein Mensch mehr mit\" Von Tim Kummert \"Natürlich nicht vorher gewusst\" Prigoschin-Aufstand: Kritik an BND wächst Haushaltsstreit im Kabinett Der Unerbittliche trifft die Felsenfeste Von Tim Kummert Streit über K-Frage in der Union Es sieht nicht gut aus für Friedrich Merz Demokratie-Check für Robert Sesselmann Darum geht es bei der Überprüfung des AfD-Landrates Thierse und sein erster Besuch im Westen \"Es roch vollkommen anders als auf DDR-Bahnhöfen\" \"Sie sind rechts\" Sender setzt Merz mit Höcke gleich – scharfe Kritik Scholz bei \"Maischberger\" \"Wir kriegen das hin\" Von Markus Brandstetter Kommt es noch vor der Sommerpause? Koalition erzielt Durchbruch beim Heizungsgesetz Kirchenaustritte auf neuem Höchststand Katholische Kirche verliert 2022 mehr als 500.000 Mitglieder Themen Bundestag Bündnis 90/Die Grünen CDU FDP Robert Habeck Twitter Themen A bis Z Politiker Annalena Baerbock Karl Lauterbach Markus Söder Olaf Scholz t-online folgen Das Unternehmen Ströer Digital Publishing Jobs & Karriere Presse Werben Kontakt Impressum Datenschutzhinweise Datenschutzhinweise (PUR) Datenschutz-Manager Jugendschutz Produkte & Services T-Online-Browser PUR-Abo Newsletter Podcasts Videos RSS-Feeds Alle Themen Netzwerk & Partner Das Telefonbuch watson.de giga.de desired.de kino\n",
      "True label: 1\n",
      "Predicted label: 0\n",
      "\n",
      ".de giga.de desired.de kino.de spieletipps.de familie.de statista.de stayfriends.de Telekom Telekom Produkte & Services Kundencenter Freemail Sicherheitspaket Vertragsverlängerung Festnetz Vertragsverlängerung Mobilfunk Hilfe & Service Frag Magenta Telekom Tarife DSL Telefonieren MagentaTV Mobilfunk-Tarife Datentarife Prepaid-Tarife Magenta EINS\n",
      "True label: 1\n",
      "Predicted label: 0\n",
      "\n"
     ]
    }
   ],
   "source": [
    "# Show some misclassified examples\n",
    "for i in range(len(labels)):\n",
    "    if labels[i] != preds[i]:\n",
    "        print(tokenized_datasets[\"test\"][i][\"text\"])\n",
    "        print(\"True label:\", labels[i])\n",
    "        print(\"Predicted label:\", preds[i])\n",
    "        print(\"\")"
   ]
  },
  {
   "cell_type": "code",
   "execution_count": null,
   "metadata": {},
   "outputs": [],
   "source": []
  }
 ],
 "metadata": {
  "kernelspec": {
   "display_name": "s2j-content-analysis",
   "language": "python",
   "name": "python3"
  },
  "language_info": {
   "codemirror_mode": {
    "name": "ipython",
    "version": 3
   },
   "file_extension": ".py",
   "mimetype": "text/x-python",
   "name": "python",
   "nbconvert_exporter": "python",
   "pygments_lexer": "ipython3",
   "version": "3.10.8"
  }
 },
 "nbformat": 4,
 "nbformat_minor": 2
}
