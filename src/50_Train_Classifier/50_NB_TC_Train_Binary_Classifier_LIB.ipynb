{
 "cells": [
  {
   "cell_type": "markdown",
   "metadata": {},
   "source": [
    "## Train Classifier: Linear Interpolation and Backoff (LIB) Classification"
   ]
  },
  {
   "cell_type": "code",
   "execution_count": 15,
   "metadata": {},
   "outputs": [],
   "source": [
    "from transformers import AutoTokenizer, AutoModelForSequenceClassification, TrainingArguments, Trainer\n",
    "from datasets import load_dataset, load_from_disk\n",
    "from sklearn.metrics import accuracy_score\n",
    "import random\n",
    "import numpy as np\n",
    "import torch\n",
    "import os"
   ]
  },
  {
   "cell_type": "code",
   "execution_count": 16,
   "metadata": {},
   "outputs": [],
   "source": [
    "topic = \"energie\" #\"energie\" #\"kinder\" \"cannabis\""
   ]
  },
  {
   "cell_type": "markdown",
   "metadata": {},
   "source": [
    "## Load Dataset"
   ]
  },
  {
   "cell_type": "code",
   "execution_count": 17,
   "metadata": {},
   "outputs": [],
   "source": [
    "dataset = load_from_disk(f\"../../data/tmp/processed_dataset_{topic}_buffed_random\" )"
   ]
  },
  {
   "cell_type": "code",
   "execution_count": 18,
   "metadata": {},
   "outputs": [],
   "source": [
    "# Sample 100 random indices from the training dataset\n",
    "#random_indices = random.sample(range(len(dataset['train'])), 100)\n",
    "\n",
    "# Select 100 examples from the training dataset\n",
    "#dataset['train'] = dataset['train'].select(random_indices)"
   ]
  },
  {
   "cell_type": "markdown",
   "metadata": {},
   "source": [
    "**Extract URL path:**"
   ]
  },
  {
   "cell_type": "code",
   "execution_count": 23,
   "metadata": {},
   "outputs": [
    {
     "data": {
      "text/plain": [
       "{'view_url': 'https://www.google.com/search?q=python+url+path',\n",
       " 'url_path': 'search?q=python+url+path'}"
      ]
     },
     "execution_count": 23,
     "metadata": {},
     "output_type": "execute_result"
    }
   ],
   "source": [
    "from urllib.parse import urlparse, urlunparse\n",
    "\n",
    "def extract_url_path(example):\n",
    "    view_url = example['view_url']\n",
    "    if \"://\" not in view_url:\n",
    "        view_url = \"http://\" + view_url  # Assume http if no protocol specified\n",
    "    parsed_url = urlparse(view_url)\n",
    "    new_url = urlunparse(('', '', parsed_url.path, parsed_url.params, parsed_url.query, parsed_url.fragment))\n",
    "    example['url_path'] = new_url.lstrip('/')  # Store the result in a new field\n",
    "    return example\n",
    "\n",
    "\n",
    "extract_url_path({\"view_url\": \"https://www.google.com/search?q=python+url+path\"})"
   ]
  },
  {
   "cell_type": "code",
   "execution_count": 24,
   "metadata": {},
   "outputs": [
    {
     "name": "stderr",
     "output_type": "stream",
     "text": [
      "Map: 100%|██████████| 408/408 [00:00<00:00, 2708.15 examples/s]\n",
      "Map: 100%|██████████| 46/46 [00:00<00:00, 2120.87 examples/s]\n"
     ]
    }
   ],
   "source": [
    "dataset = dataset.map(extract_url_path) # Extract the path from the URL"
   ]
  },
  {
   "cell_type": "code",
   "execution_count": 25,
   "metadata": {},
   "outputs": [
    {
     "name": "stdout",
     "output_type": "stream",
     "text": [
      "DatasetDict({\n",
      "    train: Dataset({\n",
      "        features: ['_id', 'batch_id', 'domain', 'view_url', 'lang', 'text', 'text_length', 'word_count', 'topic', 'category', 'good_for_training', 'good_for_augmentation', 'annotation_type', 'is_topic', 'label', 'token_count', 'url_path'],\n",
      "        num_rows: 408\n",
      "    })\n",
      "    test: Dataset({\n",
      "        features: ['_id', 'batch_id', 'domain', 'view_url', 'lang', 'text', 'text_length', 'word_count', 'topic', 'category', 'good_for_training', 'good_for_augmentation', 'annotation_type', 'is_topic', 'label', 'token_count', 'url_path'],\n",
      "        num_rows: 46\n",
      "    })\n",
      "})\n",
      "{'_id': '64a0946f749484eec85a71bb', 'batch_id': 16, 'domain': 'erneuerbare-energien.de', 'view_url': 'www.erneuerbare-energien.de/EE/Navigation/DE/Foerderung/foerderung.html', 'lang': 'de', 'text': \" Link direkt zur Servicenavigation Link direkt zur Hauptnavigation Link direkt zum Inhalt Informationsportal Erneuerbare Energien Startseite Kontakt Impressum Facebook YouTube Twitter Instagram BMWi RSS In\\xadfor\\xadma\\xadtio\\xadnen in Deut\\xadscher Ge\\xadbär\\xadden\\xadspra\\xadche In\\xadfor\\xadma\\xadtio\\xadnen in Leich\\xadter Spra\\xadche Navigation Tech\\xadno\\xadlo\\xadgi\\xaden Unternavigationspunkte So\\xadla\\xadr\\xadener\\xadgie Win\\xadd\\xadener\\xadgie an Land Win\\xadd\\xadener\\xadgie auf See Bio\\xadener\\xadgie Geo\\xadther\\xadmie Was\\xadser\\xadkraft Sys\\xadte\\xadmin\\xadte\\xadgra\\xadti\\xadon erneuerbarer Energien Recht und Po\\xadli\\xadtik Unternavigationspunkte Erneuerbare-\\u200bEnergien-\\u200bGe\\xadsetz (EEG) EEG 2017: Wett\\xadbe\\xadwerb\\xadli\\xadche Ver\\xadgü\\xadtung Mie\\xadter\\xadstrom: Ener\\xadgie\\xadwen\\xadde im ei\\xadge\\xadnen Haus Pi\\xadlotaus\\xadschrei\\xadbung Pho\\xadto\\xadvol\\xadtaik EEG: Er\\xadfah\\xadrungs\\xadbe\\xadrich\\xadte und Stu\\xaddi\\xaden Erneuerbare-\\u200bEnergien-\\u200bWärmegesetz Wei\\xadte\\xadre Ge\\xadset\\xadze und Ver\\xadord\\xadnun\\xadgen Erneuerbare Energien im Ver\\xadkehrs\\xadsek\\xadtor EU-\\u200bKli\\xadma-\\u200b und Ener\\xadgierah\\xadmen 2030 EU-\\u200bRicht\\xadli\\xadnie für Erneuerbare Energien Deutsch-\\u200bfran\\xadzö\\xadsi\\xadsches Bü\\xadro für die Ener\\xadgie\\xadwen\\xadde In\\xadter\\xadna\\xadtio\\xadnal For\\xadschung Unternavigationspunkte Ener\\xadge\\xadti\\xadsche Bio\\xadmas\\xadsenut\\xadzung Win\\xadd\\xadener\\xadgie auf See För\\xadde\\xadrung Unternavigationspunkte Über\\xadsicht der För\\xadder\\xadpro\\xadgram\\xadme Ener\\xadgie\\xadbe\\xadra\\xadtun\\xadgen Bun\\xaddes\\xadför\\xadde\\xadrung für ef\\xadfi\\xadzi\\xaden\\xadte Ge\\xadbäu\\xadde Ser\\xadvice Unternavigationspunkte Aktuelles Vi\\xaddeos Erneuerbare Energien in Zahlen Parlamentarische Anfragen Stel\\xadlung\\xadnah\\xadmen Weitere Dokumente Links Sie sind hier: Startseite Förderung Förderung Förderprogramme zum Umstieg auf erneuerbare Energien und zur Steigerung der Energieeffizienz Umsteigen auf erneuerbare Energien und Steigerung der Energieeffizienz. Das reduziert die Kosten und schont die Umwelt. Damit das möglichst einfach klappt, hat die Bundesregierung eine Reihe von Förderprogrammen aufgelegt. Sie richten sich sowohl an Privathaushalte als auch an Kommunen und Unternehmen. Übersicht der Förderprogramme Die Bundesregierung hat eine Reihe von Förderprogrammen für erneuerbare Energien und Energieeffizienz aufgelegt. Die Förderungen richten sich an Privathaushalte, Kommunen und Unternehmen. Energieberatungen Wenn Privatpersonen, Unternehmen, Kommunen oder Organisationen Maßnahmen zur Steigerung der Energieeffizienz planen, können Sie sich beraten lassen. Das BMWi übernimmt einen Teil der Kosten. Bundesförderung für effiziente Gebäude Für die Umstellung der Heizungsanlage auf erneuerbare Energien erhalten Hauseigentümerinnen und Hauseigentümer im Rahmen der Bundesförderung für effiziente Gebäude hohe staatliche Zuschüsse. Bereichsmenu Förderung Über\\xadsicht der För\\xadder\\xadpro\\xadgram\\xadme Ener\\xadgie\\xadbe\\xadra\\xadtun\\xadgen Bun\\xaddes\\xadför\\xadde\\xadrung für ef\\xadfi\\xadzi\\xaden\\xadte Ge\\xadbäu\\xadde Internetportal Förderdatenbank www.foerderdatenbank.de Deutschland macht's effizient Machen Sie Ihr Zuhause, Ihr Unternehmen oder Ihre Kommune energieeffizient! Ob Heizungsoptimierung, energetisches Sanieren oder energieeffizientes Bauen: Wir fördern das! www.machts-effizient.de Seite empfehlen: linkedin facebook twitter xing Druckansicht Erneuerbare Energien im Überblick Tech\\xadno\\xadlo\\xadgi\\xaden So\\xadla\\xadr\\xadener\\xadgie Win\\xadd\\xadener\\xadgie an Land Win\\xadd\\xadener\\xadgie auf See Bio\\xadener\\xadgie Geo\\xadther\\xadmie Was\\xadser\\xadkraft Sys\\xadte\\xadmin\\xadte\\xadgra\\xadti\\xadon erneuerbarer Energien Recht und Po\\xadli\\xadtik Erneuerbare-\\u200bEnergien-\\u200bGe\\xadsetz (EEG) EEG 2017: Wett\\xadbe\\xadwerb\\xadli\\xadche Ver\\xadgü\\xadtung Mie\\xadter\\xadstrom: Ener\\xadgie\\xadwen\\xadde im ei\\xadge\\xadnen Haus Pi\\xadlotaus\\xadschrei\\xadbung Pho\\xadto\\xadvol\\xadtaik EEG: Er\\xadfah\\xadrungs\\xadbe\\xadrich\\xadte und Stu\\xaddi\\xaden Erneuerbare-\\u200bEnergien-\\u200bWärmegesetz Wei\\xadte\\xadre Ge\\xadset\\xadze und Ver\\xadord\\xadnun\\xadgen Erneuerbare Energien im Ver\\xadkehrs\\xadsek\\xadtor EU-\\u200bKli\\xadma-\\u200b und Ener\\xadgierah\\xadmen 2030 EU-\\u200bRicht\\xadli\\xadnie für Erneuerbare Energien Deutsch-\\u200bfran\\xadzö\\xadsi\\xadsches Bü\\xadro für die Ener\\xadgie\\xadwen\\xadde In\\xadter\\xadna\\xadtio\\xadnal For\\xadschung Ener\\xadge\\xadti\\xadsche Bio\\xadmas\\xadsenut\\xadzung Win\\xadd\\xadener\\xadgie auf See För\\xadde\\xadrung Über\\xadsicht der För\\xadder\\xadpro\\xadgram\\xadme Ener\\xadgie\\xadbe\\xadra\\xadtun\\xadgen Bun\\xaddes\\xadför\\xadde\\xadrung für ef\\xadfi\\xadzi\\xaden\\xadte Ge\\xadbäu\\xadde Ser\\xadvice Aktuelles Vi\\xaddeos Erneuerbare Energien in Zahlen Parlamentarische Anfragen Stel\\xadlung\\xadnah\\xadmen Weitere Dokumente Links © 2022 Bundesministerium für Wirtschaft und Klimaschutz www.bmwk.de | Impressum | Benutzerhinweise | Barrierefreiheit | Datenschutz \", 'text_length': 4118, 'word_count': 406, 'topic': 'energie', 'category': 'other', 'good_for_training': 'True', 'good_for_augmentation': 'True', 'annotation_type': '12.surfaced_domains', 'is_topic': True, 'label': 1, 'token_count': 683, 'url_path': 'EE/Navigation/DE/Foerderung/foerderung.html'}\n"
     ]
    }
   ],
   "source": [
    "# Explore the dataset\n",
    "print(dataset)\n",
    "print(dataset['train'][0]) "
   ]
  },
  {
   "cell_type": "markdown",
   "metadata": {},
   "source": [
    "## Training Phase"
   ]
  },
  {
   "cell_type": "markdown",
   "metadata": {},
   "source": [
    "The training phase involves:\n",
    "\n",
    "1. Collecting a corpus of URLs and their associated genres.\n",
    "2. Extracting n-grams from these URLs.\n",
    "3. Calculating the frequency of each n-gram for each genre.\n",
    "4. Estimating the interpolation coefficients (λ) using methods like information gain.\n",
    "5. Storing these frequencies and coefficients to be used during the prediction phase.\n"
   ]
  },
  {
   "cell_type": "code",
   "execution_count": 26,
   "metadata": {},
   "outputs": [],
   "source": [
    "import numpy as np\n",
    "from collections import defaultdict, Counter\n",
    "from sklearn.feature_selection import mutual_info_classif\n",
    "from sklearn.preprocessing import normalize"
   ]
  },
  {
   "cell_type": "code",
   "execution_count": 27,
   "metadata": {},
   "outputs": [],
   "source": [
    "################################# Extract n-grams from a URL #################################\n",
    "\n",
    "def extract_ngrams(url, n):\n",
    "    \"\"\"Extracts n-grams of length n from the given URL.\"\"\"\n",
    "    return [url[i:i+n] for i in range(len(url) - n + 1)]\n",
    "\n",
    "################################# Calculate frequencies of n-grams #################################\n",
    "\n",
    "def calculate_ngram_frequencies(urls, genres, n_range):\n",
    "    \"\"\"Calculates the frequency of n-grams for each genre from the given URLs and genres.\"\"\"\n",
    "    \n",
    "    ngram_freq = defaultdict(lambda: defaultdict(int))\n",
    "    genre_counts = Counter(genres)\n",
    "    \n",
    "    for url, genre in zip(urls, genres):\n",
    "        for n in n_range:\n",
    "            ngrams = extract_ngrams(url, n)\n",
    "            for ngram in ngrams:\n",
    "                ngram_freq[genre][ngram] += 1\n",
    "    \n",
    "    return ngram_freq, genre_counts\n",
    "\n",
    "################################# Calculate the mutual information for n-grams #################################\n",
    "\n",
    "def calculate_mutual_information(ngram_freq, genre_counts):\n",
    "    \"\"\"Calculates mutual information for n-grams using their frequencies and genre counts.\"\"\"\n",
    "    \n",
    "    ngrams = list({ngram for genre in ngram_freq for ngram in ngram_freq[genre]})\n",
    "    X = np.zeros((len(ngram_freq), len(ngrams)))\n",
    "    y = list(genre_counts.keys())\n",
    "\n",
    "    for i, genre in enumerate(y):\n",
    "        for j, ngram in enumerate(ngrams):\n",
    "            X[i, j] = ngram_freq[genre][ngram]\n",
    "    \n",
    "    mi = mutual_info_classif(X, y, discrete_features=True)\n",
    "    return dict(zip(ngrams, mi))\n",
    "\n",
    "################################# Estimate the interpolation coefficients #################################\n",
    "\n",
    "def estimate_interpolation_coefficients(ngram_mi, n_range):\n",
    "    \"\"\"Estimates interpolation coefficients based on mutual information of n-grams.\"\"\"\n",
    "    \n",
    "    lambda_sum = sum(ngram_mi.values())\n",
    "    lambdas = {n: 0 for n in n_range}\n",
    "    \n",
    "    for ngram, mi in ngram_mi.items():\n",
    "        n = len(ngram)\n",
    "        lambdas[n] += mi / lambda_sum\n",
    "    \n",
    "    # Normalize the coefficients\n",
    "    total = sum(lambdas.values())\n",
    "    for n in lambdas:\n",
    "        lambdas[n] /= total\n",
    "    \n",
    "    return lambdas\n",
    "\n",
    "################################# Main training function #################################\n",
    "\n",
    "def train_genre_classifier(urls, genres, n_range=(2, 3, 4)):\n",
    "    \"\"\"\n",
    "    Trains the genre classifier by calculating n-gram frequencies, mutual information,\n",
    "    and interpolation coefficients from the given URLs and genres.\n",
    "    \"\"\"\n",
    "    # Calculate n-gram frequencies and genre counts\n",
    "    ngram_freq, genre_counts = calculate_ngram_frequencies(urls, genres, n_range)\n",
    "    \n",
    "    # Calculate mutual information for n-grams\n",
    "    ngram_mi = calculate_mutual_information(ngram_freq, genre_counts)\n",
    "    \n",
    "    # Estimate interpolation coefficients\n",
    "    lambdas = estimate_interpolation_coefficients(ngram_mi, n_range)\n",
    "    \n",
    "    return ngram_freq, genre_counts, lambdas"
   ]
  },
  {
   "cell_type": "code",
   "execution_count": 29,
   "metadata": {},
   "outputs": [
    {
     "name": "stdout",
     "output_type": "stream",
     "text": [
      "URL path: serien/der-schatten\n",
      "URL path: 0\n"
     ]
    }
   ],
   "source": [
    "print(\"URL path:\", dataset[\"test\"][\"url_path\"][0])\n",
    "print(\"URL path:\", dataset[\"test\"][\"label\"][0])"
   ]
  },
  {
   "cell_type": "code",
   "execution_count": 30,
   "metadata": {},
   "outputs": [],
   "source": [
    "# urls = [\n",
    "        \n",
    "#     # Cannabis-related URLs\n",
    "#     \"bundesgesundheitsministerium.de/themen/cannabis/faq-cannabisgesetz\",\n",
    "#     \"de.wikipedia.org/wiki/Cannabis_als_Medizin\",\n",
    "#     \"cannabis-med.org/index.php?tpl=cannabis\",\n",
    "    \n",
    "#     # Children-related URLs\n",
    "#     \"paritaet-bw.de/was-ist-kindergrundsicherung\",\n",
    "#     \"kindergesundheit-info.de/themen/entwicklung/alle-entwicklungsbereiche/\",\n",
    "#     \"de.wikipedia.org/wiki/Kindergesundheit\",\n",
    "    \n",
    "#     # Energy-related URLs\n",
    "#     \"https://de.wikipedia.org/wiki/Erneuerbare-Energien-Gesetz\",\n",
    "#     \"bmu.de/themen/energie/erneuerbare-energien\",\n",
    "#     \"energiewende.de\",\n",
    "    \n",
    "#     # Other URLs\n",
    "#     \"https://en.wikipedia.org/wiki/Richard_Feynman\",\n",
    "#     \"example.com\",\n",
    "#     \"other-example.org\"\n",
    "# ]\n",
    "\n",
    "# genres = [\"cannabis\", \"cannabis\", \"cannabis\", \"children\", \"children\", \"children\", \"energy\", \"energy\", \"energy\", \"other\", \"other\", \"other\"]\n",
    "\n",
    "urls = dataset[\"train\"][\"url_path\"]\n",
    "labels = dataset[\"train\"][\"label\"]\n",
    "\n",
    "n_range = (2, 3, 4)\n",
    "\n",
    "# Train the model\n",
    "ngram_freq, genre_counts, lambdas = train_genre_classifier(urls, labels, n_range)\n"
   ]
  },
  {
   "cell_type": "markdown",
   "metadata": {},
   "source": [
    "## Prediction Phase"
   ]
  },
  {
   "cell_type": "markdown",
   "metadata": {},
   "source": [
    "The algorithm uses pre-computed (trained) feature sets and probabilities to classify a new instance (URL). It involves:\n",
    "\n",
    "1. Extracting n-grams from the URL.\n",
    "2. Using these n-grams to calculate genre probabilities based on pre-learned frequencies and interpolation coefficients.\n",
    "3. Applying backoff to handle unseen n-grams by considering shorter n-grams.\n",
    "4. Normalizing the resulting probabilities and selecting the most probable genre."
   ]
  },
  {
   "cell_type": "code",
   "execution_count": 31,
   "metadata": {},
   "outputs": [],
   "source": [
    "import numpy as np"
   ]
  },
  {
   "cell_type": "code",
   "execution_count": 32,
   "metadata": {},
   "outputs": [],
   "source": [
    "################################# Normalize the probabilities #################################\n",
    "\n",
    "def normalize_probs(probs):\n",
    "    \"\"\"Normalizes the probability dictionary so that the probabilities sum to 1.\"\"\"\n",
    "    total = sum(probs.values())\n",
    "    if total == 0:\n",
    "        return {k: 0 for k in probs}  # Return zero probabilities if total is zero\n",
    "    return {k: v / total for k, v in probs.items()}\n",
    "\n",
    "################################# Calculate the probability of an n-gram for a given genre #################################\n",
    "\n",
    "def calculate_ngram_prob(ngram, genre, ngram_freq, genre_counts, lambdas):\n",
    "    \"\"\"\n",
    "    Calculates the probability of an n-gram given a genre using pre-trained frequencies and interpolation coefficients.\n",
    "    \"\"\"\n",
    "    n = len(ngram)\n",
    "    lambda_n = lambdas.get(n, 0)\n",
    "    freq = ngram_freq[genre].get(ngram, 0)\n",
    "    total_ngrams = sum(ngram_freq[genre].values())\n",
    "    if total_ngrams == 0:\n",
    "        return 1e-10  # Return a small non-zero value if no n-grams are found\n",
    "    prob = (lambda_n * (freq / total_ngrams))\n",
    "    return prob\n",
    "\n",
    "################################# Extract n-grams from a URL #################################\n",
    "\n",
    "def extract_ngrams(url, n):\n",
    "    \"\"\"Extracts n-grams of length n from the given URL.\"\"\"\n",
    "    return [url[i:i+n] for i in range(len(url) - n + 1)]\n",
    "\n",
    "################################# Prediction function #################################\n",
    "\n",
    "def predict_genre(url, ngram_freq, genre_counts, lambdas, n_range=(2, 3, 4)):\n",
    "    \"\"\"\n",
    "    Predicts the genre of a given URL using pre-trained n-gram frequencies, genre counts, and interpolation coefficients.\n",
    "    \"\"\"\n",
    "    probs = {genre: np.log(count / sum(genre_counts.values())) if count > 0 else -np.inf for genre, count in genre_counts.items()}\n",
    "    Q = []\n",
    "    grams = set()\n",
    "    \n",
    "    for n in n_range:\n",
    "        Q.extend(extract_ngrams(url, n))\n",
    "    \n",
    "    while Q:\n",
    "        gram = Q.pop(0)\n",
    "        if any(gram in ngram_freq[genre] for genre in genre_counts):\n",
    "            grams.add(gram)\n",
    "        else:\n",
    "            if len(gram) > min(n_range):\n",
    "                Q.append(gram[:-1])\n",
    "    \n",
    "    if grams:\n",
    "        for genre in genre_counts:\n",
    "            for gram in grams:\n",
    "                ngram_prob = calculate_ngram_prob(gram, genre, ngram_freq, genre_counts, lambdas)\n",
    "                if ngram_prob > 0:\n",
    "                    probs[genre] += np.log(ngram_prob)\n",
    "    \n",
    "    probs = normalize_probs(probs)\n",
    "    predicted_genre = max(probs, key=probs.get)\n",
    "    \n",
    "    return predicted_genre, probs\n"
   ]
  },
  {
   "cell_type": "markdown",
   "metadata": {},
   "source": [
    "**Make Precitions:**"
   ]
  },
  {
   "cell_type": "code",
   "execution_count": 53,
   "metadata": {},
   "outputs": [],
   "source": [
    "urls_test = dataset[\"test\"][\"url_path\"]\n",
    "labels_test = dataset[\"test\"][\"label\"]"
   ]
  },
  {
   "cell_type": "code",
   "execution_count": 60,
   "metadata": {},
   "outputs": [
    {
     "name": "stdout",
     "output_type": "stream",
     "text": [
      "Test URL: EE/Redaktion/DE/Dossier/eeg.html\n",
      "True Category: 1\n",
      "Predicted Category: 1\n",
      "Category Probabilities: {1: 0.5908990751488342, 0: 0.40910092485116584}\n"
     ]
    }
   ],
   "source": [
    "# Predict the genre of a new URL\n",
    "url_id = 25\n",
    "new_url = urls_test[url_id]\n",
    "url_label = labels_test[url_id]\n",
    "print(\"Test URL:\", new_url)\n",
    "predicted_genre, probabilities = predict_genre(new_url, ngram_freq, genre_counts, lambdas, n_range)\n",
    "\n",
    "print(\"True Category:\", url_label)\n",
    "print(\"Predicted Category:\", predicted_genre)\n",
    "print(\"Category Probabilities:\", probabilities)"
   ]
  },
  {
   "cell_type": "code",
   "execution_count": 51,
   "metadata": {},
   "outputs": [
    {
     "name": "stderr",
     "output_type": "stream",
     "text": [
      "Map: 100%|██████████| 46/46 [00:07<00:00,  6.42 examples/s]\n"
     ]
    }
   ],
   "source": [
    "def add_genre_prediction(example):\n",
    "    prediction, probabilities = predict_genre(example[\"url_path\"], ngram_freq, genre_counts, lambdas)\n",
    "    example[\"preds\"] = prediction\n",
    "    example[\"probas\"] = list(probabilities.values())\n",
    "    return example\n",
    "\n",
    "dataset[\"test\"] = dataset[\"test\"].map(add_genre_prediction)"
   ]
  },
  {
   "cell_type": "code",
   "execution_count": 52,
   "metadata": {},
   "outputs": [
    {
     "data": {
      "text/plain": [
       "{'_id': '64a0946e749484eec8578700',\n",
       " 'batch_id': 16,\n",
       " 'domain': 'zdf.de',\n",
       " 'view_url': 'zdf.de/serien/der-schatten',\n",
       " 'lang': 'de',\n",
       " 'text': ' Zum Hauptinhalt springen Zur Suche springen Zweites Deutsches Fernsehen Menü Hauptnavigation Startseite Rubriken Filme Serien Comedy & Satire heute-Nachrichten Politik & Gesellschaft Sport Dokus & Reportagen Kultur ZDFtivi für Kinder Sendungen A-Z TV-Programm Karriere im ZDF Barrierefrei Live-TV Sendung verpasst Dunkler Modus Heller Modus Suche Mein ZDF Meine Merkliste Weiterschauen Benachrichtigungen Mein ZDFtivi Einstellungen Anmelden abmelden Suche Suchbegriff Suchen Gesamtes Angebot ZDF ZDFinfo ZDFneo ZDFheute ZDFkultur ZDFtivi 3sat Arte Funk Kika Phoenix Weitere Filter von bis ganze Sendungen AD UT DGS Thrillerserie Thrillerserie 6 Folgen Sie sind hier: zdf.de Serien Der Schatten Eine dunkle Prophezeiung Journalistin Norah wagt in Wien einen Neuanfang. Kaum angekommen, prophezeit ihr eine Bettlerin, sie werde einen Mann töten. Sie schenkt dem Vorfall keinen Glauben – bis merkwürdige Dinge geschehen. Der Schatten - Die Prophezeiung Norahs Welt droht aus den Fugen zu geraten. Videolänge S01 F01 · 39 min · Serien Alle Folgen Der Schatten - Darum geht\\'s Hier gibt\\'s einen ersten Einblick in die Thrillerserie \"Der Schatten\". 25.06.2023 Videolänge 1 min · Serien Trailer Jetzt abspielen Der Schatten - Die Prophezeiung Untertitel Audiodeskription Norahs Welt droht aus den Fugen zu geraten. 2023 Videolänge S01 F01 · 39 min · Serien UT AD Jetzt abspielen Der Schatten - Wunderland Untertitel Audiodeskription Der Tod der Bettlerin wirft für Norah weitere Fragen auf. 2023 Videolänge S01 F02 · 43 min · Serien UT AD Jetzt abspielen Der Schatten - Forever Untertitel Audiodeskription Die unerklärlichen Ereignisse um Norah spitzen sich weiter zu. 2023 Videolänge S01 F03 · 45 min · Serien Vorab UT AD Jetzt abspielen Der Schatten - Schuld Untertitel Audiodeskription Norah versucht, die rätselhaften Ereignisse zu verstehen. 2023 Videolänge S01 F04 · 41 min · Serien Vorab UT AD Jetzt abspielen Der Schatten - Chaos Untertitel Audiodeskription Der 13. August rückt immer näher. 2023 Videolänge S01 F05 · 41 min · Serien Vorab UT AD Jetzt abspielen Weitere laden TV-Sendetermine So, 02.07 | 20:15 Der Schatten So, 02.07 | 21:00 Der Schatten So, 09.07 | 20:15 Der Schatten Weitere laden Volle Kanne - Mediathek-Tipps im Juni von Film- und Serienreporter Patrick Lipke Videolänge 8 min · Gesellschaft neoriginal - Serien Der Schatten Thrillerserie: Eine Bettlerin prophezeit der jungen Journalistin Norah, dass sie am 13. August am Wiener Prater einen Mann namens Arthur Grimm umbringen wird. Serien Erste Folge Trailer Ich dich auch! Comedy-Serie über ein junges Paar, das zwischen Pizzaschachteln und Socken sein Paradies gefunden hat. Serien Erste Folge Trailer WatchMe – Sex sells Ob \"Girlfriend Experience\", \"DickRating\" oder Livestream: Auf \"WatchMe\" kann man alles haben – wenn das Geld stimmt. Doch schnell werden die Grenzen der verheißungsvollen Erotik-Plattform klar. Serien Erste Folge Trailer Die Macht der Kränkung In 2 Staffeln erzählt die Anthologie-Dramaserie von Menschen und von Kränkungen, die schließlich drastische Folgen haben. Serien Erste Folge Trailer The Gymnasts Nach einer schweren Verletzung kann die 15-jährige Kunstturnerin Martina (Alessia De Falco) wieder an einem Wettkampf teilnehmen. Dafür muss sie über ihre körperlichen und mentalen Grenzen gehen. Serien Erste Folge Trailer I don\\'t work here Ob Generationenkonflikte, unbewusster Alltagsrassismus oder die fehlende Privatsphäre, wenn man bei den Schwiegereltern im Haus einzieht – all das wird in dieser Comedy-Serie humorvoll thematisiert. Serien Erste Folge Trailer Weitere laden Footer mit Inhaltsangabe nach oben Mehr ZDF ZDFapps Smart TV ZDFtext Livestreams Sendungen A-Z TV-Programm ZDF woanders ZDF YouTube ZDF Facebook ZDF Twitter ZDF Instagram Service Tickets Zuschauerservice Kontakt zum ZDF Sitemap Hilfe Das ZDF ZDF Unternehmen Karriere Presseportal Werbefernsehen Mainzelmännchen Partner Nutzungsbedingungen Datenschutz Datenschutzeinstellungen Impressum Zur Merkliste hinzugefügt Merken beendet Bewertet! Bewertung entfernt Zur Merkliste hinzugefügt Merken beendet Embed-Code kopieren HTML-Code zum Einbetten des Videos in der Zwischenablage gespeichert. Bitte beachten Sie die Nutzungsbedingungen des ZDF. Mein ZDF - Login Mit * markierte Felder sind Pflichtfelder Weiter als ... Mein ZDF - Registrierung Neues Konto anlegen Neues Konto anlegen Login mit ARD-Konto Wenn du bereits ein ARD-Konto angelegt hast, kannst du dich damit hier einloggen. Mit ARD-Konto anmelden Mein ZDF – Neues Konto anlegen Bei der Eingabe des Passwortes ist ein Fehler aufgetreten. Bitte überprüfe die Schreibweise und versuche es erneut. Bitte wähle deinen Anzeigenamen. Bitte wählen Sie einen Benutzernamen mit weniger als 256 Zeichen. Bitte trage eine E-Mail-Adresse ein. Bei der Eingabe der E-Mail oder dem Passwort ist ein Fehler aufgetreten. Bitte überprüfe die Schreibweise und versuche es erneut. Bei der Eingabe der E-Mail oder dem Passwort ist ein Fehler aufgetreten. Bitte überprüfe die Schreibweise und versuche es erneut. Bitte gib eine valide E-Mail Adresse ein. Sie muss ein @ beinhalten und eine existierende Domain (z.B. zdf.de) haben. Das Passwort muss mindestens 8 Zeichen lang sein. Das Passwort muss mindestens einen Großbuchstaben enthalten. Das Passwort muss mindestens einen Kleinbuchstaben enthalten. Das Passwort muss mindestens einen Kleinbuchstaben enthalten. Das Passwort muss mindestens 8 Zeichen lang sein und mindestens eine Zahl enthalten. Bitte stimme unseren Nutzungsbedingungen zu. Bitte stimme unserer Datenschutzerklärung zu. Bitte gib dein Einverständnis. Bitte akzeptiere die Datenschutzbestimmungen. Leider hat die Registrierung nicht funktioniert. Bitte überprüfe deine Angaben. Benutzername Das Passwort muss mindestens 8 Zeichen lang sein, mindestens einen Großbuchstaben und eine Ziffer enthalten. Ich akzeptiere die Nutzungsbedingungen des ZDF* Ich habe die Datenschutzerklärung zur Kenntnis genommen* Ich bin einverstanden, dass mein Kind \\'Mein ZDFtivi\\' nutzt.* Ich akzeptiere die Datenschutzbestimmungen zur Nutzung von \\'Mein ZDFtivi\\'* Pflichtfelder * Registrieren Passwort vergessen? Hinweis: Bitte trage hier die E-Mail-Adresse ein, mit der du dich für dein ZDF-Konto registriert hast. Passwort vergessen? Falls wir die angegebene Email-Adresse kennen, erhältst du in Kürze eine E-Mail von uns mit Infos, wie du dein Passwort zurücksetzen kannst. Neues Passwort vergeben Mit * markierte Felder sind Pflichtfelder Du kannst jetzt dein neues Passwort festlegen. Passwort geändert Dein Passwort wurde erfolgreich geändert. Du kannst dich ab sofort mit dem neuen Passwort anmelden. Weiter Deine Registrierung war erfolgreich Willkommen bei \"Mein ZDF\"! Falls wir die angegebene Email-Adresse kennen, erhältst du von uns in Kürze eine E-Mail. Bitte bestätige den Link in dieser E-Mail innerhalb von 24 Stunden, um deine Registrierung abzuschließen. Registrierung wird geprüft Wir bitten um einen Moment Geduld, bis die Aktivierung abgeschlossen ist. Deine Registrierung war erfolgreich Schön, dass du hier bist. Du kannst nun \"Mein ZDF\" in vollem Umfang nutzen. Weiter Uups, die Registrierung ist fehlgeschlagen Die Aktivierung deines Accounts hat leider nicht geklappt. Möglicherweise ist der Aktivierungslink bereits abgelaufen oder es gibt gerade technische Probleme. Nochmal versuchen Uups! Die Anmeldung ist im Moment leider nicht möglich. Bitte versuche es zu einem späteren Zeitpunkt noch einmal. Mein ZDFtivi - Einverständniserklärung Sie müssen jetzt ein Kinderprofil anlegen, um Ihren Account für „Mein ZDFtivi“ verwenden zu können. Mein ZDFtivi - Spitzname wählen Hier kann sich Ihr Kind einen Spitznamen geben. Mein ZDFtivi - Figur wählen Mein ZDFtivi - Profil erfolgreich erstellt! Viel Spaß mit Mein ZDFtivi! Weiteres Profil anlegen Zu \\'Mein ZDFtivi\\' Sie haben sich mit diesem Gerät ausgeloggt. Schließen Sie haben sich von einem anderen Gerät aus ausgeloggt, Sie werden automatisch ausgeloggt. Schließen Ihr Account wurde gelöscht, Sie werden automatisch ausgeloggt. Schließen Altersprüfung durchführen? Um Sendungen mit einer Altersbeschränkung zu jeder Tageszeit anzuschauen, kannst du jetzt eine Altersprüfung durchführen. Dafür benötigst du dein Ausweisdokument. Diesen Hinweis in Zukunft nicht mehr anzeigen. Nein, danke Zur Altersprüfung Vorsicht Du bist dabei, den Kinderbereich zu verlassen. Möchtest du das wirklich? Wenn du den Kinderbereich verlässt, bewegst du dich mit dem Profil deiner Eltern in der ZDFmediathek. Ja, den Kinderbereich verlassen Nein, im Kinderbereich bleiben Hinweis! Du wechselst in den Kinderbereich und bewegst dich mit deinem Kinderprofil weiter. Diesen Hinweis in Zukunft nicht mehr anzeigen. Weiter zum Kinderbereich Datenschutzeinstellungen An dieser Stelle würden wir dir gerne die Datenschutzeinstellungen anzeigen. Entweder hast du einen Ad-Blocker oder ähnliches in deinem Browser aktiviert, welcher dies verhindert, oder deine Internetverbindung ist derzeit gestört. Falls du die Datenschutzeinstellungen sehen und bearbeiten möchtest, prüfe, ob ein Ad-Blocker oder ähnliches in deinem Browser aktiv ist und schalte es aus. So lange werden die standardmäßigen Einstellungen bei der Nutzung der ZDFmediathek verwendet. Dies bedeutet, das die Kategorien \"Erforderlich\" und \"Erforderliche Erfolgsmessung\" zugelassen sind. Weitere Details erfährst du in unserer Datenschutzerklärung. Datenschutzeinstellungen An dieser Stelle würden wir dir gerne die Datenschutzeinstellungen anzeigen. Möglicherweise hast du einen Ad/Script/CSS/Cookiebanner-Blocker oder ähnliches in deinem Browser aktiviert, welcher dies verhindert. Falls du die Webseite ohne Einschränkungen nutzen möchtest, prüfe, ob ein Plugin oder ähnliches in deinem Browser aktiv ist und schalte es aus. ',\n",
       " 'text_length': 9757,\n",
       " 'word_count': 1369,\n",
       " 'topic': 'energie',\n",
       " 'category': 'news',\n",
       " 'good_for_training': 'True',\n",
       " 'good_for_augmentation': 'True',\n",
       " 'annotation_type': '04.urls-with-title',\n",
       " 'is_topic': False,\n",
       " 'label': 0,\n",
       " 'token_count': 2051,\n",
       " 'url_path': 'serien/der-schatten',\n",
       " 'preds': 0,\n",
       " 'probas': [0.4899566572509679, 0.5100433427490321]}"
      ]
     },
     "execution_count": 52,
     "metadata": {},
     "output_type": "execute_result"
    }
   ],
   "source": [
    "dataset[\"test\"][0]"
   ]
  },
  {
   "cell_type": "markdown",
   "metadata": {},
   "source": [
    "## Evaluate"
   ]
  },
  {
   "cell_type": "code",
   "execution_count": 61,
   "metadata": {},
   "outputs": [],
   "source": [
    "labels = dataset[\"test\"][\"label\"]\n",
    "preds = dataset[\"test\"][\"preds\"]"
   ]
  },
  {
   "cell_type": "code",
   "execution_count": 62,
   "metadata": {},
   "outputs": [
    {
     "name": "stdout",
     "output_type": "stream",
     "text": [
      "Accuracy: 89.13%\n",
      "Precision: 0.85\n",
      "Recall: 0.96\n",
      "F1 Score: 0.90\n"
     ]
    }
   ],
   "source": [
    "from sklearn.metrics import accuracy_score, precision_score, recall_score, f1_score\n",
    "\n",
    "# Assuming labels and preds are lists or arrays containing the true labels and predicted labels respectively\n",
    "accuracy = accuracy_score(labels, preds)\n",
    "precision = precision_score(labels, preds)\n",
    "recall = recall_score(labels, preds)\n",
    "f1 = f1_score(labels, preds)\n",
    "\n",
    "print(\"Accuracy: {:.2f}%\".format(accuracy * 100))\n",
    "print(\"Precision: {:.2f}\".format(precision))\n",
    "print(\"Recall: {:.2f}\".format(recall))\n",
    "print(\"F1 Score: {:.2f}\".format(f1))"
   ]
  },
  {
   "cell_type": "code",
   "execution_count": 63,
   "metadata": {},
   "outputs": [
    {
     "data": {
      "image/png": "[encoded data removed]",
      "text/plain": [
       "<Figure size 800x600 with 2 Axes>"
      ]
     },
     "metadata": {},
     "output_type": "display_data"
    }
   ],
   "source": [
    "import seaborn as sns\n",
    "import matplotlib.pyplot as plt\n",
    "from sklearn.metrics import confusion_matrix\n",
    "\n",
    "# Assuming labels and preds are lists or arrays containing the true labels and predicted labels respectively\n",
    "cm = confusion_matrix(labels, preds)\n",
    "\n",
    "# Create a seaborn heatmap with annotations\n",
    "plt.figure(figsize=(8, 6))\n",
    "sns.heatmap(cm, annot=True, fmt=\"d\", cmap=\"Oranges\", cbar=True)\n",
    "\n",
    "# Add labels and title\n",
    "plt.xlabel(\"Predicted labels\")\n",
    "plt.ylabel(\"True labels\")\n",
    "plt.title(\"Confusion Matrix\")\n",
    "\n",
    "# Show plot\n",
    "plt.show()\n"
   ]
  },
  {
   "cell_type": "code",
   "execution_count": null,
   "metadata": {},
   "outputs": [],
   "source": []
  }
 ],
 "metadata": {
  "kernelspec": {
   "display_name": "s2j-content-analysis",
   "language": "python",
   "name": "python3"
  },
  "language_info": {
   "codemirror_mode": {
    "name": "ipython",
    "version": 3
   },
   "file_extension": ".py",
   "mimetype": "text/x-python",
   "name": "python",
   "nbconvert_exporter": "python",
   "pygments_lexer": "ipython3",
   "version": "3.10.8"
  }
 },
 "nbformat": 4,
 "nbformat_minor": 2
}
