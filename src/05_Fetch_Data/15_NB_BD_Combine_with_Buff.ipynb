{
 "cells": [
  {
   "cell_type": "markdown",
   "metadata": {},
   "source": [
    "## Combine Dataset with Training Data Buff"
   ]
  },
  {
   "cell_type": "code",
   "execution_count": 1,
   "metadata": {},
   "outputs": [],
   "source": [
    "import os\n",
    "import sys\n",
    "\n",
    "# Needed to import modules from parent directory\n",
    "module_path = os.path.abspath(os.path.join('..'))\n",
    "if module_path not in sys.path:\n",
    "    sys.path.append(module_path)"
   ]
  },
  {
   "cell_type": "code",
   "execution_count": 2,
   "metadata": {},
   "outputs": [
    {
     "name": "stderr",
     "output_type": "stream",
     "text": [
      "/home/jschelb/.pyenv/versions/3.10.8/envs/s2j-content-analysis/lib/python3.10/site-packages/tqdm/auto.py:21: TqdmWarning: IProgress not found. Please update jupyter and ipywidgets. See https://ipywidgets.readthedocs.io/en/stable/user_install.html\n",
      "  from .autonotebook import tqdm as notebook_tqdm\n"
     ]
    }
   ],
   "source": [
    "from collections import Counter\n",
    "from datasets import load_from_disk, Dataset, ClassLabel, Value, Features, load_dataset\n",
    "from transformers import AutoTokenizer\n",
    "import numpy as np\n",
    "import pandas as pd\n",
    "import random\n",
    "import torch"
   ]
  },
  {
   "cell_type": "code",
   "execution_count": 3,
   "metadata": {},
   "outputs": [],
   "source": [
    "import logging\n",
    "from transformers import logging as transformers_logging\n",
    "\n",
    "# Set the logging level to error for transformers, which will suppress warnings\n",
    "transformers_logging.set_verbosity_error()\n"
   ]
  },
  {
   "cell_type": "markdown",
   "metadata": {},
   "source": [
    "**Load Examples:**"
   ]
  },
  {
   "cell_type": "code",
   "execution_count": 4,
   "metadata": {},
   "outputs": [],
   "source": [
    "topic = \"cannabis\" #\"energie\" #\"kinder\" \"cannabis\""
   ]
  },
  {
   "cell_type": "code",
   "execution_count": 5,
   "metadata": {},
   "outputs": [],
   "source": [
    "columns = ['_id', 'batch_id', 'domain', 'view_url', 'lang', 'text', 'text_length', 'word_count', 'topic', 'category', 'good_for_training', 'good_for_augmentation','annotation_type', 'is_topic']"
   ]
  },
  {
   "cell_type": "code",
   "execution_count": 6,
   "metadata": {},
   "outputs": [],
   "source": [
    "def select_columns(dataset: Dataset, columns_to_keep: list) -> Dataset:\n",
    "    \"\"\"Returns a new dataset containing only the specified columns.\"\"\"\n",
    "    # Directly compute columns to remove and apply removal\n",
    "    return dataset.remove_columns([col for col in dataset.column_names if col not in columns_to_keep])\n"
   ]
  },
  {
   "cell_type": "code",
   "execution_count": 7,
   "metadata": {},
   "outputs": [
    {
     "name": "stdout",
     "output_type": "stream",
     "text": [
      "Dataset({\n",
      "    features: ['_id', 'batch_id', 'domain', 'view_url', 'lang', 'text', 'text_length', 'word_count', 'topic', 'category', 'good_for_training', 'good_for_augmentation', 'annotation_type', 'is_topic'],\n",
      "    num_rows: 49640\n",
      "})\n",
      "{'_id': '64a0946b749484eec84dbcd0', 'batch_id': 16, 'domain': 'bilendi.com', 'view_url': \"surveyd.bilendi.com/survey/selfserve/53b/2306124#!'\", 'lang': 'de', 'text': \" Die URL oben enthält nicht die für diese Umfrage erforderlichen Informationen. Die korrekte URL finden Sie in Ihrer Einladungs-E-Mail. Wenn die Probleme weiterhin auftreten, wenden Sie sich bitte an die dort angegebene Person. ERROR: SE-02 Variable list has invalid value '' \", 'text_length': 276, 'word_count': 43, 'topic': 'cannabis', 'category': 'other', 'good_for_training': 'False', 'good_for_augmentation': 'True', 'annotation_type': 'domain_discarded', 'is_topic': False}\n"
     ]
    }
   ],
   "source": [
    "dataset_orig = load_from_disk(f\"../../data/tmp/processed_dataset_{topic}\")\n",
    "dataset_orig = dataset_orig.select_columns(columns)\n",
    "\n",
    "print(dataset_orig)\n",
    "print(dataset_orig[1])"
   ]
  },
  {
   "cell_type": "code",
   "execution_count": 8,
   "metadata": {},
   "outputs": [
    {
     "data": {
      "text/plain": [
       "Dataset({\n",
       "    features: ['_id', 'batch_id', 'domain', 'view_url', 'lang', 'text', 'text_length', 'word_count', 'topics', 'topic', 'category', 'good_for_training', 'good_for_augmentation', 'annotation_type', 'is_topic'],\n",
       "    num_rows: 150\n",
       "})"
      ]
     },
     "execution_count": 8,
     "metadata": {},
     "output_type": "execute_result"
    }
   ],
   "source": [
    "dataset_buff = load_from_disk(f\"../../data/tmp/processed_dataset_{topic}_buff\")\n",
    "dataset_buff"
   ]
  },
  {
   "cell_type": "code",
   "execution_count": 9,
   "metadata": {},
   "outputs": [
    {
     "name": "stdout",
     "output_type": "stream",
     "text": [
      "Dataset({\n",
      "    features: ['_id', 'batch_id', 'domain', 'view_url', 'lang', 'text', 'text_length', 'word_count', 'topic', 'category', 'good_for_training', 'good_for_augmentation', 'annotation_type', 'is_topic'],\n",
      "    num_rows: 150\n",
      "})\n",
      "{'_id': 'dummy_id_0', 'batch_id': 99999, 'domain': 'www.wa.de', 'view_url': 'https://www.wa.de/nordrhein-westfalen/cannabis-legalisierung-nrw-hanf-gras-ibbenbueren-entkriminalisierung-anbau-drogen-polizei-kritik-92064527.html', 'lang': 'de', 'text': 'Legalisierung von Cannabis: Hanf aus NRW könnte Problem lösen Hamm NRW Lokales Politik Sport Stellenmarkt ePaper Kategorien Hamm NRW Münster Essen Lokales Werne Bönen Bergkamen Drensteinfurt Welver Sport Hamm Bönen Drensteinfurt Fußball WA-Tipp Tabellen Bundesliga-Tippspiel Verbraucher Rückrufe & Warnungen Testberichte Supermärkte & Discounter Abo Print-Angebote Digital-Angebote Kombi-Angebote Abo-Services Wirtschaft Politik Karl Lauterbach Fotos & Videos Kultur Veranstaltungen Leben Auto Reise Karriere Gesundheit Wohnen Digital Tiere Geld Games Serien Einfach Tasty Buchtipps Anzeigen Gewerbliche Kunden Private Anzeigen Mediadaten Ansprechpartner Stellenanzeigen Autoanzeigen Traueranzeigen Über uns Ansprechpartner Impressum Jobs AGB Datenschutz Newsletter FAQ Netiquette Produktempfehlung wa.de NRW Legalisierung von Cannabis: Hanf aus NRW könnte Problem lösen Stand: 03.02.2023, 15:15 Uhr Von: Marvin K. Hoffmann Kommentare Drucken Noch ist Cannabis in Deutschland nicht legal. Es soll aber entkriminalisiert werden. Ein Gartenbauunternehmen aus NRW könnte ein Anbau-Problem lösen. Ibbenbüren/Hamm – „Ich rauch‘ mein Ganja den ganzen Tag“, rappt Samy Deluxe. Den Kindern der 90er ist der singende Poet aus Hamburg sicherlich ein Begriff. Einem breiteren Publikum wurde er vielleicht mit „Weck mich auf“ bekannt. Tut hier aber auch nichts zur Sache. In diesem Text geht es nämlich nicht um die Kunst des Sprech-Gesangs – sondern um die Legalisierung der Droge Cannabis bzw. Hanf (=Ganja). Und da kommt ausgerechnet eine Gärtnerei aus Ibbenbüren ( NRW ) ins Spiel. Gartenbauunternehmen Hortensien Spieker aus Ibbenbüren möchte Cannabis anbauen Das Gartenbauunternehmen Hortensien Spieker aus Ibbenbüren will einem Bericht der WN zufolge Cannabis-Pflanzen anbauen, falls die von der Ampelkoalition in Deutschland versprochene Marihuana-Entkriminalisierung in Kraft tritt. Dann nämlich soll der Verkauf von Cannabis-Produkten nach strengen Vorgaben erlaubt sein – und Spieker aus Ibbenbüren möchte Teil des Marktes sein. „Als seriöser und erfahrener Pflanzenzüchter möchten wir im Zuge der Legalisierung eine hochwertige Premium-Alternative zum Schwarzmarkt bieten“, sagt Tim Spieker demnach. Der Firmenchef scheint voll und ganz hinter der Hanf-Legalisierung zu stehen. Darum sei er auch Gründungsmitglied einer neuen Produktionsallianz für Cannabis. „Ich denke, dass mündige Bürger selbst entscheiden können sollten, ob sie Cannabis konsumieren“, meint er. Die Debatte ist längst nicht neu. „Wieso gibt‘s Alkohol im Supermarkt / und Ganja nur illegal beim Dealer?“, fragte sich schließlich auch schon Samy Deluxe in seinem Song. Hanf-Konsumenten fühlen sich zu Unrecht kriminalisiert. „Der Hanf hat den Menschen Jahrtausende legal begleitet. Seit ein paar Jahrzehnten gibt es diese Prohibition – und sie hat viele Probleme geschaffen“, sagt Georg Wurth, Sprecher des Deutschen Hanfverbands, im Gespräch mit wa.de. Hanfverband fordert Entkriminalisierung von Cannabis: „Schwarzmarkt und Kriminalität gefördert“ „Rauche so lange, bis ich selbst nicht mehr mag. / Tu‘ niemandem was und werde trotzdem angeklagt“, rappt Samy Deluxe in seinem Song weiter und spricht damit den Befürwortern einer Cannabis-Legalisierung aus der Seele. „Aufgrund der Prohibition haben wir das Problem, dass Schwarzmarkt und Kriminalität gefördert werden“, sagt Georg Wurth. Meine news Nach Schottergartenverbot kommt nun auch Kunstrasenverbot lesen Rekordmenge an Kokain-Funden in 2023 lesen Buschmann hält nichts von generellem Sexkauf-Verbot lesen Der Druck der Sucht: Alkoholiker aus NRW nennt sein größtes Problem lesen Holland-Markt am 7. Januar in NRW: Frikandeln, Tulpen und Kibbeling in Menden lesen Blick von außen: Löst ein AfD-Verbot das deutsche Rechtsextremismus-Problem? lesen „Bürger, die niemanden etwas tun, werden strafrechtlich verfolgt“, meint der Hanfverband-Sprecher. Für den Staat entstünden dadurch hohe Kosten, um die Repressionsmaßnahmen durchzusetzen. Erst unlängst wurde eine Cannabis-Plantage in Werne an der Lippe entdeckt . „Wir rechnen da mit über einer Milliarde Euro allein für die Polizei-Arbeit. Zudem lassen wir uns Steuereinnahmen entgehen“, erklärt Wurth. Hinzu kommt ein weiteres großes Problem. Eines, das unter anderem Hortensien Spieker aus Ibbenbüren lösen könnte. Hortensien Spieker aus Ibbenbüren würde Cannabis in Gewächshaus anbauen Das Gartenbauunternehmen zählt schließlich zu den Profis, würde das Cannabis in Gewächshäusern auf einer Fläche von einem Hektar anbauen. Rund 15\\u2005Menschen sollen dort arbeiten, für schnelles Wachstum würden die Pflanzen mit LED-Lampen bestrahlt, die ihren Strom unter anderem aus einem eigenen Öko-Kraftwerk erhalten sollen, heißt es. Echt grünes Gras also. Der Hanfverband befürwortet das. Amsterdam schränkt Kiffer und Rotlicht-Tourismus ein Fotostrecke ansehen „Die Umstände des Schwarzmarkts führen dazu, dass man problematischen Stoff bekommt. Die Blüten werden zum Teil gestreckt. Der professionelle Anbau bedeutet Gesundheitsschutz – der Schwarzmarkt baut nicht sauber an“, erklärt Hanfverband-Sprecher Wurth auf Nachfrage von wa.de. Zudem würden Schwarzhändler oft synthetische Cannabinoide nutzen, „um die Wirkung von wirkungslosen CBD-Blüten zu pimpen“, sagt Wurth. Die Gefahr: „Die Kunden auf dem Schwarzmarkt wissen nicht, worauf sie sich einlassen. Das alles hat man auf dem regulierten Markt nicht.“ Berliner Start-Up soll Cannabis aus Ibbenbüren (NRW) vermarkten Für Hortensien Spieker aus Ibbenbüren spielte aber sicher nicht nur der Verbraucherschutz, sondern auch die Wirtschaftlichkeit eine Rolle – und die hat es in sich. Die angebauten Pflanzen will Spieker demnach an Cannovum verkaufen. Das Berliner Start-Up rechne damit, dass in einem liberalisierten Cannabis-Markt zu Anfang rund 100\\u2005Tonnen per Jahr gebraucht würden, was der Branche einen Umsatz von acht\\u2005Milliarden Euro bringen könnte. „Die Zusammenarbeit von Unternehmen ist entscheidend, um den legalen Cannabisanbau zu fördern“, sagt Pia Martens, Chefin und Gründerin von Cannovum. Der Grundstein jedenfalls scheint gelegt in Ibbenbüren, jetzt muss nur noch die Politik liefern – damit nicht mehr nur Samy Deluxe „Ich rauch‘ mein Ganja den ganzen Tag“ singen kann. Hinweis der Redaktion: Cannabis ist ebenso mit Vorsicht zu behandeln wie andere Drogen. Wer Probleme hat, kann sich jederzeit anonym und vertrauensvoll an die Sucht-und-Drogen-Hotline wenden unter 01806 - 313 031 oder findet auch Hilfe bei der Deutschen Hauptstelle für Suchtfragen . Auch interessant Kommentare Kontakt Impressum AGB Datenschutz Utiq verwalten Jobs FAQ Newsletter WA Mediengruppe', 'text_length': 6608, 'word_count': 904, 'topic': 'cannabis', 'category': 'buff', 'good_for_training': 'True', 'good_for_augmentation': 'True', 'annotation_type': 'buff', 'is_topic': True}\n"
     ]
    }
   ],
   "source": [
    "dataset_buff = load_from_disk(f\"../../data/tmp/processed_dataset_{topic}_buff\")\n",
    "dataset_buff = dataset_buff.select_columns(columns)\n",
    "print(dataset_buff)\n",
    "print(dataset_buff[0])"
   ]
  },
  {
   "cell_type": "markdown",
   "metadata": {},
   "source": [
    "**Merge Datasets:**"
   ]
  },
  {
   "cell_type": "code",
   "execution_count": 10,
   "metadata": {},
   "outputs": [],
   "source": [
    "from datasets import concatenate_datasets"
   ]
  },
  {
   "cell_type": "code",
   "execution_count": 11,
   "metadata": {},
   "outputs": [],
   "source": [
    "dataset = concatenate_datasets([dataset_orig, dataset_buff])"
   ]
  },
  {
   "cell_type": "code",
   "execution_count": 12,
   "metadata": {},
   "outputs": [
    {
     "data": {
      "text/plain": [
       "{'_id': '64a0946b749484eec84dbcc0',\n",
       " 'batch_id': 16,\n",
       " 'domain': 'bilendi.com',\n",
       " 'view_url': 'surveyd.bilendi.com/survey/selfserve/53b/2306124',\n",
       " 'lang': 'de',\n",
       " 'text': \" Die URL oben enthält nicht die für diese Umfrage erforderlichen Informationen. Die korrekte URL finden Sie in Ihrer Einladungs-E-Mail. Wenn die Probleme weiterhin auftreten, wenden Sie sich bitte an die dort angegebene Person. ERROR: SE-02 Variable list has invalid value '' \",\n",
       " 'text_length': 276,\n",
       " 'word_count': 43,\n",
       " 'topic': 'cannabis',\n",
       " 'category': 'other',\n",
       " 'good_for_training': 'False',\n",
       " 'good_for_augmentation': 'True',\n",
       " 'annotation_type': 'domain_discarded',\n",
       " 'is_topic': False}"
      ]
     },
     "execution_count": 12,
     "metadata": {},
     "output_type": "execute_result"
    }
   ],
   "source": [
    "dataset[0]"
   ]
  },
  {
   "cell_type": "code",
   "execution_count": 13,
   "metadata": {},
   "outputs": [
    {
     "name": "stdout",
     "output_type": "stream",
     "text": [
      "Dataset({\n",
      "    features: ['_id', 'batch_id', 'domain', 'view_url', 'lang', 'text', 'text_length', 'word_count', 'topic', 'category', 'good_for_training', 'good_for_augmentation', 'annotation_type', 'is_topic', 'label'],\n",
      "    num_rows: 49975\n",
      "})\n"
     ]
    }
   ],
   "source": [
    "# Convert boolean labels to integers (True to 1, False to 0)\n",
    "dataset = dataset.map(lambda example: {'label': int(example['is_topic'])})\n",
    "\n",
    "# Define a ClassLabel feature for the converted integer labels\n",
    "class_label_feature = ClassLabel(num_classes=2, names=['False', 'True'])\n",
    "\n",
    "# Update the features of the dataset\n",
    "new_features = dataset.features.copy()\n",
    "new_features['label'] = class_label_feature\n",
    "\n",
    "# Cast the dataset to the new features\n",
    "dataset = dataset.cast(new_features)\n",
    "\n",
    "# Verify the dataset\n",
    "print(dataset)"
   ]
  },
  {
   "cell_type": "code",
   "execution_count": 14,
   "metadata": {},
   "outputs": [
    {
     "name": "stdout",
     "output_type": "stream",
     "text": [
      "Label Names: ['False', 'True']\n",
      "Label Mapping: {0: 'False', 1: 'True'}\n",
      "Label for index 0: False\n"
     ]
    }
   ],
   "source": [
    "# Access the ClassLabel feature for the 'label' column\n",
    "class_label_feature = dataset.features['label']\n",
    "\n",
    "# Get the names (string representations)\n",
    "label_names = class_label_feature.names\n",
    "print(\"Label Names:\", label_names)\n",
    "\n",
    "# Create a mapping from integer indices to names\n",
    "label_mapping = {index: class_label_feature.int2str(index) for index in range(class_label_feature.num_classes)}\n",
    "print(\"Label Mapping:\", label_mapping)\n",
    "\n",
    "# To access the name for a specific label index\n",
    "label_index = 0  # Example index\n",
    "label_name = class_label_feature.int2str(label_index)\n",
    "print(f\"Label for index {label_index}:\", label_name)\n"
   ]
  },
  {
   "cell_type": "code",
   "execution_count": 15,
   "metadata": {},
   "outputs": [],
   "source": [
    "from urllib.parse import urlparse\n",
    "\n",
    "def extract_domain_from_view_url(example):\n",
    "    \n",
    "    # Check if 'view_url' is empty\n",
    "    if not example['view_url']:\n",
    "        # Set 'view_url' to the value of 'domain'\n",
    "        example['view_url'] = example['domain']\n",
    "        \n",
    "    # Ensure the URL has a protocol for urlparse to work correctly\n",
    "    view_url = example['view_url']\n",
    "    if not urlparse(view_url).scheme:\n",
    "        view_url = \"http://\" + view_url  # Prepend with a default protocol\n",
    "    \n",
    "    # Extract domain using urlparse on the modified URL\n",
    "    parsed_url = urlparse(view_url)\n",
    "    \n",
    "    # Sometimes the domain might be in 'path' if 'netloc' is empty (missing protocol)\n",
    "    domain = parsed_url.netloc if parsed_url.netloc else parsed_url.path\n",
    "    \n",
    "    # Splitting by \"/\" in case the URL without protocol directly starts with domain name\n",
    "    domain = domain.split('/')[0]\n",
    "    \n",
    "    # Update the 'domain' field\n",
    "    example['domain'] = domain\n",
    "    return example\n",
    "\n",
    "# Apply the function to each example in the dataset\n",
    "updated_dataset = dataset.map(extract_domain_from_view_url)"
   ]
  },
  {
   "cell_type": "code",
   "execution_count": 16,
   "metadata": {},
   "outputs": [
    {
     "data": {
      "text/plain": [
       "{'_id': '64a0946b749484eec84dbcc0',\n",
       " 'batch_id': 16,\n",
       " 'domain': 'bilendi.com',\n",
       " 'view_url': 'surveyd.bilendi.com/survey/selfserve/53b/2306124',\n",
       " 'lang': 'de',\n",
       " 'text': \" Die URL oben enthält nicht die für diese Umfrage erforderlichen Informationen. Die korrekte URL finden Sie in Ihrer Einladungs-E-Mail. Wenn die Probleme weiterhin auftreten, wenden Sie sich bitte an die dort angegebene Person. ERROR: SE-02 Variable list has invalid value '' \",\n",
       " 'text_length': 276,\n",
       " 'word_count': 43,\n",
       " 'topic': 'cannabis',\n",
       " 'category': 'other',\n",
       " 'good_for_training': 'False',\n",
       " 'good_for_augmentation': 'True',\n",
       " 'annotation_type': 'domain_discarded',\n",
       " 'is_topic': False,\n",
       " 'label': 0}"
      ]
     },
     "execution_count": 16,
     "metadata": {},
     "output_type": "execute_result"
    }
   ],
   "source": [
    "dataset[0]"
   ]
  },
  {
   "cell_type": "code",
   "execution_count": 17,
   "metadata": {},
   "outputs": [
    {
     "data": {
      "text/plain": [
       "49975"
      ]
     },
     "execution_count": 17,
     "metadata": {},
     "output_type": "execute_result"
    }
   ],
   "source": [
    "len(dataset)"
   ]
  },
  {
   "cell_type": "code",
   "execution_count": 18,
   "metadata": {},
   "outputs": [
    {
     "name": "stdout",
     "output_type": "stream",
     "text": [
      "Label Count orig: Counter({False: 49535, True: 105})\n",
      "Label Count buff: Counter({True: 150})\n",
      "Label Count combined: Counter({0: 49714, 1: 261})\n"
     ]
    }
   ],
   "source": [
    "# Count exaples with label = 1 \n",
    "label_count = Counter(dataset_orig['is_topic'])\n",
    "print(\"Label Count orig:\", label_count)\n",
    "\n",
    "label_count = Counter(dataset_buff['is_topic'])\n",
    "print(\"Label Count buff:\", label_count)\n",
    "\n",
    "label_count = Counter(dataset['label'])\n",
    "print(\"Label Count combined:\", label_count)"
   ]
  },
  {
   "cell_type": "markdown",
   "metadata": {},
   "source": [
    "## Save to Disk"
   ]
  },
  {
   "cell_type": "code",
   "execution_count": 19,
   "metadata": {},
   "outputs": [
    {
     "name": "stderr",
     "output_type": "stream",
     "text": [
      "Saving the dataset (1/1 shards): 100%|██████████| 49975/49975 [00:00<00:00, 56777.38 examples/s] \n"
     ]
    }
   ],
   "source": [
    "file_path = f\"../../data/tmp/processed_dataset_{topic}_buffed\"\n",
    "dataset.save_to_disk(file_path)\n",
    "#dataset.to_json(file_path)"
   ]
  }
 ],
 "metadata": {
  "kernelspec": {
   "display_name": "s2j-content-analysis",
   "language": "python",
   "name": "python3"
  },
  "language_info": {
   "codemirror_mode": {
    "name": "ipython",
    "version": 3
   },
   "file_extension": ".py",
   "mimetype": "text/x-python",
   "name": "python",
   "nbconvert_exporter": "python",
   "pygments_lexer": "ipython3",
   "version": "3.10.8"
  }
 },
 "nbformat": 4,
 "nbformat_minor": 2
}
