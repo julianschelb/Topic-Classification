{
 "cells": [
  {
   "cell_type": "markdown",
   "metadata": {},
   "source": [
    "## Filter Dataset"
   ]
  },
  {
   "cell_type": "code",
   "execution_count": 1,
   "metadata": {},
   "outputs": [],
   "source": [
    "import os\n",
    "import sys\n",
    "\n",
    "# Needed to import modules from parent directory\n",
    "module_path = os.path.abspath(os.path.join('..'))\n",
    "if module_path not in sys.path:\n",
    "    sys.path.append(module_path)"
   ]
  },
  {
   "cell_type": "code",
   "execution_count": 2,
   "metadata": {},
   "outputs": [
    {
     "name": "stderr",
     "output_type": "stream",
     "text": [
      "/home/jschelb/.pyenv/versions/3.10.8/envs/s2j-content-analysis/lib/python3.10/site-packages/tqdm/auto.py:21: TqdmWarning: IProgress not found. Please update jupyter and ipywidgets. See https://ipywidgets.readthedocs.io/en/stable/user_install.html\n",
      "  from .autonotebook import tqdm as notebook_tqdm\n"
     ]
    }
   ],
   "source": [
    "from collections import Counter\n",
    "from datasets import load_from_disk, Dataset, ClassLabel, Value, Features, load_dataset\n",
    "from transformers import AutoTokenizer\n",
    "import numpy as np\n",
    "import pandas as pd\n",
    "import random\n",
    "import torch"
   ]
  },
  {
   "cell_type": "code",
   "execution_count": 3,
   "metadata": {},
   "outputs": [],
   "source": [
    "topic = \"cannabis\" #\"energie\" #\"kinder\" \"cannabis\""
   ]
  },
  {
   "cell_type": "code",
   "execution_count": 4,
   "metadata": {},
   "outputs": [
    {
     "name": "stdout",
     "output_type": "stream",
     "text": [
      "Dataset({\n",
      "    features: ['_id', 'batch_id', 'domain', 'view_url', 'lang', 'text', 'text_length', 'word_count', 'topic', 'category', 'good_for_training', 'good_for_augmentation', 'annotation_type', 'is_topic', 'label'],\n",
      "    num_rows: 59363\n",
      "})\n",
      "{'_id': '648c2ad88e8cadbd29004e48', 'batch_id': 15, 'domain': 'amazon.de', 'view_url': 'www.amazon.de/gp/buy/addressselect/handlers/display.html?_from=cheetah', 'lang': 'de', 'text': ' Weiter ohne zu akzeptieren Wählen Sie Ihre Cookie-Einstellungen Wir verwenden Cookies und ähnliche Tools, die erforderlich sind, um Ihnen Einkäufe zu ermöglichen, Ihr Einkaufserlebnis zu verbessern und unsere Dienste bereitzustellen. Dies wird auch in unseren Cookie-Bestimmungen beschrieben. Wir verwenden diese Cookies auch, um nachzuvollziehen, wie Kunden unsere Dienste nutzen (z. B. durch Messung der Websiteaufrufe), damit wir Verbesserungen vornehmen können. Wenn Sie damit einverstanden sind, verwenden wir auch Cookies, um Ihr Einkaufserlebnis in den Stores zu ergänzen. Dies wird auch in unseren Cookie-Bestimmungen beschrieben. Dies beinhaltet die Verwendung von Cookies von Erst- und Drittanbietern , die Standardgeräteinformationen wie eine eindeutige Kennzeichnung speichern oder darauf zugreifen. Drittanbieter verwenden Cookies, um personalisierte Anzeigen zu schalten, deren Wirksamkeit zu messen, Erkenntnisse über Zielgruppen zu generieren und Produkte zu entwickeln und zu verbessern. Klicken Sie auf „Cookies anpassen“, um diese Cookies abzulehnen, detailliertere Einstellungen vorzunehmen oder mehr zu erfahren. Sie können Ihre Auswahl jederzeit ändern, indem Sie die Cookie-Einstellungen , wie in den Cookie-Bestimmungen beschrieben, aufrufen. Um mehr darüber zu erfahren, wie und zu welchen Zwecken Amazon personenbezogene Daten (z. B. den Bestellverlauf im Amazon Store) verwendet, lesen Sie bitte unsere Datenschutzerklärung . Leider ist ein Problem beim Speichern Ihrer Cookie-Einstellungen aufgetreten. Bitte versuchen Sie es erneut. Cookies akzeptieren Cookie-Einstellungen anpassen Zum Hauptinhalt wechseln .de Hallo Lieferadresse wählen Alle Wähle die Kategorie aus, in der du suchen möchtest. Alle Kategorien Alexa Skills Amazon Geräte Amazon Global Store Amazon Retourenkauf Apps & Spiele Audible Hörbücher Auto & Motorrad Baby Baumarkt Beauty Beleuchtung Bücher Bürobedarf & Schreibwaren Computer & Zubehör Drogerie & Körperpflege DVD & Blu-ray Elektro-Großgeräte Elektronik & Foto Fashion Damen Herren Mädchen Jungen Baby Games Garten Geschenkgutscheine Gewerbe, Industrie & Wissenschaft Handmade Haustier Home & Business Services Kamera & Foto Kindle-Shop Klassik Koffer, Rucksäcke & Taschen Küche, Haushalt & Wohnen Lebensmittel & Getränke Luxury Stores Musik-CDs & Vinyl Musik-Downloads Musikinstrumente & DJ-Equipment Premium Beauty Prime Video Software Spar-Abo Spielzeug Sport & Freizeit Zeitschriften Suche Amazon.de DE Hallo, anmelden Konto und Listen Warenrücksendungen und Bestellungen 0 Einkaufs- wagen Einkaufswagen Alle Kundensupport bei Behinderungen Bestseller Amazon Basics Angebote Musik Prime Video Neuerscheinungen Prime Audible Games Bücher Kundenservice Küche, Haushalt & Wohnen Mode Elektronik & Foto Auto & Motorrad Baumarkt Drogerie & Körperpflege Sport & Freizeit Spielzeug Haustier Lebensmittel Shopping-Tipps Baby Premium Kosmetik, Parfüms & Hautpflege Geschenkideen Gutscheine Computer Coupons Kindle Bücher Ihr Amazon-Einkaufswagen ist leer Aktuelle Angebote einkaufen Melde dich bei deinem Konto an Jetzt registrieren Für späteren Zeitpunkt gespeicherte Artikel Preise und Verfügbarkeiten der bei Amazon.de angebotenen Artikel können sich jederzeit ändern. Die Preise der Artikel in deinem Einkaufswagen entsprechen den auf der Website angezeigten Preisen. Möchtest du einen Aktions- oder Geschenkgutschein einlösen? Auf deinem Weg zur Kasse kannst du deinen Einlösungscode eingeben. Brief content visible, double tap to read full content. Full content visible, double tap to read brief content. Deine zuletzt angesehenen Artikel und besonderen Empfehlungen › Browserverlauf anzeigen oder ändern Nachdem du Produktseiten oder Suchergebnisse angesehen hast, findest du hier eine einfache Möglichkeit, diese Seiten wiederzufinden. Deine zuletzt angesehenen Artikel und besonderen Empfehlungen › Browserverlauf anzeigen oder ändern Nachdem du Produktseiten oder Suchergebnisse angesehen hast, findest du hier eine einfache Möglichkeit, diese Seiten wiederzufinden. Zurück zum Seitenanfang Über Amazon Karriere bei Amazon Pressemitteilungen Erfahre mehr über Amazon Impressum Amazon Science Geld verdienen mit Amazon Jetzt verkaufen Verkaufen bei Amazon Business Verkaufen bei Amazon Handmade Partnerprogramm Versand durch Amazon Deine Marke aufbauen und schützen Prime durch Verkäufer Bewerbe deine Produkte Dein Buch mit uns veröffentlichen Amazon Pay Hosten eines Amazon Hubs › Mehr von „Mit uns Geld verdienen“ anzeigen Amazon-Zahlungsarten Einkaufen mit Punkten Amazon Business Amex Card Kreditkarten Gutscheine Monatsabrechnung Bankeinzug Amazon Währungsumrechner Mein Amazon-Konto aufladen Amazon vor Ort aufladen Wir helfen dir Amazon und COVID-19 Lieferung verfolgen oder Bestellung anzeigen Versand & Verfügbarkeit Amazon Prime Rückgabe & Ersatz Recycling (einschließlich Entsorgung von Elektro- & Elektronikaltgeräten) Verträge kündigen Vodafone-Verträge kündigen Meine Inhalte und Geräte Amazon App Kundenservice Barrierefreiheit Deutsch Deutschland Amazon Advertising Kunden finden, gewinnen und binden Amazon Music Streame Millionen von Songs AbeBooks Bücher, Kunst & Sammelobjekte Amazon Web Services Cloud Computing Dienste von Amazon Audible Hörbücher herunterladen Book Depository Bücher mit kostenfreier Lieferung weltweit IMDb Filme, TV & Stars Kindle Direct Publishing Dein E-Book veröffentlichen Shopbop Designer Modemarken Amazon Retourenkauf Reduzierte B-Ware ZVAB Zentrales Verzeichnis Antiquarischer Bücher und mehr Amazon Business Mengenrabatte, Business-Preise und mehr. Für Unternehmen. Unsere AGB Datenschutzerklärung Impressum Hinweise zu Cookies Hinweise zu interessenbasierter Werbung ©1996-2023 Amazon.com, Inc. oder Partner-Unternehmen ', 'text_length': 5733, 'word_count': 734, 'topic': 'kinder', 'category': 'other', 'good_for_training': 'False', 'good_for_augmentation': 'True', 'annotation_type': 'domain_discarded', 'is_topic': False, 'label': 0}\n"
     ]
    }
   ],
   "source": [
    "dataset = load_from_disk(f\"../../data/tmp/processed_dataset_{topic}_buffed\")\n",
    "print(dataset)\n",
    "print(dataset[1])"
   ]
  },
  {
   "cell_type": "markdown",
   "metadata": {},
   "source": [
    "## Filter by Content Length"
   ]
  },
  {
   "cell_type": "code",
   "execution_count": 5,
   "metadata": {},
   "outputs": [],
   "source": [
    "tokenizer = AutoTokenizer.from_pretrained(\"deepset/gbert-large\")"
   ]
  },
  {
   "cell_type": "code",
   "execution_count": 6,
   "metadata": {},
   "outputs": [
    {
     "name": "stdout",
     "output_type": "stream",
     "text": [
      "12\n"
     ]
    }
   ],
   "source": [
    "def get_input_length(text):\n",
    "    \"\"\" Tokenize the input text and return the number of tokens \"\"\"\n",
    "    return len(tokenizer.encode(text, add_special_tokens=True, truncation=False, padding=False))\n",
    "\n",
    "print(get_input_length(\"Hello, my name is John Doe\"))"
   ]
  },
  {
   "cell_type": "code",
   "execution_count": 7,
   "metadata": {},
   "outputs": [],
   "source": [
    "def update_metrics(example):\n",
    "    example['text_length'] = len(example['text'])\n",
    "    example['word_count'] = len(example['text'].split())\n",
    "    example['token_count'] = get_input_length(example['text'])\n",
    "    return example\n",
    "\n",
    "dataset = dataset.map(update_metrics)"
   ]
  },
  {
   "cell_type": "code",
   "execution_count": 8,
   "metadata": {},
   "outputs": [],
   "source": [
    "token_counts = dataset[\"token_count\"]"
   ]
  },
  {
   "cell_type": "code",
   "execution_count": 9,
   "metadata": {},
   "outputs": [
    {
     "name": "stdout",
     "output_type": "stream",
     "text": [
      "Maximum token count: 2802142\n",
      "Minimum token count: 2\n",
      "Average token count: 1518.2947290399743\n",
      "Standard deviation of token count: 13173.22272503524\n"
     ]
    }
   ],
   "source": [
    "max_token_count = max(token_counts)\n",
    "min_token_count = min(token_counts)\n",
    "avg_token_count = sum(token_counts) / len(token_counts)\n",
    "std_token_count = np.std(token_counts)  # Using numpy for standard deviation\n",
    "\n",
    "print(f\"Maximum token count: {max_token_count}\")\n",
    "print(f\"Minimum token count: {min_token_count}\")\n",
    "print(f\"Average token count: {avg_token_count}\")\n",
    "print(f\"Standard deviation of token count: {std_token_count}\")"
   ]
  },
  {
   "cell_type": "code",
   "execution_count": 10,
   "metadata": {},
   "outputs": [
    {
     "data": {
      "image/png": "[encoded data removed]",
      "text/plain": [
       "<Figure size 1000x600 with 1 Axes>"
      ]
     },
     "metadata": {},
     "output_type": "display_data"
    }
   ],
   "source": [
    "import matplotlib.pyplot as plt\n",
    "\n",
    "# Plotting the distribution of token counts with a more muted color\n",
    "plt.figure(figsize=(10, 6))\n",
    "plt.hist([min(count, 10000) for count in token_counts], bins=50, alpha=0.75, color='slategray')\n",
    "plt.title('Distribution of Token Counts')\n",
    "plt.xlabel('Token Count')\n",
    "plt.ylabel('Frequency')\n",
    "plt.grid(axis='y', alpha=0.75)\n",
    "\n",
    "plt.show()"
   ]
  },
  {
   "cell_type": "code",
   "execution_count": 11,
   "metadata": {},
   "outputs": [
    {
     "data": {
      "image/png": "[encoded data removed]",
      "text/plain": [
       "<Figure size 1000x600 with 1 Axes>"
      ]
     },
     "metadata": {},
     "output_type": "display_data"
    }
   ],
   "source": [
    "import matplotlib.pyplot as plt\n",
    "\n",
    "# Plotting the distribution of token counts with a more muted color\n",
    "plt.figure(figsize=(10, 6))\n",
    "plt.hist([min(count, 2000) for count in token_counts], bins=50, alpha=0.75, color='slategray')\n",
    "plt.title('Distribution of Token Counts')\n",
    "plt.xlabel('Token Count')\n",
    "plt.ylabel('Frequency')\n",
    "plt.grid(axis='y', alpha=0.75)\n",
    "\n",
    "plt.show()"
   ]
  },
  {
   "cell_type": "code",
   "execution_count": 12,
   "metadata": {},
   "outputs": [],
   "source": [
    "import random\n",
    "from pprint import pprint\n",
    "\n",
    "def sample_and_print(dataset, n, m, sample_size=10):\n",
    "    \"\"\"\n",
    "    Samples and pretty-prints examples from the dataset where the token count is between n and m.\n",
    "\n",
    "    Parameters:\n",
    "    - dataset: The dataset to sample from.\n",
    "    - n: The lower bound of the token count range.\n",
    "    - m: The upper bound of the token count range.\n",
    "    - sample_size: The number of examples to sample and print. Default is 10.\n",
    "    \"\"\"\n",
    "    \n",
    "    # Ensure there's a 'token_count' column\n",
    "    if 'token_count' not in dataset.column_names:\n",
    "        raise ValueError(\"Dataset must contain a 'token_count' column.\")\n",
    "    \n",
    "    # Filter the dataset for examples with token_count between n and m\n",
    "    filtered_examples = [example for example in dataset if n <= example['token_count'] <= m]\n",
    "\n",
    "    # Check if there are enough examples to sample\n",
    "    if len(filtered_examples) < sample_size:\n",
    "        print(f\"Only {len(filtered_examples)} examples found with token count between {n} and {m}.\")\n",
    "        sample_size = len(filtered_examples)\n",
    "\n",
    "    # Randomly sample examples from the filtered list\n",
    "    sampled_examples = random.sample(filtered_examples, sample_size)\n",
    "\n",
    "    # Pretty print the sampled examples\n",
    "    for example in sampled_examples:\n",
    "        pprint(example)\n",
    "        print(\"-\" * 80)  # Separator for readability\n"
   ]
  },
  {
   "cell_type": "code",
   "execution_count": 13,
   "metadata": {},
   "outputs": [],
   "source": [
    "# n = 0  # Define the lower bound for token count\n",
    "# m = 5  # Define the upper bound for token count\n",
    "\n",
    "# # Call the function\n",
    "# sample_and_print(dataset, n, m)"
   ]
  },
  {
   "cell_type": "code",
   "execution_count": 14,
   "metadata": {},
   "outputs": [],
   "source": [
    "# Define your conditions\n",
    "n = 6000  # Upper limit\n",
    "m = 0   # Lower limit, assuming you actually meant m is less than n\n",
    "\n",
    "# Filter the dataset\n",
    "dataset = dataset.filter(lambda example: example['token_count'] > m and example['token_count'] < n)"
   ]
  },
  {
   "cell_type": "markdown",
   "metadata": {},
   "source": [
    "## Filter by Language"
   ]
  },
  {
   "cell_type": "code",
   "execution_count": 15,
   "metadata": {},
   "outputs": [
    {
     "name": "stdout",
     "output_type": "stream",
     "text": [
      "Lang frequencies: Counter({'de': 38654, 'en': 17432, 'ru': 196, 'nl': 180, 'tl': 156, 'et': 110, 'it': 97, 'fr': 93, 'sv': 77, 'es': 65, 'pt': 65, 'ja': 52, 'cs': 48, 'ca': 39, 'ko': 30, 'da': 24, 'no': 19, 'cy': 18, 'af': 10, 'sl': 8, 'id': 4, 'so': 3, 'pl': 3, 'ro': 3, 'sk': 3, 'hu': 2, 'vi': 2, 'uk': 2, 'fi': 1, 'lv': 1, 'el': 1, 'sw': 1, 'bg': 1, 'tr': 1, 'zh-cn': 1, 'ar': 1})\n"
     ]
    }
   ],
   "source": [
    "lang_counts = Counter(dataset['lang'])\n",
    "print(\"Lang frequencies:\", lang_counts)"
   ]
  },
  {
   "cell_type": "code",
   "execution_count": 16,
   "metadata": {},
   "outputs": [],
   "source": [
    "#dataset = dataset.filter(lambda example: example['lang'] == \"de\")"
   ]
  },
  {
   "cell_type": "markdown",
   "metadata": {},
   "source": [
    "## Filter by Category"
   ]
  },
  {
   "cell_type": "code",
   "execution_count": 17,
   "metadata": {},
   "outputs": [
    {
     "name": "stdout",
     "output_type": "stream",
     "text": [
      "Number of examples before filtering: 57403\n",
      "Number of examples after filtering: 57403\n"
     ]
    }
   ],
   "source": [
    "print(\"Number of examples before filtering:\", len(dataset))\n",
    "dataset_filtered = dataset.filter(lambda example: example['good_for_training'] == \"True\")\n",
    "dataset_extended = dataset.filter(lambda example: example['good_for_training'] == \"False\")\n",
    "print(\"Number of examples after filtering:\", len(dataset))"
   ]
  },
  {
   "cell_type": "markdown",
   "metadata": {},
   "source": [
    "## Save Dataset"
   ]
  },
  {
   "cell_type": "code",
   "execution_count": 18,
   "metadata": {},
   "outputs": [
    {
     "data": {
      "text/plain": [
       "Dataset({\n",
       "    features: ['_id', 'batch_id', 'domain', 'view_url', 'lang', 'text', 'text_length', 'word_count', 'topic', 'category', 'good_for_training', 'good_for_augmentation', 'annotation_type', 'is_topic', 'label', 'token_count'],\n",
       "    num_rows: 4150\n",
       "})"
      ]
     },
     "execution_count": 18,
     "metadata": {},
     "output_type": "execute_result"
    }
   ],
   "source": [
    "dataset_filtered"
   ]
  },
  {
   "cell_type": "code",
   "execution_count": 19,
   "metadata": {},
   "outputs": [
    {
     "name": "stderr",
     "output_type": "stream",
     "text": [
      "Saving the dataset (0/1 shards):   0%|          | 0/4150 [00:00<?, ? examples/s]"
     ]
    },
    {
     "name": "stderr",
     "output_type": "stream",
     "text": [
      "Saving the dataset (1/1 shards): 100%|██████████| 4150/4150 [00:00<00:00, 22768.74 examples/s]\n"
     ]
    }
   ],
   "source": [
    "dataset_filtered.remove_columns([\"token_count\"])\n",
    "dataset_filtered.save_to_disk(f\"../../data/tmp/processed_dataset_{topic}_buffed_filtered\")"
   ]
  },
  {
   "cell_type": "code",
   "execution_count": 20,
   "metadata": {},
   "outputs": [
    {
     "data": {
      "text/plain": [
       "Dataset({\n",
       "    features: ['_id', 'batch_id', 'domain', 'view_url', 'lang', 'text', 'text_length', 'word_count', 'topic', 'category', 'good_for_training', 'good_for_augmentation', 'annotation_type', 'is_topic', 'label', 'token_count'],\n",
       "    num_rows: 53253\n",
       "})"
      ]
     },
     "execution_count": 20,
     "metadata": {},
     "output_type": "execute_result"
    }
   ],
   "source": [
    "dataset_extended"
   ]
  },
  {
   "cell_type": "code",
   "execution_count": 21,
   "metadata": {},
   "outputs": [
    {
     "name": "stderr",
     "output_type": "stream",
     "text": [
      "Saving the dataset (1/1 shards): 100%|██████████| 53253/53253 [00:01<00:00, 34132.51 examples/s]\n"
     ]
    }
   ],
   "source": [
    "dataset_extended.remove_columns([\"token_count\"])\n",
    "dataset_extended.save_to_disk(f\"../../data/tmp/processed_dataset_{topic}_buffed_extended_filtered\")"
   ]
  }
 ],
 "metadata": {
  "kernelspec": {
   "display_name": "s2j-content-analysis",
   "language": "python",
   "name": "python3"
  },
  "language_info": {
   "codemirror_mode": {
    "name": "ipython",
    "version": 3
   },
   "file_extension": ".py",
   "mimetype": "text/x-python",
   "name": "python",
   "nbconvert_exporter": "python",
   "pygments_lexer": "ipython3",
   "version": "3.10.8"
  }
 },
 "nbformat": 4,
 "nbformat_minor": 2
}
