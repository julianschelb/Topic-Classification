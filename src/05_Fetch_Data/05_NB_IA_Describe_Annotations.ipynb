{
 "cells": [
  {
   "cell_type": "markdown",
   "metadata": {},
   "source": [
    "## Describe Annotations"
   ]
  },
  {
   "cell_type": "code",
   "execution_count": 1,
   "metadata": {},
   "outputs": [],
   "source": [
    "import os\n",
    "import sys\n",
    "\n",
    "# Needed to import modules from parent directory\n",
    "module_path = os.path.abspath(os.path.join('..'))\n",
    "if module_path not in sys.path:\n",
    "    sys.path.append(module_path)"
   ]
  },
  {
   "cell_type": "code",
   "execution_count": 2,
   "metadata": {},
   "outputs": [],
   "source": [
    "from utils.files import *\n",
    "from tqdm import tqdm\n",
    "import pandas as pd"
   ]
  },
  {
   "cell_type": "markdown",
   "metadata": {},
   "source": [
    "## Read CSV File"
   ]
  },
  {
   "cell_type": "code",
   "execution_count": 3,
   "metadata": {},
   "outputs": [],
   "source": [
    "path_to_annotations = \"../../data/20h_experiment/5200-df-full-annotated-feb-and-may-julian-version.csv\"\n",
    "annotations = read_csv_as_dict(path_to_annotations)"
   ]
  },
  {
   "cell_type": "code",
   "execution_count": 4,
   "metadata": {},
   "outputs": [
    {
     "name": "stdout",
     "output_type": "stream",
     "text": [
      "Number of annotations: 761232\n",
      "Columns: ['p_id', 'url', 'used_at', 'duration', 'yt_video_id', 'package_version', 'enddevice', 'batch', 'Group', 'start_date', 't', 'wave', 'end_date', 'start_intervention', 'start_knowledge', 'topic', 'series', 'annotation_type', 'good_for_training', 'good_for_augmentation', 'category', 'is_direct_topic_annotated', 'is_direct_topic_full']\n",
      "Example: {'p_id': '273726366948', 'url': 'mingle.respondi.de/', 'used_at': '2023-06-13 14:12:16', 'duration': '393', 'yt_video_id': '', 'package_version': '1210041502.0', 'enddevice': 'mobile', 'batch': '15', 'Group': 'Search', 'start_date': '2023-06-13 14:12:00', 't': '1', 'wave': '1. Kinder', 'end_date': '2023-06-14 18:11:45', 'start_intervention': '2023-06-13 14:18:35', 'start_knowledge': '2023-06-14 18:09:40', 'topic': 'kinder', 'series': '', 'annotation_type': 'domain_discarded', 'good_for_training': 'False', 'good_for_augmentation': 'True', 'category': 'other', 'is_direct_topic_annotated': '', 'is_direct_topic_full': 'False'}\n"
     ]
    }
   ],
   "source": [
    "print('Number of annotations: {}'.format(len(annotations)))\n",
    "print('Columns: {}'.format(list(annotations[0].keys())))  \n",
    "print('Example: {}'.format(annotations[0]))"
   ]
  },
  {
   "cell_type": "code",
   "execution_count": 5,
   "metadata": {},
   "outputs": [],
   "source": [
    "df_annotations = pd.DataFrame(annotations)"
   ]
  },
  {
   "cell_type": "code",
   "execution_count": 6,
   "metadata": {},
   "outputs": [
    {
     "data": {
      "text/html": [
       "<div>\n",
       "<style scoped>\n",
       "    .dataframe tbody tr th:only-of-type {\n",
       "        vertical-align: middle;\n",
       "    }\n",
       "\n",
       "    .dataframe tbody tr th {\n",
       "        vertical-align: top;\n",
       "    }\n",
       "\n",
       "    .dataframe thead th {\n",
       "        text-align: right;\n",
       "    }\n",
       "</style>\n",
       "<table border=\"1\" class=\"dataframe\">\n",
       "  <thead>\n",
       "    <tr style=\"text-align: right;\">\n",
       "      <th></th>\n",
       "      <th>p_id</th>\n",
       "      <th>url</th>\n",
       "      <th>used_at</th>\n",
       "      <th>duration</th>\n",
       "      <th>yt_video_id</th>\n",
       "      <th>package_version</th>\n",
       "      <th>enddevice</th>\n",
       "      <th>batch</th>\n",
       "      <th>Group</th>\n",
       "      <th>start_date</th>\n",
       "      <th>...</th>\n",
       "      <th>start_intervention</th>\n",
       "      <th>start_knowledge</th>\n",
       "      <th>topic</th>\n",
       "      <th>series</th>\n",
       "      <th>annotation_type</th>\n",
       "      <th>good_for_training</th>\n",
       "      <th>good_for_augmentation</th>\n",
       "      <th>category</th>\n",
       "      <th>is_direct_topic_annotated</th>\n",
       "      <th>is_direct_topic_full</th>\n",
       "    </tr>\n",
       "  </thead>\n",
       "  <tbody>\n",
       "    <tr>\n",
       "      <th>0</th>\n",
       "      <td>273726366948</td>\n",
       "      <td>mingle.respondi.de/</td>\n",
       "      <td>2023-06-13 14:12:16</td>\n",
       "      <td>393</td>\n",
       "      <td></td>\n",
       "      <td>1210041502.0</td>\n",
       "      <td>mobile</td>\n",
       "      <td>15</td>\n",
       "      <td>Search</td>\n",
       "      <td>2023-06-13 14:12:00</td>\n",
       "      <td>...</td>\n",
       "      <td>2023-06-13 14:18:35</td>\n",
       "      <td>2023-06-14 18:09:40</td>\n",
       "      <td>kinder</td>\n",
       "      <td></td>\n",
       "      <td>domain_discarded</td>\n",
       "      <td>False</td>\n",
       "      <td>True</td>\n",
       "      <td>other</td>\n",
       "      <td></td>\n",
       "      <td>False</td>\n",
       "    </tr>\n",
       "    <tr>\n",
       "      <th>1</th>\n",
       "      <td>273726366948</td>\n",
       "      <td>mingle.respondi.de/</td>\n",
       "      <td>2023-06-13 20:09:47</td>\n",
       "      <td>2</td>\n",
       "      <td></td>\n",
       "      <td>1210041502.0</td>\n",
       "      <td>mobile</td>\n",
       "      <td>15</td>\n",
       "      <td>Search</td>\n",
       "      <td>2023-06-13 14:12:00</td>\n",
       "      <td>...</td>\n",
       "      <td>2023-06-13 14:18:35</td>\n",
       "      <td>2023-06-14 18:09:40</td>\n",
       "      <td>kinder</td>\n",
       "      <td></td>\n",
       "      <td>domain_discarded</td>\n",
       "      <td>False</td>\n",
       "      <td>True</td>\n",
       "      <td>other</td>\n",
       "      <td></td>\n",
       "      <td>False</td>\n",
       "    </tr>\n",
       "    <tr>\n",
       "      <th>2</th>\n",
       "      <td>273746614716</td>\n",
       "      <td>mingle.respondi.de/</td>\n",
       "      <td>2023-06-14 16:19:10</td>\n",
       "      <td>492</td>\n",
       "      <td></td>\n",
       "      <td>1210041502.0</td>\n",
       "      <td>mobile</td>\n",
       "      <td>15</td>\n",
       "      <td>Control</td>\n",
       "      <td>2023-06-14 16:19:00</td>\n",
       "      <td>...</td>\n",
       "      <td>2023-06-14 16:26:33</td>\n",
       "      <td>2023-06-15 15:34:00</td>\n",
       "      <td>kinder</td>\n",
       "      <td></td>\n",
       "      <td>domain_discarded</td>\n",
       "      <td>False</td>\n",
       "      <td>True</td>\n",
       "      <td>other</td>\n",
       "      <td></td>\n",
       "      <td>False</td>\n",
       "    </tr>\n",
       "    <tr>\n",
       "      <th>3</th>\n",
       "      <td>273746614716</td>\n",
       "      <td>mingle.respondi.de/</td>\n",
       "      <td>2023-06-14 16:28:00</td>\n",
       "      <td>1</td>\n",
       "      <td></td>\n",
       "      <td>1210041502.0</td>\n",
       "      <td>mobile</td>\n",
       "      <td>15</td>\n",
       "      <td>Control</td>\n",
       "      <td>2023-06-14 16:19:00</td>\n",
       "      <td>...</td>\n",
       "      <td>2023-06-14 16:26:33</td>\n",
       "      <td>2023-06-15 15:34:00</td>\n",
       "      <td>kinder</td>\n",
       "      <td></td>\n",
       "      <td>domain_discarded</td>\n",
       "      <td>False</td>\n",
       "      <td>True</td>\n",
       "      <td>other</td>\n",
       "      <td></td>\n",
       "      <td>False</td>\n",
       "    </tr>\n",
       "    <tr>\n",
       "      <th>4</th>\n",
       "      <td>273746614716</td>\n",
       "      <td>mingle.respondi.de/</td>\n",
       "      <td>2023-06-14 16:36:39</td>\n",
       "      <td>13</td>\n",
       "      <td></td>\n",
       "      <td>1210041502.0</td>\n",
       "      <td>mobile</td>\n",
       "      <td>15</td>\n",
       "      <td>Control</td>\n",
       "      <td>2023-06-14 16:19:00</td>\n",
       "      <td>...</td>\n",
       "      <td>2023-06-14 16:26:33</td>\n",
       "      <td>2023-06-15 15:34:00</td>\n",
       "      <td>kinder</td>\n",
       "      <td></td>\n",
       "      <td>domain_discarded</td>\n",
       "      <td>False</td>\n",
       "      <td>True</td>\n",
       "      <td>other</td>\n",
       "      <td></td>\n",
       "      <td>False</td>\n",
       "    </tr>\n",
       "  </tbody>\n",
       "</table>\n",
       "<p>5 rows × 23 columns</p>\n",
       "</div>"
      ],
      "text/plain": [
       "           p_id                  url              used_at duration  \\\n",
       "0  273726366948  mingle.respondi.de/  2023-06-13 14:12:16      393   \n",
       "1  273726366948  mingle.respondi.de/  2023-06-13 20:09:47        2   \n",
       "2  273746614716  mingle.respondi.de/  2023-06-14 16:19:10      492   \n",
       "3  273746614716  mingle.respondi.de/  2023-06-14 16:28:00        1   \n",
       "4  273746614716  mingle.respondi.de/  2023-06-14 16:36:39       13   \n",
       "\n",
       "  yt_video_id package_version enddevice batch    Group           start_date  \\\n",
       "0                1210041502.0    mobile    15   Search  2023-06-13 14:12:00   \n",
       "1                1210041502.0    mobile    15   Search  2023-06-13 14:12:00   \n",
       "2                1210041502.0    mobile    15  Control  2023-06-14 16:19:00   \n",
       "3                1210041502.0    mobile    15  Control  2023-06-14 16:19:00   \n",
       "4                1210041502.0    mobile    15  Control  2023-06-14 16:19:00   \n",
       "\n",
       "   ...   start_intervention      start_knowledge   topic series  \\\n",
       "0  ...  2023-06-13 14:18:35  2023-06-14 18:09:40  kinder          \n",
       "1  ...  2023-06-13 14:18:35  2023-06-14 18:09:40  kinder          \n",
       "2  ...  2023-06-14 16:26:33  2023-06-15 15:34:00  kinder          \n",
       "3  ...  2023-06-14 16:26:33  2023-06-15 15:34:00  kinder          \n",
       "4  ...  2023-06-14 16:26:33  2023-06-15 15:34:00  kinder          \n",
       "\n",
       "    annotation_type good_for_training good_for_augmentation category  \\\n",
       "0  domain_discarded             False                  True    other   \n",
       "1  domain_discarded             False                  True    other   \n",
       "2  domain_discarded             False                  True    other   \n",
       "3  domain_discarded             False                  True    other   \n",
       "4  domain_discarded             False                  True    other   \n",
       "\n",
       "  is_direct_topic_annotated is_direct_topic_full  \n",
       "0                                          False  \n",
       "1                                          False  \n",
       "2                                          False  \n",
       "3                                          False  \n",
       "4                                          False  \n",
       "\n",
       "[5 rows x 23 columns]"
      ]
     },
     "execution_count": 6,
     "metadata": {},
     "output_type": "execute_result"
    }
   ],
   "source": [
    "df_annotations.head()"
   ]
  },
  {
   "cell_type": "markdown",
   "metadata": {},
   "source": [
    "## Basic Statistics"
   ]
  },
  {
   "cell_type": "code",
   "execution_count": 7,
   "metadata": {},
   "outputs": [
    {
     "name": "stdout",
     "output_type": "stream",
     "text": [
      "                p_id                      url              used_at duration  \\\n",
      "count         761232                   761232               761232   761232   \n",
      "unique           872                   267332               430016     1647   \n",
      "top     323733401748  navigator.gmx.net/xxxxx  2023-06-12 18:43:57        2   \n",
      "freq            9462                     5347                   12   140332   \n",
      "\n",
      "       yt_video_id package_version enddevice   batch   Group  \\\n",
      "count       761232          761232    761232  761232  761232   \n",
      "unique        3264               9         2       3       3   \n",
      "top                                  desktop      16  Search   \n",
      "freq        746752          751889    682812  506276  258601   \n",
      "\n",
      "                 start_date  ...   start_intervention      start_knowledge  \\\n",
      "count                761232  ...               761232               761232   \n",
      "unique                 1406  ...                 1952                 1954   \n",
      "top     2023-06-26 13:55:00  ...  2023-06-13 12:14:04  2023-06-14 12:49:21   \n",
      "freq                   6521  ...                 4209                 4209   \n",
      "\n",
      "         topic  series   annotation_type good_for_training  \\\n",
      "count   761232  761232            761232            761232   \n",
      "unique       3       6                15                 2   \n",
      "top     kinder          domain_discarded             False   \n",
      "freq    278295  643310            643310            726437   \n",
      "\n",
      "       good_for_augmentation category is_direct_topic_annotated  \\\n",
      "count                 761232   761232                    761232   \n",
      "unique                     2        3                         3   \n",
      "top                     True    other                             \n",
      "freq                  714485   686611                    666531   \n",
      "\n",
      "       is_direct_topic_full  \n",
      "count                761232  \n",
      "unique                    2  \n",
      "top                   False  \n",
      "freq                 757130  \n",
      "\n",
      "[4 rows x 23 columns]\n"
     ]
    }
   ],
   "source": [
    "print(df_annotations.describe())"
   ]
  },
  {
   "cell_type": "markdown",
   "metadata": {},
   "source": [
    "**Batches:**"
   ]
  },
  {
   "cell_type": "code",
   "execution_count": 8,
   "metadata": {},
   "outputs": [
    {
     "name": "stdout",
     "output_type": "stream",
     "text": [
      "batch\n",
      "16    506276\n",
      "15    248030\n",
      "17      6926\n",
      "Name: count, dtype: int64\n"
     ]
    }
   ],
   "source": [
    "batch_counts = df_annotations['batch'].value_counts()\n",
    "print(batch_counts)"
   ]
  },
  {
   "cell_type": "markdown",
   "metadata": {},
   "source": [
    "**Topics:**"
   ]
  },
  {
   "cell_type": "code",
   "execution_count": 9,
   "metadata": {},
   "outputs": [
    {
     "name": "stdout",
     "output_type": "stream",
     "text": [
      "topic\n",
      "kinder      278295\n",
      "energie     248817\n",
      "cannabis    234120\n",
      "Name: count, dtype: int64\n"
     ]
    }
   ],
   "source": [
    "topic_counts = df_annotations['topic'].value_counts()\n",
    "print(topic_counts)"
   ]
  },
  {
   "cell_type": "markdown",
   "metadata": {},
   "source": [
    "**Labels:**"
   ]
  },
  {
   "cell_type": "code",
   "execution_count": 10,
   "metadata": {},
   "outputs": [
    {
     "name": "stdout",
     "output_type": "stream",
     "text": [
      "is_direct_topic_full\n",
      "False    757130\n",
      "True       4102\n",
      "Name: count, dtype: int64\n"
     ]
    }
   ],
   "source": [
    "label_counts = df_annotations['is_direct_topic_full'].value_counts()\n",
    "print(label_counts)"
   ]
  },
  {
   "cell_type": "markdown",
   "metadata": {},
   "source": [
    "**Labels per Topic:**"
   ]
  },
  {
   "cell_type": "code",
   "execution_count": 11,
   "metadata": {},
   "outputs": [
    {
     "name": "stdout",
     "output_type": "stream",
     "text": [
      "topic     is_direct_topic_full\n",
      "cannabis  False                   233094\n",
      "          True                      1026\n",
      "energie   False                   247470\n",
      "          True                      1347\n",
      "kinder    False                   276566\n",
      "          True                      1729\n",
      "Name: count, dtype: int64\n"
     ]
    }
   ],
   "source": [
    "value_counts_per_topic = df_annotations.groupby('topic')['is_direct_topic_full'].value_counts()\n",
    "print(value_counts_per_topic)"
   ]
  },
  {
   "cell_type": "markdown",
   "metadata": {},
   "source": [
    "**Unique URLs per Topic and Label:**"
   ]
  },
  {
   "cell_type": "code",
   "execution_count": 12,
   "metadata": {},
   "outputs": [
    {
     "name": "stdout",
     "output_type": "stream",
     "text": [
      "topic     is_direct_topic_full\n",
      "cannabis  False                    87927\n",
      "          True                       309\n",
      "energie   False                    93136\n",
      "          True                       479\n",
      "kinder    False                   103861\n",
      "          True                       536\n",
      "Name: url, dtype: int64\n"
     ]
    }
   ],
   "source": [
    "unique_url_counts = df_annotations.groupby(['topic', 'is_direct_topic_full'])['url'].nunique()\n",
    "print(unique_url_counts)"
   ]
  },
  {
   "cell_type": "code",
   "execution_count": 13,
   "metadata": {},
   "outputs": [
    {
     "name": "stdout",
     "output_type": "stream",
     "text": [
      "      topic is_direct_topic_full  unique_urls_count\n",
      "0  cannabis                False              87927\n",
      "1  cannabis                 True                309\n",
      "2   energie                False              93136\n",
      "3   energie                 True                479\n",
      "4    kinder                False             103861\n",
      "5    kinder                 True                536\n"
     ]
    }
   ],
   "source": [
    "print(unique_url_counts.reset_index(name='unique_urls_count'))\n"
   ]
  },
  {
   "cell_type": "code",
   "execution_count": 14,
   "metadata": {},
   "outputs": [
    {
     "name": "stdout",
     "output_type": "stream",
     "text": [
      "topic     is_direct_topic_full  batch\n",
      "cannabis  False                 16       85495\n",
      "                                17        3110\n",
      "          True                  16         276\n",
      "                                17          41\n",
      "energie   False                 16       93136\n",
      "          True                  16         479\n",
      "kinder    False                 15       92277\n",
      "                                16       13615\n",
      "          True                  15         477\n",
      "                                16          73\n",
      "Name: url, dtype: int64\n"
     ]
    }
   ],
   "source": [
    "unique_url_counts = df_annotations.groupby(['topic', 'is_direct_topic_full', 'batch'])['url'].nunique()\n",
    "print(unique_url_counts)"
   ]
  },
  {
   "cell_type": "markdown",
   "metadata": {},
   "source": [
    "**Positive Examples:**"
   ]
  },
  {
   "cell_type": "code",
   "execution_count": 15,
   "metadata": {},
   "outputs": [],
   "source": [
    "filtered_df = df_annotations[df_annotations['is_direct_topic_full'] == \"True\"]\n",
    "grouped_urls = filtered_df.groupby('topic').apply(lambda x: x['url'].drop_duplicates().head(5))\n",
    "grouped_urls = grouped_urls.reset_index(level=-1, drop=True)"
   ]
  },
  {
   "cell_type": "code",
   "execution_count": 16,
   "metadata": {},
   "outputs": [
    {
     "name": "stdout",
     "output_type": "stream",
     "text": [
      "Topic: cannabis\n",
      "- google.com/search?q=cannabis+legalisierung&sxsrf=APwXEdf8-EAKfbipdjHncqqoDDuxeH2pnw%3A1687786323773&source=hp&ei=U5OZZPXiLKjtkdUPyfeewAU&iflsig=AOEireoAAAAAZJmhY8KH5MtrCBZA6rjWTd9k9uo5Uclz&oq=cannabis&gs_lcp=Cgdnd3Mtd2l6EAEYADIOCAAQgAQQsQMQgwEQyQMyCAgAEIAEEJIDMgsIABCABBCxAxCDATIICAAQgAQQsQMyCAgAEIAEELEDMg4ILhCDARDUAhCxAxCABDILCAAQgAQQsQMQgwEyCAgAEIAEELEDMggIABCABBCxAzIFCAAQgAQ6BwgjEOoCECc6EQguEIAEELEDEIMBEMcBENEDOgUILhCABDoLCAAQigUQsQMQgwE6CwguEIAEEMcBENEDOgQIIxAnOgcIIxCKBRAnOgsILhCKBRCxAxCDAToRCC4QgwEQxwEQsQMQ0QMQgAQ6CwguEIAEELEDEIMBOggILhCABBCxA1DMKFjSRGCKbGgBcAB4AIABpAGIAboHkgEDMy41mAEAoAEBsAEK&sclient=gws-wiz\n",
      "- bundesgesundheitsministerium.de/presse/pressemitteilungen/eckpunkte-cannabis-12-04-23.html\n",
      "- aussiedlerbote.de/2023/04/predstavlen-zakonoproekt-o-legalizacii-kannabisa/\n",
      "- google.com/search?q=Gesetzen+zur+Cannabis-Legalisierung&oq=Gesetzen+zur+Cannabis-Legalisierung&gs_lcrp=EgZjaHJvbWUyBggAEEUYOdIBBzU4MmowajmoAgCwAgA&sourceid=chrome&ie=UTF-8\n",
      "- google.com/search?q=Wer+hat+den+Gesetzesentwurf+zur+Cannabis-Legalisierung+2022+eingereicht%3F&oq=Wer+hat+den+Gesetzesentwurf+zur+Cannabis-Legalisierung+2022+eingereicht%3F&gs_lcrp=EgZjaHJvbWUyBggAEEUYOdIBCDExODBqMGo5qAIAsAIA&sourceid=chrome&ie=UTF-8\n",
      "\n",
      "Topic: energie\n",
      "- google.com/search?q=Unter+welchem+Namen+sind+die+im+April+2022+beschlossenen+Gesetze+zu+erneuerbaren+Energien+auch+bekannt%3F&oq=Unter+welchem+Namen+sind+die+im+April+2022+beschlossenen+Gesetze+zu+erneuerbaren+Energien+auch+bekannt%3F&aqs=chrome..69i57.753j0j7&sourceid=chrome&ie=UTF-8\n",
      "- google.com/search?q=Unter+welchem+Namen+sind+die+im+April+2022+beschlossenen+Gesetze+zu+erneuerbaren+Energien+auch+bekannt%3F&oq=Unter+welchem+Namen+sind+die+im+April+2022+beschlossenen+Gesetze+zu+erneuerbaren+Energien+auch+bekannt%3F&aqs=chrome..69i57.753j0j7&sourceid=chrome&ie=UTF-8#ip=1\n",
      "- www.bing.com/search?q=+Gesetzesvorschlag+zur+F%C3%B6rderung+erneuerbarer+Energien.&form=ANSPH1&refig=9a9ba25cbf454c788bc1b62bec8eb852&pc=U531\n",
      "- www.bing.com/search?q=Gesetzesvorschlag%20zur%20F%C3%B6rderung%20erneuerbarer%20Energien.&pc=0ASL&ptag=C24N0012AF5A25A5E43&form=CONBNT&conlogo=CT3210127\n",
      "- www.umweltbundesamt.de/themen/klima-energie/erneuerbare-energien/erneuerbare-energien-gesetz#erfolg\n",
      "\n",
      "Topic: kinder\n",
      "- google.com/search?q=Kindergrundsicherung&sxsrf=APwXEde4L2wcdLyR3WX2BZDOETUzpitC9g%3A1686663418192&source=hp&ei=-nCIZPmiBondgAbspr-ABQ&iflsig=AOEireoAAAAAZIh_Cj3OYP3QOdx1FBVKPsEaAoLyfq98&ved=0ahUKEwj5h5HvrsD_AhWJLsAKHWzTD1AQ4dUDCAs&uact=5&oq=Kindergrundsicherung&gs_lcp=Cgdnd3Mtd2l6EAMyCAgAEIAEELEDMgUIABCABDIICAAQgAQQsQMyBQgAEIAEMgUIABCABDIFCAAQgAQyBQgAEIAEMgUIABCABDIFCAAQgAQyBQgAEIAEOgcIIxDqAhAnOgQIIxAnOgcIIxCKBRAnOhQILhCABBCxAxCDARDHARDRAxDUAjoLCC4QgAQQsQMQgwE6CwgAEIAEELEDEIMBOhEILhCABBCxAxCDARDHARDRAzoLCC4QgAQQxwEQ0QM6CwguEIAEEMcBEK8BOgsIABCKBRCxAxCDAToICAAQgAQQyQM6CAgAEIoFEJIDOg4IABCABBCxAxCDARDJA1D6MFjSa2DRcGgBcAB4AIABjwGIAbYKkgEEMTkuMZgBAKABAbABCg&sclient=gws-wiz\n",
      "- paritaet-bw.de/was-ist-kindergrundsicherung\n",
      "- einfach-elterngeld.de/kindergeld/kindergrundsicherung\n",
      "- google.com/search?q=Kindergrundsicherung+parteien&sxsrf=APwXEddSC7IzT7S-lEXxdrA_bExAwdWkaA%3A1686663434812&ei=CnGIZOWFMeGP9u8P3fCMuAE&ved=0ahUKEwjlsoz3rsD_AhXhh_0HHV04AxcQ4dUDCA8&uact=5&oq=Kindergrundsicherung+parteien&gs_lcp=Cgxnd3Mtd2l6LXNlcnAQAzIFCAAQgAQ6CggAEEcQ1gQQsAM6CggAEIAEEBQQhwI6BwgAEIoFEEM6CAgAEIAEELEDOgYIABAWEB5KBAhBGABQ2WxYvosBYO6aAWgBcAF4AIABaogBjgWSAQM4LjGYAQCgAQHAAQHIAQg&sclient=gws-wiz-serp\n",
      "- fr.de/politik/ampel-koalition-kindergrundsicherung-kuehnert-lindner-paus-armut-familien-lang-spd-gruene-fdp-92189961.html\n",
      "\n"
     ]
    }
   ],
   "source": [
    "# Convert the grouped URLs into a more readable format\n",
    "for topic, urls in grouped_urls.groupby(level=0):\n",
    "    print(f\"Topic: {topic}\")\n",
    "    for url in urls:\n",
    "        print(f\"- {url}\")\n",
    "    print() \n"
   ]
  },
  {
   "cell_type": "code",
   "execution_count": 17,
   "metadata": {},
   "outputs": [],
   "source": [
    "#filtered_df = df_annotations[df_annotations['is_direct_topic_full'] == \"True\" and ]\n",
    "#grouped_urls = filtered_df.groupby('topic').apply(lambda x: x['url'].drop_duplicates().head(5))"
   ]
  },
  {
   "cell_type": "markdown",
   "metadata": {},
   "source": []
  }
 ],
 "metadata": {
  "kernelspec": {
   "display_name": "s2j-content-analysis",
   "language": "python",
   "name": "python3"
  },
  "language_info": {
   "codemirror_mode": {
    "name": "ipython",
    "version": 3
   },
   "file_extension": ".py",
   "mimetype": "text/x-python",
   "name": "python",
   "nbconvert_exporter": "python",
   "pygments_lexer": "ipython3",
   "version": "3.10.8"
  }
 },
 "nbformat": 4,
 "nbformat_minor": 2
}
