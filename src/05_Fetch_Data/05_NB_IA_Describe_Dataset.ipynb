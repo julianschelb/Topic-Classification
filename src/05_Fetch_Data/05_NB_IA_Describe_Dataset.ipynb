{
 "cells": [
  {
   "cell_type": "markdown",
   "metadata": {},
   "source": [
    "## Describe Dataset"
   ]
  },
  {
   "cell_type": "code",
   "execution_count": 1,
   "metadata": {},
   "outputs": [],
   "source": [
    "import os\n",
    "import sys\n",
    "\n",
    "# Needed to import modules from parent directory\n",
    "module_path = os.path.abspath(os.path.join('..'))\n",
    "if module_path not in sys.path:\n",
    "    sys.path.append(module_path)"
   ]
  },
  {
   "cell_type": "code",
   "execution_count": 2,
   "metadata": {},
   "outputs": [
    {
     "name": "stderr",
     "output_type": "stream",
     "text": [
      "/home/jschelb/.pyenv/versions/3.10.8/envs/s2j-content-analysis/lib/python3.10/site-packages/tqdm/auto.py:21: TqdmWarning: IProgress not found. Please update jupyter and ipywidgets. See https://ipywidgets.readthedocs.io/en/stable/user_install.html\n",
      "  from .autonotebook import tqdm as notebook_tqdm\n"
     ]
    }
   ],
   "source": [
    "from utils.files import *\n",
    "from tqdm import tqdm\n",
    "import pandas as pd\n",
    "from datasets import load_dataset, load_from_disk, concatenate_datasets\n",
    "from collections import Counter"
   ]
  },
  {
   "cell_type": "code",
   "execution_count": 3,
   "metadata": {},
   "outputs": [],
   "source": [
    "topics = [\"kinder\", \"energie\", \"cannabis\"]"
   ]
  },
  {
   "cell_type": "code",
   "execution_count": 4,
   "metadata": {},
   "outputs": [
    {
     "name": "stdout",
     "output_type": "stream",
     "text": [
      "kinder\n",
      "Pos Class frequencies: Counter({0: 59098, 1: 265})\n",
      "energie\n",
      "Pos Class frequencies: Counter({0: 51975, 1: 275})\n",
      "cannabis\n",
      "Pos Class frequencies: Counter({0: 49714, 1: 261})\n"
     ]
    }
   ],
   "source": [
    "\n",
    "for topic in topics:\n",
    "    dataset = load_from_disk(f\"../../data/tmp/processed_dataset_{topic}_buffed\")\n",
    "    #dataset_holdout = load_from_disk(f\"../../data/tmp/processed_dataset_{topic}_buffed_holdout\" )\n",
    "    \n",
    "    print(topic)\n",
    "    label_counts = Counter(dataset['label'])\n",
    "    print(\"Pos Class frequencies:\", label_counts)\n"
   ]
  },
  {
   "cell_type": "code",
   "execution_count": 5,
   "metadata": {},
   "outputs": [
    {
     "name": "stdout",
     "output_type": "stream",
     "text": [
      "kinder\n",
      "Pos Class frequencies: Counter({1: 217, 0: 217})\n",
      "energie\n",
      "Pos Class frequencies: Counter({0: 236, 1: 236})\n",
      "cannabis\n",
      "Pos Class frequencies: Counter({0: 230, 1: 230})\n"
     ]
    }
   ],
   "source": [
    "for topic in topics:\n",
    "    dataset = load_from_disk(f\"../../data/tmp/processed_dataset_{topic}_buffed_random\")\n",
    "    #dataset_holdout = load_from_disk(f\"../../data/tmp/processed_dataset_{topic}_buffed_holdou\" )\n",
    "    \n",
    "    dataset_both = concatenate_datasets([dataset[\"train\"], dataset[\"test\"]])\n",
    "    \n",
    "    print(topic)\n",
    "    label_counts = Counter(dataset_both['label'])\n",
    "    print(\"Pos Class frequencies:\", label_counts)\n"
   ]
  },
  {
   "cell_type": "code",
   "execution_count": 6,
   "metadata": {},
   "outputs": [
    {
     "name": "stdout",
     "output_type": "stream",
     "text": [
      "kinder\n",
      "Pos Class frequencies: Counter({1: 1367, 0: 1323})\n",
      "energie\n",
      "Pos Class frequencies: Counter({1: 1653, 0: 1486})\n",
      "cannabis\n",
      "Pos Class frequencies: Counter({1: 1536, 0: 1468})\n"
     ]
    }
   ],
   "source": [
    "from collections import Counter\n",
    "\n",
    "\n",
    "for topic in topics:\n",
    "    dataset = load_from_disk(f\"../../data/tmp/processed_dataset_{topic}_buffed_chunkified_random_496\")\n",
    "    #dataset_holdout = load_from_disk(f\"../../data/tmp/processed_dataset_{topic}_buffed_holdou\" )\n",
    "    \n",
    "    print(topic)\n",
    "    dataset_both = concatenate_datasets([dataset[\"train\"], dataset[\"test\"]])\n",
    "\n",
    "    label_counts = Counter(dataset_both['label'])\n",
    "    print(\"Pos Class frequencies:\", label_counts)\n",
    "\n",
    "    \n",
    "\n",
    "    # print(dataset)"
   ]
  },
  {
   "cell_type": "code",
   "execution_count": 7,
   "metadata": {},
   "outputs": [
    {
     "name": "stdout",
     "output_type": "stream",
     "text": [
      "kinder\n",
      "Pos Class frequencies: Counter({1: 1367, 0: 1323})\n",
      "energie\n",
      "Pos Class frequencies: Counter({1: 1653, 0: 1486})\n",
      "cannabis\n",
      "Pos Class frequencies: Counter({1: 1536, 0: 1468})\n"
     ]
    }
   ],
   "source": [
    "from collections import Counter\n",
    "\n",
    "\n",
    "for topic in topics:\n",
    "    dataset = load_from_disk(f\"../../data/tmp/processed_dataset_{topic}_buffed_chunkified_random_496\")\n",
    "    #dataset_holdout = load_from_disk(f\"../../data/tmp/processed_dataset_{topic}_buffed_holdou\" )\n",
    "    \n",
    "    print(topic)\n",
    "    dataset_both = concatenate_datasets([dataset[\"train\"], dataset[\"test\"]])\n",
    "\n",
    "    label_counts = Counter(dataset_both['label'])\n",
    "    print(\"Pos Class frequencies:\", label_counts)\n",
    "\n",
    "    \n"
   ]
  },
  {
   "cell_type": "code",
   "execution_count": null,
   "metadata": {},
   "outputs": [],
   "source": []
  }
 ],
 "metadata": {
  "kernelspec": {
   "display_name": "s2j-content-analysis",
   "language": "python",
   "name": "python3"
  },
  "language_info": {
   "codemirror_mode": {
    "name": "ipython",
    "version": 3
   },
   "file_extension": ".py",
   "mimetype": "text/x-python",
   "name": "python",
   "nbconvert_exporter": "python",
   "pygments_lexer": "ipython3",
   "version": "3.10.8"
  }
 },
 "nbformat": 4,
 "nbformat_minor": 2
}
