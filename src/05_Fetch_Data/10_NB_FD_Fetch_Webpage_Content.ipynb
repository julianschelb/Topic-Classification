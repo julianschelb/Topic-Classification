{
 "cells": [
  {
   "cell_type": "markdown",
   "metadata": {},
   "source": [
    "## Fetch Webpage Content"
   ]
  },
  {
   "cell_type": "code",
   "execution_count": 1,
   "metadata": {},
   "outputs": [],
   "source": [
    "import os\n",
    "import sys\n",
    "\n",
    "# Needed to import modules from parent directory\n",
    "module_path = os.path.abspath(os.path.join('..'))\n",
    "if module_path not in sys.path:\n",
    "    sys.path.append(module_path)"
   ]
  },
  {
   "cell_type": "code",
   "execution_count": 2,
   "metadata": {},
   "outputs": [],
   "source": [
    "from utils.database import *\n",
    "from utils.files import *\n",
    "from tqdm import tqdm\n",
    "#from bson import ObjectId\n",
    "import pandas as pd \n",
    "import numpy as np"
   ]
  },
  {
   "cell_type": "markdown",
   "metadata": {},
   "source": [
    "## Setup"
   ]
  },
  {
   "cell_type": "code",
   "execution_count": 3,
   "metadata": {},
   "outputs": [],
   "source": [
    "load_dotenv()\n",
    "CONNECTION_STRING = os.getenv(\"CONNECTION_STRING\")\n",
    "DATABASE_NAME = os.getenv(\"DATABASE_NAME\")"
   ]
  },
  {
   "cell_type": "markdown",
   "metadata": {},
   "source": [
    "**Connect to database:**"
   ]
  },
  {
   "cell_type": "code",
   "execution_count": 6,
   "metadata": {},
   "outputs": [],
   "source": [
    "fs, db = getConnection(CONNECTION_STRING, DATABASE_NAME)"
   ]
  },
  {
   "cell_type": "markdown",
   "metadata": {},
   "source": [
    "## Fetch Page Content"
   ]
  },
  {
   "cell_type": "code",
   "execution_count": 7,
   "metadata": {},
   "outputs": [],
   "source": [
    "def fetchPages(\n",
    "    db,\n",
    "    limit: int = 0,\n",
    "    skip: int = 0,\n",
    "    query={},\n",
    "    fields: dict = {},\n",
    "    collection = 'pages.content.extracted.evaluation'\n",
    "):\n",
    "\n",
    "    tasks = db[collection].find(\n",
    "        query, fields).limit(limit).skip(skip)\n",
    "    return list(tasks)"
   ]
  },
  {
   "cell_type": "markdown",
   "metadata": {},
   "source": [
    "**Fetch Webpage Content in Batches:**"
   ]
  },
  {
   "cell_type": "code",
   "execution_count": 8,
   "metadata": {},
   "outputs": [],
   "source": [
    "batches = [15, 16, 17]"
   ]
  },
  {
   "cell_type": "code",
   "execution_count": 9,
   "metadata": {},
   "outputs": [
    {
     "name": "stdout",
     "output_type": "stream",
     "text": [
      "Number of documents where batch is in [15, 16, 17]: 3437316\n"
     ]
    }
   ],
   "source": [
    "total_count = db.pages.content.extracted.evaluation.count_documents({'batch_id': {'$in': batches}})\n",
    "print(f'Number of documents where batch is in {batches}: {total_count}')"
   ]
  },
  {
   "cell_type": "code",
   "execution_count": 7,
   "metadata": {},
   "outputs": [
    {
     "name": "stderr",
     "output_type": "stream",
     "text": [
      "Processing Documents: 100%|██████████| 3437316/3437316 [11:09<00:00, 5132.29 pages/s]"
     ]
    },
    {
     "name": "stdout",
     "output_type": "stream",
     "text": [
      "Data fetching and saving complete.\n"
     ]
    },
    {
     "name": "stderr",
     "output_type": "stream",
     "text": [
      "\n"
     ]
    }
   ],
   "source": [
    "query = {\"batch_id\": { \"$in\": batches }}\n",
    "fields = {'_id': 1,\n",
    "    'batch_id': 1,\n",
    "    'domain': 1,\n",
    "    'encoding': 1,\n",
    "    'file_id': 1,\n",
    "    'lang': 1,\n",
    "    'text': 1,\n",
    "    'text_length': 1,\n",
    "    'url': 1,\n",
    "    'word_count': 1,\n",
    "    'view_url': 1}\n",
    "\n",
    "# Define the batch size and initial skip\n",
    "batch_size = 100_000\n",
    "skip = 0\n",
    "\n",
    "# File path for the JSONL file\n",
    "#file_path = f\"../../data/raw/pages_labelled_{topic}_id_only.json\"\n",
    "file_path = f\"../../data/raw/pages_with_text.json\"\n",
    "\n",
    "# Check if the file exists and remove it\n",
    "if os.path.exists(file_path):\n",
    "    os.remove(file_path)\n",
    "\n",
    "# Initialize tqdm progress bar\n",
    "with tqdm(total=total_count, desc=\"Processing Documents\", unit=\" pages\", dynamic_ncols=True) as pbar:\n",
    "    while True:\n",
    "        # Fetch a batch of pages\n",
    "        pages = fetchPages(db, limit=batch_size, skip=skip, query=query, fields=fields)\n",
    "\n",
    "        # Break the loop if no more data is returned\n",
    "        if not pages:\n",
    "            break\n",
    "\n",
    "        # Convert the batch to a DataFrame\n",
    "        df_pages = pd.DataFrame(pages)\n",
    "\n",
    "        # Append the DataFrame to the JSONL file\n",
    "        df_pages.to_json(file_path, orient=\"records\", force_ascii=True, lines=True, \n",
    "                         default_handler=str, mode='a')\n",
    "\n",
    "        # Update the skip value for the next batch\n",
    "        batch_count = len(pages)\n",
    "        skip += batch_count\n",
    "\n",
    "        # Update tqdm progress bar\n",
    "        pbar.update(batch_count)\n",
    "\n",
    "print(\"Data fetching and saving complete.\")\n"
   ]
  }
 ],
 "metadata": {
  "kernelspec": {
   "display_name": "s2j-content-analysis",
   "language": "python",
   "name": "python3"
  },
  "language_info": {
   "codemirror_mode": {
    "name": "ipython",
    "version": 3
   },
   "file_extension": ".py",
   "mimetype": "text/x-python",
   "name": "python",
   "nbconvert_exporter": "python",
   "pygments_lexer": "ipython3",
   "version": "3.10.8"
  }
 },
 "nbformat": 4,
 "nbformat_minor": 2
}
