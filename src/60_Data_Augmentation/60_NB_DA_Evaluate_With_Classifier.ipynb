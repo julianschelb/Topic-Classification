{
 "cells": [
  {
   "cell_type": "markdown",
   "metadata": {},
   "source": [
    "## Data Augmentation: Evaluate"
   ]
  },
  {
   "cell_type": "code",
   "execution_count": null,
   "metadata": {},
   "outputs": [],
   "source": [
    "import os\n",
    "import sys\n",
    "\n",
    "# Needed to import modules from parent directory\n",
    "module_path = os.path.abspath(os.path.join('..'))\n",
    "if module_path not in sys.path:\n",
    "    sys.path.append(module_path)"
   ]
  },
  {
   "cell_type": "code",
   "execution_count": 1,
   "metadata": {},
   "outputs": [
    {
     "name": "stderr",
     "output_type": "stream",
     "text": [
      "/home/jschelb/.pyenv/versions/3.10.8/envs/s2j-content-analysis/lib/python3.10/site-packages/tqdm/auto.py:21: TqdmWarning: IProgress not found. Please update jupyter and ipywidgets. See https://ipywidgets.readthedocs.io/en/stable/user_install.html\n",
      "  from .autonotebook import tqdm as notebook_tqdm\n"
     ]
    }
   ],
   "source": [
    "from transformers import AutoTokenizer, AutoModelForSequenceClassification, TrainingArguments, Trainer\n",
    "from datasets import load_dataset, load_from_disk\n",
    "from sklearn.metrics import accuracy_score\n",
    "import random\n",
    "import numpy as np\n",
    "import torch\n",
    "import os"
   ]
  },
  {
   "cell_type": "markdown",
   "metadata": {},
   "source": [
    "## Set Random Seed for Reproducibility"
   ]
  },
  {
   "cell_type": "code",
   "execution_count": 2,
   "metadata": {},
   "outputs": [],
   "source": [
    "# Set a seed for random module\n",
    "random.seed(42)\n",
    "\n",
    "# Set a seed for numpy module\n",
    "np.random.seed(42)\n",
    "\n",
    "# Set a seed for torch module\n",
    "torch.manual_seed(42)\n",
    "torch.cuda.manual_seed(42)\n",
    "torch.backends.cudnn.deterministic = True\n",
    "torch.backends.cudnn.benchmark = False"
   ]
  },
  {
   "cell_type": "markdown",
   "metadata": {},
   "source": [
    "## Define Parameters"
   ]
  },
  {
   "cell_type": "code",
   "execution_count": 3,
   "metadata": {},
   "outputs": [],
   "source": [
    "topic = \"cannabis\""
   ]
  },
  {
   "cell_type": "code",
   "execution_count": 4,
   "metadata": {},
   "outputs": [],
   "source": [
    "model_name = \"deepset/gbert-large\""
   ]
  },
  {
   "cell_type": "code",
   "execution_count": 5,
   "metadata": {},
   "outputs": [],
   "source": [
    "# Define training arguments\n",
    "TRAINING_ARGS = TrainingArguments(\n",
    "    output_dir=\"./results\",\n",
    "    learning_rate=2e-5,\n",
    "    per_device_train_batch_size=4,\n",
    "    per_device_eval_batch_size=4,\n",
    "    num_train_epochs=2,\n",
    "    weight_decay=0.01,\n",
    "    logging_dir='./logs',            # directory for storing logs\n",
    "    logging_strategy=\"steps\",        # log training loss every specified number of steps\n",
    "    logging_steps=200,                # number of steps to log training loss\n",
    "    evaluation_strategy=\"steps\",     # evaluate model after a specified number of steps\n",
    "    eval_steps=200,                   # number of steps to evaluate model\n",
    ")"
   ]
  },
  {
   "cell_type": "markdown",
   "metadata": {},
   "source": [
    "## Load Dataset"
   ]
  },
  {
   "cell_type": "code",
   "execution_count": 6,
   "metadata": {},
   "outputs": [
    {
     "data": {
      "text/plain": [
       "DatasetDict({\n",
       "    train: Dataset({\n",
       "        features: ['_id', 'batch_id', 'domain', 'view_url', 'lang', 'text', 'text_length', 'word_count', 'is_topic', 'label', 'chunk_id'],\n",
       "        num_rows: 2651\n",
       "    })\n",
       "    test: Dataset({\n",
       "        features: ['_id', 'batch_id', 'domain', 'view_url', 'lang', 'text', 'text_length', 'word_count', 'is_topic', 'label', 'chunk_id'],\n",
       "        num_rows: 295\n",
       "    })\n",
       "    positive_sampled: Dataset({\n",
       "        features: ['_id', 'batch_id', 'domain', 'view_url', 'lang', 'text', 'text_length', 'word_count', 'is_topic', 'label', 'chunk_id'],\n",
       "        num_rows: 265\n",
       "    })\n",
       "    expanded_1: Dataset({\n",
       "        features: ['_id', 'batch_id', 'domain', 'view_url', 'lang', 'text', 'text_length', 'word_count', 'is_topic', 'label', 'chunk_id'],\n",
       "        num_rows: 265\n",
       "    })\n",
       "    expanded_2: Dataset({\n",
       "        features: ['_id', 'batch_id', 'domain', 'view_url', 'lang', 'text', 'text_length', 'word_count', 'is_topic', 'label', 'chunk_id'],\n",
       "        num_rows: 530\n",
       "    })\n",
       "    expanded_3: Dataset({\n",
       "        features: ['_id', 'batch_id', 'domain', 'view_url', 'lang', 'text', 'text_length', 'word_count', 'is_topic', 'label', 'chunk_id'],\n",
       "        num_rows: 795\n",
       "    })\n",
       "})"
      ]
     },
     "execution_count": 6,
     "metadata": {},
     "output_type": "execute_result"
    }
   ],
   "source": [
    "dataset = load_from_disk(f\"../../data/tmp/augmented_dataset_{topic}_word_replacement\")\n",
    "dataset"
   ]
  },
  {
   "cell_type": "code",
   "execution_count": null,
   "metadata": {},
   "outputs": [],
   "source": []
  },
  {
   "cell_type": "markdown",
   "metadata": {},
   "source": [
    "## Train Models"
   ]
  },
  {
   "cell_type": "code",
   "execution_count": 7,
   "metadata": {},
   "outputs": [],
   "source": [
    "def compute_metrics(p):\n",
    "    preds = np.argmax(p.predictions, axis=1)\n",
    "    return {\"accuracy\": accuracy_score(p.label_ids, preds)}"
   ]
  },
  {
   "cell_type": "code",
   "execution_count": 8,
   "metadata": {},
   "outputs": [],
   "source": [
    "datasets_splits = ['positive_sampled', 'expanded_1', 'expanded_2', 'expanded_3', \"train\"]#, #'expanded_4', 'expanded_5']\n",
    "\n",
    "negative_samples = dataset[\"train\"].filter(lambda x: x['label'] == 0)"
   ]
  },
  {
   "cell_type": "code",
   "execution_count": 9,
   "metadata": {},
   "outputs": [],
   "source": [
    "from datasets import concatenate_datasets\n",
    "from sklearn.utils.class_weight import compute_class_weight\n",
    "import numpy as np\n",
    "from torch import nn"
   ]
  },
  {
   "cell_type": "code",
   "execution_count": 10,
   "metadata": {},
   "outputs": [],
   "source": [
    "def balance_and_discard_classes(dataset, label_column='label'):\n",
    "    \"\"\" Balance the dataset by randomly sampling the same number of examples for each class.\"\"\"\n",
    "    \n",
    "    # Aggregate indices by class\n",
    "    class_indices = {label: [i for i, example in enumerate(dataset) if example[label_column] == label] \n",
    "                     for label in set(dataset[label_column])}\n",
    "    \n",
    "    # Determine the size of the smallest class for balancing\n",
    "    min_class_size = min(len(indices) for indices in class_indices.values())\n",
    "    \n",
    "    # Randomly sample indices from each class to match the smallest class size\n",
    "    balanced_indices = [index for indices in class_indices.values() for index in random.sample(indices, min_class_size)]\n",
    "    random.shuffle(balanced_indices)\n",
    "    \n",
    "    # Determine discarded indices by finding the difference between all indices and the balanced ones\n",
    "    all_indices = set(range(len(dataset)))\n",
    "    discarded_indices = list(all_indices - set(balanced_indices))\n",
    "    \n",
    "    # Select the balanced and discarded indices to create new datasets\n",
    "    balanced_dataset = dataset.select(balanced_indices)\n",
    "    discarded_dataset = dataset.select(discarded_indices)\n",
    "    \n",
    "    return balanced_dataset, discarded_dataset"
   ]
  },
  {
   "cell_type": "code",
   "execution_count": 11,
   "metadata": {},
   "outputs": [],
   "source": [
    "# balanced_dataset, discarded_dataset = balance_and_discard_classes(dataset, 'label')\n",
    "\n",
    "# print(f\"Balanced dataset size: {len(balanced_dataset)}\")\n",
    "# print(f\"Discarded dataset size: {len(discarded_dataset)}\")"
   ]
  },
  {
   "cell_type": "code",
   "execution_count": 12,
   "metadata": {},
   "outputs": [],
   "source": [
    "def get_predictions(tokenized_datasets, tokenizer, model, device):\n",
    "    \"\"\"Use the trained model to make predictions on the test set.\"\"\"\n",
    "    \n",
    "    preds = []\n",
    "    labels = []\n",
    "    for row in tokenized_datasets:\n",
    "        # Encode the text inputs\n",
    "        inputs = tokenizer(row[\"text\"], return_tensors=\"pt\", padding=True, truncation=True)\n",
    "        with torch.no_grad():\n",
    "            # Forward pass\n",
    "            outputs = model(**inputs.to(device))\n",
    "            # Apply softmax to logits to get probabilities\n",
    "            predictions = torch.nn.functional.softmax(outputs.logits, dim=-1)\n",
    "            # Get the predicted class (the one with the highest probability)\n",
    "            predicted_class = torch.argmax(predictions).item()\n",
    "        \n",
    "        # Store the predictions and labels\n",
    "        preds.append(predicted_class)\n",
    "        labels.append(row[\"label\"])\n",
    "    \n",
    "    return preds, labels"
   ]
  },
  {
   "cell_type": "code",
   "execution_count": 13,
   "metadata": {},
   "outputs": [],
   "source": [
    "from sklearn.metrics import accuracy_score, precision_score, recall_score, f1_score\n",
    "\n",
    "def calc_metrics(labels, preds):\n",
    "    \"\"\"\n",
    "    Calculates the accuracy, precision, recall, and F1 score for the given labels and predictions and returns them in a dictionary.\n",
    "    \"\"\"\n",
    "    \n",
    "    metrics = {\n",
    "        'accuracy': accuracy_score(labels, preds),\n",
    "        'precision': precision_score(labels, preds, average='binary'),\n",
    "        'recall': recall_score(labels, preds, average='binary'),\n",
    "        'f1': f1_score(labels, preds, average='binary'),\n",
    "    }\n",
    "\n",
    "    return metrics\n"
   ]
  },
  {
   "cell_type": "code",
   "execution_count": 14,
   "metadata": {},
   "outputs": [
    {
     "name": "stdout",
     "output_type": "stream",
     "text": [
      "Loading dataset for positive_sampled\n",
      "Dataset size 1589\n",
      "Class frequencies: Counter({1: 265, 0: 265})\n"
     ]
    },
    {
     "name": "stderr",
     "output_type": "stream",
     "text": [
      "Some weights of BertForSequenceClassification were not initialized from the model checkpoint at deepset/gbert-large and are newly initialized: ['classifier.weight', 'classifier.bias']\n",
      "You should probably TRAIN this model on a down-stream task to be able to use it for predictions and inference.\n",
      "Map: 100%|██████████| 530/530 [00:00<00:00, 2919.69 examples/s]\n"
     ]
    },
    {
     "name": "stdout",
     "output_type": "stream",
     "text": [
      "Class weights tensor([1., 1.])\n"
     ]
    },
    {
     "name": "stderr",
     "output_type": "stream",
     "text": [
      "/home/jschelb/.pyenv/versions/3.10.8/envs/s2j-content-analysis/lib/python3.10/site-packages/torch/nn/parallel/_functions.py:68: UserWarning: Was asked to gather along dimension 0, but all input tensors were scalars; will instead unsqueeze and return a vector.\n",
      "  warnings.warn('Was asked to gather along dimension 0, but all '\n"
     ]
    },
    {
     "data": {
      "text/html": [
       "\n",
       "    <div>\n",
       "      \n",
       "      <progress value='134' max='134' style='width:300px; height:20px; vertical-align: middle;'></progress>\n",
       "      [134/134 02:15, Epoch 2/2]\n",
       "    </div>\n",
       "    <table border=\"1\" class=\"dataframe\">\n",
       "  <thead>\n",
       " <tr style=\"text-align: left;\">\n",
       "      <th>Step</th>\n",
       "      <th>Training Loss</th>\n",
       "      <th>Validation Loss</th>\n",
       "    </tr>\n",
       "  </thead>\n",
       "  <tbody>\n",
       "  </tbody>\n",
       "</table><p>"
      ],
      "text/plain": [
       "<IPython.core.display.HTML object>"
      ]
     },
     "metadata": {},
     "output_type": "display_data"
    },
    {
     "data": {
      "text/html": [
       "\n",
       "    <div>\n",
       "      \n",
       "      <progress value='37' max='37' style='width:300px; height:20px; vertical-align: middle;'></progress>\n",
       "      [37/37 00:13]\n",
       "    </div>\n",
       "    "
      ],
      "text/plain": [
       "<IPython.core.display.HTML object>"
      ]
     },
     "metadata": {},
     "output_type": "display_data"
    },
    {
     "name": "stdout",
     "output_type": "stream",
     "text": [
      "Eval Results: {'eval_loss': 0.236639603972435, 'eval_accuracy': 0.9254237288135593, 'eval_runtime': 13.8001, 'eval_samples_per_second': 21.377, 'eval_steps_per_second': 2.681, 'epoch': 2.0}\n"
     ]
    }
   ],
   "source": [
    "from collections import Counter\n",
    "\n",
    "\n",
    "eval_result_list = {}\n",
    "\n",
    "for split in datasets_splits: #----------------------------------------------------------------------\n",
    "    \n",
    "    print(f\"Loading dataset for {split}\")\n",
    "\n",
    "    ################################## COMPILE DATASET ##################################\n",
    "    \n",
    "    if split == 'positive_sampled':\n",
    "        dataset_augmented = concatenate_datasets([negative_samples, dataset[split]])\n",
    "    elif split == 'train':\n",
    "        dataset_augmented = dataset[\"train\"] \n",
    "    else:\n",
    "        positive_sampled = dataset[\"positive_sampled\"] \n",
    "        generated_samples = dataset[split]\n",
    "        dataset_augmented = concatenate_datasets([negative_samples, positive_sampled, generated_samples])\n",
    "        print(\"Dataset generated samples\", len(generated_samples))\n",
    "    \n",
    "    ################################## Balance Classes ##################################\n",
    "    \n",
    "    dataset_augmented, _ = balance_and_discard_classes(dataset_augmented, 'label')\n",
    "    label_counts = Counter(dataset_augmented['label'])\n",
    "    print(\"Dataset size\", len(dataset_augmented))\n",
    "    print(\"Class frequencies:\", label_counts)\n",
    "    \n",
    "    ################################## Load Model ##################################\n",
    "    \n",
    "    # Load model and tokenizer\n",
    "    tokenizer = AutoTokenizer.from_pretrained(model_name)\n",
    "    model = AutoModelForSequenceClassification.from_pretrained(model_name, num_labels=2)\n",
    "    \n",
    "    ################################## Tokenize Dataset ##################################\n",
    "    \n",
    "    # Tokenize dataset\n",
    "    tokenized_dataset_train = dataset_augmented.map(lambda examples: \n",
    "        tokenizer(examples[\"text\"], padding=\"max_length\", truncation=True), \n",
    "        batched=True)\n",
    "    \n",
    "    tokenized_dataset_test = dataset[\"test\"].map(lambda examples: \n",
    "        tokenizer(examples[\"text\"], padding=\"max_length\", truncation=True), \n",
    "        batched=True)\n",
    "    \n",
    "    # Shuffle both datasets\n",
    "    tokenized_dataset_train = tokenized_dataset_train.shuffle(seed=42)\n",
    "    tokenized_dataset_test = tokenized_dataset_test.shuffle(seed=42)\n",
    "    \n",
    "    ################################## Class Weights ##################################\n",
    "\n",
    "    # Calculate class weights inversely proportional to class frequencies\n",
    "    labels = dataset_augmented['label']\n",
    "    class_weights = compute_class_weight(class_weight='balanced', classes=np.unique(labels), y=labels)\n",
    "    class_weights_tensor = torch.tensor(class_weights, dtype=torch.float)\n",
    "    print(\"Class weights\",class_weights_tensor)\n",
    "    \n",
    "    ################################## Train Model ##################################\n",
    "    \n",
    "    class CustomTrainer(Trainer):\n",
    "        def compute_loss(self, model, inputs, return_outputs=False):\n",
    "            labels = inputs.get(\"labels\")\n",
    "            # forward pass\n",
    "            outputs = model(**inputs)\n",
    "            logits = outputs.get('logits')\n",
    "            # compute custom loss\n",
    "            loss_fct = nn.CrossEntropyLoss(weight=class_weights_tensor)\n",
    "            loss = loss_fct(logits.view(-1, self.model.config.num_labels), labels.view(-1))\n",
    "            return (loss, outputs) if return_outputs else loss\n",
    "\n",
    "    # Create a Trainer object\n",
    "    trainer = Trainer(\n",
    "        model=model,\n",
    "        args=TRAINING_ARGS,\n",
    "        train_dataset=tokenized_dataset_train,\n",
    "        eval_dataset=tokenized_dataset_test,\n",
    "        compute_metrics=compute_metrics\n",
    "    )\n",
    "    \n",
    "    # Train the model\n",
    "    trainer.train()\n",
    "    \n",
    "    ################################## EVALUATE ##################################\n",
    "    \n",
    "    # Evaluate the model\n",
    "    eval_results = trainer.evaluate(tokenized_dataset_test)\n",
    "    print(\"Eval Results:\", eval_results)  \n",
    "    \n",
    "    # Use the trained model to make predictions on the test set\n",
    "    preds, labels = get_predictions(tokenized_dataset_test, tokenizer, model, \"cuda\")\n",
    "    metrics = calc_metrics(labels, preds)\n",
    "    eval_result_list[split] = metrics\n",
    "    \n",
    "    ################################## Save MODEL ##################################\n",
    "    \n",
    "    # # Save the model\n",
    "    # local_path = f\"../models/{model_name.replace('/','_')}_{topic}_model\"\n",
    "    # trainer.save_model(local_path)\n",
    "    # tokenizer.save_pretrained(local_path)\n",
    "    \n",
    "     ################################## CLEAR GPU ##################################\n",
    "     \n",
    "    # Clear GPU memory to avoid memory errors\n",
    "    del model, tokenizer, tokenized_dataset_test, tokenized_dataset_train, trainer\n",
    "    torch.cuda.empty_cache()\n",
    "        "
   ]
  },
  {
   "cell_type": "code",
   "execution_count": 15,
   "metadata": {},
   "outputs": [
    {
     "name": "stdout",
     "output_type": "stream",
     "text": [
      "{'positive_sampled': {'accuracy': 0.9254237288135593, 'precision': 0.9133333333333333, 'recall': 0.9383561643835616, 'f1': 0.9256756756756757}}\n"
     ]
    }
   ],
   "source": [
    "print(eval_result_list)"
   ]
  },
  {
   "cell_type": "code",
   "execution_count": 10,
   "metadata": {},
   "outputs": [
    {
     "data": {
      "image/png": "[encoded data removed]",
      "text/plain": [
       "<Figure size 1000x600 with 1 Axes>"
      ]
     },
     "metadata": {},
     "output_type": "display_data"
    }
   ],
   "source": [
    "import matplotlib.pyplot as plt\n",
    "from itertools import cycle\n",
    "\n",
    "#Example dictionary with evaluation results per dataset\n",
    "results = {\n",
    "'positive_sampled': {'accuracy': 0.9254237288135593, 'precision': 0.9133333333333333, 'recall': 0.9383561643835616, 'f1': 0.9256756756756757}, 'expanded_1': {'accuracy': 0.9254237288135593, 'precision': 0.918918918918919, 'recall': 0.9315068493150684, 'f1': 0.9251700680272109}, 'expanded_2': {'accuracy': 0.9457627118644067, 'precision': 0.9391891891891891, 'recall': 0.952054794520548, 'f1': 0.9455782312925171},  'train': {'accuracy': 0.9593220338983051, 'precision': 0.9407894736842105, 'recall': 0.9794520547945206, 'f1': 0.959731543624161}}\n",
    "\n",
    "\n",
    "#results = eval_result_list\n",
    "\n",
    "metrics = list(results[next(iter(results))].keys())\n",
    "datasets = list(results.keys())\n",
    "\n",
    "# Extendable setup for plotting\n",
    "colors = cycle(['b', 'g', 'r', 'c', 'm', 'y', 'k'])  # Add more colors if needed\n",
    "markers = cycle(['o', '^', 's', 'd', 'p', '*', 'x'])  # Add more markers if needed\n",
    "\n",
    "plt.figure(figsize=(10, 6))\n",
    "for metric in metrics:\n",
    "    metric_values = [results[dataset][metric] for dataset in datasets]\n",
    "    plt.plot(datasets, metric_values, marker=next(markers), color=next(colors), label=metric.capitalize())\n",
    "\n",
    "plt.xlabel('Dataset')\n",
    "plt.ylabel('Metric Value')\n",
    "plt.title('Evaluation Metrics per Dataset')\n",
    "plt.xticks(rotation=45)\n",
    "plt.legend()\n",
    "plt.tight_layout()\n",
    "plt.show()"
   ]
  },
  {
   "cell_type": "markdown",
   "metadata": {},
   "source": [
    "## Save and Output Results"
   ]
  },
  {
   "cell_type": "code",
   "execution_count": 17,
   "metadata": {},
   "outputs": [],
   "source": [
    "from tabulate import tabulate"
   ]
  },
  {
   "cell_type": "code",
   "execution_count": 18,
   "metadata": {},
   "outputs": [],
   "source": [
    "import json\n",
    "\n",
    "# Define the file path to save the dictionary\n",
    "file_path = f\"eval_results_da_wr_{topic}.json\"\n",
    "\n",
    "# Save the dictionary to disk as JSON\n",
    "with open(file_path, \"w\") as file:\n",
    "    json.dump(eval_results, file)\n"
   ]
  },
  {
   "cell_type": "code",
   "execution_count": 4,
   "metadata": {},
   "outputs": [],
   "source": [
    "import json\n",
    "\n",
    "# Define the file path where the JSON data is saved\n",
    "file_path = f\"eval_results_da_wr_{topic}.json\"\n",
    "\n",
    "# Load the dictionary from the JSON file\n",
    "with open(file_path, \"r\") as file:\n",
    "    eval_results = json.load(file)\n"
   ]
  },
  {
   "cell_type": "code",
   "execution_count": 6,
   "metadata": {},
   "outputs": [
    {
     "data": {
      "text/plain": [
       "{'eval_loss': 0.16313880681991577,\n",
       " 'eval_accuracy': 0.9593220338983051,\n",
       " 'eval_runtime': 13.715,\n",
       " 'eval_samples_per_second': 21.509,\n",
       " 'eval_steps_per_second': 2.698,\n",
       " 'epoch': 2.0}"
      ]
     },
     "execution_count": 6,
     "metadata": {},
     "output_type": "execute_result"
    }
   ],
   "source": [
    "eval_results"
   ]
  },
  {
   "cell_type": "code",
   "execution_count": null,
   "metadata": {},
   "outputs": [],
   "source": []
  }
 ],
 "metadata": {
  "kernelspec": {
   "display_name": "s2j-content-analysis",
   "language": "python",
   "name": "python3"
  },
  "language_info": {
   "codemirror_mode": {
    "name": "ipython",
    "version": 3
   },
   "file_extension": ".py",
   "mimetype": "text/x-python",
   "name": "python",
   "nbconvert_exporter": "python",
   "pygments_lexer": "ipython3",
   "version": "3.10.8"
  }
 },
 "nbformat": 4,
 "nbformat_minor": 2
}
