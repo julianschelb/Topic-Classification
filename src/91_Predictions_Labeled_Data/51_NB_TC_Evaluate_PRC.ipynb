{
 "cells": [
  {
   "cell_type": "markdown",
   "metadata": {},
   "source": [
    "## Evaluate Classifiers"
   ]
  },
  {
   "cell_type": "code",
   "execution_count": 1,
   "metadata": {},
   "outputs": [
    {
     "name": "stderr",
     "output_type": "stream",
     "text": [
      "/home/jschelb/.pyenv/versions/3.10.8/envs/s2j-content-analysis/lib/python3.10/site-packages/tqdm/auto.py:21: TqdmWarning: IProgress not found. Please update jupyter and ipywidgets. See https://ipywidgets.readthedocs.io/en/stable/user_install.html\n",
      "  from .autonotebook import tqdm as notebook_tqdm\n"
     ]
    }
   ],
   "source": [
    "from sklearn.metrics import accuracy_score, precision_score, recall_score, f1_score\n",
    "from transformers import AutoTokenizer, AutoModelForSequenceClassification, TrainingArguments, Trainer\n",
    "from datasets import load_dataset, load_from_disk, concatenate_datasets\n",
    "from sklearn.metrics import accuracy_score\n",
    "import random\n",
    "from tqdm import tqdm\n",
    "import numpy as np\n",
    "import torch\n",
    "import os"
   ]
  },
  {
   "cell_type": "markdown",
   "metadata": {},
   "source": [
    "## Set Random Seed for Reproducibility"
   ]
  },
  {
   "cell_type": "code",
   "execution_count": 2,
   "metadata": {},
   "outputs": [],
   "source": [
    "# Set a seed for random module\n",
    "random.seed(42)\n",
    "\n",
    "# Set a seed for numpy module\n",
    "np.random.seed(42)\n",
    "\n",
    "# Set a seed for torch module\n",
    "torch.manual_seed(42)\n",
    "torch.cuda.manual_seed(42)\n",
    "torch.backends.cudnn.deterministic = True\n",
    "torch.backends.cudnn.benchmark = False"
   ]
  },
  {
   "cell_type": "markdown",
   "metadata": {},
   "source": [
    "## Define Parameters"
   ]
  },
  {
   "cell_type": "code",
   "execution_count": 3,
   "metadata": {},
   "outputs": [],
   "source": [
    "SAMPLING = \"random\" # \"random\", \"stratified\", \"clustered\", \"shared_domain\"\n",
    "SUFFIX = \"_extended\" #\"\", \"_holdout\", \"_extended\"\n",
    "SPLITS = ['train', 'test', 'holdout', 'extended', 'holdout_url', 'extended_url']\n",
    "MAX_CONTENT_LENGTH = 384 # 496, 192\n",
    "OVERLAP = 64\n",
    "FEATURES = \"url_and_content\" # \"url\", \"content\", \"url_and_content\""
   ]
  },
  {
   "cell_type": "code",
   "execution_count": 4,
   "metadata": {},
   "outputs": [],
   "source": [
    "TOPIC = \"energie\" # \"cannabis\", \"kinder\", \"energie\"\n",
    "MODEL = \"deepset/gbert-large\" #gbert-base, gbert-large, deepset/gelectra-base, deepset/gelectra-large"
   ]
  },
  {
   "cell_type": "markdown",
   "metadata": {},
   "source": [
    "## Helpers"
   ]
  },
  {
   "cell_type": "code",
   "execution_count": 5,
   "metadata": {},
   "outputs": [],
   "source": [
    "from tabulate import tabulate\n",
    "from IPython.display import display, HTML\n",
    "\n",
    "def display_metrics_table(eval_results):\n",
    "    \"\"\"\n",
    "    Display evaluation metrics as an HTML table.\n",
    "\n",
    "    Parameters:\n",
    "    eval_results (dict): A dictionary where keys are split names (e.g., 'train', 'test')\n",
    "                         and values are dictionaries containing 'metrics' and 'count'.\n",
    "    \"\"\"\n",
    "    # Prepare headers for the table\n",
    "    headers = [\"Split\", \"Accuracy\", \"Precision\", \"Recall\", \"F1 Score\", \"Count\"]\n",
    "\n",
    "    # Prepare rows\n",
    "    rows = []\n",
    "    for split, data in eval_results.items():\n",
    "        metrics = data.get(\"metrics\", {})\n",
    "        count = data.get(\"count\", 0)\n",
    "        row = [\n",
    "            split,\n",
    "            metrics.get('accuracy', 0.0),\n",
    "            metrics.get('precision', 0.0),\n",
    "            metrics.get('recall', 0.0),\n",
    "            metrics.get('f1', 0.0),\n",
    "            count\n",
    "        ]\n",
    "        rows.append(row)\n",
    "\n",
    "    # Generate the HTML table\n",
    "    table_html = tabulate(rows, headers=headers, tablefmt=\"html\", floatfmt=\".3f\")\n",
    "\n",
    "    # Display the HTML table\n",
    "    display(HTML(table_html))\n"
   ]
  },
  {
   "cell_type": "markdown",
   "metadata": {},
   "source": [
    "## Evaluate Models"
   ]
  },
  {
   "cell_type": "code",
   "execution_count": 6,
   "metadata": {},
   "outputs": [],
   "source": [
    "def calc_metrics(labels, preds):\n",
    "    \"\"\"\n",
    "    Calculates the accuracy, precision, recall, and F1 score for the given labels and predictions and returns them in a dictionary.\n",
    "    \"\"\"\n",
    "    \n",
    "    metrics = {\n",
    "        'accuracy': accuracy_score(labels, preds),\n",
    "        'precision': precision_score(labels, preds, average='binary'),\n",
    "        'recall': recall_score(labels, preds, average='binary'),\n",
    "        'f1': f1_score(labels, preds, average='binary'),\n",
    "    }\n",
    "\n",
    "    return metrics"
   ]
  },
  {
   "cell_type": "markdown",
   "metadata": {},
   "source": [
    "## Load Predictions"
   ]
  },
  {
   "cell_type": "code",
   "execution_count": 7,
   "metadata": {},
   "outputs": [],
   "source": [
    "dataset = load_from_disk(f\"../../data_ccu/tmp/processed_dataset_{TOPIC}_buffed_chunkified_{SAMPLING}{SUFFIX}_{MAX_CONTENT_LENGTH}_with_urls_{MODEL.split('/')[1]}_{FEATURES}_with_predictions\")"
   ]
  },
  {
   "cell_type": "code",
   "execution_count": 8,
   "metadata": {},
   "outputs": [
    {
     "data": {
      "text/plain": [
       "DatasetDict({\n",
       "    train: Dataset({\n",
       "        features: ['_id', 'batch_id', 'domain', 'view_url', 'lang', 'text', 'text_length', 'word_count', 'topic', 'category', 'good_for_training', 'good_for_augmentation', 'annotation_type', 'is_topic', 'label', 'token_count', 'chunk_id', 'url_path', 'preds', 'probas'],\n",
       "        num_rows: 4227\n",
       "    })\n",
       "    test: Dataset({\n",
       "        features: ['_id', 'batch_id', 'domain', 'view_url', 'lang', 'text', 'text_length', 'word_count', 'topic', 'category', 'good_for_training', 'good_for_augmentation', 'annotation_type', 'is_topic', 'label', 'token_count', 'chunk_id', 'url_path', 'preds', 'probas'],\n",
       "        num_rows: 579\n",
       "    })\n",
       "    holdout: Dataset({\n",
       "        features: ['_id', 'batch_id', 'domain', 'view_url', 'lang', 'text', 'text_length', 'word_count', 'topic', 'category', 'good_for_training', 'good_for_augmentation', 'annotation_type', 'is_topic', 'label', 'token_count', 'chunk_id', 'url_path', 'preds', 'probas'],\n",
       "        num_rows: 39782\n",
       "    })\n",
       "    extended: Dataset({\n",
       "        features: ['_id', 'batch_id', 'domain', 'view_url', 'lang', 'text', 'text_length', 'word_count', 'topic', 'category', 'good_for_training', 'good_for_augmentation', 'annotation_type', 'is_topic', 'label', 'token_count', 'chunk_id', 'url_path', 'preds', 'probas'],\n",
       "        num_rows: 229661\n",
       "    })\n",
       "    holdout_url: Dataset({\n",
       "        features: ['_id', 'batch_id', 'domain', 'view_url', 'lang', 'text', 'text_length', 'word_count', 'topic', 'category', 'good_for_training', 'good_for_augmentation', 'annotation_type', 'is_topic', 'label', 'token_count', 'chunk_id', 'url_path', 'preds', 'probas'],\n",
       "        num_rows: 1245\n",
       "    })\n",
       "    extended_url: Dataset({\n",
       "        features: ['_id', 'batch_id', 'domain', 'view_url', 'lang', 'text', 'text_length', 'word_count', 'topic', 'category', 'good_for_training', 'good_for_augmentation', 'annotation_type', 'is_topic', 'label', 'token_count', 'chunk_id', 'url_path', 'preds', 'probas'],\n",
       "        num_rows: 41908\n",
       "    })\n",
       "})"
      ]
     },
     "execution_count": 8,
     "metadata": {},
     "output_type": "execute_result"
    }
   ],
   "source": [
    "dataset"
   ]
  },
  {
   "cell_type": "code",
   "execution_count": 9,
   "metadata": {},
   "outputs": [
    {
     "data": {
      "text/plain": [
       "{'_id': '64a0946e749484eec856370d',\n",
       " 'batch_id': 16,\n",
       " 'domain': 'campact.de',\n",
       " 'view_url': 'aktion.campact.de/datenschutz/schufa-bonify/teilnehmen?utm_medium=email&utm_source=campact_mailing&utm_campaign=20230622-as-hv-schufa-3-aktiv-und-neu-v3-nein-button&utm_content=variation-a&utm_term=link1',\n",
       " 'lang': 'de',\n",
       " 'text': 'Schufa: Finger weg von meinem Konto Schufa: Finger weg von meinem Konto Bereits 238.861 Unterzeichner*innen. Wer eine Wohnung mieten oder einen Kredit aufnehmen will, ist oft abhängig von der Bewertung der Schufa. Jetzt will Deutschlands größte Auskunftei Dich dazu verführen, auch Deine Kontodaten preiszugeben. Ob Gehalt oder Kontostand – all das könnte die Schufa sehen. Wir finden: Unsere Konten gehen die Schufa nichts an. Unterzeichne jetzt unseren Appell! Unsere Forderung Appell-Empfängerin Tanja Birkholz, Vorstandsvorsitzende der Schufa Holding AG Bewertungen durch die Schufa sind für Menschen immer wieder entscheidend dafür, ob sie eine Wohnung, einen Kredit oder einen Mobilfunkvertrag bekommen. Künftig wollen Sie Menschen dazu verführen, der Schufa über die Bonify-App auch noch sensible Kontoinformationen zu liefern. Die Schufa könnte Menschen so noch intensiver durchleuchten und würde damit mächtiger. Sie sagen, die Nutzenden könnten selbst entscheiden, ob sie ihre Kontodaten an die Schufa liefern wollen. Tatsächlich aber setzen Sie viele Menschen massiv unter Druck: Wer nur mit verbesserter Bewertung Chancen auf eine Wohnung hat, hat bei der Datenweitergabe keine echte Wahl. Deshalb fordern wir: Finger weg von unseren Bankkonten: Die Schufa soll jeglichen Plänen, an die Kontoinformationen Dritter zu gelangen, eine klare Absage erteilen – ob per Bonify oder bei zukünftigen Projekten',\n",
       " 'text_length': 1412,\n",
       " 'word_count': 201,\n",
       " 'topic': 'energie',\n",
       " 'category': 'news',\n",
       " 'good_for_training': 'True',\n",
       " 'good_for_augmentation': 'True',\n",
       " 'annotation_type': '04.urls-with-title',\n",
       " 'is_topic': False,\n",
       " 'label': 0,\n",
       " 'token_count': 321,\n",
       " 'chunk_id': 0,\n",
       " 'url_path': 'datenschutz/schufa-bonify/teilnehmen?utm_medium=email&utm_source=campact_mailing&utm_campaign=20230622-as-hv-schufa-3-aktiv-und-neu-v3-nein-button&utm_content=variation-a&utm_term=link1',\n",
       " 'preds': 0,\n",
       " 'probas': 2.0230478185112588e-05}"
      ]
     },
     "execution_count": 9,
     "metadata": {},
     "output_type": "execute_result"
    }
   ],
   "source": [
    "dataset[\"test\"][0]"
   ]
  },
  {
   "cell_type": "markdown",
   "metadata": {},
   "source": [
    "## Precision-Recall Curves"
   ]
  },
  {
   "cell_type": "code",
   "execution_count": 10,
   "metadata": {},
   "outputs": [
    {
     "name": "stderr",
     "output_type": "stream",
     "text": [
      "100%|██████████| 4227/4227 [00:00<00:00, 6442.63it/s]\n"
     ]
    },
    {
     "name": "stdout",
     "output_type": "stream",
     "text": [
      "Metrics for deepset/gbert-large on energie: {'accuracy': 0.9975369458128078, 'precision': 1.0, 'recall': 0.995049504950495, 'f1': 0.9975186104218362}\n"
     ]
    },
    {
     "name": "stderr",
     "output_type": "stream",
     "text": [
      "100%|██████████| 579/579 [00:00<00:00, 6267.17it/s]\n"
     ]
    },
    {
     "name": "stdout",
     "output_type": "stream",
     "text": [
      "Metrics for deepset/gbert-large on energie: {'accuracy': 0.9782608695652174, 'precision': 0.9583333333333334, 'recall': 1.0, 'f1': 0.9787234042553191}\n"
     ]
    },
    {
     "name": "stderr",
     "output_type": "stream",
     "text": [
      "100%|██████████| 39782/39782 [00:06<00:00, 6508.57it/s]\n",
      "/home/jschelb/.pyenv/versions/3.10.8/envs/s2j-content-analysis/lib/python3.10/site-packages/sklearn/metrics/_classification.py:1509: UndefinedMetricWarning: Recall is ill-defined and being set to 0.0 due to no true samples. Use `zero_division` parameter to control this behavior.\n",
      "  _warn_prf(average, modifier, f\"{metric.capitalize()} is\", len(result))\n"
     ]
    },
    {
     "name": "stdout",
     "output_type": "stream",
     "text": [
      "Metrics for deepset/gbert-large on energie: {'accuracy': 0.9358789625360231, 'precision': 0.0, 'recall': 0.0, 'f1': 0.0}\n"
     ]
    },
    {
     "name": "stderr",
     "output_type": "stream",
     "text": [
      "100%|██████████| 229661/229661 [00:36<00:00, 6370.29it/s]\n"
     ]
    },
    {
     "name": "stdout",
     "output_type": "stream",
     "text": [
      "Metrics for deepset/gbert-large on energie: {'accuracy': 0.9803592814371257, 'precision': 0.030204962243797196, 'recall': 0.9032258064516129, 'f1': 0.05845511482254697}\n"
     ]
    },
    {
     "name": "stderr",
     "output_type": "stream",
     "text": [
      "100%|██████████| 1245/1245 [00:00<00:00, 5474.44it/s]\n"
     ]
    },
    {
     "name": "stdout",
     "output_type": "stream",
     "text": [
      "Metrics for deepset/gbert-large on energie: {'accuracy': 0.9397590361445783, 'precision': 0.28421052631578947, 'recall': 0.7941176470588235, 'f1': 0.4186046511627907}\n"
     ]
    },
    {
     "name": "stderr",
     "output_type": "stream",
     "text": [
      "100%|██████████| 41908/41908 [00:07<00:00, 5727.15it/s]\n"
     ]
    },
    {
     "name": "stdout",
     "output_type": "stream",
     "text": [
      "Metrics for deepset/gbert-large on energie: {'accuracy': 0.9554261716140117, 'precision': 0.124765478424015, 'recall': 0.9925373134328358, 'f1': 0.22166666666666668}\n"
     ]
    }
   ],
   "source": [
    "# Initialize dictionaries\n",
    "preds_and_labels_per_page = {}\n",
    "labels_per_page = []\n",
    "preds_per_page = []\n",
    "probas_per_page = []\n",
    "\n",
    "# Iterate over the splits\n",
    "for split in SPLITS:\n",
    "            \n",
    "    # Group dataset examples by URL, with a fallback to domain\n",
    "    grouped_dataset = {}\n",
    "    for example in tqdm(dataset[split]):\n",
    "        url = example.get(\"view_url\") or example.get(\"domain\")\n",
    "        example_filtered = {k: example[k] for k in [\"text\", \"domain\", \"preds\", \"label\", \"category\", \"annotation_type\", \"lang\", \"probas\"]}\n",
    "        grouped_dataset.setdefault(url, []).append(example_filtered)\n",
    "        \n",
    "    # Extract labels\n",
    "    labels = []\n",
    "    for url, chunks in grouped_dataset.items():\n",
    "        label = max([chunk[\"label\"] for chunk in chunks])\n",
    "        labels.append(label)\n",
    "        \n",
    "    # Merge chunk level predictions\n",
    "    predictions = []\n",
    "    for url, chunks in grouped_dataset.items():\n",
    "        preds = [chunk[\"preds\"] for chunk in chunks]\n",
    "        predictions.append(max(preds))\n",
    "        \n",
    "    # Merge chunk level probabilities\n",
    "    probas = []\n",
    "    for url, chunks in grouped_dataset.items():\n",
    "        probas.append(max([chunk[\"probas\"] for chunk in chunks]))\n",
    "\n",
    "    # Store the predictions and labels for the current split\n",
    "    preds_and_labels_per_page[split] = {\"preds\": predictions, \"labels\": labels, \"probas\": probas, \"count\": len(labels)}\n",
    "    labels_per_page.extend(labels)\n",
    "    preds_per_page.extend(predictions)\n",
    "    probas_per_page.extend(probas)\n",
    "\n",
    "    # Use the trained model to make predictions on the test set\n",
    "    metrics = calc_metrics(labels, predictions)\n",
    "    preds_and_labels_per_page[split][\"metrics\"] = metrics\n",
    "    print(f\"Metrics for {MODEL} on {TOPIC}: {metrics}\")\n",
    "    "
   ]
  },
  {
   "cell_type": "code",
   "execution_count": 11,
   "metadata": {},
   "outputs": [
    {
     "data": {
      "text/html": [
       "<table>\n",
       "<thead>\n",
       "<tr><th>Split       </th><th style=\"text-align: right;\">  Accuracy</th><th style=\"text-align: right;\">  Precision</th><th style=\"text-align: right;\">  Recall</th><th style=\"text-align: right;\">  F1 Score</th><th style=\"text-align: right;\">  Count</th></tr>\n",
       "</thead>\n",
       "<tbody>\n",
       "<tr><td>train       </td><td style=\"text-align: right;\">     0.998</td><td style=\"text-align: right;\">      1.000</td><td style=\"text-align: right;\">   0.995</td><td style=\"text-align: right;\">     0.998</td><td style=\"text-align: right;\">    406</td></tr>\n",
       "<tr><td>test        </td><td style=\"text-align: right;\">     0.978</td><td style=\"text-align: right;\">      0.958</td><td style=\"text-align: right;\">   1.000</td><td style=\"text-align: right;\">     0.979</td><td style=\"text-align: right;\">     46</td></tr>\n",
       "<tr><td>holdout     </td><td style=\"text-align: right;\">     0.936</td><td style=\"text-align: right;\">      0.000</td><td style=\"text-align: right;\">   0.000</td><td style=\"text-align: right;\">     0.000</td><td style=\"text-align: right;\">   4164</td></tr>\n",
       "<tr><td>extended    </td><td style=\"text-align: right;\">     0.980</td><td style=\"text-align: right;\">      0.030</td><td style=\"text-align: right;\">   0.903</td><td style=\"text-align: right;\">     0.058</td><td style=\"text-align: right;\">  45925</td></tr>\n",
       "<tr><td>holdout_url </td><td style=\"text-align: right;\">     0.940</td><td style=\"text-align: right;\">      0.284</td><td style=\"text-align: right;\">   0.794</td><td style=\"text-align: right;\">     0.419</td><td style=\"text-align: right;\">   1245</td></tr>\n",
       "<tr><td>extended_url</td><td style=\"text-align: right;\">     0.955</td><td style=\"text-align: right;\">      0.125</td><td style=\"text-align: right;\">   0.993</td><td style=\"text-align: right;\">     0.222</td><td style=\"text-align: right;\">  41908</td></tr>\n",
       "</tbody>\n",
       "</table>"
      ],
      "text/plain": [
       "<IPython.core.display.HTML object>"
      ]
     },
     "metadata": {},
     "output_type": "display_data"
    }
   ],
   "source": [
    "display_metrics_table(preds_and_labels_per_page)"
   ]
  },
  {
   "cell_type": "code",
   "execution_count": 12,
   "metadata": {},
   "outputs": [
    {
     "name": "stdout",
     "output_type": "stream",
     "text": [
      "dict_keys(['test', 'holdout', 'extended'])\n"
     ]
    }
   ],
   "source": [
    "preds_and_labels_per_page_merged = preds_and_labels_per_page.copy()\n",
    "\n",
    "#### Create unbalanced test set ####\n",
    "preds_and_labels_per_page_merged[\"holdout\"][\"labels\"] = preds_and_labels_per_page[\"holdout_url\"][\"labels\"] + preds_and_labels_per_page[\"holdout\"][\"labels\"] + preds_and_labels_per_page[\"test\"][\"labels\"]\n",
    "\n",
    "preds_and_labels_per_page_merged[\"holdout\"][\"preds\"] = preds_and_labels_per_page[\"holdout_url\"][\"preds\"] + preds_and_labels_per_page[\"holdout\"][\"preds\"] + preds_and_labels_per_page[\"test\"][\"preds\"]\n",
    "\n",
    "preds_and_labels_per_page_merged[\"holdout\"][\"probas\"] = preds_and_labels_per_page[\"holdout_url\"][\"probas\"] + preds_and_labels_per_page[\"holdout\"][\"probas\"] + preds_and_labels_per_page[\"test\"][\"probas\"]\n",
    "\n",
    "#### Create extended test set ####\n",
    "preds_and_labels_per_page_merged[\"extended\"][\"labels\"] = preds_and_labels_per_page[\"extended_url\"][\"labels\"] + preds_and_labels_per_page[\"extended\"][\"labels\"]\n",
    "\n",
    "preds_and_labels_per_page_merged[\"extended\"][\"preds\"] = preds_and_labels_per_page[\"extended_url\"][\"preds\"] + preds_and_labels_per_page[\"extended\"][\"preds\"]\n",
    "\n",
    "preds_and_labels_per_page_merged[\"extended\"][\"probas\"] = preds_and_labels_per_page[\"extended_url\"][\"probas\"] + preds_and_labels_per_page[\"extended\"][\"probas\"]\n",
    "\n",
    "\n",
    "#### Remove unnecessary splits ####\n",
    "preds_and_labels_per_page_merged.pop(\"holdout_url\")\n",
    "preds_and_labels_per_page_merged.pop(\"extended_url\")\n",
    "preds_and_labels_per_page_merged.pop(\"train\")\n",
    "print(preds_and_labels_per_page_merged.keys())"
   ]
  },
  {
   "cell_type": "code",
   "execution_count": 13,
   "metadata": {},
   "outputs": [
    {
     "name": "stdout",
     "output_type": "stream",
     "text": [
      "Metrics for deepset/gbert-large on energie for split test:\n",
      " {'accuracy': 0.9782608695652174, 'precision': 0.9583333333333334, 'recall': 1.0, 'f1': 0.9787234042553191}\n",
      "\n",
      "Metrics for deepset/gbert-large on energie for split holdout:\n",
      " {'accuracy': 0.937121906507791, 'precision': 0.12953367875647667, 'recall': 0.8771929824561403, 'f1': 0.22573363431151242}\n",
      "\n",
      "Metrics for deepset/gbert-large on energie for split extended:\n",
      " {'accuracy': 0.9684628784169959, 'precision': 0.09610983981693363, 'recall': 0.9832775919732442, 'f1': 0.17510422870756404}\n",
      "\n"
     ]
    }
   ],
   "source": [
    "labels_per_page = []\n",
    "preds_per_page = []\n",
    "\n",
    "# Iterate over the splits\n",
    "for split in preds_and_labels_per_page_merged.keys():\n",
    "    \n",
    "    # Get the labels and predictions for the current split\n",
    "    labels = preds_and_labels_per_page_merged[split][\"labels\"]\n",
    "    preds = preds_and_labels_per_page_merged[split][\"preds\"]\n",
    "    labels_per_page.extend(labels)\n",
    "    preds_per_page.extend(preds)\n",
    "\n",
    "    # Calculate the metrics for the current split\n",
    "    metrics = calc_metrics(labels, preds)\n",
    "    preds_and_labels_per_page_merged[split][\"metrics\"] = metrics\n",
    "    preds_and_labels_per_page_merged[split][\"count\"] = len(labels)\n",
    "    print(f\"Metrics for {MODEL} on {TOPIC} for split {split}:\\n {metrics}\\n\")"
   ]
  },
  {
   "cell_type": "code",
   "execution_count": 14,
   "metadata": {},
   "outputs": [
    {
     "name": "stdout",
     "output_type": "stream",
     "text": [
      "Metrics for deepset/gbert-large on energie for all splits:\n",
      " {'accuracy': 0.9666359526003385, 'precision': 0.10579417699625253, 'recall': 0.9683377308707124, 'f1': 0.19074844074844075}\n",
      "\n"
     ]
    }
   ],
   "source": [
    "\n",
    "# Concatenate the labels for all splits \n",
    "labels_per_page_merged = [\n",
    "    label for split in preds_and_labels_per_page_merged.keys() if split != 'train' for label in preds_and_labels_per_page[split].get(\"labels\", [])\n",
    "]\n",
    "\n",
    "# Concatenate the predictions for all splits\n",
    "preds_per_page_merged = [\n",
    "    prediction for split in preds_and_labels_per_page_merged.keys() if split != 'train' for prediction in preds_and_labels_per_page[split].get(\"preds\", [])\n",
    "]\n",
    "\n",
    "# Concatenate the probabilities for all splits\n",
    "probas_per_page_merged = [\n",
    "    probas for split in preds_and_labels_per_page_merged.keys() if split != 'train' for probas in preds_and_labels_per_page[split].get(\"probas\", [])\n",
    "]\n",
    "\n",
    "# Calculate the metrics for all splits\n",
    "metrics = calc_metrics(labels_per_page_merged, preds_per_page_merged)\n",
    "print(f\"Metrics for {MODEL} on {TOPIC} for all splits:\\n {metrics}\\n\")"
   ]
  },
  {
   "cell_type": "code",
   "execution_count": 15,
   "metadata": {},
   "outputs": [
    {
     "data": {
      "text/html": [
       "<table>\n",
       "<thead>\n",
       "<tr><th>Split   </th><th style=\"text-align: right;\">  Accuracy</th><th style=\"text-align: right;\">  Precision</th><th style=\"text-align: right;\">  Recall</th><th style=\"text-align: right;\">  F1 Score</th><th style=\"text-align: right;\">  Count</th></tr>\n",
       "</thead>\n",
       "<tbody>\n",
       "<tr><td>test    </td><td style=\"text-align: right;\">     0.978</td><td style=\"text-align: right;\">      0.958</td><td style=\"text-align: right;\">   1.000</td><td style=\"text-align: right;\">     0.979</td><td style=\"text-align: right;\">     46</td></tr>\n",
       "<tr><td>holdout </td><td style=\"text-align: right;\">     0.937</td><td style=\"text-align: right;\">      0.130</td><td style=\"text-align: right;\">   0.877</td><td style=\"text-align: right;\">     0.226</td><td style=\"text-align: right;\">   5455</td></tr>\n",
       "<tr><td>extended</td><td style=\"text-align: right;\">     0.968</td><td style=\"text-align: right;\">      0.096</td><td style=\"text-align: right;\">   0.983</td><td style=\"text-align: right;\">     0.175</td><td style=\"text-align: right;\">  87833</td></tr>\n",
       "</tbody>\n",
       "</table>"
      ],
      "text/plain": [
       "<IPython.core.display.HTML object>"
      ]
     },
     "metadata": {},
     "output_type": "display_data"
    }
   ],
   "source": [
    "display_metrics_table(preds_and_labels_per_page_merged)"
   ]
  },
  {
   "cell_type": "code",
   "execution_count": 16,
   "metadata": {},
   "outputs": [
    {
     "data": {
      "text/plain": [
       "(93334, 93334, 93334)"
      ]
     },
     "execution_count": 16,
     "metadata": {},
     "output_type": "execute_result"
    }
   ],
   "source": [
    "len(labels_per_page_merged), len(preds_per_page_merged), len(probas_per_page_merged)"
   ]
  },
  {
   "cell_type": "code",
   "execution_count": 17,
   "metadata": {},
   "outputs": [],
   "source": [
    "import numpy as np\n",
    "import matplotlib.pyplot as plt\n",
    "from sklearn.metrics import precision_recall_curve, auc"
   ]
  },
  {
   "cell_type": "code",
   "execution_count": 18,
   "metadata": {},
   "outputs": [],
   "source": [
    "# Calculate precision, recall, and thresholds\n",
    "precision, recall, thresholds = precision_recall_curve(labels_per_page_merged, probas_per_page_merged)"
   ]
  },
  {
   "cell_type": "code",
   "execution_count": 19,
   "metadata": {},
   "outputs": [
    {
     "name": "stdout",
     "output_type": "stream",
     "text": [
      "Precision-Recall AUC: 0.81\n"
     ]
    }
   ],
   "source": [
    "# Calculate AUC for the precision-recall curve\n",
    "pr_auc = auc(recall, precision)\n",
    "print(f'Precision-Recall AUC: {pr_auc:.2f}')"
   ]
  },
  {
   "cell_type": "code",
   "execution_count": 20,
   "metadata": {},
   "outputs": [
    {
     "data": {
      "image/png": "[encoded data removed]",
      "text/plain": [
       "<Figure size 640x480 with 1 Axes>"
      ]
     },
     "metadata": {},
     "output_type": "display_data"
    }
   ],
   "source": [
    "# Log the y_test and y_scores values\n",
    "#print('y_test:', labels_per_page_merged)\n",
    "#print('y_scores:', probas_per_page_merged)\n",
    "\n",
    "# Plot the precision-recall curve\n",
    "plt.figure()\n",
    "plt.plot(recall, precision, label=f'PR AUC = {pr_auc:.2f}')\n",
    "plt.xlabel('Recall')\n",
    "plt.ylabel('Precision')\n",
    "plt.title(f'P-R Curve {MODEL} - {TOPIC}')\n",
    "plt.legend(loc='best')\n",
    "\n",
    "# Save the figure with dynamic filename\n",
    "filename = f'precision_recall_curve_{MODEL.split(\"/\")[1]}_{TOPIC}.png'.replace(' ', '_')\n",
    "plt.savefig(filename, dpi=300)\n",
    "\n",
    "plt.show()"
   ]
  },
  {
   "cell_type": "code",
   "execution_count": null,
   "metadata": {},
   "outputs": [],
   "source": []
  }
 ],
 "metadata": {
  "kernelspec": {
   "display_name": "s2j-content-analysis",
   "language": "python",
   "name": "python3"
  },
  "language_info": {
   "codemirror_mode": {
    "name": "ipython",
    "version": 3
   },
   "file_extension": ".py",
   "mimetype": "text/x-python",
   "name": "python",
   "nbconvert_exporter": "python",
   "pygments_lexer": "ipython3",
   "version": "3.10.8"
  }
 },
 "nbformat": 4,
 "nbformat_minor": 2
}
