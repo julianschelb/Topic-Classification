{
 "cells": [
  {
   "cell_type": "markdown",
   "metadata": {},
   "source": [
    "## Train Multiclass Classifier: BERT"
   ]
  },
  {
   "cell_type": "code",
   "execution_count": 1,
   "metadata": {},
   "outputs": [
    {
     "name": "stderr",
     "output_type": "stream",
     "text": [
      "/home/jschelb/.pyenv/versions/3.10.8/envs/s2j-content-analysis/lib/python3.10/site-packages/tqdm/auto.py:21: TqdmWarning: IProgress not found. Please update jupyter and ipywidgets. See https://ipywidgets.readthedocs.io/en/stable/user_install.html\n",
      "  from .autonotebook import tqdm as notebook_tqdm\n"
     ]
    }
   ],
   "source": [
    "from transformers import AutoTokenizer, AutoModelForSequenceClassification, AutoModelForMaskedLM, TrainingArguments, Trainer\n",
    "from datasets import Dataset, load_dataset, load_from_disk, concatenate_datasets\n",
    "from sklearn.metrics import accuracy_score, precision_score, recall_score, f1_score\n",
    "from collections import Counter\n",
    "import random\n",
    "import numpy as np\n",
    "import torch\n",
    "import os"
   ]
  },
  {
   "cell_type": "code",
   "execution_count": 2,
   "metadata": {},
   "outputs": [],
   "source": [
    "topics = [\"cannabis\", \"energie\", \"kinder\"]"
   ]
  },
  {
   "cell_type": "markdown",
   "metadata": {},
   "source": [
    "## Load Dataset"
   ]
  },
  {
   "cell_type": "markdown",
   "metadata": {},
   "source": [
    "**Map class-names to class-ids:**"
   ]
  },
  {
   "cell_type": "code",
   "execution_count": 3,
   "metadata": {},
   "outputs": [],
   "source": [
    "id_to_class = {0: \"other\",1: \"cannabis\", 2: \"energie\", 3: \"kinder\"}\n",
    "class_to_id = {\"other\": 0, \"cannabis\": 1, \"energie\": 2, \"kinder\": 3}"
   ]
  },
  {
   "cell_type": "code",
   "execution_count": 4,
   "metadata": {},
   "outputs": [],
   "source": [
    "MAX_CONTENT_LENGTH = 384\n",
    "file_path = f\"../data/tmp/processed_dataset_multiclass_chunkified_{MAX_CONTENT_LENGTH}\"\n",
    "dataset = load_from_disk(file_path)\n",
    "\n",
    "dataset = dataset[\"train\"]"
   ]
  },
  {
   "cell_type": "code",
   "execution_count": 5,
   "metadata": {},
   "outputs": [
    {
     "data": {
      "text/plain": [
       "Dataset({\n",
       "    features: ['_id', 'batch_id', 'domain', 'view_url', 'lang', 'text', 'text_length', 'word_count', 'token_count', 'topic', 'category', 'good_for_training', 'good_for_augmentation', 'annotation_type', 'is_topic', 'label', 'chunk_id', 'url_path'],\n",
       "    num_rows: 15828\n",
       "})"
      ]
     },
     "execution_count": 5,
     "metadata": {},
     "output_type": "execute_result"
    }
   ],
   "source": [
    "dataset"
   ]
  },
  {
   "cell_type": "markdown",
   "metadata": {},
   "source": [
    "## Load Model"
   ]
  },
  {
   "cell_type": "code",
   "execution_count": 6,
   "metadata": {},
   "outputs": [],
   "source": [
    "model_path = \"../models/bert_multiclass_model_buff_incr_neg\"\n",
    "tokenizer = AutoTokenizer.from_pretrained(model_path)\n",
    "model = AutoModelForSequenceClassification.from_pretrained(model_path).eval()"
   ]
  },
  {
   "cell_type": "code",
   "execution_count": 7,
   "metadata": {},
   "outputs": [
    {
     "name": "stdout",
     "output_type": "stream",
     "text": [
      "Using 2 GPUs!\n"
     ]
    },
    {
     "data": {
      "text/plain": [
       "DataParallel(\n",
       "  (module): XLMRobertaForSequenceClassification(\n",
       "    (roberta): XLMRobertaModel(\n",
       "      (embeddings): XLMRobertaEmbeddings(\n",
       "        (word_embeddings): Embedding(250002, 768, padding_idx=1)\n",
       "        (position_embeddings): Embedding(514, 768, padding_idx=1)\n",
       "        (token_type_embeddings): Embedding(1, 768)\n",
       "        (LayerNorm): LayerNorm((768,), eps=1e-05, elementwise_affine=True)\n",
       "        (dropout): Dropout(p=0.1, inplace=False)\n",
       "      )\n",
       "      (encoder): XLMRobertaEncoder(\n",
       "        (layer): ModuleList(\n",
       "          (0-11): 12 x XLMRobertaLayer(\n",
       "            (attention): XLMRobertaAttention(\n",
       "              (self): XLMRobertaSelfAttention(\n",
       "                (query): Linear(in_features=768, out_features=768, bias=True)\n",
       "                (key): Linear(in_features=768, out_features=768, bias=True)\n",
       "                (value): Linear(in_features=768, out_features=768, bias=True)\n",
       "                (dropout): Dropout(p=0.1, inplace=False)\n",
       "              )\n",
       "              (output): XLMRobertaSelfOutput(\n",
       "                (dense): Linear(in_features=768, out_features=768, bias=True)\n",
       "                (LayerNorm): LayerNorm((768,), eps=1e-05, elementwise_affine=True)\n",
       "                (dropout): Dropout(p=0.1, inplace=False)\n",
       "              )\n",
       "            )\n",
       "            (intermediate): XLMRobertaIntermediate(\n",
       "              (dense): Linear(in_features=768, out_features=3072, bias=True)\n",
       "              (intermediate_act_fn): GELUActivation()\n",
       "            )\n",
       "            (output): XLMRobertaOutput(\n",
       "              (dense): Linear(in_features=3072, out_features=768, bias=True)\n",
       "              (LayerNorm): LayerNorm((768,), eps=1e-05, elementwise_affine=True)\n",
       "              (dropout): Dropout(p=0.1, inplace=False)\n",
       "            )\n",
       "          )\n",
       "        )\n",
       "      )\n",
       "    )\n",
       "    (classifier): XLMRobertaClassificationHead(\n",
       "      (dense): Linear(in_features=768, out_features=768, bias=True)\n",
       "      (dropout): Dropout(p=0.1, inplace=False)\n",
       "      (out_proj): Linear(in_features=768, out_features=4, bias=True)\n",
       "    )\n",
       "  )\n",
       ")"
      ]
     },
     "execution_count": 7,
     "metadata": {},
     "output_type": "execute_result"
    }
   ],
   "source": [
    "if torch.cuda.device_count() > 1:\n",
    "    print(f\"Using {torch.cuda.device_count()} GPUs!\")\n",
    "    model = torch.nn.DataParallel(model)\n",
    "\n",
    "# Move model to GPU if available\n",
    "device = torch.device(\"cuda\" if torch.cuda.is_available() else \"cpu\")\n",
    "model.to(device)"
   ]
  },
  {
   "cell_type": "markdown",
   "metadata": {},
   "source": [
    "## Prepare Dataset"
   ]
  },
  {
   "cell_type": "code",
   "execution_count": 8,
   "metadata": {},
   "outputs": [],
   "source": [
    "# Tokenize the text\n",
    "def tokenize_function(examples):\n",
    "    return tokenizer(examples[\"text\"], padding=\"max_length\", truncation=True) # TODO: URL REMOVED\n",
    "\n",
    "dataset = dataset.map(tokenize_function, batched=True)"
   ]
  },
  {
   "cell_type": "markdown",
   "metadata": {},
   "source": [
    "## Get Predictions"
   ]
  },
  {
   "cell_type": "code",
   "execution_count": 9,
   "metadata": {},
   "outputs": [],
   "source": [
    "def predict_batch(batch):\n",
    "    \"\"\" Perform prediction on a batch of samples in a multiclass setting. \"\"\"\n",
    "    \n",
    "    # Ensure input tensors are on the correct device\n",
    "    input_ids = torch.tensor(batch['input_ids']).to(device)\n",
    "    attention_mask = torch.tensor(batch['attention_mask']).to(device)\n",
    "    \n",
    "    # Perform prediction\n",
    "    with torch.no_grad():\n",
    "        outputs = model(input_ids=input_ids, attention_mask=attention_mask)\n",
    "        predictions = torch.nn.functional.softmax(outputs.logits, dim=-1)\n",
    "    \n",
    "    # Extract probabilities for all classes and predicted classes\n",
    "    batch['probas'] = predictions.cpu().tolist()  # Move results back to CPU and convert to list\n",
    "    batch['preds'] = torch.argmax(predictions, dim=-1).cpu().tolist()\n",
    "\n",
    "    return batch\n"
   ]
  },
  {
   "cell_type": "code",
   "execution_count": 10,
   "metadata": {},
   "outputs": [],
   "source": [
    "dataset = dataset.map(predict_batch, batched=True, batch_size=512)"
   ]
  },
  {
   "cell_type": "code",
   "execution_count": 11,
   "metadata": {},
   "outputs": [
    {
     "name": "stdout",
     "output_type": "stream",
     "text": [
      "1\n",
      "1\n",
      "[0.05970004200935364, 0.939585268497467, 0.0005707441014237702, 0.00014389595889952034]\n"
     ]
    }
   ],
   "source": [
    "id = 100\n",
    "print(dataset[id][\"label\"])\n",
    "print(dataset[id][\"preds\"])\n",
    "print(dataset[id][\"probas\"])"
   ]
  },
  {
   "cell_type": "code",
   "execution_count": 12,
   "metadata": {},
   "outputs": [],
   "source": [
    "#dataset.save_to_disk(file_path + \"_preds\")"
   ]
  },
  {
   "cell_type": "markdown",
   "metadata": {},
   "source": [
    "## Compare Before and After Filtering"
   ]
  },
  {
   "cell_type": "code",
   "execution_count": 13,
   "metadata": {},
   "outputs": [],
   "source": [
    "from collections import Counter\n",
    "from tqdm import tqdm"
   ]
  },
  {
   "cell_type": "markdown",
   "metadata": {},
   "source": [
    "**Count Difference in Chunk Level Predictions:**"
   ]
  },
  {
   "cell_type": "code",
   "execution_count": 14,
   "metadata": {},
   "outputs": [],
   "source": [
    "preds = dataset[\"preds\"]\n",
    "labels = dataset[\"label\"]"
   ]
  },
  {
   "cell_type": "code",
   "execution_count": 15,
   "metadata": {},
   "outputs": [
    {
     "name": "stdout",
     "output_type": "stream",
     "text": [
      "Counter({0: 10177, 2: 2363, 1: 1736, 3: 1552})\n",
      "Counter({0: 8493, 2: 2652, 1: 2504, 3: 2179})\n"
     ]
    }
   ],
   "source": [
    "print(Counter(preds))\n",
    "print(Counter(labels))"
   ]
  },
  {
   "cell_type": "markdown",
   "metadata": {},
   "source": [
    "**Compare URL Level Predictions (loss of Acc after self-training):**"
   ]
  },
  {
   "cell_type": "code",
   "execution_count": 16,
   "metadata": {},
   "outputs": [
    {
     "name": "stderr",
     "output_type": "stream",
     "text": [
      "100%|██████████| 15828/15828 [00:09<00:00, 1701.85it/s]\n"
     ]
    }
   ],
   "source": [
    "# Group dataset examples by URL, with a fallback to domain\n",
    "grouped_dataset = {}\n",
    "for example in tqdm(dataset):\n",
    "    url = example.get(\"view_url\") or example.get(\"domain\")\n",
    "    example_filtered = {k: example[k] for k in [\"text\", \"domain\", \"probas\", \"preds\", \"label\", \"category\", \"annotation_type\", \"lang\"]}\n",
    "    grouped_dataset.setdefault(url, []).append(example_filtered)"
   ]
  },
  {
   "cell_type": "code",
   "execution_count": 17,
   "metadata": {},
   "outputs": [],
   "source": [
    "# Extract labels\n",
    "labels_for_url = []\n",
    "for url, chunks in grouped_dataset.items():\n",
    "    preds = [chunk[\"label\"] for chunk in chunks]\n",
    "    labels_for_url.append(max(preds))"
   ]
  },
  {
   "cell_type": "code",
   "execution_count": 18,
   "metadata": {},
   "outputs": [
    {
     "data": {
      "text/plain": [
       "2"
      ]
     },
     "execution_count": 18,
     "metadata": {},
     "output_type": "execute_result"
    }
   ],
   "source": [
    "def majority_voting(answers):\n",
    "    \"\"\"Apply majority voting to a list of arbitrary classification answers.\"\"\"\n",
    "    count = Counter(answers)\n",
    "    most_common = count.most_common()  # Get all common answers sorted by frequency\n",
    "\n",
    "    if not most_common:\n",
    "        return 0 # Handle empty input scenario\n",
    "\n",
    "    # Check for ties at the highest count\n",
    "    max_votes = most_common[0][1]\n",
    "    tied_classes = [cls for cls, votes in most_common if votes == max_votes]\n",
    "\n",
    "    if len(tied_classes) > 1:\n",
    "        return max(tied_classes)  # Return the maximum class label in case of a tie\n",
    "    return tied_classes[0]  # Return the class with the most votes\n",
    "\n",
    "majority_voting([1, 1, 2, 2, 2, 3])"
   ]
  },
  {
   "cell_type": "code",
   "execution_count": 19,
   "metadata": {},
   "outputs": [],
   "source": [
    "prediction_for_url_max = []\n",
    "\n",
    "# It is kinda nuts that max() works best but the intuition is that most chunks are other and as soon there is anything higher than other (class label 0) it is always related to that policy\n",
    "for url, chunks in grouped_dataset.items():\n",
    "    preds = [chunk[\"preds\"] for chunk in chunks]\n",
    "    #preds = preds if len(preds) > 0 else [0]\n",
    "    pred = majority_voting([pred for pred in preds if pred > 0]) if max(preds) > 0 else 0\n",
    "    prediction_for_url_max.append(pred)"
   ]
  },
  {
   "cell_type": "code",
   "execution_count": 20,
   "metadata": {},
   "outputs": [
    {
     "name": "stdout",
     "output_type": "stream",
     "text": [
      "Overall Accuracy: 93.24%\n",
      "Precision per class: [0.98 0.95 0.78 0.94]\n",
      "Recall per class: [0.91 0.97 0.95 0.97]\n",
      "F1 Score per class: [0.94 0.96 0.86 0.96]\n"
     ]
    }
   ],
   "source": [
    "# Assuming labels and preds are lists or arrays containing the true labels and predicted labels respectively\n",
    "accuracy = accuracy_score(labels_for_url, prediction_for_url_max)\n",
    "precision_per_class = precision_score(labels_for_url, prediction_for_url_max, average=None)\n",
    "recall_per_class = recall_score(labels_for_url, prediction_for_url_max, average=None)\n",
    "f1_per_class = f1_score(labels_for_url, prediction_for_url_max, average=None)\n",
    "\n",
    "print(\"Overall Accuracy: {:.2f}%\".format(accuracy * 100))\n",
    "print(\"Precision per class: {}\".format(np.round(precision_per_class, 2)))\n",
    "print(\"Recall per class: {}\".format(np.round(recall_per_class, 2)))\n",
    "print(\"F1 Score per class: {}\".format(np.round(f1_per_class, 2)))"
   ]
  },
  {
   "cell_type": "markdown",
   "metadata": {},
   "source": [
    "**Analyse Label Divergence:**"
   ]
  },
  {
   "cell_type": "code",
   "execution_count": 21,
   "metadata": {},
   "outputs": [],
   "source": [
    "# Sample data (replace these with your actual datasets)\n",
    "preds = dataset[\"preds\"]\n",
    "labels = dataset[\"label\"]\n",
    "\n",
    "# Data preparation\n",
    "transition_counts = {}\n",
    "for label, pred in zip(labels, preds):\n",
    "    if label not in transition_counts:\n",
    "        transition_counts[label] = {}\n",
    "    if pred not in transition_counts[label]:\n",
    "        transition_counts[label][pred] = 0\n",
    "    transition_counts[label][pred] += 1\n"
   ]
  },
  {
   "cell_type": "code",
   "execution_count": 22,
   "metadata": {},
   "outputs": [
    {
     "name": "stdout",
     "output_type": "stream",
     "text": [
      "    Label  Prediction  Count\n",
      "11      0           1     30\n",
      "9       0           2    170\n",
      "10      0           3     22\n",
      "6       1           0    759\n",
      "7       1           2     40\n",
      "8       1           3      5\n",
      "0       2           0    547\n",
      "2       2           1      4\n",
      "1       2           3      1\n",
      "3       3           0    600\n",
      "5       3           1      2\n",
      "4       3           2     53\n"
     ]
    }
   ],
   "source": [
    "import pandas as pd\n",
    "\n",
    "data = []\n",
    "for label, preds in transition_counts.items():\n",
    "    for pred, count in preds.items():\n",
    "        if label != pred:\n",
    "            data.append({'Label': label, 'Prediction': pred, 'Count': count})\n",
    "            \n",
    "# Sort by label and prediction for better readability\n",
    "df = pd.DataFrame(data)\n",
    "df.sort_values(by=['Label', 'Prediction'], inplace=True)\n",
    "print(df)"
   ]
  },
  {
   "cell_type": "markdown",
   "metadata": {},
   "source": [
    "**Examples with deviant Predictions:**"
   ]
  },
  {
   "cell_type": "code",
   "execution_count": 23,
   "metadata": {},
   "outputs": [
    {
     "data": {
      "text/html": [
       "<table>\n",
       "<thead>\n",
       "<tr><th style=\"text-align: right;\">  Example ID</th><th>URL  </th><th>Label  </th><th>Prediction  </th><th style=\"text-align: right;\">  Chunk ID</th><th style=\"text-align: right;\">  Predictions</th><th style=\"text-align: right;\">  Token Count</th><th>Text Preview   </th></tr>\n",
       "</thead>\n",
       "<tbody>\n",
       "<tr><td style=\"text-align: right;\">          50</td><td>bundestag.\n",
       "de/resourc\n",
       "e/blob/929\n",
       "418/990d53\n",
       "6e8b9dd7be\n",
       "3a12ff0bf0\n",
       "e1a0f2/WD-\n",
       "9-083-22-p\n",
       "df-\n",
       "data.pdf      </td><td>kinde\n",
       "r        </td><td>other       </td><td style=\"text-align: right;\">         1</td><td style=\"text-align: right;\">            0</td><td style=\"text-align: right;\">            1</td><td>DECODING/TERROR</td></tr>\n",
       "<tr><td style=\"text-align: right;\">          50</td><td>bundestag.\n",
       "de/resourc\n",
       "e/blob/929\n",
       "418/990d53\n",
       "6e8b9dd7be\n",
       "3a12ff0bf0\n",
       "e1a0f2/WD-\n",
       "9-083-22-p\n",
       "df-\n",
       "data.pdf      </td><td>kinde\n",
       "r        </td><td>other       </td><td style=\"text-align: right;\">         2</td><td style=\"text-align: right;\">            0</td><td style=\"text-align: right;\">            1</td><td>DECODING_ERROR </td></tr>\n",
       "<tr><td style=\"text-align: right;\">          99</td><td>bundesgesu\n",
       "ndheitsmin\n",
       "isterium.d\n",
       "e/fileadmi\n",
       "n/Dateien/\n",
       "3_Download\n",
       "s/Gesetze_\n",
       "und_Verord\n",
       "nungen/GuV\n",
       "/C/Kabinet\n",
       "tvorlage_E\n",
       "ckpunktepa\n",
       "pier_Abgab\n",
       "e_Cannabis\n",
       ".pdf      </td><td>canna\n",
       "bis        </td><td>other       </td><td style=\"text-align: right;\">         1</td><td style=\"text-align: right;\">            0</td><td style=\"text-align: right;\">            1</td><td>DECODING_ERROR </td></tr>\n",
       "<tr><td style=\"text-align: right;\">         112</td><td>dip.bundes\n",
       "tag.de/vor\n",
       "gang/.../1\n",
       "1766      </td><td>energ\n",
       "ie        </td><td>other       </td><td style=\"text-align: right;\">         1</td><td style=\"text-align: right;\">            0</td><td style=\"text-align: right;\">           23</td><td>If you&#x27;re seeing this message, that means\n",
       "JavaScript has been disabled on your browser\n",
       ", please enable JS to make this app work.                </td></tr>\n",
       "<tr><td style=\"text-align: right;\">         191</td><td>zeit.de/po\n",
       "litik/deut\n",
       "schland/20\n",
       "23-02/koal\n",
       "ition-kind\n",
       "ergrundsic\n",
       "herung-\n",
       "streit-\n",
       "cdu-\n",
       "christian-\n",
       "lindner-\n",
       "ricarda-la\n",
       "ng?utm_ref\n",
       "errer=http\n",
       "s%3A%2F%2F\n",
       "www.google\n",
       ".com%2F      </td><td>kinde\n",
       "r        </td><td>other       </td><td style=\"text-align: right;\">         1</td><td style=\"text-align: right;\">            0</td><td style=\"text-align: right;\">          173</td><td>Zum Inhalt springen BOA Berufstest Studium-\n",
       "Interessentest Studienorientierung: Die\n",
       "Suchmaschine für Studiengänge ZEIT Campus\n",
       "ZEIT ONLINE Wie wollen Sie zeit.de nutzen?\n",
       "zeit.de mit Werbung Um der Nutzung mit\n",
       "Werbung zuzustimmen, muss JavaScript in Ihrem\n",
       "Browser aktiviert sein. zeit.de mit Werbung\n",
       "Besuchen Sie zeit.de wie gewohnt mit Werbung\n",
       "und Tracking. Mit Ihrer Zustimmung speichern\n",
       "und verarbeiten wir und unsere Partner\n",
       "Cookies und andere Technologien auf Ihrem\n",
       "Gerät sowie personenbezogene Daten, um unser\n",
       "Webangebot zu verbessern und zu finanzieren.\n",
       "In der Datenschutzerklärung und im Privacy\n",
       "Center finden Sie weitere Details. Ihre\n",
       "Zustimmung ist jederzeit über den Link\n",
       "Privacy Einstellungen am Ende jeder Seite\n",
       "widerrufbar. zeit.de Pur - werbefrei lesen\n",
       "Nutzen Sie zeit.de nahezu ohne Werbung und\n",
       "ohne Werbetracking. zeit.de Pur - werbefrei\n",
       "lesen: Jetzt abonnieren Bereits Pur\n",
       "abonniert? Hier anmelden . Für die Nutzung\n",
       "mit Werbung: Wir erheben personenbezogene\n",
       "Daten und übermitteln diese auch an\n",
       "Drittanbieter , die uns helfen, unser\n",
       "Webangebot zu verbessern und zu finanzieren.\n",
       "Eine Verarbeitung der auf Ihrem Gerät\n",
       "gespeicherten Informationen wie z.B. Cookies\n",
       "(Rechtsgrundlage: § 25 Abs. 1 TTDSG i.V.m.\n",
       "Art                </td></tr>\n",
       "<tr><td style=\"text-align: right;\">         191</td><td>zeit.de/po\n",
       "litik/deut\n",
       "schland/20\n",
       "23-02/koal\n",
       "ition-kind\n",
       "ergrundsic\n",
       "herung-\n",
       "streit-\n",
       "cdu-\n",
       "christian-\n",
       "lindner-\n",
       "ricarda-la\n",
       "ng?utm_ref\n",
       "errer=http\n",
       "s%3A%2F%2F\n",
       "www.google\n",
       ".com%2F      </td><td>kinde\n",
       "r        </td><td>other       </td><td style=\"text-align: right;\">         2</td><td style=\"text-align: right;\">            0</td><td style=\"text-align: right;\">          144</td><td>.B. Cookies (Rechtsgrundlage: § 25 Abs. 1\n",
       "TTDSG i.V.m. Art. 6 Abs. 1 lit. a DSGVO) oder\n",
       "persönliche Identifikatoren, IP-Adressen\n",
       "sowie Ihres individuellen Nutzungsverhaltens\n",
       "(Rechtsgrundlagen: Art. 6 Abs. 1 lit. a und f\n",
       "DSGVO) erfolgt dabei zu den folgenden\n",
       "Zwecken: Informationen auf einem Gerät\n",
       "speichern und/oder abrufen Für die Ihnen\n",
       "angezeigten Verarbeitungszwecke können\n",
       "Cookies, Geräte-Kennungen oder andere\n",
       "Informationen auf Ihrem Gerät gespeichert\n",
       "oder abgerufen werden. Personalisierte\n",
       "Anzeigen und Inhalte, Anzeigen- und\n",
       "Inhaltsmessungen, Erkenntnisse über\n",
       "Zielgruppen und Produktentwicklungen Anzeigen\n",
       "und Inhalte können basierend auf einem Profil\n",
       "personalisiert werden. Es können mehr Daten\n",
       "hinzugefügt werden, um Anzeigen und Inhalte\n",
       "besser zu personalisieren. Die Performance\n",
       "von Anzeigen und Inhalten kann gemessen\n",
       "werden. Erkenntnisse über Zielgruppen, die\n",
       "die Anzeigen und Inhalte betrachtet haben,\n",
       "können abgeleitet werden. Daten können\n",
       "verwendet werden, um Benutzerfreundlichkeit,\n",
       "Systeme und Software aufzubauen oder zu\n",
       "verbessern. Pur-Abo FAQ Impressum AGB\n",
       "Datenschutz Switch to english version                </td></tr>\n",
       "<tr><td style=\"text-align: right;\">         304</td><td>zeit.de/zu\n",
       "stimmung?u\n",
       "rl=https%3\n",
       "A%2F%2Fwww\n",
       ".zeit.de%2\n",
       "Fpolitik%2\n",
       "Fdeutschla\n",
       "nd%2F2023-\n",
       "02%2Fkoali\n",
       "tion-kinde\n",
       "rgrundsich\n",
       "erung-\n",
       "streit-\n",
       "cdu-\n",
       "christian-\n",
       "lindner-\n",
       "ricarda-\n",
       "lang      </td><td>kinde\n",
       "r        </td><td>other       </td><td style=\"text-align: right;\">         1</td><td style=\"text-align: right;\">            0</td><td style=\"text-align: right;\">          181</td><td>Zum Inhalt springen BOA Berufstest Online\n",
       "StudienInteressen zur Studienfinanzierung:\n",
       "Eine Testfunktion der Studiengänge ZEIT\n",
       "ONLINE ZEIT ONLINE Wie wollen Sie Zeit.de\n",
       "verwenden? Zeit.de ohne Cookies Um der\n",
       "Verwendung mit Werbung zuzustimmen Sie sollte\n",
       "JavaScript in Ihrem Browser neu installiert\n",
       "werden! zeit24.de mit Werbung Besuch Nutzen\n",
       "sie Zeit.de wie gewohnt mit Cookies und\n",
       "Tracking. Mit Ihrer Einwilligung erspeicheren\n",
       "und betreiben wir und unsere Partner cookies\n",
       "und andere Analysen auf Ihr Gerät und\n",
       "personenbezogene Informationen, um das\n",
       "Webangebot zu verbessern und zu\n",
       "reaktivisieren. In der Datenschutzerklärung\n",
       "und unter Contact Us finden Sie weitere\n",
       "Details. Ihre Zustimmung ist Ihnen über den\n",
       "Link in Einstellungen am Ende der Seite\n",
       "vertraulich. zeit24.des Pur - werbe frei\n",
       "lesen Nutzen sie zeit24.de pur ohne Werbung,\n",
       "kein Werbetracking! Zeit.des Pur -werbe frei\n",
       "kaufen: Pur abonnerieren Bereits Pur\n",
       "abonneriert? Hier anmelden ▸ Für die\n",
       "Verwendung mit Werbung: Wir erheben anonymen\n",
       "Informationen und verlagern diese auch an\n",
       "Drittsanbieter, die uns helfen können unser\n",
       "Webangebot zu erweitern und weiter\n",
       "differenzieren Eine Verarbeitung der in\n",
       "unserem Computer gesammelten Informationen\n",
       "wie z.B. Cookies (Rachtsrechtgrundlage: § 25\n",
       "Nr. 1 EStG i.Vbm.Art. 5 Abs. 1 lit                </td></tr>\n",
       "<tr><td style=\"text-align: right;\">         304</td><td>zeit.de/zu\n",
       "stimmung?u\n",
       "rl=https%3\n",
       "A%2F%2Fwww\n",
       ".zeit.de%2\n",
       "Fpolitik%2\n",
       "Fdeutschla\n",
       "nd%2F2023-\n",
       "02%2Fkoali\n",
       "tion-kinde\n",
       "rgrundsich\n",
       "erung-\n",
       "streit-\n",
       "cdu-\n",
       "christian-\n",
       "lindner-\n",
       "ricarda-\n",
       "lang      </td><td>kinde\n",
       "r        </td><td>other       </td><td style=\"text-align: right;\">         2</td><td style=\"text-align: right;\">            0</td><td style=\"text-align: right;\">          146</td><td>. Cookies (Rachtsrechtgrundlage: § 25 Nr. 1\n",
       "EStG i.Vbm.Art. 5 Abs. 1 lit. a GDPR) oder\n",
       "von Identifikaoren, Email-Adresse und Ihres\n",
       "persönlichen Nutzungsverhaltenes\n",
       "(Rechtsrechtgrundlagen gemäß Art: 5 Nr. 1\n",
       "Lit: a und f GDPR) erfolgt dabei zu den\n",
       "folgenden Zwecke: Cookies auf Ihrem Computer\n",
       "speicheren &amp;/ oder abzugeben Für die Ihnen\n",
       "angezeigte Verarbeitungungszwecke können\n",
       "Cookies wie Geräte-Kennungen oder andere\n",
       "Informationen auf dem Computer gespeichert\n",
       "oder abgerufen werden Personal erstellte\n",
       "Kampagnen und Inhalt: Anzeiges- oder\n",
       "Qualitätsabmessungen, Erkenntnissen von\n",
       "Nutzer- oder Softwareentwicklungen Anzeigen\n",
       "oder Inhalte können basiell an Ihrem Gerät\n",
       "personalisiert werden Es können mehr Daten\n",
       "hinzugefügt werden. um Anzeigen oder Inhalte\n",
       "besser zum personaliseren Die Qualität der\n",
       "Anzeiger und Kampagnen könnte angemessen\n",
       "sein. Erkenntnissen über Zielgruppen, die\n",
       "Ihre Anzeigen und Inhalt betrachteten und\n",
       "können abgegeben sein. Daten könnten\n",
       "verwendet werden, Um Benutzerwundlichkeit der\n",
       "Systemarchitektur oder Software aufzubauen\n",
       "oder weiter verbessern Pur-Aktion Impressum\n",
       "Impressum AGB-bestimmungen Impressum english\n",
       "version                </td></tr>\n",
       "<tr><td style=\"text-align: right;\">         304</td><td>zeit.de/zu\n",
       "stimmung?u\n",
       "rl=https%3\n",
       "A%2F%2Fwww\n",
       ".zeit.de%2\n",
       "Fpolitik%2\n",
       "Fdeutschla\n",
       "nd%2F2023-\n",
       "02%2Fkoali\n",
       "tion-kinde\n",
       "rgrundsich\n",
       "erung-\n",
       "streit-\n",
       "cdu-\n",
       "christian-\n",
       "lindner-\n",
       "ricarda-\n",
       "lang      </td><td>kinde\n",
       "r        </td><td>other       </td><td style=\"text-align: right;\">         3</td><td style=\"text-align: right;\">            0</td><td style=\"text-align: right;\">          173</td><td>Zum Inhalt springen BOA Berufstest Studium-\n",
       "Interessentest Studienorientierung: Die\n",
       "Suchmaschine für Studiengänge ZEIT Campus\n",
       "ZEIT ONLINE Wie wollen Sie zeit.de nutzen?\n",
       "zeit.de mit Werbung Um der Nutzung mit\n",
       "Werbung zuzustimmen, muss JavaScript in Ihrem\n",
       "Browser aktiviert sein. zeit.de mit Werbung\n",
       "Besuchen Sie zeit.de wie gewohnt mit Werbung\n",
       "und Tracking. Mit Ihrer Zustimmung speichern\n",
       "und verarbeiten wir und unsere Partner\n",
       "Cookies und andere Technologien auf Ihrem\n",
       "Gerät sowie personenbezogene Daten, um unser\n",
       "Webangebot zu verbessern und zu finanzieren.\n",
       "In der Datenschutzerklärung und im Privacy\n",
       "Center finden Sie weitere Details. Ihre\n",
       "Zustimmung ist jederzeit über den Link\n",
       "Privacy Einstellungen am Ende jeder Seite\n",
       "widerrufbar. zeit.de Pur - werbefrei lesen\n",
       "Nutzen Sie zeit.de nahezu ohne Werbung und\n",
       "ohne Werbetracking. zeit.de Pur - werbefrei\n",
       "lesen: Jetzt abonnieren Bereits Pur\n",
       "abonniert? Hier anmelden . Für die Nutzung\n",
       "mit Werbung: Wir erheben personenbezogene\n",
       "Daten und übermitteln diese auch an\n",
       "Drittanbieter , die uns helfen, unser\n",
       "Webangebot zu verbessern und zu finanzieren.\n",
       "Eine Verarbeitung der auf Ihrem Gerät\n",
       "gespeicherten Informationen wie z.B. Cookies\n",
       "(Rechtsgrundlage: § 25 Abs. 1 TTDSG i.V.m.\n",
       "Art                </td></tr>\n",
       "<tr><td style=\"text-align: right;\">         304</td><td>zeit.de/zu\n",
       "stimmung?u\n",
       "rl=https%3\n",
       "A%2F%2Fwww\n",
       ".zeit.de%2\n",
       "Fpolitik%2\n",
       "Fdeutschla\n",
       "nd%2F2023-\n",
       "02%2Fkoali\n",
       "tion-kinde\n",
       "rgrundsich\n",
       "erung-\n",
       "streit-\n",
       "cdu-\n",
       "christian-\n",
       "lindner-\n",
       "ricarda-\n",
       "lang      </td><td>kinde\n",
       "r        </td><td>other       </td><td style=\"text-align: right;\">         4</td><td style=\"text-align: right;\">            0</td><td style=\"text-align: right;\">          144</td><td>.B. Cookies (Rechtsgrundlage: § 25 Abs. 1\n",
       "TTDSG i.V.m. Art. 6 Abs. 1 lit. a DSGVO) oder\n",
       "persönliche Identifikatoren, IP-Adressen\n",
       "sowie Ihres individuellen Nutzungsverhaltens\n",
       "(Rechtsgrundlagen: Art. 6 Abs. 1 lit. a und f\n",
       "DSGVO) erfolgt dabei zu den folgenden\n",
       "Zwecken: Informationen auf einem Gerät\n",
       "speichern und/oder abrufen Für die Ihnen\n",
       "angezeigten Verarbeitungszwecke können\n",
       "Cookies, Geräte-Kennungen oder andere\n",
       "Informationen auf Ihrem Gerät gespeichert\n",
       "oder abgerufen werden. Personalisierte\n",
       "Anzeigen und Inhalte, Anzeigen- und\n",
       "Inhaltsmessungen, Erkenntnisse über\n",
       "Zielgruppen und Produktentwicklungen Anzeigen\n",
       "und Inhalte können basierend auf einem Profil\n",
       "personalisiert werden. Es können mehr Daten\n",
       "hinzugefügt werden, um Anzeigen und Inhalte\n",
       "besser zu personalisieren. Die Performance\n",
       "von Anzeigen und Inhalten kann gemessen\n",
       "werden. Erkenntnisse über Zielgruppen, die\n",
       "die Anzeigen und Inhalte betrachtet haben,\n",
       "können abgeleitet werden. Daten können\n",
       "verwendet werden, um Benutzerfreundlichkeit,\n",
       "Systeme und Software aufzubauen oder zu\n",
       "verbessern. Pur-Abo FAQ Impressum AGB\n",
       "Datenschutz Switch to english version                </td></tr>\n",
       "<tr><td style=\"text-align: right;\">         304</td><td>zeit.de/zu\n",
       "stimmung?u\n",
       "rl=https%3\n",
       "A%2F%2Fwww\n",
       ".zeit.de%2\n",
       "Fpolitik%2\n",
       "Fdeutschla\n",
       "nd%2F2023-\n",
       "02%2Fkoali\n",
       "tion-kinde\n",
       "rgrundsich\n",
       "erung-\n",
       "streit-\n",
       "cdu-\n",
       "christian-\n",
       "lindner-\n",
       "ricarda-\n",
       "lang      </td><td>kinde\n",
       "r        </td><td>other       </td><td style=\"text-align: right;\">         5</td><td style=\"text-align: right;\">            0</td><td style=\"text-align: right;\">          179</td><td>Zum Inhalt springen PRIM: Berufstest Studium-\n",
       "undvalltest Studienorientierung: Die\n",
       "Suchfunktion für Lehrlinge EIT Campus ZEIT\n",
       "ONLINE Wie können wir Zeit.de nutzen?\n",
       "zeit24.de mit Werbung Um der Nutzung mit\n",
       "Werbung zuzustimmen, sollte JavaScript auf\n",
       "Ihrem Gerätaktiv installiert werden.\n",
       "Zeit24.des mit Werbung Besuch Nutzen Sie\n",
       "zeit.des nicht gewohnt ohne Cookies und\n",
       "tracking Nach Ihrer Zustimmung pflegen oder\n",
       "bearbeiten wir und unser Partner Cookies oder\n",
       "andere Technologien auf Ihrem Computer Ihre\n",
       "personenbezogenen Informationen, um unser\n",
       "Internetangebot weiter verbessern und zu\n",
       "finanzieren In der Datenschutzerklärung und\n",
       "im Contact Center finden Sie alle Details.\n",
       "Diese Zustimmung ist nur durch einen Link\n",
       "unter Einstellungen an Ende jeder Webseite\n",
       "widerruflich: zeit.des Pur – werbefrei lesen\n",
       "Nutzen Sie zeit24.de gewohnt mit Werbung und\n",
       "ohne Werbetracking. zeit.des Pur - werbefrei\n",
       "lesen: Jetzt abonniert Bereits Pur\n",
       "abonnerieren? Jetzt klicken, Für die\n",
       "Verwendung mit Werbung: Wir beheben anonyme\n",
       "Daten und übermittelen diese auch auf\n",
       "Drittsanbieter, welche dabei helfen, unsere\n",
       "Webangebote weiter verbessern oder weiter\n",
       "finanzen. Die Verarbeitung von in einem Gerät\n",
       "enthaltenen Informationen wie Z. B: Daten(\n",
       "Rechtliche Grundlage : Artikel 6 Nr. 1 EUDSG\n",
       "i/V.m.Art. 6 Nr, 1 lit                </td></tr>\n",
       "<tr><td style=\"text-align: right;\">         304</td><td>zeit.de/zu\n",
       "stimmung?u\n",
       "rl=https%3\n",
       "A%2F%2Fwww\n",
       ".zeit.de%2\n",
       "Fpolitik%2\n",
       "Fdeutschla\n",
       "nd%2F2023-\n",
       "02%2Fkoali\n",
       "tion-kinde\n",
       "rgrundsich\n",
       "erung-\n",
       "streit-\n",
       "cdu-\n",
       "christian-\n",
       "lindner-\n",
       "ricarda-\n",
       "lang      </td><td>kinde\n",
       "r        </td><td>other       </td><td style=\"text-align: right;\">         6</td><td style=\"text-align: right;\">            0</td><td style=\"text-align: right;\">          151</td><td>. B: Daten( Rechtliche Grundlage : Artikel 6\n",
       "Nr. 1 EUDSG i/V.m.Art. 6 Nr, 1 lit. f GDPR)\n",
       "Ihre persönliche Identifikatörer, IP-Adresse\n",
       "sowie Ihres individuellen\n",
       "Kommunikationsverhaltens( Rechtesgrundlagen\n",
       ":Arte 5 Abs. 1 lit. a und f GDPR) erfolgt\n",
       "dabei zu den folgenden Zeitpunkte:\n",
       "Informationen auf einem Gerät speicheren &amp;/\n",
       "oder abrufen Durch von Ihnen angezeigte\n",
       "Verarbeitungungstätigkeiten können Cookies,\n",
       "Geräte-Zennungen oder andere Informationen\n",
       "auf Ihrem Computer gespeichert oder abgerufen\n",
       "werden. Personal erstellte Anzeigen und\n",
       "Inhalt, Anzeigenprofil und Inhaltsmessgeräte\n",
       "sowie Kenntnisse von Produkt- und\n",
       "Produktrelevanten Anzeigen oder Inhalte\n",
       "können basierend auf einem Profil\n",
       "individualisiert sein Dazu müssen mehr\n",
       "Funktionen beigefügen werden um unsere\n",
       "Anzeige- und Inhalt besser zu\n",
       "personalisieren. Die Qualität unserer\n",
       "Anzeigen und Inhalten kann angemessen sein.\n",
       "Erkenntnisse von Zielgruppen, welche unsere\n",
       "Artikel- und Inhalte betrachtet haben und uns\n",
       "weitergegeben sein. Daten können verwendet\n",
       "werden, um Benutzerwörtlichkeit für Systeme\n",
       "und Software aufzubauen oder weiter\n",
       "entwickeln. Pur-Abo FAQ Impressum Abo\n",
       "Datenschutz Link to share                </td></tr>\n",
       "</tbody>\n",
       "</table>"
      ],
      "text/plain": [
       "'<table>\\n<thead>\\n<tr><th style=\"text-align: right;\">  Example ID</th><th>URL  </th><th>Label  </th><th>Prediction  </th><th style=\"text-align: right;\">  Chunk ID</th><th style=\"text-align: right;\">  Predictions</th><th style=\"text-align: right;\">  Token Count</th><th>Text Preview   </th></tr>\\n</thead>\\n<tbody>\\n<tr><td style=\"text-align: right;\">          50</td><td>bundestag.\\nde/resourc\\ne/blob/929\\n418/990d53\\n6e8b9dd7be\\n3a12ff0bf0\\ne1a0f2/WD-\\n9-083-22-p\\ndf-\\ndata.pdf      </td><td>kinde\\nr        </td><td>other       </td><td style=\"text-align: right;\">         1</td><td style=\"text-align: right;\">            0</td><td style=\"text-align: right;\">            1</td><td>DECODING/TERROR</td></tr>\\n<tr><td style=\"text-align: right;\">          50</td><td>bundestag.\\nde/resourc\\ne/blob/929\\n418/990d53\\n6e8b9dd7be\\n3a12ff0bf0\\ne1a0f2/WD-\\n9-083-22-p\\ndf-\\ndata.pdf      </td><td>kinde\\nr        </td><td>other       </td><td style=\"text-align: right;\">         2</td><td style=\"text-align: right;\">            0</td><td style=\"text-align: right;\">            1</td><td>DECODING_ERROR </td></tr>\\n<tr><td style=\"text-align: right;\">          99</td><td>bundesgesu\\nndheitsmin\\nisterium.d\\ne/fileadmi\\nn/Dateien/\\n3_Download\\ns/Gesetze_\\nund_Verord\\nnungen/GuV\\n/C/Kabinet\\ntvorlage_E\\nckpunktepa\\npier_Abgab\\ne_Cannabis\\n.pdf      </td><td>canna\\nbis        </td><td>other       </td><td style=\"text-align: right;\">         1</td><td style=\"text-align: right;\">            0</td><td style=\"text-align: right;\">            1</td><td>DECODING_ERROR </td></tr>\\n<tr><td style=\"text-align: right;\">         112</td><td>dip.bundes\\ntag.de/vor\\ngang/.../1\\n1766      </td><td>energ\\nie        </td><td>other       </td><td style=\"text-align: right;\">         1</td><td style=\"text-align: right;\">            0</td><td style=\"text-align: right;\">           23</td><td>If you&#x27;re seeing this message, that means\\nJavaScript has been disabled on your browser\\n, please enable JS to make this app work.                </td></tr>\\n<tr><td style=\"text-align: right;\">         191</td><td>zeit.de/po\\nlitik/deut\\nschland/20\\n23-02/koal\\nition-kind\\nergrundsic\\nherung-\\nstreit-\\ncdu-\\nchristian-\\nlindner-\\nricarda-la\\nng?utm_ref\\nerrer=http\\ns%3A%2F%2F\\nwww.google\\n.com%2F      </td><td>kinde\\nr        </td><td>other       </td><td style=\"text-align: right;\">         1</td><td style=\"text-align: right;\">            0</td><td style=\"text-align: right;\">          173</td><td>Zum Inhalt springen BOA Berufstest Studium-\\nInteressentest Studienorientierung: Die\\nSuchmaschine für Studiengänge ZEIT Campus\\nZEIT ONLINE Wie wollen Sie zeit.de nutzen?\\nzeit.de mit Werbung Um der Nutzung mit\\nWerbung zuzustimmen, muss JavaScript in Ihrem\\nBrowser aktiviert sein. zeit.de mit Werbung\\nBesuchen Sie zeit.de wie gewohnt mit Werbung\\nund Tracking. Mit Ihrer Zustimmung speichern\\nund verarbeiten wir und unsere Partner\\nCookies und andere Technologien auf Ihrem\\nGerät sowie personenbezogene Daten, um unser\\nWebangebot zu verbessern und zu finanzieren.\\nIn der Datenschutzerklärung und im Privacy\\nCenter finden Sie weitere Details. Ihre\\nZustimmung ist jederzeit über den Link\\nPrivacy Einstellungen am Ende jeder Seite\\nwiderrufbar. zeit.de Pur - werbefrei lesen\\nNutzen Sie zeit.de nahezu ohne Werbung und\\nohne Werbetracking. zeit.de Pur - werbefrei\\nlesen: Jetzt abonnieren Bereits Pur\\nabonniert? Hier anmelden . Für die Nutzung\\nmit Werbung: Wir erheben personenbezogene\\nDaten und übermitteln diese auch an\\nDrittanbieter , die uns helfen, unser\\nWebangebot zu verbessern und zu finanzieren.\\nEine Verarbeitung der auf Ihrem Gerät\\ngespeicherten Informationen wie z.B. Cookies\\n(Rechtsgrundlage: § 25 Abs. 1 TTDSG i.V.m.\\nArt                </td></tr>\\n<tr><td style=\"text-align: right;\">         191</td><td>zeit.de/po\\nlitik/deut\\nschland/20\\n23-02/koal\\nition-kind\\nergrundsic\\nherung-\\nstreit-\\ncdu-\\nchristian-\\nlindner-\\nricarda-la\\nng?utm_ref\\nerrer=http\\ns%3A%2F%2F\\nwww.google\\n.com%2F      </td><td>kinde\\nr        </td><td>other       </td><td style=\"text-align: right;\">         2</td><td style=\"text-align: right;\">            0</td><td style=\"text-align: right;\">          144</td><td>.B. Cookies (Rechtsgrundlage: § 25 Abs. 1\\nTTDSG i.V.m. Art. 6 Abs. 1 lit. a DSGVO) oder\\npersönliche Identifikatoren, IP-Adressen\\nsowie Ihres individuellen Nutzungsverhaltens\\n(Rechtsgrundlagen: Art. 6 Abs. 1 lit. a und f\\nDSGVO) erfolgt dabei zu den folgenden\\nZwecken: Informationen auf einem Gerät\\nspeichern und/oder abrufen Für die Ihnen\\nangezeigten Verarbeitungszwecke können\\nCookies, Geräte-Kennungen oder andere\\nInformationen auf Ihrem Gerät gespeichert\\noder abgerufen werden. Personalisierte\\nAnzeigen und Inhalte, Anzeigen- und\\nInhaltsmessungen, Erkenntnisse über\\nZielgruppen und Produktentwicklungen Anzeigen\\nund Inhalte können basierend auf einem Profil\\npersonalisiert werden. Es können mehr Daten\\nhinzugefügt werden, um Anzeigen und Inhalte\\nbesser zu personalisieren. Die Performance\\nvon Anzeigen und Inhalten kann gemessen\\nwerden. Erkenntnisse über Zielgruppen, die\\ndie Anzeigen und Inhalte betrachtet haben,\\nkönnen abgeleitet werden. Daten können\\nverwendet werden, um Benutzerfreundlichkeit,\\nSysteme und Software aufzubauen oder zu\\nverbessern. Pur-Abo FAQ Impressum AGB\\nDatenschutz Switch to english version                </td></tr>\\n<tr><td style=\"text-align: right;\">         304</td><td>zeit.de/zu\\nstimmung?u\\nrl=https%3\\nA%2F%2Fwww\\n.zeit.de%2\\nFpolitik%2\\nFdeutschla\\nnd%2F2023-\\n02%2Fkoali\\ntion-kinde\\nrgrundsich\\nerung-\\nstreit-\\ncdu-\\nchristian-\\nlindner-\\nricarda-\\nlang      </td><td>kinde\\nr        </td><td>other       </td><td style=\"text-align: right;\">         1</td><td style=\"text-align: right;\">            0</td><td style=\"text-align: right;\">          181</td><td>Zum Inhalt springen BOA Berufstest Online\\nStudienInteressen zur Studienfinanzierung:\\nEine Testfunktion der Studiengänge ZEIT\\nONLINE ZEIT ONLINE Wie wollen Sie Zeit.de\\nverwenden? Zeit.de ohne Cookies Um der\\nVerwendung mit Werbung zuzustimmen Sie sollte\\nJavaScript in Ihrem Browser neu installiert\\nwerden! zeit24.de mit Werbung Besuch Nutzen\\nsie Zeit.de wie gewohnt mit Cookies und\\nTracking. Mit Ihrer Einwilligung erspeicheren\\nund betreiben wir und unsere Partner cookies\\nund andere Analysen auf Ihr Gerät und\\npersonenbezogene Informationen, um das\\nWebangebot zu verbessern und zu\\nreaktivisieren. In der Datenschutzerklärung\\nund unter Contact Us finden Sie weitere\\nDetails. Ihre Zustimmung ist Ihnen über den\\nLink in Einstellungen am Ende der Seite\\nvertraulich. zeit24.des Pur - werbe frei\\nlesen Nutzen sie zeit24.de pur ohne Werbung,\\nkein Werbetracking! Zeit.des Pur -werbe frei\\nkaufen: Pur abonnerieren Bereits Pur\\nabonneriert? Hier anmelden ▸ Für die\\nVerwendung mit Werbung: Wir erheben anonymen\\nInformationen und verlagern diese auch an\\nDrittsanbieter, die uns helfen können unser\\nWebangebot zu erweitern und weiter\\ndifferenzieren Eine Verarbeitung der in\\nunserem Computer gesammelten Informationen\\nwie z.B. Cookies (Rachtsrechtgrundlage: § 25\\nNr. 1 EStG i.Vbm.Art. 5 Abs. 1 lit                </td></tr>\\n<tr><td style=\"text-align: right;\">         304</td><td>zeit.de/zu\\nstimmung?u\\nrl=https%3\\nA%2F%2Fwww\\n.zeit.de%2\\nFpolitik%2\\nFdeutschla\\nnd%2F2023-\\n02%2Fkoali\\ntion-kinde\\nrgrundsich\\nerung-\\nstreit-\\ncdu-\\nchristian-\\nlindner-\\nricarda-\\nlang      </td><td>kinde\\nr        </td><td>other       </td><td style=\"text-align: right;\">         2</td><td style=\"text-align: right;\">            0</td><td style=\"text-align: right;\">          146</td><td>. Cookies (Rachtsrechtgrundlage: § 25 Nr. 1\\nEStG i.Vbm.Art. 5 Abs. 1 lit. a GDPR) oder\\nvon Identifikaoren, Email-Adresse und Ihres\\npersönlichen Nutzungsverhaltenes\\n(Rechtsrechtgrundlagen gemäß Art: 5 Nr. 1\\nLit: a und f GDPR) erfolgt dabei zu den\\nfolgenden Zwecke: Cookies auf Ihrem Computer\\nspeicheren &amp;/ oder abzugeben Für die Ihnen\\nangezeigte Verarbeitungungszwecke können\\nCookies wie Geräte-Kennungen oder andere\\nInformationen auf dem Computer gespeichert\\noder abgerufen werden Personal erstellte\\nKampagnen und Inhalt: Anzeiges- oder\\nQualitätsabmessungen, Erkenntnissen von\\nNutzer- oder Softwareentwicklungen Anzeigen\\noder Inhalte können basiell an Ihrem Gerät\\npersonalisiert werden Es können mehr Daten\\nhinzugefügt werden. um Anzeigen oder Inhalte\\nbesser zum personaliseren Die Qualität der\\nAnzeiger und Kampagnen könnte angemessen\\nsein. Erkenntnissen über Zielgruppen, die\\nIhre Anzeigen und Inhalt betrachteten und\\nkönnen abgegeben sein. Daten könnten\\nverwendet werden, Um Benutzerwundlichkeit der\\nSystemarchitektur oder Software aufzubauen\\noder weiter verbessern Pur-Aktion Impressum\\nImpressum AGB-bestimmungen Impressum english\\nversion                </td></tr>\\n<tr><td style=\"text-align: right;\">         304</td><td>zeit.de/zu\\nstimmung?u\\nrl=https%3\\nA%2F%2Fwww\\n.zeit.de%2\\nFpolitik%2\\nFdeutschla\\nnd%2F2023-\\n02%2Fkoali\\ntion-kinde\\nrgrundsich\\nerung-\\nstreit-\\ncdu-\\nchristian-\\nlindner-\\nricarda-\\nlang      </td><td>kinde\\nr        </td><td>other       </td><td style=\"text-align: right;\">         3</td><td style=\"text-align: right;\">            0</td><td style=\"text-align: right;\">          173</td><td>Zum Inhalt springen BOA Berufstest Studium-\\nInteressentest Studienorientierung: Die\\nSuchmaschine für Studiengänge ZEIT Campus\\nZEIT ONLINE Wie wollen Sie zeit.de nutzen?\\nzeit.de mit Werbung Um der Nutzung mit\\nWerbung zuzustimmen, muss JavaScript in Ihrem\\nBrowser aktiviert sein. zeit.de mit Werbung\\nBesuchen Sie zeit.de wie gewohnt mit Werbung\\nund Tracking. Mit Ihrer Zustimmung speichern\\nund verarbeiten wir und unsere Partner\\nCookies und andere Technologien auf Ihrem\\nGerät sowie personenbezogene Daten, um unser\\nWebangebot zu verbessern und zu finanzieren.\\nIn der Datenschutzerklärung und im Privacy\\nCenter finden Sie weitere Details. Ihre\\nZustimmung ist jederzeit über den Link\\nPrivacy Einstellungen am Ende jeder Seite\\nwiderrufbar. zeit.de Pur - werbefrei lesen\\nNutzen Sie zeit.de nahezu ohne Werbung und\\nohne Werbetracking. zeit.de Pur - werbefrei\\nlesen: Jetzt abonnieren Bereits Pur\\nabonniert? Hier anmelden . Für die Nutzung\\nmit Werbung: Wir erheben personenbezogene\\nDaten und übermitteln diese auch an\\nDrittanbieter , die uns helfen, unser\\nWebangebot zu verbessern und zu finanzieren.\\nEine Verarbeitung der auf Ihrem Gerät\\ngespeicherten Informationen wie z.B. Cookies\\n(Rechtsgrundlage: § 25 Abs. 1 TTDSG i.V.m.\\nArt                </td></tr>\\n<tr><td style=\"text-align: right;\">         304</td><td>zeit.de/zu\\nstimmung?u\\nrl=https%3\\nA%2F%2Fwww\\n.zeit.de%2\\nFpolitik%2\\nFdeutschla\\nnd%2F2023-\\n02%2Fkoali\\ntion-kinde\\nrgrundsich\\nerung-\\nstreit-\\ncdu-\\nchristian-\\nlindner-\\nricarda-\\nlang      </td><td>kinde\\nr        </td><td>other       </td><td style=\"text-align: right;\">         4</td><td style=\"text-align: right;\">            0</td><td style=\"text-align: right;\">          144</td><td>.B. Cookies (Rechtsgrundlage: § 25 Abs. 1\\nTTDSG i.V.m. Art. 6 Abs. 1 lit. a DSGVO) oder\\npersönliche Identifikatoren, IP-Adressen\\nsowie Ihres individuellen Nutzungsverhaltens\\n(Rechtsgrundlagen: Art. 6 Abs. 1 lit. a und f\\nDSGVO) erfolgt dabei zu den folgenden\\nZwecken: Informationen auf einem Gerät\\nspeichern und/oder abrufen Für die Ihnen\\nangezeigten Verarbeitungszwecke können\\nCookies, Geräte-Kennungen oder andere\\nInformationen auf Ihrem Gerät gespeichert\\noder abgerufen werden. Personalisierte\\nAnzeigen und Inhalte, Anzeigen- und\\nInhaltsmessungen, Erkenntnisse über\\nZielgruppen und Produktentwicklungen Anzeigen\\nund Inhalte können basierend auf einem Profil\\npersonalisiert werden. Es können mehr Daten\\nhinzugefügt werden, um Anzeigen und Inhalte\\nbesser zu personalisieren. Die Performance\\nvon Anzeigen und Inhalten kann gemessen\\nwerden. Erkenntnisse über Zielgruppen, die\\ndie Anzeigen und Inhalte betrachtet haben,\\nkönnen abgeleitet werden. Daten können\\nverwendet werden, um Benutzerfreundlichkeit,\\nSysteme und Software aufzubauen oder zu\\nverbessern. Pur-Abo FAQ Impressum AGB\\nDatenschutz Switch to english version                </td></tr>\\n<tr><td style=\"text-align: right;\">         304</td><td>zeit.de/zu\\nstimmung?u\\nrl=https%3\\nA%2F%2Fwww\\n.zeit.de%2\\nFpolitik%2\\nFdeutschla\\nnd%2F2023-\\n02%2Fkoali\\ntion-kinde\\nrgrundsich\\nerung-\\nstreit-\\ncdu-\\nchristian-\\nlindner-\\nricarda-\\nlang      </td><td>kinde\\nr        </td><td>other       </td><td style=\"text-align: right;\">         5</td><td style=\"text-align: right;\">            0</td><td style=\"text-align: right;\">          179</td><td>Zum Inhalt springen PRIM: Berufstest Studium-\\nundvalltest Studienorientierung: Die\\nSuchfunktion für Lehrlinge EIT Campus ZEIT\\nONLINE Wie können wir Zeit.de nutzen?\\nzeit24.de mit Werbung Um der Nutzung mit\\nWerbung zuzustimmen, sollte JavaScript auf\\nIhrem Gerätaktiv installiert werden.\\nZeit24.des mit Werbung Besuch Nutzen Sie\\nzeit.des nicht gewohnt ohne Cookies und\\ntracking Nach Ihrer Zustimmung pflegen oder\\nbearbeiten wir und unser Partner Cookies oder\\nandere Technologien auf Ihrem Computer Ihre\\npersonenbezogenen Informationen, um unser\\nInternetangebot weiter verbessern und zu\\nfinanzieren In der Datenschutzerklärung und\\nim Contact Center finden Sie alle Details.\\nDiese Zustimmung ist nur durch einen Link\\nunter Einstellungen an Ende jeder Webseite\\nwiderruflich: zeit.des Pur – werbefrei lesen\\nNutzen Sie zeit24.de gewohnt mit Werbung und\\nohne Werbetracking. zeit.des Pur - werbefrei\\nlesen: Jetzt abonniert Bereits Pur\\nabonnerieren? Jetzt klicken, Für die\\nVerwendung mit Werbung: Wir beheben anonyme\\nDaten und übermittelen diese auch auf\\nDrittsanbieter, welche dabei helfen, unsere\\nWebangebote weiter verbessern oder weiter\\nfinanzen. Die Verarbeitung von in einem Gerät\\nenthaltenen Informationen wie Z. B: Daten(\\nRechtliche Grundlage : Artikel 6 Nr. 1 EUDSG\\ni/V.m.Art. 6 Nr, 1 lit                </td></tr>\\n<tr><td style=\"text-align: right;\">         304</td><td>zeit.de/zu\\nstimmung?u\\nrl=https%3\\nA%2F%2Fwww\\n.zeit.de%2\\nFpolitik%2\\nFdeutschla\\nnd%2F2023-\\n02%2Fkoali\\ntion-kinde\\nrgrundsich\\nerung-\\nstreit-\\ncdu-\\nchristian-\\nlindner-\\nricarda-\\nlang      </td><td>kinde\\nr        </td><td>other       </td><td style=\"text-align: right;\">         6</td><td style=\"text-align: right;\">            0</td><td style=\"text-align: right;\">          151</td><td>. B: Daten( Rechtliche Grundlage : Artikel 6\\nNr. 1 EUDSG i/V.m.Art. 6 Nr, 1 lit. f GDPR)\\nIhre persönliche Identifikatörer, IP-Adresse\\nsowie Ihres individuellen\\nKommunikationsverhaltens( Rechtesgrundlagen\\n:Arte 5 Abs. 1 lit. a und f GDPR) erfolgt\\ndabei zu den folgenden Zeitpunkte:\\nInformationen auf einem Gerät speicheren &amp;/\\noder abrufen Durch von Ihnen angezeigte\\nVerarbeitungungstätigkeiten können Cookies,\\nGeräte-Zennungen oder andere Informationen\\nauf Ihrem Computer gespeichert oder abgerufen\\nwerden. Personal erstellte Anzeigen und\\nInhalt, Anzeigenprofil und Inhaltsmessgeräte\\nsowie Kenntnisse von Produkt- und\\nProduktrelevanten Anzeigen oder Inhalte\\nkönnen basierend auf einem Profil\\nindividualisiert sein Dazu müssen mehr\\nFunktionen beigefügen werden um unsere\\nAnzeige- und Inhalt besser zu\\npersonalisieren. Die Qualität unserer\\nAnzeigen und Inhalten kann angemessen sein.\\nErkenntnisse von Zielgruppen, welche unsere\\nArtikel- und Inhalte betrachtet haben und uns\\nweitergegeben sein. Daten können verwendet\\nwerden, um Benutzerwörtlichkeit für Systeme\\nund Software aufzubauen oder weiter\\nentwickeln. Pur-Abo FAQ Impressum Abo\\nDatenschutz Link to share                </td></tr>\\n</tbody>\\n</table>'"
      ]
     },
     "metadata": {},
     "output_type": "display_data"
    }
   ],
   "source": [
    "from tabulate import tabulate\n",
    "\n",
    "urls = list(grouped_dataset.keys())\n",
    "chunks = list(grouped_dataset.values())\n",
    "table_data = []  # List to store all row data for tabulation\n",
    "\n",
    "for id_x, (label, prediction) in enumerate(zip(labels_for_url, prediction_for_url_max)):\n",
    "    if label !=  0 and prediction == 0:\n",
    "        # Display only up to n chunks, each with detailed information\n",
    "        for chunk_id, chunk in enumerate(chunks[id_x][:25]):\n",
    "            preds = chunk['preds']\n",
    "            text = chunk['text']\n",
    "            token_count = len(text.split(\" \"))\n",
    "\n",
    "            # Limiting text output to the first 50 and last 50 tokens\n",
    "            text_preview = (text[:50] + '...' + text[-50:]) if len(text) > 100 else text\n",
    "\n",
    "            # Append each chunk as a separate row in the table\n",
    "            table_data.append([\n",
    "                id_x + 1,  # Example ID\n",
    "                urls[id_x][:250],\n",
    "                id_to_class[label],\n",
    "                id_to_class[prediction],\n",
    "                chunk_id + 1,\n",
    "                preds,\n",
    "                token_count,\n",
    "                text\n",
    "            ])\n",
    "\n",
    "        # Break the loop \n",
    "        if len(table_data) >= 10: \n",
    "            break\n",
    "\n",
    "# Formatting the output using tabulate\n",
    "headers = ['Example ID', 'URL', 'Label', 'Prediction', 'Chunk ID', 'Predictions', 'Token Count', 'Text Preview']\n",
    "display(tabulate(table_data, headers=headers, tablefmt='html', maxcolwidths=[5, 10, 5,  5, 5, 5, 5, 45]))\n"
   ]
  },
  {
   "cell_type": "markdown",
   "metadata": {},
   "source": [
    "## Filter Training Set"
   ]
  },
  {
   "cell_type": "code",
   "execution_count": 27,
   "metadata": {},
   "outputs": [
    {
     "name": "stderr",
     "output_type": "stream",
     "text": [
      "Filter: 100%|██████████| 15828/15828 [00:06<00:00, 2303.18 examples/s]\n"
     ]
    }
   ],
   "source": [
    "filtered_dataset = dataset.filter(lambda example: example['label'] == example['preds'] or example['label'] == 0)"
   ]
  },
  {
   "cell_type": "code",
   "execution_count": 28,
   "metadata": {},
   "outputs": [
    {
     "data": {
      "text/plain": [
       "Dataset({\n",
       "    features: ['_id', 'batch_id', 'domain', 'view_url', 'lang', 'text', 'text_length', 'word_count', 'token_count', 'topic', 'category', 'good_for_training', 'good_for_augmentation', 'annotation_type', 'is_topic', 'label', 'chunk_id', 'url_path', 'input_ids', 'attention_mask', 'probas', 'preds'],\n",
       "    num_rows: 15828\n",
       "})"
      ]
     },
     "execution_count": 28,
     "metadata": {},
     "output_type": "execute_result"
    }
   ],
   "source": [
    "dataset"
   ]
  },
  {
   "cell_type": "code",
   "execution_count": 29,
   "metadata": {},
   "outputs": [
    {
     "data": {
      "text/plain": [
       "Dataset({\n",
       "    features: ['_id', 'batch_id', 'domain', 'view_url', 'lang', 'text', 'text_length', 'word_count', 'token_count', 'topic', 'category', 'good_for_training', 'good_for_augmentation', 'annotation_type', 'is_topic', 'label', 'chunk_id', 'url_path', 'input_ids', 'attention_mask', 'probas', 'preds'],\n",
       "    num_rows: 13817\n",
       "})"
      ]
     },
     "execution_count": 29,
     "metadata": {},
     "output_type": "execute_result"
    }
   ],
   "source": [
    "filtered_dataset"
   ]
  },
  {
   "cell_type": "code",
   "execution_count": 30,
   "metadata": {},
   "outputs": [],
   "source": [
    "MAX_CONTENT_LENGTH = 384\n",
    "file_path = f\"../data/tmp/processed_dataset_multiclass_chunkified_{MAX_CONTENT_LENGTH}\"\n",
    "dataset = load_from_disk(file_path)\n",
    "\n",
    "#dataset = dataset[\"train\"]"
   ]
  },
  {
   "cell_type": "code",
   "execution_count": 31,
   "metadata": {},
   "outputs": [],
   "source": [
    "dataset[\"train\"] = filtered_dataset"
   ]
  },
  {
   "cell_type": "code",
   "execution_count": 32,
   "metadata": {},
   "outputs": [
    {
     "name": "stderr",
     "output_type": "stream",
     "text": [
      "Saving the dataset (1/1 shards): 100%|██████████| 13817/13817 [00:00<00:00, 25919.45 examples/s]\n",
      "Saving the dataset (3/3 shards): 100%|██████████| 816025/816025 [00:01<00:00, 576494.47 examples/s]\n",
      "Saving the dataset (1/1 shards): 100%|██████████| 827/827 [00:00<00:00, 112733.25 examples/s]\n"
     ]
    }
   ],
   "source": [
    "dataset.save_to_disk(file_path + \"_filtered\")"
   ]
  },
  {
   "cell_type": "code",
   "execution_count": null,
   "metadata": {},
   "outputs": [],
   "source": []
  }
 ],
 "metadata": {
  "kernelspec": {
   "display_name": "s2j-content-analysis",
   "language": "python",
   "name": "python3"
  },
  "language_info": {
   "codemirror_mode": {
    "name": "ipython",
    "version": 3
   },
   "file_extension": ".py",
   "mimetype": "text/x-python",
   "name": "python",
   "nbconvert_exporter": "python",
   "pygments_lexer": "ipython3",
   "version": "3.10.8"
  }
 },
 "nbformat": 4,
 "nbformat_minor": 2
}
