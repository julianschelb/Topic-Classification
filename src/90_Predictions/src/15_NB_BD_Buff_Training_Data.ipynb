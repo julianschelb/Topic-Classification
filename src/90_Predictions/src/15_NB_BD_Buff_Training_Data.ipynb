{
 "cells": [
  {
   "cell_type": "markdown",
   "metadata": {},
   "source": [
    "# Buff Training Dataset"
   ]
  },
  {
   "cell_type": "code",
   "execution_count": 1,
   "metadata": {},
   "outputs": [],
   "source": [
    "from bs4 import BeautifulSoup\n",
    "from tqdm import tqdm\n",
    "import pandas as pd \n",
    "import os"
   ]
  },
  {
   "cell_type": "markdown",
   "metadata": {},
   "source": [
    "## Import Data"
   ]
  },
  {
   "cell_type": "code",
   "execution_count": 2,
   "metadata": {},
   "outputs": [
    {
     "name": "stdout",
     "output_type": "stream",
     "text": [
      "   id                                                url   topic_folder  \\\n",
      "0   0  https://www.wa.de/nordrhein-westfalen/cannabis...  cannabis_html   \n",
      "1   1  https://www.ak-kurier.de/akkurier/www/artikel/...  cannabis_html   \n",
      "2   2  https://www.aponet.de/artikel/weniger-alkoholp...  cannabis_html   \n",
      "3   3  https://www.nordbayern.de/panorama/norwegische...  cannabis_html   \n",
      "4   4  https://www.deutschlandfunk.de/legalisierung-c...  cannabis_html   \n",
      "\n",
      "  date_folder                                           filename  \\\n",
      "0       Feb23  Legalisierung von Cannabis_ Hanf aus NRW könnt...   \n",
      "1       Feb23  Wann wird Cannabis in Deutschland legal_ _ AK-...   \n",
      "2       Feb23  Weniger Alkoholprobleme bei Legalisierung von ...   \n",
      "3       Feb23  Norwegische Studie_ Legalisierung von Cannabis...   \n",
      "4       Feb23  Kehrtwende in Drogenpolitik - Der lange Weg zu...   \n",
      "\n",
      "                                           full_path  \n",
      "0  cannabis_html/Feb23/Legalisierung von Cannabis...  \n",
      "1  cannabis_html/Feb23/Wann wird Cannabis in Deut...  \n",
      "2  cannabis_html/Feb23/Weniger Alkoholprobleme be...  \n",
      "3  cannabis_html/Feb23/Norwegische Studie_ Legali...  \n",
      "4  cannabis_html/Feb23/Kehrtwende in Drogenpoliti...  \n"
     ]
    }
   ],
   "source": [
    "df = pd.read_csv(\"../data/train_buff/0000-train_buff.csv\")\n",
    "print(df.head())"
   ]
  },
  {
   "cell_type": "markdown",
   "metadata": {},
   "source": [
    "## Extract Content from HTML Files"
   ]
  },
  {
   "cell_type": "code",
   "execution_count": 3,
   "metadata": {},
   "outputs": [
    {
     "name": "stderr",
     "output_type": "stream",
     "text": [
      "100%|██████████| 311/311 [00:19<00:00, 15.88it/s]\n"
     ]
    }
   ],
   "source": [
    "path_prefix = \"../data/train_buff/\"\n",
    "extracted_texts = []\n",
    "\n",
    "for index, row in tqdm(df.iterrows(), total=len(df)):\n",
    "    file_path = path_prefix + row['full_path']\n",
    "    \n",
    "    # Ensure the file exists (optional, based on your use case)\n",
    "    if os.path.exists(file_path):\n",
    "        \n",
    "        # Open and read the HTML file\n",
    "        with open(file_path, 'r', encoding='utf-8') as file:\n",
    "            html_content = file.read()\n",
    "        \n",
    "        # Parse the HTML content with BeautifulSoup\n",
    "        soup = BeautifulSoup(html_content, 'html.parser') \n",
    "        \n",
    "        text_content = soup.get_text(separator=' ', strip=True)\n",
    "        extracted_texts.append(text_content)\n",
    "        #print(text_content)\n",
    "        \n",
    "        # Example: Find and print the title tag content\n",
    "        #print(soup.title.text)\n",
    "    else:\n",
    "        print(f\"File not found: {file_path}\")\n",
    "        extracted_texts.append(None)\n",
    "\n",
    "df['extracted_text'] = extracted_texts"
   ]
  },
  {
   "cell_type": "code",
   "execution_count": 4,
   "metadata": {},
   "outputs": [],
   "source": [
    "df['topic'] = df['topic_folder'].str.replace('_html', '')"
   ]
  },
  {
   "cell_type": "code",
   "execution_count": 5,
   "metadata": {},
   "outputs": [
    {
     "data": {
      "text/html": [
       "<div>\n",
       "<style scoped>\n",
       "    .dataframe tbody tr th:only-of-type {\n",
       "        vertical-align: middle;\n",
       "    }\n",
       "\n",
       "    .dataframe tbody tr th {\n",
       "        vertical-align: top;\n",
       "    }\n",
       "\n",
       "    .dataframe thead th {\n",
       "        text-align: right;\n",
       "    }\n",
       "</style>\n",
       "<table border=\"1\" class=\"dataframe\">\n",
       "  <thead>\n",
       "    <tr style=\"text-align: right;\">\n",
       "      <th></th>\n",
       "      <th>id</th>\n",
       "      <th>url</th>\n",
       "      <th>topic_folder</th>\n",
       "      <th>date_folder</th>\n",
       "      <th>filename</th>\n",
       "      <th>full_path</th>\n",
       "      <th>extracted_text</th>\n",
       "      <th>topic</th>\n",
       "    </tr>\n",
       "  </thead>\n",
       "  <tbody>\n",
       "    <tr>\n",
       "      <th>0</th>\n",
       "      <td>0</td>\n",
       "      <td>https://www.wa.de/nordrhein-westfalen/cannabis...</td>\n",
       "      <td>cannabis_html</td>\n",
       "      <td>Feb23</td>\n",
       "      <td>Legalisierung von Cannabis_ Hanf aus NRW könnt...</td>\n",
       "      <td>cannabis_html/Feb23/Legalisierung von Cannabis...</td>\n",
       "      <td>Legalisierung von Cannabis: Hanf aus NRW könnt...</td>\n",
       "      <td>cannabis</td>\n",
       "    </tr>\n",
       "    <tr>\n",
       "      <th>1</th>\n",
       "      <td>1</td>\n",
       "      <td>https://www.ak-kurier.de/akkurier/www/artikel/...</td>\n",
       "      <td>cannabis_html</td>\n",
       "      <td>Feb23</td>\n",
       "      <td>Wann wird Cannabis in Deutschland legal_ _ AK-...</td>\n",
       "      <td>cannabis_html/Feb23/Wann wird Cannabis in Deut...</td>\n",
       "      <td>Wann wird Cannabis in Deutschland legal? | AK-...</td>\n",
       "      <td>cannabis</td>\n",
       "    </tr>\n",
       "    <tr>\n",
       "      <th>2</th>\n",
       "      <td>2</td>\n",
       "      <td>https://www.aponet.de/artikel/weniger-alkoholp...</td>\n",
       "      <td>cannabis_html</td>\n",
       "      <td>Feb23</td>\n",
       "      <td>Weniger Alkoholprobleme bei Legalisierung von ...</td>\n",
       "      <td>cannabis_html/Feb23/Weniger Alkoholprobleme be...</td>\n",
       "      <td>Weniger Alkoholprobleme bei Legalisierung von ...</td>\n",
       "      <td>cannabis</td>\n",
       "    </tr>\n",
       "    <tr>\n",
       "      <th>3</th>\n",
       "      <td>3</td>\n",
       "      <td>https://www.nordbayern.de/panorama/norwegische...</td>\n",
       "      <td>cannabis_html</td>\n",
       "      <td>Feb23</td>\n",
       "      <td>Norwegische Studie_ Legalisierung von Cannabis...</td>\n",
       "      <td>cannabis_html/Feb23/Norwegische Studie_ Legali...</td>\n",
       "      <td>Norwegische Studie: Legalisierung von Cannabis...</td>\n",
       "      <td>cannabis</td>\n",
       "    </tr>\n",
       "    <tr>\n",
       "      <th>4</th>\n",
       "      <td>4</td>\n",
       "      <td>https://www.deutschlandfunk.de/legalisierung-c...</td>\n",
       "      <td>cannabis_html</td>\n",
       "      <td>Feb23</td>\n",
       "      <td>Kehrtwende in Drogenpolitik - Der lange Weg zu...</td>\n",
       "      <td>cannabis_html/Feb23/Kehrtwende in Drogenpoliti...</td>\n",
       "      <td>Kehrtwende in Drogenpolitik - Der lange Weg zu...</td>\n",
       "      <td>cannabis</td>\n",
       "    </tr>\n",
       "  </tbody>\n",
       "</table>\n",
       "</div>"
      ],
      "text/plain": [
       "   id                                                url   topic_folder  \\\n",
       "0   0  https://www.wa.de/nordrhein-westfalen/cannabis...  cannabis_html   \n",
       "1   1  https://www.ak-kurier.de/akkurier/www/artikel/...  cannabis_html   \n",
       "2   2  https://www.aponet.de/artikel/weniger-alkoholp...  cannabis_html   \n",
       "3   3  https://www.nordbayern.de/panorama/norwegische...  cannabis_html   \n",
       "4   4  https://www.deutschlandfunk.de/legalisierung-c...  cannabis_html   \n",
       "\n",
       "  date_folder                                           filename  \\\n",
       "0       Feb23  Legalisierung von Cannabis_ Hanf aus NRW könnt...   \n",
       "1       Feb23  Wann wird Cannabis in Deutschland legal_ _ AK-...   \n",
       "2       Feb23  Weniger Alkoholprobleme bei Legalisierung von ...   \n",
       "3       Feb23  Norwegische Studie_ Legalisierung von Cannabis...   \n",
       "4       Feb23  Kehrtwende in Drogenpolitik - Der lange Weg zu...   \n",
       "\n",
       "                                           full_path  \\\n",
       "0  cannabis_html/Feb23/Legalisierung von Cannabis...   \n",
       "1  cannabis_html/Feb23/Wann wird Cannabis in Deut...   \n",
       "2  cannabis_html/Feb23/Weniger Alkoholprobleme be...   \n",
       "3  cannabis_html/Feb23/Norwegische Studie_ Legali...   \n",
       "4  cannabis_html/Feb23/Kehrtwende in Drogenpoliti...   \n",
       "\n",
       "                                      extracted_text     topic  \n",
       "0  Legalisierung von Cannabis: Hanf aus NRW könnt...  cannabis  \n",
       "1  Wann wird Cannabis in Deutschland legal? | AK-...  cannabis  \n",
       "2  Weniger Alkoholprobleme bei Legalisierung von ...  cannabis  \n",
       "3  Norwegische Studie: Legalisierung von Cannabis...  cannabis  \n",
       "4  Kehrtwende in Drogenpolitik - Der lange Weg zu...  cannabis  "
      ]
     },
     "execution_count": 5,
     "metadata": {},
     "output_type": "execute_result"
    }
   ],
   "source": [
    "df.head()"
   ]
  },
  {
   "cell_type": "markdown",
   "metadata": {},
   "source": [
    "## Save as Dataset"
   ]
  },
  {
   "cell_type": "code",
   "execution_count": 6,
   "metadata": {},
   "outputs": [
    {
     "name": "stderr",
     "output_type": "stream",
     "text": [
      "/home/jschelb/.pyenv/versions/3.10.8/envs/s2j-content-analysis/lib/python3.10/site-packages/tqdm/auto.py:21: TqdmWarning: IProgress not found. Please update jupyter and ipywidgets. See https://ipywidgets.readthedocs.io/en/stable/user_install.html\n",
      "  from .autonotebook import tqdm as notebook_tqdm\n"
     ]
    }
   ],
   "source": [
    "from datasets import Dataset, Features, ClassLabel, Value, Sequence, DatasetDict"
   ]
  },
  {
   "cell_type": "code",
   "execution_count": 7,
   "metadata": {},
   "outputs": [
    {
     "data": {
      "text/html": [
       "<div>\n",
       "<style scoped>\n",
       "    .dataframe tbody tr th:only-of-type {\n",
       "        vertical-align: middle;\n",
       "    }\n",
       "\n",
       "    .dataframe tbody tr th {\n",
       "        vertical-align: top;\n",
       "    }\n",
       "\n",
       "    .dataframe thead th {\n",
       "        text-align: right;\n",
       "    }\n",
       "</style>\n",
       "<table border=\"1\" class=\"dataframe\">\n",
       "  <thead>\n",
       "    <tr style=\"text-align: right;\">\n",
       "      <th></th>\n",
       "      <th>id</th>\n",
       "      <th>url</th>\n",
       "      <th>topic_folder</th>\n",
       "      <th>date_folder</th>\n",
       "      <th>filename</th>\n",
       "      <th>full_path</th>\n",
       "      <th>extracted_text</th>\n",
       "      <th>topic</th>\n",
       "      <th>topics</th>\n",
       "    </tr>\n",
       "  </thead>\n",
       "  <tbody>\n",
       "    <tr>\n",
       "      <th>0</th>\n",
       "      <td>0</td>\n",
       "      <td>https://www.wa.de/nordrhein-westfalen/cannabis...</td>\n",
       "      <td>cannabis_html</td>\n",
       "      <td>Feb23</td>\n",
       "      <td>Legalisierung von Cannabis_ Hanf aus NRW könnt...</td>\n",
       "      <td>cannabis_html/Feb23/Legalisierung von Cannabis...</td>\n",
       "      <td>Legalisierung von Cannabis: Hanf aus NRW könnt...</td>\n",
       "      <td>cannabis</td>\n",
       "      <td>{'cannabis': {'is_topic_bool': True}}</td>\n",
       "    </tr>\n",
       "    <tr>\n",
       "      <th>1</th>\n",
       "      <td>1</td>\n",
       "      <td>https://www.ak-kurier.de/akkurier/www/artikel/...</td>\n",
       "      <td>cannabis_html</td>\n",
       "      <td>Feb23</td>\n",
       "      <td>Wann wird Cannabis in Deutschland legal_ _ AK-...</td>\n",
       "      <td>cannabis_html/Feb23/Wann wird Cannabis in Deut...</td>\n",
       "      <td>Wann wird Cannabis in Deutschland legal? | AK-...</td>\n",
       "      <td>cannabis</td>\n",
       "      <td>{'cannabis': {'is_topic_bool': True}}</td>\n",
       "    </tr>\n",
       "    <tr>\n",
       "      <th>2</th>\n",
       "      <td>2</td>\n",
       "      <td>https://www.aponet.de/artikel/weniger-alkoholp...</td>\n",
       "      <td>cannabis_html</td>\n",
       "      <td>Feb23</td>\n",
       "      <td>Weniger Alkoholprobleme bei Legalisierung von ...</td>\n",
       "      <td>cannabis_html/Feb23/Weniger Alkoholprobleme be...</td>\n",
       "      <td>Weniger Alkoholprobleme bei Legalisierung von ...</td>\n",
       "      <td>cannabis</td>\n",
       "      <td>{'cannabis': {'is_topic_bool': True}}</td>\n",
       "    </tr>\n",
       "    <tr>\n",
       "      <th>3</th>\n",
       "      <td>3</td>\n",
       "      <td>https://www.nordbayern.de/panorama/norwegische...</td>\n",
       "      <td>cannabis_html</td>\n",
       "      <td>Feb23</td>\n",
       "      <td>Norwegische Studie_ Legalisierung von Cannabis...</td>\n",
       "      <td>cannabis_html/Feb23/Norwegische Studie_ Legali...</td>\n",
       "      <td>Norwegische Studie: Legalisierung von Cannabis...</td>\n",
       "      <td>cannabis</td>\n",
       "      <td>{'cannabis': {'is_topic_bool': True}}</td>\n",
       "    </tr>\n",
       "    <tr>\n",
       "      <th>4</th>\n",
       "      <td>4</td>\n",
       "      <td>https://www.deutschlandfunk.de/legalisierung-c...</td>\n",
       "      <td>cannabis_html</td>\n",
       "      <td>Feb23</td>\n",
       "      <td>Kehrtwende in Drogenpolitik - Der lange Weg zu...</td>\n",
       "      <td>cannabis_html/Feb23/Kehrtwende in Drogenpoliti...</td>\n",
       "      <td>Kehrtwende in Drogenpolitik - Der lange Weg zu...</td>\n",
       "      <td>cannabis</td>\n",
       "      <td>{'cannabis': {'is_topic_bool': True}}</td>\n",
       "    </tr>\n",
       "  </tbody>\n",
       "</table>\n",
       "</div>"
      ],
      "text/plain": [
       "   id                                                url   topic_folder  \\\n",
       "0   0  https://www.wa.de/nordrhein-westfalen/cannabis...  cannabis_html   \n",
       "1   1  https://www.ak-kurier.de/akkurier/www/artikel/...  cannabis_html   \n",
       "2   2  https://www.aponet.de/artikel/weniger-alkoholp...  cannabis_html   \n",
       "3   3  https://www.nordbayern.de/panorama/norwegische...  cannabis_html   \n",
       "4   4  https://www.deutschlandfunk.de/legalisierung-c...  cannabis_html   \n",
       "\n",
       "  date_folder                                           filename  \\\n",
       "0       Feb23  Legalisierung von Cannabis_ Hanf aus NRW könnt...   \n",
       "1       Feb23  Wann wird Cannabis in Deutschland legal_ _ AK-...   \n",
       "2       Feb23  Weniger Alkoholprobleme bei Legalisierung von ...   \n",
       "3       Feb23  Norwegische Studie_ Legalisierung von Cannabis...   \n",
       "4       Feb23  Kehrtwende in Drogenpolitik - Der lange Weg zu...   \n",
       "\n",
       "                                           full_path  \\\n",
       "0  cannabis_html/Feb23/Legalisierung von Cannabis...   \n",
       "1  cannabis_html/Feb23/Wann wird Cannabis in Deut...   \n",
       "2  cannabis_html/Feb23/Weniger Alkoholprobleme be...   \n",
       "3  cannabis_html/Feb23/Norwegische Studie_ Legali...   \n",
       "4  cannabis_html/Feb23/Kehrtwende in Drogenpoliti...   \n",
       "\n",
       "                                      extracted_text     topic  \\\n",
       "0  Legalisierung von Cannabis: Hanf aus NRW könnt...  cannabis   \n",
       "1  Wann wird Cannabis in Deutschland legal? | AK-...  cannabis   \n",
       "2  Weniger Alkoholprobleme bei Legalisierung von ...  cannabis   \n",
       "3  Norwegische Studie: Legalisierung von Cannabis...  cannabis   \n",
       "4  Kehrtwende in Drogenpolitik - Der lange Weg zu...  cannabis   \n",
       "\n",
       "                                  topics  \n",
       "0  {'cannabis': {'is_topic_bool': True}}  \n",
       "1  {'cannabis': {'is_topic_bool': True}}  \n",
       "2  {'cannabis': {'is_topic_bool': True}}  \n",
       "3  {'cannabis': {'is_topic_bool': True}}  \n",
       "4  {'cannabis': {'is_topic_bool': True}}  "
      ]
     },
     "execution_count": 7,
     "metadata": {},
     "output_type": "execute_result"
    }
   ],
   "source": [
    "df['topics'] = df['topic'].apply(lambda topic: {topic: {'is_topic_bool': True}})\n",
    "df.head()"
   ]
  },
  {
   "cell_type": "code",
   "execution_count": 8,
   "metadata": {},
   "outputs": [
    {
     "name": "stdout",
     "output_type": "stream",
     "text": [
      "www.example.com\n",
      "\n"
     ]
    }
   ],
   "source": [
    "from urllib.parse import urlparse\n",
    "\n",
    "\n",
    "def extract_domain(url: str) -> str:\n",
    "    \"\"\"\n",
    "    Extracts the domain from a given URL. Prepends 'http://' if no scheme is found to ensure correct parsing. Returns an empty string if the URL is invalid or empty.\n",
    "    \"\"\"\n",
    "    if not url:\n",
    "        return \"\"\n",
    "    \n",
    "    if not urlparse(url).scheme:\n",
    "        url = \"http://\" + url\n",
    "    \n",
    "    return urlparse(url).netloc.split('/')[0]\n",
    "\n",
    "print(extract_domain(\"www.example.com/path/to/resource\"))  # Output: www.example.com\n",
    "print(extract_domain(\"\"))"
   ]
  },
  {
   "cell_type": "code",
   "execution_count": 9,
   "metadata": {},
   "outputs": [
    {
     "name": "stdout",
     "output_type": "stream",
     "text": [
      "Dataset({\n",
      "    features: ['_id', 'batch_id', 'domain', 'view_url', 'lang', 'text', 'text_length', 'word_count', 'topics', 'topic', 'category', 'good_for_training', 'good_for_augmentation', 'annotation_type', 'is_topic', 'label'],\n",
      "    num_rows: 311\n",
      "})\n"
     ]
    }
   ],
   "source": [
    "df['topics'] = df['topic'].apply(lambda topic: {topic: {'is_topic_bool': True}})\n",
    "                                            \n",
    "# Transform the DataFrame to match the desired Hugging Face Dataset format\n",
    "transformed_data = {\n",
    "    '_id': df['id'].apply(lambda x: 'dummy_id_' + str(x)),\n",
    "    'batch_id': 99999,  \n",
    "    'domain': [extract_domain(url) for url in df['url'].to_list()],  # Extract domain from URL\n",
    "    'view_url': df['url'], \n",
    "    'lang': 'de', \n",
    "    'text': df['extracted_text'],\n",
    "    'text_length': df['extracted_text'].apply(len),\n",
    "    'word_count': df['extracted_text'].apply(lambda x: len(x.split())),\n",
    "    'topics': df['topics'].tolist(),\n",
    "    'topic': df['topic'],  \n",
    "    'category': \"buff\",\n",
    "    'good_for_training': 'True', \n",
    "    'good_for_augmentation': 'True', \n",
    "    'annotation_type': 'buff',\n",
    "    'is_topic': True,\n",
    "    'label': 1, \n",
    "}\n",
    "\n",
    "# Create a new DataFrame that aligns with the Hugging Face Dataset format\n",
    "hf_df = pd.DataFrame(transformed_data)\n",
    "\n",
    "# Convert the pandas DataFrame to a Hugging Face dataset\n",
    "hf_dataset = Dataset.from_pandas(hf_df)\n",
    "\n",
    "print(hf_dataset)"
   ]
  },
  {
   "cell_type": "code",
   "execution_count": 10,
   "metadata": {},
   "outputs": [
    {
     "data": {
      "text/plain": [
       "{'_id': 'dummy_id_0',\n",
       " 'batch_id': 99999,\n",
       " 'domain': 'www.wa.de',\n",
       " 'view_url': 'https://www.wa.de/nordrhein-westfalen/cannabis-legalisierung-nrw-hanf-gras-ibbenbueren-entkriminalisierung-anbau-drogen-polizei-kritik-92064527.html',\n",
       " 'lang': 'de',\n",
       " 'text': 'Legalisierung von Cannabis: Hanf aus NRW könnte Problem lösen Hamm NRW Lokales Politik Sport Stellenmarkt ePaper Kategorien Hamm NRW Münster Essen Lokales Werne Bönen Bergkamen Drensteinfurt Welver Sport Hamm Bönen Drensteinfurt Fußball WA-Tipp Tabellen Bundesliga-Tippspiel Verbraucher Rückrufe & Warnungen Testberichte Supermärkte & Discounter Abo Print-Angebote Digital-Angebote Kombi-Angebote Abo-Services Wirtschaft Politik Karl Lauterbach Fotos & Videos Kultur Veranstaltungen Leben Auto Reise Karriere Gesundheit Wohnen Digital Tiere Geld Games Serien Einfach Tasty Buchtipps Anzeigen Gewerbliche Kunden Private Anzeigen Mediadaten Ansprechpartner Stellenanzeigen Autoanzeigen Traueranzeigen Über uns Ansprechpartner Impressum Jobs AGB Datenschutz Newsletter FAQ Netiquette Produktempfehlung wa.de NRW Legalisierung von Cannabis: Hanf aus NRW könnte Problem lösen Stand: 03.02.2023, 15:15 Uhr Von: Marvin K. Hoffmann Kommentare Drucken Noch ist Cannabis in Deutschland nicht legal. Es soll aber entkriminalisiert werden. Ein Gartenbauunternehmen aus NRW könnte ein Anbau-Problem lösen. Ibbenbüren/Hamm – „Ich rauch‘ mein Ganja den ganzen Tag“, rappt Samy Deluxe. Den Kindern der 90er ist der singende Poet aus Hamburg sicherlich ein Begriff. Einem breiteren Publikum wurde er vielleicht mit „Weck mich auf“ bekannt. Tut hier aber auch nichts zur Sache. In diesem Text geht es nämlich nicht um die Kunst des Sprech-Gesangs – sondern um die Legalisierung der Droge Cannabis bzw. Hanf (=Ganja). Und da kommt ausgerechnet eine Gärtnerei aus Ibbenbüren ( NRW ) ins Spiel. Gartenbauunternehmen Hortensien Spieker aus Ibbenbüren möchte Cannabis anbauen Das Gartenbauunternehmen Hortensien Spieker aus Ibbenbüren will einem Bericht der WN zufolge Cannabis-Pflanzen anbauen, falls die von der Ampelkoalition in Deutschland versprochene Marihuana-Entkriminalisierung in Kraft tritt. Dann nämlich soll der Verkauf von Cannabis-Produkten nach strengen Vorgaben erlaubt sein – und Spieker aus Ibbenbüren möchte Teil des Marktes sein. „Als seriöser und erfahrener Pflanzenzüchter möchten wir im Zuge der Legalisierung eine hochwertige Premium-Alternative zum Schwarzmarkt bieten“, sagt Tim Spieker demnach. Der Firmenchef scheint voll und ganz hinter der Hanf-Legalisierung zu stehen. Darum sei er auch Gründungsmitglied einer neuen Produktionsallianz für Cannabis. „Ich denke, dass mündige Bürger selbst entscheiden können sollten, ob sie Cannabis konsumieren“, meint er. Die Debatte ist längst nicht neu. „Wieso gibt‘s Alkohol im Supermarkt / und Ganja nur illegal beim Dealer?“, fragte sich schließlich auch schon Samy Deluxe in seinem Song. Hanf-Konsumenten fühlen sich zu Unrecht kriminalisiert. „Der Hanf hat den Menschen Jahrtausende legal begleitet. Seit ein paar Jahrzehnten gibt es diese Prohibition – und sie hat viele Probleme geschaffen“, sagt Georg Wurth, Sprecher des Deutschen Hanfverbands, im Gespräch mit wa.de. Hanfverband fordert Entkriminalisierung von Cannabis: „Schwarzmarkt und Kriminalität gefördert“ „Rauche so lange, bis ich selbst nicht mehr mag. / Tu‘ niemandem was und werde trotzdem angeklagt“, rappt Samy Deluxe in seinem Song weiter und spricht damit den Befürwortern einer Cannabis-Legalisierung aus der Seele. „Aufgrund der Prohibition haben wir das Problem, dass Schwarzmarkt und Kriminalität gefördert werden“, sagt Georg Wurth. Meine news Nach Schottergartenverbot kommt nun auch Kunstrasenverbot lesen Rekordmenge an Kokain-Funden in 2023 lesen Buschmann hält nichts von generellem Sexkauf-Verbot lesen Der Druck der Sucht: Alkoholiker aus NRW nennt sein größtes Problem lesen Holland-Markt am 7. Januar in NRW: Frikandeln, Tulpen und Kibbeling in Menden lesen Blick von außen: Löst ein AfD-Verbot das deutsche Rechtsextremismus-Problem? lesen „Bürger, die niemanden etwas tun, werden strafrechtlich verfolgt“, meint der Hanfverband-Sprecher. Für den Staat entstünden dadurch hohe Kosten, um die Repressionsmaßnahmen durchzusetzen. Erst unlängst wurde eine Cannabis-Plantage in Werne an der Lippe entdeckt . „Wir rechnen da mit über einer Milliarde Euro allein für die Polizei-Arbeit. Zudem lassen wir uns Steuereinnahmen entgehen“, erklärt Wurth. Hinzu kommt ein weiteres großes Problem. Eines, das unter anderem Hortensien Spieker aus Ibbenbüren lösen könnte. Hortensien Spieker aus Ibbenbüren würde Cannabis in Gewächshaus anbauen Das Gartenbauunternehmen zählt schließlich zu den Profis, würde das Cannabis in Gewächshäusern auf einer Fläche von einem Hektar anbauen. Rund 15\\u2005Menschen sollen dort arbeiten, für schnelles Wachstum würden die Pflanzen mit LED-Lampen bestrahlt, die ihren Strom unter anderem aus einem eigenen Öko-Kraftwerk erhalten sollen, heißt es. Echt grünes Gras also. Der Hanfverband befürwortet das. Amsterdam schränkt Kiffer und Rotlicht-Tourismus ein Fotostrecke ansehen „Die Umstände des Schwarzmarkts führen dazu, dass man problematischen Stoff bekommt. Die Blüten werden zum Teil gestreckt. Der professionelle Anbau bedeutet Gesundheitsschutz – der Schwarzmarkt baut nicht sauber an“, erklärt Hanfverband-Sprecher Wurth auf Nachfrage von wa.de. Zudem würden Schwarzhändler oft synthetische Cannabinoide nutzen, „um die Wirkung von wirkungslosen CBD-Blüten zu pimpen“, sagt Wurth. Die Gefahr: „Die Kunden auf dem Schwarzmarkt wissen nicht, worauf sie sich einlassen. Das alles hat man auf dem regulierten Markt nicht.“ Berliner Start-Up soll Cannabis aus Ibbenbüren (NRW) vermarkten Für Hortensien Spieker aus Ibbenbüren spielte aber sicher nicht nur der Verbraucherschutz, sondern auch die Wirtschaftlichkeit eine Rolle – und die hat es in sich. Die angebauten Pflanzen will Spieker demnach an Cannovum verkaufen. Das Berliner Start-Up rechne damit, dass in einem liberalisierten Cannabis-Markt zu Anfang rund 100\\u2005Tonnen per Jahr gebraucht würden, was der Branche einen Umsatz von acht\\u2005Milliarden Euro bringen könnte. „Die Zusammenarbeit von Unternehmen ist entscheidend, um den legalen Cannabisanbau zu fördern“, sagt Pia Martens, Chefin und Gründerin von Cannovum. Der Grundstein jedenfalls scheint gelegt in Ibbenbüren, jetzt muss nur noch die Politik liefern – damit nicht mehr nur Samy Deluxe „Ich rauch‘ mein Ganja den ganzen Tag“ singen kann. Hinweis der Redaktion: Cannabis ist ebenso mit Vorsicht zu behandeln wie andere Drogen. Wer Probleme hat, kann sich jederzeit anonym und vertrauensvoll an die Sucht-und-Drogen-Hotline wenden unter 01806 - 313 031 oder findet auch Hilfe bei der Deutschen Hauptstelle für Suchtfragen . Auch interessant Kommentare Kontakt Impressum AGB Datenschutz Utiq verwalten Jobs FAQ Newsletter WA Mediengruppe',\n",
       " 'text_length': 6608,\n",
       " 'word_count': 904,\n",
       " 'topics': {'cannabis': {'is_topic_bool': True},\n",
       "  'energie': None,\n",
       "  'kinder': None},\n",
       " 'topic': 'cannabis',\n",
       " 'category': 'buff',\n",
       " 'good_for_training': 'True',\n",
       " 'good_for_augmentation': 'True',\n",
       " 'annotation_type': 'buff',\n",
       " 'is_topic': True,\n",
       " 'label': 1}"
      ]
     },
     "execution_count": 10,
     "metadata": {},
     "output_type": "execute_result"
    }
   ],
   "source": [
    "hf_dataset[0]"
   ]
  },
  {
   "cell_type": "code",
   "execution_count": 11,
   "metadata": {},
   "outputs": [
    {
     "name": "stderr",
     "output_type": "stream",
     "text": [
      "Saving the dataset (1/1 shards): 100%|██████████| 311/311 [00:00<00:00, 27737.86 examples/s]\n"
     ]
    }
   ],
   "source": [
    "hf_dataset.save_to_disk('../data/tmp/processed_dataset_all_topics_buff')"
   ]
  },
  {
   "cell_type": "markdown",
   "metadata": {},
   "source": [
    "## Save per Topic"
   ]
  },
  {
   "cell_type": "code",
   "execution_count": 12,
   "metadata": {},
   "outputs": [
    {
     "name": "stderr",
     "output_type": "stream",
     "text": [
      "Filter: 100%|██████████| 311/311 [00:00<00:00, 17532.88 examples/s]\n",
      "Map: 100%|██████████| 150/150 [00:00<00:00, 4120.25 examples/s]\n",
      "Saving the dataset (1/1 shards): 100%|██████████| 150/150 [00:00<00:00, 20101.14 examples/s]\n"
     ]
    }
   ],
   "source": [
    "topic = \"cannabis\"\n",
    "filtered_dataset = hf_dataset.filter(lambda example: example['topic'] == topic)\n",
    "constant_dict = {topic: {\"is_topic_bool\": True}}\n",
    "filtered_dataset = filtered_dataset.map(lambda example: {\"topics\": constant_dict}, batched=False)\n",
    "filtered_dataset = filtered_dataset.remove_columns(['label'])\n",
    "filtered_dataset.save_to_disk(f'../data/tmp/processed_dataset_{topic}_buff')"
   ]
  },
  {
   "cell_type": "code",
   "execution_count": 13,
   "metadata": {},
   "outputs": [
    {
     "data": {
      "text/plain": [
       "{'_id': 'dummy_id_0',\n",
       " 'batch_id': 99999,\n",
       " 'domain': 'www.wa.de',\n",
       " 'view_url': 'https://www.wa.de/nordrhein-westfalen/cannabis-legalisierung-nrw-hanf-gras-ibbenbueren-entkriminalisierung-anbau-drogen-polizei-kritik-92064527.html',\n",
       " 'lang': 'de',\n",
       " 'text': 'Legalisierung von Cannabis: Hanf aus NRW könnte Problem lösen Hamm NRW Lokales Politik Sport Stellenmarkt ePaper Kategorien Hamm NRW Münster Essen Lokales Werne Bönen Bergkamen Drensteinfurt Welver Sport Hamm Bönen Drensteinfurt Fußball WA-Tipp Tabellen Bundesliga-Tippspiel Verbraucher Rückrufe & Warnungen Testberichte Supermärkte & Discounter Abo Print-Angebote Digital-Angebote Kombi-Angebote Abo-Services Wirtschaft Politik Karl Lauterbach Fotos & Videos Kultur Veranstaltungen Leben Auto Reise Karriere Gesundheit Wohnen Digital Tiere Geld Games Serien Einfach Tasty Buchtipps Anzeigen Gewerbliche Kunden Private Anzeigen Mediadaten Ansprechpartner Stellenanzeigen Autoanzeigen Traueranzeigen Über uns Ansprechpartner Impressum Jobs AGB Datenschutz Newsletter FAQ Netiquette Produktempfehlung wa.de NRW Legalisierung von Cannabis: Hanf aus NRW könnte Problem lösen Stand: 03.02.2023, 15:15 Uhr Von: Marvin K. Hoffmann Kommentare Drucken Noch ist Cannabis in Deutschland nicht legal. Es soll aber entkriminalisiert werden. Ein Gartenbauunternehmen aus NRW könnte ein Anbau-Problem lösen. Ibbenbüren/Hamm – „Ich rauch‘ mein Ganja den ganzen Tag“, rappt Samy Deluxe. Den Kindern der 90er ist der singende Poet aus Hamburg sicherlich ein Begriff. Einem breiteren Publikum wurde er vielleicht mit „Weck mich auf“ bekannt. Tut hier aber auch nichts zur Sache. In diesem Text geht es nämlich nicht um die Kunst des Sprech-Gesangs – sondern um die Legalisierung der Droge Cannabis bzw. Hanf (=Ganja). Und da kommt ausgerechnet eine Gärtnerei aus Ibbenbüren ( NRW ) ins Spiel. Gartenbauunternehmen Hortensien Spieker aus Ibbenbüren möchte Cannabis anbauen Das Gartenbauunternehmen Hortensien Spieker aus Ibbenbüren will einem Bericht der WN zufolge Cannabis-Pflanzen anbauen, falls die von der Ampelkoalition in Deutschland versprochene Marihuana-Entkriminalisierung in Kraft tritt. Dann nämlich soll der Verkauf von Cannabis-Produkten nach strengen Vorgaben erlaubt sein – und Spieker aus Ibbenbüren möchte Teil des Marktes sein. „Als seriöser und erfahrener Pflanzenzüchter möchten wir im Zuge der Legalisierung eine hochwertige Premium-Alternative zum Schwarzmarkt bieten“, sagt Tim Spieker demnach. Der Firmenchef scheint voll und ganz hinter der Hanf-Legalisierung zu stehen. Darum sei er auch Gründungsmitglied einer neuen Produktionsallianz für Cannabis. „Ich denke, dass mündige Bürger selbst entscheiden können sollten, ob sie Cannabis konsumieren“, meint er. Die Debatte ist längst nicht neu. „Wieso gibt‘s Alkohol im Supermarkt / und Ganja nur illegal beim Dealer?“, fragte sich schließlich auch schon Samy Deluxe in seinem Song. Hanf-Konsumenten fühlen sich zu Unrecht kriminalisiert. „Der Hanf hat den Menschen Jahrtausende legal begleitet. Seit ein paar Jahrzehnten gibt es diese Prohibition – und sie hat viele Probleme geschaffen“, sagt Georg Wurth, Sprecher des Deutschen Hanfverbands, im Gespräch mit wa.de. Hanfverband fordert Entkriminalisierung von Cannabis: „Schwarzmarkt und Kriminalität gefördert“ „Rauche so lange, bis ich selbst nicht mehr mag. / Tu‘ niemandem was und werde trotzdem angeklagt“, rappt Samy Deluxe in seinem Song weiter und spricht damit den Befürwortern einer Cannabis-Legalisierung aus der Seele. „Aufgrund der Prohibition haben wir das Problem, dass Schwarzmarkt und Kriminalität gefördert werden“, sagt Georg Wurth. Meine news Nach Schottergartenverbot kommt nun auch Kunstrasenverbot lesen Rekordmenge an Kokain-Funden in 2023 lesen Buschmann hält nichts von generellem Sexkauf-Verbot lesen Der Druck der Sucht: Alkoholiker aus NRW nennt sein größtes Problem lesen Holland-Markt am 7. Januar in NRW: Frikandeln, Tulpen und Kibbeling in Menden lesen Blick von außen: Löst ein AfD-Verbot das deutsche Rechtsextremismus-Problem? lesen „Bürger, die niemanden etwas tun, werden strafrechtlich verfolgt“, meint der Hanfverband-Sprecher. Für den Staat entstünden dadurch hohe Kosten, um die Repressionsmaßnahmen durchzusetzen. Erst unlängst wurde eine Cannabis-Plantage in Werne an der Lippe entdeckt . „Wir rechnen da mit über einer Milliarde Euro allein für die Polizei-Arbeit. Zudem lassen wir uns Steuereinnahmen entgehen“, erklärt Wurth. Hinzu kommt ein weiteres großes Problem. Eines, das unter anderem Hortensien Spieker aus Ibbenbüren lösen könnte. Hortensien Spieker aus Ibbenbüren würde Cannabis in Gewächshaus anbauen Das Gartenbauunternehmen zählt schließlich zu den Profis, würde das Cannabis in Gewächshäusern auf einer Fläche von einem Hektar anbauen. Rund 15\\u2005Menschen sollen dort arbeiten, für schnelles Wachstum würden die Pflanzen mit LED-Lampen bestrahlt, die ihren Strom unter anderem aus einem eigenen Öko-Kraftwerk erhalten sollen, heißt es. Echt grünes Gras also. Der Hanfverband befürwortet das. Amsterdam schränkt Kiffer und Rotlicht-Tourismus ein Fotostrecke ansehen „Die Umstände des Schwarzmarkts führen dazu, dass man problematischen Stoff bekommt. Die Blüten werden zum Teil gestreckt. Der professionelle Anbau bedeutet Gesundheitsschutz – der Schwarzmarkt baut nicht sauber an“, erklärt Hanfverband-Sprecher Wurth auf Nachfrage von wa.de. Zudem würden Schwarzhändler oft synthetische Cannabinoide nutzen, „um die Wirkung von wirkungslosen CBD-Blüten zu pimpen“, sagt Wurth. Die Gefahr: „Die Kunden auf dem Schwarzmarkt wissen nicht, worauf sie sich einlassen. Das alles hat man auf dem regulierten Markt nicht.“ Berliner Start-Up soll Cannabis aus Ibbenbüren (NRW) vermarkten Für Hortensien Spieker aus Ibbenbüren spielte aber sicher nicht nur der Verbraucherschutz, sondern auch die Wirtschaftlichkeit eine Rolle – und die hat es in sich. Die angebauten Pflanzen will Spieker demnach an Cannovum verkaufen. Das Berliner Start-Up rechne damit, dass in einem liberalisierten Cannabis-Markt zu Anfang rund 100\\u2005Tonnen per Jahr gebraucht würden, was der Branche einen Umsatz von acht\\u2005Milliarden Euro bringen könnte. „Die Zusammenarbeit von Unternehmen ist entscheidend, um den legalen Cannabisanbau zu fördern“, sagt Pia Martens, Chefin und Gründerin von Cannovum. Der Grundstein jedenfalls scheint gelegt in Ibbenbüren, jetzt muss nur noch die Politik liefern – damit nicht mehr nur Samy Deluxe „Ich rauch‘ mein Ganja den ganzen Tag“ singen kann. Hinweis der Redaktion: Cannabis ist ebenso mit Vorsicht zu behandeln wie andere Drogen. Wer Probleme hat, kann sich jederzeit anonym und vertrauensvoll an die Sucht-und-Drogen-Hotline wenden unter 01806 - 313 031 oder findet auch Hilfe bei der Deutschen Hauptstelle für Suchtfragen . Auch interessant Kommentare Kontakt Impressum AGB Datenschutz Utiq verwalten Jobs FAQ Newsletter WA Mediengruppe',\n",
       " 'text_length': 6608,\n",
       " 'word_count': 904,\n",
       " 'topics': {'cannabis': {'is_topic_bool': True}},\n",
       " 'topic': 'cannabis',\n",
       " 'category': 'buff',\n",
       " 'good_for_training': 'True',\n",
       " 'good_for_augmentation': 'True',\n",
       " 'annotation_type': 'buff',\n",
       " 'is_topic': True}"
      ]
     },
     "execution_count": 13,
     "metadata": {},
     "output_type": "execute_result"
    }
   ],
   "source": [
    "filtered_dataset[0]"
   ]
  },
  {
   "cell_type": "code",
   "execution_count": 14,
   "metadata": {},
   "outputs": [
    {
     "name": "stderr",
     "output_type": "stream",
     "text": [
      "Filter: 100%|██████████| 311/311 [00:00<00:00, 20124.17 examples/s]\n",
      "Map: 100%|██████████| 76/76 [00:00<00:00, 3134.14 examples/s]\n",
      "Saving the dataset (1/1 shards): 100%|██████████| 76/76 [00:00<00:00, 10583.94 examples/s]\n"
     ]
    }
   ],
   "source": [
    "topic = \"kinder\"\n",
    "filtered_dataset = hf_dataset.filter(lambda example: example['topic'] == topic)\n",
    "constant_dict = {topic: {\"is_topic_bool\": True}}\n",
    "filtered_dataset = filtered_dataset.map(lambda example: {\"topics\": constant_dict}, batched=False)\n",
    "filtered_dataset = filtered_dataset.remove_columns(['label'])\n",
    "filtered_dataset.save_to_disk(f'../data/tmp/processed_dataset_{topic}_buff')"
   ]
  },
  {
   "cell_type": "code",
   "execution_count": 15,
   "metadata": {},
   "outputs": [
    {
     "name": "stderr",
     "output_type": "stream",
     "text": [
      "Filter: 100%|██████████| 311/311 [00:00<00:00, 18478.16 examples/s]\n",
      "Map: 100%|██████████| 85/85 [00:00<00:00, 2628.94 examples/s]\n",
      "Saving the dataset (1/1 shards): 100%|██████████| 85/85 [00:00<00:00, 10530.98 examples/s]\n"
     ]
    }
   ],
   "source": [
    "topic = \"energie\"\n",
    "filtered_dataset = hf_dataset.filter(lambda example: example['topic'] == topic)\n",
    "constant_dict = {topic: {\"is_topic_bool\": True}}\n",
    "filtered_dataset = filtered_dataset.map(lambda example: {\"topics\": constant_dict}, batched=False)\n",
    "filtered_dataset = filtered_dataset.remove_columns(['label'])\n",
    "filtered_dataset.save_to_disk(f'../data/tmp/processed_dataset_{topic}_buff')"
   ]
  },
  {
   "cell_type": "code",
   "execution_count": null,
   "metadata": {},
   "outputs": [],
   "source": []
  }
 ],
 "metadata": {
  "kernelspec": {
   "display_name": "s2j-content-analysis",
   "language": "python",
   "name": "python3"
  },
  "language_info": {
   "codemirror_mode": {
    "name": "ipython",
    "version": 3
   },
   "file_extension": ".py",
   "mimetype": "text/x-python",
   "name": "python",
   "nbconvert_exporter": "python",
   "pygments_lexer": "ipython3",
   "version": "3.10.8"
  }
 },
 "nbformat": 4,
 "nbformat_minor": 2
}
