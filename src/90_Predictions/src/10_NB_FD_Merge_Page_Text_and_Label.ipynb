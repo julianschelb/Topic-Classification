{
 "cells": [
  {
   "cell_type": "markdown",
   "metadata": {},
   "source": [
    "## Merge Labels and Texts"
   ]
  },
  {
   "cell_type": "code",
   "execution_count": 1,
   "metadata": {},
   "outputs": [],
   "source": [
    "from utils.database import *\n",
    "from utils.files import *\n",
    "from tqdm import tqdm\n",
    "from bson import ObjectId\n",
    "import pandas as pd \n",
    "import numpy as np"
   ]
  },
  {
   "cell_type": "markdown",
   "metadata": {},
   "source": [
    "## Load URLs"
   ]
  },
  {
   "cell_type": "markdown",
   "metadata": {},
   "source": [
    "URLs per batch and topic."
   ]
  },
  {
   "cell_type": "code",
   "execution_count": 2,
   "metadata": {},
   "outputs": [
    {
     "data": {
      "text/html": [
       "<div>\n",
       "<style scoped>\n",
       "    .dataframe tbody tr th:only-of-type {\n",
       "        vertical-align: middle;\n",
       "    }\n",
       "\n",
       "    .dataframe tbody tr th {\n",
       "        vertical-align: top;\n",
       "    }\n",
       "\n",
       "    .dataframe thead th {\n",
       "        text-align: right;\n",
       "    }\n",
       "</style>\n",
       "<table border=\"1\" class=\"dataframe\">\n",
       "  <thead>\n",
       "    <tr style=\"text-align: right;\">\n",
       "      <th></th>\n",
       "      <th>p_id</th>\n",
       "      <th>url</th>\n",
       "      <th>used_at</th>\n",
       "      <th>duration</th>\n",
       "      <th>yt_video_id</th>\n",
       "      <th>package_version</th>\n",
       "      <th>enddevice</th>\n",
       "      <th>batch</th>\n",
       "      <th>Group</th>\n",
       "      <th>start_date</th>\n",
       "      <th>...</th>\n",
       "      <th>start_intervention</th>\n",
       "      <th>start_knowledge</th>\n",
       "      <th>topic</th>\n",
       "      <th>series</th>\n",
       "      <th>annotation_type</th>\n",
       "      <th>good_for_training</th>\n",
       "      <th>good_for_augmentation</th>\n",
       "      <th>category</th>\n",
       "      <th>is_direct_topic_annotated</th>\n",
       "      <th>is_direct_topic_full</th>\n",
       "    </tr>\n",
       "  </thead>\n",
       "  <tbody>\n",
       "    <tr>\n",
       "      <th>0</th>\n",
       "      <td>273726366948</td>\n",
       "      <td>mingle.respondi.de/</td>\n",
       "      <td>2023-06-13 14:12:16</td>\n",
       "      <td>393</td>\n",
       "      <td></td>\n",
       "      <td>1210041502.0</td>\n",
       "      <td>mobile</td>\n",
       "      <td>15</td>\n",
       "      <td>Search</td>\n",
       "      <td>2023-06-13 14:12:00</td>\n",
       "      <td>...</td>\n",
       "      <td>2023-06-13 14:18:35</td>\n",
       "      <td>2023-06-14 18:09:40</td>\n",
       "      <td>kinder</td>\n",
       "      <td></td>\n",
       "      <td>domain_discarded</td>\n",
       "      <td>False</td>\n",
       "      <td>True</td>\n",
       "      <td>other</td>\n",
       "      <td></td>\n",
       "      <td>False</td>\n",
       "    </tr>\n",
       "    <tr>\n",
       "      <th>1</th>\n",
       "      <td>273726366948</td>\n",
       "      <td>mingle.respondi.de/</td>\n",
       "      <td>2023-06-13 20:09:47</td>\n",
       "      <td>2</td>\n",
       "      <td></td>\n",
       "      <td>1210041502.0</td>\n",
       "      <td>mobile</td>\n",
       "      <td>15</td>\n",
       "      <td>Search</td>\n",
       "      <td>2023-06-13 14:12:00</td>\n",
       "      <td>...</td>\n",
       "      <td>2023-06-13 14:18:35</td>\n",
       "      <td>2023-06-14 18:09:40</td>\n",
       "      <td>kinder</td>\n",
       "      <td></td>\n",
       "      <td>domain_discarded</td>\n",
       "      <td>False</td>\n",
       "      <td>True</td>\n",
       "      <td>other</td>\n",
       "      <td></td>\n",
       "      <td>False</td>\n",
       "    </tr>\n",
       "    <tr>\n",
       "      <th>2</th>\n",
       "      <td>273746614716</td>\n",
       "      <td>mingle.respondi.de/</td>\n",
       "      <td>2023-06-14 16:19:10</td>\n",
       "      <td>492</td>\n",
       "      <td></td>\n",
       "      <td>1210041502.0</td>\n",
       "      <td>mobile</td>\n",
       "      <td>15</td>\n",
       "      <td>Control</td>\n",
       "      <td>2023-06-14 16:19:00</td>\n",
       "      <td>...</td>\n",
       "      <td>2023-06-14 16:26:33</td>\n",
       "      <td>2023-06-15 15:34:00</td>\n",
       "      <td>kinder</td>\n",
       "      <td></td>\n",
       "      <td>domain_discarded</td>\n",
       "      <td>False</td>\n",
       "      <td>True</td>\n",
       "      <td>other</td>\n",
       "      <td></td>\n",
       "      <td>False</td>\n",
       "    </tr>\n",
       "    <tr>\n",
       "      <th>3</th>\n",
       "      <td>273746614716</td>\n",
       "      <td>mingle.respondi.de/</td>\n",
       "      <td>2023-06-14 16:28:00</td>\n",
       "      <td>1</td>\n",
       "      <td></td>\n",
       "      <td>1210041502.0</td>\n",
       "      <td>mobile</td>\n",
       "      <td>15</td>\n",
       "      <td>Control</td>\n",
       "      <td>2023-06-14 16:19:00</td>\n",
       "      <td>...</td>\n",
       "      <td>2023-06-14 16:26:33</td>\n",
       "      <td>2023-06-15 15:34:00</td>\n",
       "      <td>kinder</td>\n",
       "      <td></td>\n",
       "      <td>domain_discarded</td>\n",
       "      <td>False</td>\n",
       "      <td>True</td>\n",
       "      <td>other</td>\n",
       "      <td></td>\n",
       "      <td>False</td>\n",
       "    </tr>\n",
       "    <tr>\n",
       "      <th>4</th>\n",
       "      <td>273746614716</td>\n",
       "      <td>mingle.respondi.de/</td>\n",
       "      <td>2023-06-14 16:36:39</td>\n",
       "      <td>13</td>\n",
       "      <td></td>\n",
       "      <td>1210041502.0</td>\n",
       "      <td>mobile</td>\n",
       "      <td>15</td>\n",
       "      <td>Control</td>\n",
       "      <td>2023-06-14 16:19:00</td>\n",
       "      <td>...</td>\n",
       "      <td>2023-06-14 16:26:33</td>\n",
       "      <td>2023-06-15 15:34:00</td>\n",
       "      <td>kinder</td>\n",
       "      <td></td>\n",
       "      <td>domain_discarded</td>\n",
       "      <td>False</td>\n",
       "      <td>True</td>\n",
       "      <td>other</td>\n",
       "      <td></td>\n",
       "      <td>False</td>\n",
       "    </tr>\n",
       "  </tbody>\n",
       "</table>\n",
       "<p>5 rows × 23 columns</p>\n",
       "</div>"
      ],
      "text/plain": [
       "           p_id                  url             used_at  duration  \\\n",
       "0  273726366948  mingle.respondi.de/ 2023-06-13 14:12:16       393   \n",
       "1  273726366948  mingle.respondi.de/ 2023-06-13 20:09:47         2   \n",
       "2  273746614716  mingle.respondi.de/ 2023-06-14 16:19:10       492   \n",
       "3  273746614716  mingle.respondi.de/ 2023-06-14 16:28:00         1   \n",
       "4  273746614716  mingle.respondi.de/ 2023-06-14 16:36:39        13   \n",
       "\n",
       "  yt_video_id package_version enddevice  batch    Group           start_date  \\\n",
       "0                1210041502.0    mobile     15   Search  2023-06-13 14:12:00   \n",
       "1                1210041502.0    mobile     15   Search  2023-06-13 14:12:00   \n",
       "2                1210041502.0    mobile     15  Control  2023-06-14 16:19:00   \n",
       "3                1210041502.0    mobile     15  Control  2023-06-14 16:19:00   \n",
       "4                1210041502.0    mobile     15  Control  2023-06-14 16:19:00   \n",
       "\n",
       "   ...   start_intervention      start_knowledge   topic series  \\\n",
       "0  ...  2023-06-13 14:18:35  2023-06-14 18:09:40  kinder          \n",
       "1  ...  2023-06-13 14:18:35  2023-06-14 18:09:40  kinder          \n",
       "2  ...  2023-06-14 16:26:33  2023-06-15 15:34:00  kinder          \n",
       "3  ...  2023-06-14 16:26:33  2023-06-15 15:34:00  kinder          \n",
       "4  ...  2023-06-14 16:26:33  2023-06-15 15:34:00  kinder          \n",
       "\n",
       "    annotation_type good_for_training good_for_augmentation category  \\\n",
       "0  domain_discarded             False                  True    other   \n",
       "1  domain_discarded             False                  True    other   \n",
       "2  domain_discarded             False                  True    other   \n",
       "3  domain_discarded             False                  True    other   \n",
       "4  domain_discarded             False                  True    other   \n",
       "\n",
       "  is_direct_topic_annotated is_direct_topic_full  \n",
       "0                                          False  \n",
       "1                                          False  \n",
       "2                                          False  \n",
       "3                                          False  \n",
       "4                                          False  \n",
       "\n",
       "[5 rows x 23 columns]"
      ]
     },
     "execution_count": 2,
     "metadata": {},
     "output_type": "execute_result"
    }
   ],
   "source": [
    "df_labels = pd.read_json('../data/raw/pages_with_labels.json', orient='records', lines=True)\n",
    "df_labels.head()"
   ]
  },
  {
   "cell_type": "code",
   "execution_count": 3,
   "metadata": {},
   "outputs": [
    {
     "name": "stdout",
     "output_type": "stream",
     "text": [
      "Number of pages:  761232\n"
     ]
    }
   ],
   "source": [
    "print(\"Number of pages: \", len(df_labels))"
   ]
  },
  {
   "cell_type": "code",
   "execution_count": 4,
   "metadata": {},
   "outputs": [
    {
     "data": {
      "text/plain": [
       "Index(['p_id', 'url', 'used_at', 'duration', 'yt_video_id', 'package_version',\n",
       "       'enddevice', 'batch', 'Group', 'start_date', 't', 'wave', 'end_date',\n",
       "       'start_intervention', 'start_knowledge', 'topic', 'series',\n",
       "       'annotation_type', 'good_for_training', 'good_for_augmentation',\n",
       "       'category', 'is_direct_topic_annotated', 'is_direct_topic_full'],\n",
       "      dtype='object')"
      ]
     },
     "execution_count": 4,
     "metadata": {},
     "output_type": "execute_result"
    }
   ],
   "source": [
    "df_labels.columns"
   ]
  },
  {
   "cell_type": "code",
   "execution_count": 5,
   "metadata": {},
   "outputs": [],
   "source": [
    "def get_freqs(dataframe, value_column):\n",
    "    \"\"\"Prints the frequency distribution of a specified value column, grouped by 'p_id', as a DataFrame.\"\"\"\n",
    "    unique_df = dataframe.drop_duplicates(subset=['p_id', value_column])\n",
    "    value_counts = unique_df[value_column].value_counts().reset_index()\n",
    "    value_counts.columns = [value_column, 'Frequency']\n",
    "    return value_counts"
   ]
  },
  {
   "cell_type": "code",
   "execution_count": 6,
   "metadata": {},
   "outputs": [
    {
     "data": {
      "text/html": [
       "<div>\n",
       "<style scoped>\n",
       "    .dataframe tbody tr th:only-of-type {\n",
       "        vertical-align: middle;\n",
       "    }\n",
       "\n",
       "    .dataframe tbody tr th {\n",
       "        vertical-align: top;\n",
       "    }\n",
       "\n",
       "    .dataframe thead th {\n",
       "        text-align: right;\n",
       "    }\n",
       "</style>\n",
       "<table border=\"1\" class=\"dataframe\">\n",
       "  <thead>\n",
       "    <tr style=\"text-align: right;\">\n",
       "      <th></th>\n",
       "      <th>category</th>\n",
       "      <th>Frequency</th>\n",
       "    </tr>\n",
       "  </thead>\n",
       "  <tbody>\n",
       "    <tr>\n",
       "      <th>0</th>\n",
       "      <td>other</td>\n",
       "      <td>867</td>\n",
       "    </tr>\n",
       "    <tr>\n",
       "      <th>1</th>\n",
       "      <td>search</td>\n",
       "      <td>731</td>\n",
       "    </tr>\n",
       "    <tr>\n",
       "      <th>2</th>\n",
       "      <td>news</td>\n",
       "      <td>643</td>\n",
       "    </tr>\n",
       "  </tbody>\n",
       "</table>\n",
       "</div>"
      ],
      "text/plain": [
       "  category  Frequency\n",
       "0    other        867\n",
       "1   search        731\n",
       "2     news        643"
      ]
     },
     "execution_count": 6,
     "metadata": {},
     "output_type": "execute_result"
    }
   ],
   "source": [
    "get_freqs(df_labels, 'category')"
   ]
  },
  {
   "cell_type": "code",
   "execution_count": 7,
   "metadata": {},
   "outputs": [
    {
     "data": {
      "text/html": [
       "<div>\n",
       "<style scoped>\n",
       "    .dataframe tbody tr th:only-of-type {\n",
       "        vertical-align: middle;\n",
       "    }\n",
       "\n",
       "    .dataframe tbody tr th {\n",
       "        vertical-align: top;\n",
       "    }\n",
       "\n",
       "    .dataframe thead th {\n",
       "        text-align: right;\n",
       "    }\n",
       "</style>\n",
       "<table border=\"1\" class=\"dataframe\">\n",
       "  <thead>\n",
       "    <tr style=\"text-align: right;\">\n",
       "      <th></th>\n",
       "      <th>good_for_training</th>\n",
       "      <th>Frequency</th>\n",
       "    </tr>\n",
       "  </thead>\n",
       "  <tbody>\n",
       "    <tr>\n",
       "      <th>0</th>\n",
       "      <td>False</td>\n",
       "      <td>870</td>\n",
       "    </tr>\n",
       "    <tr>\n",
       "      <th>1</th>\n",
       "      <td>True</td>\n",
       "      <td>690</td>\n",
       "    </tr>\n",
       "  </tbody>\n",
       "</table>\n",
       "</div>"
      ],
      "text/plain": [
       "  good_for_training  Frequency\n",
       "0             False        870\n",
       "1              True        690"
      ]
     },
     "execution_count": 7,
     "metadata": {},
     "output_type": "execute_result"
    }
   ],
   "source": [
    "get_freqs(df_labels, 'good_for_training')"
   ]
  },
  {
   "cell_type": "code",
   "execution_count": 8,
   "metadata": {},
   "outputs": [
    {
     "data": {
      "text/html": [
       "<div>\n",
       "<style scoped>\n",
       "    .dataframe tbody tr th:only-of-type {\n",
       "        vertical-align: middle;\n",
       "    }\n",
       "\n",
       "    .dataframe tbody tr th {\n",
       "        vertical-align: top;\n",
       "    }\n",
       "\n",
       "    .dataframe thead th {\n",
       "        text-align: right;\n",
       "    }\n",
       "</style>\n",
       "<table border=\"1\" class=\"dataframe\">\n",
       "  <thead>\n",
       "    <tr style=\"text-align: right;\">\n",
       "      <th></th>\n",
       "      <th>annotation_type</th>\n",
       "      <th>Frequency</th>\n",
       "    </tr>\n",
       "  </thead>\n",
       "  <tbody>\n",
       "    <tr>\n",
       "      <th>0</th>\n",
       "      <td>domain_discarded</td>\n",
       "      <td>868</td>\n",
       "    </tr>\n",
       "    <tr>\n",
       "      <th>1</th>\n",
       "      <td>03.searches</td>\n",
       "      <td>654</td>\n",
       "    </tr>\n",
       "    <tr>\n",
       "      <th>2</th>\n",
       "      <td>04.urls-with-title</td>\n",
       "      <td>647</td>\n",
       "    </tr>\n",
       "    <tr>\n",
       "      <th>3</th>\n",
       "      <td>09.other</td>\n",
       "      <td>637</td>\n",
       "    </tr>\n",
       "    <tr>\n",
       "      <th>4</th>\n",
       "      <td>13.searches</td>\n",
       "      <td>294</td>\n",
       "    </tr>\n",
       "    <tr>\n",
       "      <th>5</th>\n",
       "      <td>06.news-wo-title</td>\n",
       "      <td>246</td>\n",
       "    </tr>\n",
       "    <tr>\n",
       "      <th>6</th>\n",
       "      <td>01.youtube</td>\n",
       "      <td>209</td>\n",
       "    </tr>\n",
       "    <tr>\n",
       "      <th>7</th>\n",
       "      <td>07.sm</td>\n",
       "      <td>205</td>\n",
       "    </tr>\n",
       "    <tr>\n",
       "      <th>8</th>\n",
       "      <td>10.new_news</td>\n",
       "      <td>146</td>\n",
       "    </tr>\n",
       "    <tr>\n",
       "      <th>9</th>\n",
       "      <td>12.surfaced_domains</td>\n",
       "      <td>142</td>\n",
       "    </tr>\n",
       "    <tr>\n",
       "      <th>10</th>\n",
       "      <td>08.wiki</td>\n",
       "      <td>137</td>\n",
       "    </tr>\n",
       "    <tr>\n",
       "      <th>11</th>\n",
       "      <td>11.keyworded_urls</td>\n",
       "      <td>77</td>\n",
       "    </tr>\n",
       "    <tr>\n",
       "      <th>12</th>\n",
       "      <td>02.shorts</td>\n",
       "      <td>42</td>\n",
       "    </tr>\n",
       "    <tr>\n",
       "      <th>13</th>\n",
       "      <td>05.fbtw</td>\n",
       "      <td>24</td>\n",
       "    </tr>\n",
       "    <tr>\n",
       "      <th>14</th>\n",
       "      <td>14.extras</td>\n",
       "      <td>8</td>\n",
       "    </tr>\n",
       "  </tbody>\n",
       "</table>\n",
       "</div>"
      ],
      "text/plain": [
       "        annotation_type  Frequency\n",
       "0      domain_discarded        868\n",
       "1           03.searches        654\n",
       "2    04.urls-with-title        647\n",
       "3              09.other        637\n",
       "4           13.searches        294\n",
       "5      06.news-wo-title        246\n",
       "6            01.youtube        209\n",
       "7                 07.sm        205\n",
       "8           10.new_news        146\n",
       "9   12.surfaced_domains        142\n",
       "10              08.wiki        137\n",
       "11    11.keyworded_urls         77\n",
       "12            02.shorts         42\n",
       "13              05.fbtw         24\n",
       "14            14.extras          8"
      ]
     },
     "execution_count": 8,
     "metadata": {},
     "output_type": "execute_result"
    }
   ],
   "source": [
    "get_freqs(df_labels, 'annotation_type')"
   ]
  },
  {
   "cell_type": "markdown",
   "metadata": {},
   "source": [
    "## Remove Duplicates"
   ]
  },
  {
   "cell_type": "code",
   "execution_count": 9,
   "metadata": {},
   "outputs": [
    {
     "name": "stdout",
     "output_type": "stream",
     "text": [
      "Number of pages with labels:  761232\n",
      "Number of pages with labels after removing duplicates:  288979\n"
     ]
    }
   ],
   "source": [
    "# Removing duplicates based on 'view_url', 'batch_id', and 'topic'\n",
    "print(\"Number of pages with labels: \", len(df_labels))\n",
    "df_labels = df_labels.drop_duplicates(subset=['url', 'batch', 'topic'], keep='first')\n",
    "print(\"Number of pages with labels after removing duplicates: \", len(df_labels))"
   ]
  },
  {
   "cell_type": "markdown",
   "metadata": {},
   "source": [
    "## Load Texts"
   ]
  },
  {
   "cell_type": "code",
   "execution_count": 10,
   "metadata": {},
   "outputs": [
    {
     "name": "stderr",
     "output_type": "stream",
     "text": [
      "/home/jschelb/.pyenv/versions/3.10.8/envs/s2j-content-analysis/lib/python3.10/site-packages/tqdm/auto.py:21: TqdmWarning: IProgress not found. Please update jupyter and ipywidgets. See https://ipywidgets.readthedocs.io/en/stable/user_install.html\n",
      "  from .autonotebook import tqdm as notebook_tqdm\n"
     ]
    }
   ],
   "source": [
    "from datasets import load_dataset, Features, Value, Dataset"
   ]
  },
  {
   "cell_type": "code",
   "execution_count": 11,
   "metadata": {},
   "outputs": [],
   "source": [
    "# File paths to load texts\n",
    "file_path = f\"../data/raw/pages_with_text.json\"\n",
    "save_path = f\"../data/tmp/processed_dataset_all_topics_text_only\""
   ]
  },
  {
   "cell_type": "code",
   "execution_count": 12,
   "metadata": {},
   "outputs": [
    {
     "name": "stderr",
     "output_type": "stream",
     "text": [
      "Downloading data files: 100%|██████████| 1/1 [00:00<00:00, 9039.45it/s]\n",
      "Extracting data files: 100%|██████████| 1/1 [00:00<00:00, 1060.51it/s]\n",
      "Generating train split: 3437316 examples [04:20, 13193.39 examples/s]\n"
     ]
    }
   ],
   "source": [
    "# Define the schema \n",
    "features_schema = Features({\n",
    "    '_id': Value('string'),\n",
    "    'batch_id': Value('int64'),\n",
    "    'domain': Value('string'),\n",
    "    'encoding': Value('string'),\n",
    "    'file_id': Value('string'),\n",
    "    'lang': Value('string'),\n",
    "    'text': Value('string'),\n",
    "    'text_length': Value('int64'),\n",
    "    'url': Value('string'),\n",
    "    'word_count': Value('int64'),\n",
    "    'view_url': Value('string'),\n",
    "})\n",
    "\n",
    "# Load the dataset from the JSON Lines file\n",
    "dataset = load_dataset('json', data_files=file_path, split='train', features=features_schema, keep_in_memory=False)"
   ]
  },
  {
   "cell_type": "code",
   "execution_count": 13,
   "metadata": {},
   "outputs": [
    {
     "name": "stdout",
     "output_type": "stream",
     "text": [
      "Dataset({\n",
      "    features: ['_id', 'batch_id', 'domain', 'encoding', 'file_id', 'lang', 'text', 'text_length', 'url', 'word_count', 'view_url'],\n",
      "    num_rows: 3437316\n",
      "})\n"
     ]
    }
   ],
   "source": [
    "print(dataset)"
   ]
  },
  {
   "cell_type": "code",
   "execution_count": 14,
   "metadata": {},
   "outputs": [
    {
     "name": "stderr",
     "output_type": "stream",
     "text": [
      "Saving the dataset (43/43 shards): 100%|██████████| 3437316/3437316 [00:19<00:00, 174772.71 examples/s]"
     ]
    },
    {
     "name": "stdout",
     "output_type": "stream",
     "text": [
      "Dataset saved to ../data/tmp/processed_dataset_all_topics_text_only\n"
     ]
    },
    {
     "name": "stderr",
     "output_type": "stream",
     "text": [
      "\n"
     ]
    }
   ],
   "source": [
    "# # Processing the dataset in batches and applying transformations\n",
    "# def process_batch(batch):\n",
    "#     return batch # TODO: Returning the batch as is to include all attributes from the JSON objects\n",
    "\n",
    "# processed_dataset = dataset.map(process_batch, batched=True, batch_size=1000)\n",
    "\n",
    "# Save the processed dataset to the specified folder\n",
    "dataset.save_to_disk(save_path)\n",
    "print(f\"Dataset saved to {save_path}\")"
   ]
  },
  {
   "cell_type": "code",
   "execution_count": 15,
   "metadata": {},
   "outputs": [
    {
     "data": {
      "text/plain": [
       "Dataset({\n",
       "    features: ['_id', 'batch_id', 'domain', 'encoding', 'file_id', 'lang', 'text', 'text_length', 'url', 'word_count', 'view_url'],\n",
       "    num_rows: 3437316\n",
       "})"
      ]
     },
     "execution_count": 15,
     "metadata": {},
     "output_type": "execute_result"
    }
   ],
   "source": [
    "processed_dataset = dataset\n",
    "processed_dataset"
   ]
  },
  {
   "cell_type": "code",
   "execution_count": 16,
   "metadata": {},
   "outputs": [
    {
     "data": {
      "text/plain": [
       "{'_id': '648c2ad88e8cadbd29004dff',\n",
       " 'batch_id': 15,\n",
       " 'domain': 'microsoft.com',\n",
       " 'encoding': 'utf-8',\n",
       " 'file_id': '648c67b41a16a1878d01c628',\n",
       " 'lang': 'en',\n",
       " 'text': \" Learn more: Accessibility with Microsoft Edge Your browser has been updated to the newest version. Microsoft Edge is the fast and secure browser that helps you protect your data and save time. Next Browse with confidence using Browser essentials Stay informed about your browser's performance and security with a single intuitive view that provides helpful suggestions for performance optimization and browser protection. Go to Microsoft Edge's toolbar and select the Browser essentials heartbeat icon to get started. Learn more Next Get quick answers with Bing Chat Whether you're shopping online, planning your next trip, or comparing options -- simply ask a question at the side of your screen, and have Bing do the work for you. Try now Learn more Next Translate the web to your language Microsoft Edge makes it easy to read webpages in your preferred language, by translating the web instantly as you browse. Choose from over 70 languages. Learn more Next Your AI-powered browser Microsoft Edge has built in AI-powered features that enhance your browsing experience including a side-by-side view making it easier and faster to shop, get in-depth answers, summarize information, or discover new inspiration to build upon, all without leaving your browser or switching tabs. Learn more Next Feature availability and functionality may vary by device type, market, and browser version. You're three steps away from getting the best browsing experience. Keep your browsing data up to date Regularly bring your favorites, passwords, history, cookies and more from other browsers. Microsoft Privacy Statement Import More import options Stay in sync while on the go Download the Microsoft Edge app to continue browsing on your phone and stay in sync across your devices. Download now Discover more features Learn about the easy-to-use built-in tools that help protect you online, improve performance, and save money when you shop. Explore Enjoy these latest features and much more with Microsoft Edge. Start browsing Here's what's new in Microsoft Edge Search the web Search Privacy © Microsoft 2023 Oops, sorry about the error! \",\n",
       " 'text_length': 2127,\n",
       " 'url': 'https://www.microsoft.com/en-us/edge/update/114?form=MT00F6&channel=stable&version=114.0.1823.43',\n",
       " 'word_count': 336,\n",
       " 'view_url': 'go.microsoft.com/fwlink?linkid=2140622&channel=stable&version=114.0.1823.43'}"
      ]
     },
     "execution_count": 16,
     "metadata": {},
     "output_type": "execute_result"
    }
   ],
   "source": [
    "processed_dataset[0]"
   ]
  },
  {
   "cell_type": "markdown",
   "metadata": {},
   "source": [
    "## Merge Labels and Text"
   ]
  },
  {
   "cell_type": "code",
   "execution_count": 17,
   "metadata": {},
   "outputs": [
    {
     "data": {
      "text/html": [
       "<div>\n",
       "<style scoped>\n",
       "    .dataframe tbody tr th:only-of-type {\n",
       "        vertical-align: middle;\n",
       "    }\n",
       "\n",
       "    .dataframe tbody tr th {\n",
       "        vertical-align: top;\n",
       "    }\n",
       "\n",
       "    .dataframe thead th {\n",
       "        text-align: right;\n",
       "    }\n",
       "</style>\n",
       "<table border=\"1\" class=\"dataframe\">\n",
       "  <thead>\n",
       "    <tr style=\"text-align: right;\">\n",
       "      <th></th>\n",
       "      <th>p_id</th>\n",
       "      <th>view_url</th>\n",
       "      <th>used_at</th>\n",
       "      <th>duration</th>\n",
       "      <th>yt_video_id</th>\n",
       "      <th>package_version</th>\n",
       "      <th>enddevice</th>\n",
       "      <th>batch_id</th>\n",
       "      <th>Group</th>\n",
       "      <th>start_date</th>\n",
       "      <th>...</th>\n",
       "      <th>start_intervention</th>\n",
       "      <th>start_knowledge</th>\n",
       "      <th>topic</th>\n",
       "      <th>series</th>\n",
       "      <th>annotation_type</th>\n",
       "      <th>good_for_training</th>\n",
       "      <th>good_for_augmentation</th>\n",
       "      <th>category</th>\n",
       "      <th>is_direct_topic_annotated</th>\n",
       "      <th>is_direct_topic_full</th>\n",
       "    </tr>\n",
       "  </thead>\n",
       "  <tbody>\n",
       "    <tr>\n",
       "      <th>0</th>\n",
       "      <td>273726366948</td>\n",
       "      <td>mingle.respondi.de/</td>\n",
       "      <td>2023-06-13 14:12:16</td>\n",
       "      <td>393</td>\n",
       "      <td></td>\n",
       "      <td>1210041502.0</td>\n",
       "      <td>mobile</td>\n",
       "      <td>15</td>\n",
       "      <td>Search</td>\n",
       "      <td>2023-06-13 14:12:00</td>\n",
       "      <td>...</td>\n",
       "      <td>2023-06-13 14:18:35</td>\n",
       "      <td>2023-06-14 18:09:40</td>\n",
       "      <td>kinder</td>\n",
       "      <td></td>\n",
       "      <td>domain_discarded</td>\n",
       "      <td>False</td>\n",
       "      <td>True</td>\n",
       "      <td>other</td>\n",
       "      <td></td>\n",
       "      <td>False</td>\n",
       "    </tr>\n",
       "    <tr>\n",
       "      <th>7</th>\n",
       "      <td>273746614716</td>\n",
       "      <td>mingle.respondi.de/</td>\n",
       "      <td>2023-06-15 10:19:29</td>\n",
       "      <td>4</td>\n",
       "      <td></td>\n",
       "      <td>1210041502.0</td>\n",
       "      <td>mobile</td>\n",
       "      <td>16</td>\n",
       "      <td>Control</td>\n",
       "      <td>2023-06-14 16:19:00</td>\n",
       "      <td>...</td>\n",
       "      <td>2023-06-14 16:26:33</td>\n",
       "      <td>2023-06-15 15:34:00</td>\n",
       "      <td>kinder</td>\n",
       "      <td></td>\n",
       "      <td>domain_discarded</td>\n",
       "      <td>False</td>\n",
       "      <td>True</td>\n",
       "      <td>other</td>\n",
       "      <td></td>\n",
       "      <td>False</td>\n",
       "    </tr>\n",
       "    <tr>\n",
       "      <th>504</th>\n",
       "      <td>273746614716</td>\n",
       "      <td>mingle.respondi.de/</td>\n",
       "      <td>2023-06-26 17:25:10</td>\n",
       "      <td>4</td>\n",
       "      <td></td>\n",
       "      <td>1210306502.0</td>\n",
       "      <td>mobile</td>\n",
       "      <td>16</td>\n",
       "      <td>Control</td>\n",
       "      <td>2023-06-26 17:25:00</td>\n",
       "      <td>...</td>\n",
       "      <td>2023-06-26 17:34:21</td>\n",
       "      <td>2023-06-27 21:09:26</td>\n",
       "      <td>cannabis</td>\n",
       "      <td></td>\n",
       "      <td>domain_discarded</td>\n",
       "      <td>False</td>\n",
       "      <td>True</td>\n",
       "      <td>other</td>\n",
       "      <td></td>\n",
       "      <td>False</td>\n",
       "    </tr>\n",
       "    <tr>\n",
       "      <th>516</th>\n",
       "      <td>274671650160</td>\n",
       "      <td>mingle.respondi.de/</td>\n",
       "      <td>2023-07-01 22:26:38</td>\n",
       "      <td>4</td>\n",
       "      <td></td>\n",
       "      <td></td>\n",
       "      <td>desktop</td>\n",
       "      <td>17</td>\n",
       "      <td>Search+Financial</td>\n",
       "      <td>2023-07-01 22:31:00</td>\n",
       "      <td>...</td>\n",
       "      <td>2023-07-01 22:36:21</td>\n",
       "      <td>2023-07-02 21:11:12</td>\n",
       "      <td>cannabis</td>\n",
       "      <td></td>\n",
       "      <td>domain_discarded</td>\n",
       "      <td>False</td>\n",
       "      <td>True</td>\n",
       "      <td>other</td>\n",
       "      <td></td>\n",
       "      <td>False</td>\n",
       "    </tr>\n",
       "    <tr>\n",
       "      <th>949</th>\n",
       "      <td>273971922264</td>\n",
       "      <td>mingle.respondi.de/</td>\n",
       "      <td>2023-06-20 14:19:25</td>\n",
       "      <td>24</td>\n",
       "      <td></td>\n",
       "      <td></td>\n",
       "      <td>mobile</td>\n",
       "      <td>16</td>\n",
       "      <td>Control</td>\n",
       "      <td>2023-06-19 14:17:00</td>\n",
       "      <td>...</td>\n",
       "      <td>2023-06-19 14:25:29</td>\n",
       "      <td>2023-06-20 14:17:22</td>\n",
       "      <td>energie</td>\n",
       "      <td></td>\n",
       "      <td>domain_discarded</td>\n",
       "      <td>False</td>\n",
       "      <td>True</td>\n",
       "      <td>other</td>\n",
       "      <td></td>\n",
       "      <td>False</td>\n",
       "    </tr>\n",
       "  </tbody>\n",
       "</table>\n",
       "<p>5 rows × 23 columns</p>\n",
       "</div>"
      ],
      "text/plain": [
       "             p_id             view_url             used_at  duration  \\\n",
       "0    273726366948  mingle.respondi.de/ 2023-06-13 14:12:16       393   \n",
       "7    273746614716  mingle.respondi.de/ 2023-06-15 10:19:29         4   \n",
       "504  273746614716  mingle.respondi.de/ 2023-06-26 17:25:10         4   \n",
       "516  274671650160  mingle.respondi.de/ 2023-07-01 22:26:38         4   \n",
       "949  273971922264  mingle.respondi.de/ 2023-06-20 14:19:25        24   \n",
       "\n",
       "    yt_video_id package_version enddevice  batch_id             Group  \\\n",
       "0                  1210041502.0    mobile        15            Search   \n",
       "7                  1210041502.0    mobile        16           Control   \n",
       "504                1210306502.0    mobile        16           Control   \n",
       "516                               desktop        17  Search+Financial   \n",
       "949                                mobile        16           Control   \n",
       "\n",
       "              start_date  ...   start_intervention      start_knowledge  \\\n",
       "0    2023-06-13 14:12:00  ...  2023-06-13 14:18:35  2023-06-14 18:09:40   \n",
       "7    2023-06-14 16:19:00  ...  2023-06-14 16:26:33  2023-06-15 15:34:00   \n",
       "504  2023-06-26 17:25:00  ...  2023-06-26 17:34:21  2023-06-27 21:09:26   \n",
       "516  2023-07-01 22:31:00  ...  2023-07-01 22:36:21  2023-07-02 21:11:12   \n",
       "949  2023-06-19 14:17:00  ...  2023-06-19 14:25:29  2023-06-20 14:17:22   \n",
       "\n",
       "        topic series   annotation_type good_for_training  \\\n",
       "0      kinder         domain_discarded             False   \n",
       "7      kinder         domain_discarded             False   \n",
       "504  cannabis         domain_discarded             False   \n",
       "516  cannabis         domain_discarded             False   \n",
       "949   energie         domain_discarded             False   \n",
       "\n",
       "    good_for_augmentation category is_direct_topic_annotated  \\\n",
       "0                    True    other                             \n",
       "7                    True    other                             \n",
       "504                  True    other                             \n",
       "516                  True    other                             \n",
       "949                  True    other                             \n",
       "\n",
       "    is_direct_topic_full  \n",
       "0                  False  \n",
       "7                  False  \n",
       "504                False  \n",
       "516                False  \n",
       "949                False  \n",
       "\n",
       "[5 rows x 23 columns]"
      ]
     },
     "execution_count": 17,
     "metadata": {},
     "output_type": "execute_result"
    }
   ],
   "source": [
    "# Convert the processed dataset to a pandas DataFrame\n",
    "df_texts = processed_dataset.to_pandas()\n",
    "df_labels.rename(columns={'url': 'view_url', 'batch': 'batch_id'}, inplace=True)\n",
    "df_labels.head()"
   ]
  },
  {
   "cell_type": "code",
   "execution_count": 18,
   "metadata": {},
   "outputs": [],
   "source": [
    "# Merge the text and labels DataFrames\n",
    "df_texts_and_labels = pd.merge(df_texts, df_labels, \n",
    "                               left_on=[\"batch_id\", \"view_url\"], \n",
    "                               right_on=[\"batch_id\", \"view_url\"], \n",
    "                               how='right', suffixes=('_text', '_label'))"
   ]
  },
  {
   "cell_type": "code",
   "execution_count": 19,
   "metadata": {},
   "outputs": [
    {
     "data": {
      "text/plain": [
       "Index(['_id', 'batch_id', 'domain', 'encoding', 'file_id', 'lang', 'text',\n",
       "       'text_length', 'url', 'word_count', 'view_url', 'p_id', 'used_at',\n",
       "       'duration', 'yt_video_id', 'package_version', 'enddevice', 'Group',\n",
       "       'start_date', 't', 'wave', 'end_date', 'start_intervention',\n",
       "       'start_knowledge', 'topic', 'series', 'annotation_type',\n",
       "       'good_for_training', 'good_for_augmentation', 'category',\n",
       "       'is_direct_topic_annotated', 'is_direct_topic_full', 'is_topic'],\n",
       "      dtype='object')"
      ]
     },
     "execution_count": 19,
     "metadata": {},
     "output_type": "execute_result"
    }
   ],
   "source": [
    "# Convert the 'good_for_training' column to boolean\n",
    "df_texts_and_labels[\"is_topic\"] = df_texts_and_labels[\"is_direct_topic_full\"].map({'True': True, 'False': False})\n",
    "df_texts_and_labels.columns"
   ]
  },
  {
   "cell_type": "code",
   "execution_count": 20,
   "metadata": {},
   "outputs": [
    {
     "data": {
      "text/html": [
       "<div>\n",
       "<style scoped>\n",
       "    .dataframe tbody tr th:only-of-type {\n",
       "        vertical-align: middle;\n",
       "    }\n",
       "\n",
       "    .dataframe tbody tr th {\n",
       "        vertical-align: top;\n",
       "    }\n",
       "\n",
       "    .dataframe thead th {\n",
       "        text-align: right;\n",
       "    }\n",
       "</style>\n",
       "<table border=\"1\" class=\"dataframe\">\n",
       "  <thead>\n",
       "    <tr style=\"text-align: right;\">\n",
       "      <th></th>\n",
       "      <th>batch_id</th>\n",
       "      <th>domain</th>\n",
       "      <th>lang</th>\n",
       "      <th>text</th>\n",
       "      <th>view_url</th>\n",
       "      <th>topic</th>\n",
       "      <th>is_topic</th>\n",
       "    </tr>\n",
       "  </thead>\n",
       "  <tbody>\n",
       "    <tr>\n",
       "      <th>0</th>\n",
       "      <td>15</td>\n",
       "      <td>NaN</td>\n",
       "      <td>NaN</td>\n",
       "      <td>NaN</td>\n",
       "      <td>mingle.respondi.de/</td>\n",
       "      <td>kinder</td>\n",
       "      <td>False</td>\n",
       "    </tr>\n",
       "    <tr>\n",
       "      <th>1</th>\n",
       "      <td>16</td>\n",
       "      <td>NaN</td>\n",
       "      <td>NaN</td>\n",
       "      <td>NaN</td>\n",
       "      <td>mingle.respondi.de/</td>\n",
       "      <td>kinder</td>\n",
       "      <td>False</td>\n",
       "    </tr>\n",
       "    <tr>\n",
       "      <th>2</th>\n",
       "      <td>16</td>\n",
       "      <td>NaN</td>\n",
       "      <td>NaN</td>\n",
       "      <td>NaN</td>\n",
       "      <td>mingle.respondi.de/</td>\n",
       "      <td>cannabis</td>\n",
       "      <td>False</td>\n",
       "    </tr>\n",
       "    <tr>\n",
       "      <th>3</th>\n",
       "      <td>17</td>\n",
       "      <td>NaN</td>\n",
       "      <td>NaN</td>\n",
       "      <td>NaN</td>\n",
       "      <td>mingle.respondi.de/</td>\n",
       "      <td>cannabis</td>\n",
       "      <td>False</td>\n",
       "    </tr>\n",
       "    <tr>\n",
       "      <th>4</th>\n",
       "      <td>16</td>\n",
       "      <td>NaN</td>\n",
       "      <td>NaN</td>\n",
       "      <td>NaN</td>\n",
       "      <td>mingle.respondi.de/</td>\n",
       "      <td>energie</td>\n",
       "      <td>False</td>\n",
       "    </tr>\n",
       "    <tr>\n",
       "      <th>...</th>\n",
       "      <td>...</td>\n",
       "      <td>...</td>\n",
       "      <td>...</td>\n",
       "      <td>...</td>\n",
       "      <td>...</td>\n",
       "      <td>...</td>\n",
       "      <td>...</td>\n",
       "    </tr>\n",
       "    <tr>\n",
       "      <th>95</th>\n",
       "      <td>16</td>\n",
       "      <td>aquafelix.it</td>\n",
       "      <td>it</td>\n",
       "      <td>x &gt; CHI SIAMO &gt; IL PARCO Le Attrazioni Mappa ...</td>\n",
       "      <td>aquafelix.it</td>\n",
       "      <td>energie</td>\n",
       "      <td>False</td>\n",
       "    </tr>\n",
       "    <tr>\n",
       "      <th>96</th>\n",
       "      <td>16</td>\n",
       "      <td>aquafelix.it</td>\n",
       "      <td>it</td>\n",
       "      <td>x &gt; CHI SIAMO &gt; IL PARCO Le Attrazioni Mappa ...</td>\n",
       "      <td>aquafelix.it/Acquisto/PrezziDinamici</td>\n",
       "      <td>energie</td>\n",
       "      <td>False</td>\n",
       "    </tr>\n",
       "    <tr>\n",
       "      <th>97</th>\n",
       "      <td>16</td>\n",
       "      <td>aquafelix.it</td>\n",
       "      <td>it</td>\n",
       "      <td>x &gt; CHI SIAMO &gt; IL PARCO Le Attrazioni Mappa ...</td>\n",
       "      <td>aquafelix.it/Home/ChiSiamo</td>\n",
       "      <td>energie</td>\n",
       "      <td>False</td>\n",
       "    </tr>\n",
       "    <tr>\n",
       "      <th>98</th>\n",
       "      <td>16</td>\n",
       "      <td>NaN</td>\n",
       "      <td>NaN</td>\n",
       "      <td>NaN</td>\n",
       "      <td>google.com/search?rlz=1C1CHBF_deDE871DE871&amp;sxs...</td>\n",
       "      <td>energie</td>\n",
       "      <td>False</td>\n",
       "    </tr>\n",
       "    <tr>\n",
       "      <th>99</th>\n",
       "      <td>16</td>\n",
       "      <td>NaN</td>\n",
       "      <td>NaN</td>\n",
       "      <td>NaN</td>\n",
       "      <td>google.com/search?q=civitavecchia+strand&amp;rlz=1...</td>\n",
       "      <td>energie</td>\n",
       "      <td>False</td>\n",
       "    </tr>\n",
       "  </tbody>\n",
       "</table>\n",
       "<p>100 rows × 7 columns</p>\n",
       "</div>"
      ],
      "text/plain": [
       "    batch_id        domain lang  \\\n",
       "0         15           NaN  NaN   \n",
       "1         16           NaN  NaN   \n",
       "2         16           NaN  NaN   \n",
       "3         17           NaN  NaN   \n",
       "4         16           NaN  NaN   \n",
       "..       ...           ...  ...   \n",
       "95        16  aquafelix.it   it   \n",
       "96        16  aquafelix.it   it   \n",
       "97        16  aquafelix.it   it   \n",
       "98        16           NaN  NaN   \n",
       "99        16           NaN  NaN   \n",
       "\n",
       "                                                 text  \\\n",
       "0                                                 NaN   \n",
       "1                                                 NaN   \n",
       "2                                                 NaN   \n",
       "3                                                 NaN   \n",
       "4                                                 NaN   \n",
       "..                                                ...   \n",
       "95   x > CHI SIAMO > IL PARCO Le Attrazioni Mappa ...   \n",
       "96   x > CHI SIAMO > IL PARCO Le Attrazioni Mappa ...   \n",
       "97   x > CHI SIAMO > IL PARCO Le Attrazioni Mappa ...   \n",
       "98                                                NaN   \n",
       "99                                                NaN   \n",
       "\n",
       "                                             view_url     topic  is_topic  \n",
       "0                                 mingle.respondi.de/    kinder     False  \n",
       "1                                 mingle.respondi.de/    kinder     False  \n",
       "2                                 mingle.respondi.de/  cannabis     False  \n",
       "3                                 mingle.respondi.de/  cannabis     False  \n",
       "4                                 mingle.respondi.de/   energie     False  \n",
       "..                                                ...       ...       ...  \n",
       "95                                       aquafelix.it   energie     False  \n",
       "96               aquafelix.it/Acquisto/PrezziDinamici   energie     False  \n",
       "97                         aquafelix.it/Home/ChiSiamo   energie     False  \n",
       "98  google.com/search?rlz=1C1CHBF_deDE871DE871&sxs...   energie     False  \n",
       "99  google.com/search?q=civitavecchia+strand&rlz=1...   energie     False  \n",
       "\n",
       "[100 rows x 7 columns]"
      ]
     },
     "execution_count": 20,
     "metadata": {},
     "output_type": "execute_result"
    }
   ],
   "source": [
    "df_texts_and_labels[[\"batch_id\", \"domain\", \"lang\", \"text\", \"view_url\", \"topic\", \"is_topic\"]].head(100)"
   ]
  },
  {
   "cell_type": "code",
   "execution_count": 21,
   "metadata": {},
   "outputs": [
    {
     "data": {
      "text/plain": [
       "288979"
      ]
     },
     "execution_count": 21,
     "metadata": {},
     "output_type": "execute_result"
    }
   ],
   "source": [
    "len(df_texts_and_labels)"
   ]
  },
  {
   "cell_type": "code",
   "execution_count": 29,
   "metadata": {},
   "outputs": [
    {
     "name": "stdout",
     "output_type": "stream",
     "text": [
      "Number of NaN values in column \"text\": 111761\n",
      "Number of non-NaN values in column \"text\": 174487\n",
      "Number of non-NaN values in column \"text\" (alternative calculation): 174487\n"
     ]
    }
   ],
   "source": [
    "# Specify the column name\n",
    "column_name = 'text'\n",
    "\n",
    "# Count the number of NaN values in the specified column\n",
    "num_nans_text = df_texts_and_labels[column_name].isna().sum()\n",
    "\n",
    "# Count the number of non-NaN values in the specified column\n",
    "num_non_nans_text = df_texts_and_labels[column_name].notna().sum()\n",
    "\n",
    "# Alternatively, you can also calculate non-NaNs by subtracting NaNs from total elements in the column\n",
    "total_elements_text = df_texts_and_labels[column_name].size\n",
    "num_non_nans_text_alternative = total_elements_text - num_nans_text\n",
    "\n",
    "print(f'Number of NaN values in column \"{column_name}\": {num_nans_text}')\n",
    "print(f'Number of non-NaN values in column \"{column_name}\": {num_non_nans_text}')\n",
    "print(f'Number of non-NaN values in column \"{column_name}\" (alternative calculation): {num_non_nans_text_alternative}')"
   ]
  },
  {
   "cell_type": "markdown",
   "metadata": {},
   "source": [
    "## Remove Pages with same content across Batches"
   ]
  },
  {
   "cell_type": "code",
   "execution_count": 22,
   "metadata": {},
   "outputs": [
    {
     "name": "stdout",
     "output_type": "stream",
     "text": [
      "Number of pages with labels:  288979\n",
      "Number of pages with labels after removing duplicates:  286248\n"
     ]
    }
   ],
   "source": [
    "print(\"Number of pages with labels: \", len(df_texts_and_labels))\n",
    "\n",
    "# Removing duplicates based on 'view_url', 'batch_id', and 'topic'\n",
    "#df_texts_and_labels = df_texts_and_labels.drop_duplicates(subset=['view_url', 'text', 'topic'], keep='first')\n",
    "df_texts_and_labels = df_texts_and_labels.drop_duplicates(subset=['view_url', 'topic'], keep='first') # Only keeping one text per page even if it changes\n",
    "\n",
    "print(\"Number of pages with labels after removing duplicates: \", len(df_texts_and_labels))"
   ]
  },
  {
   "cell_type": "code",
   "execution_count": 23,
   "metadata": {},
   "outputs": [
    {
     "data": {
      "text/html": [
       "<div>\n",
       "<style scoped>\n",
       "    .dataframe tbody tr th:only-of-type {\n",
       "        vertical-align: middle;\n",
       "    }\n",
       "\n",
       "    .dataframe tbody tr th {\n",
       "        vertical-align: top;\n",
       "    }\n",
       "\n",
       "    .dataframe thead th {\n",
       "        text-align: right;\n",
       "    }\n",
       "</style>\n",
       "<table border=\"1\" class=\"dataframe\">\n",
       "  <thead>\n",
       "    <tr style=\"text-align: right;\">\n",
       "      <th></th>\n",
       "      <th>batch_id</th>\n",
       "      <th>domain</th>\n",
       "      <th>lang</th>\n",
       "      <th>text</th>\n",
       "      <th>view_url</th>\n",
       "      <th>topic</th>\n",
       "      <th>is_topic</th>\n",
       "    </tr>\n",
       "  </thead>\n",
       "  <tbody>\n",
       "    <tr>\n",
       "      <th>0</th>\n",
       "      <td>15</td>\n",
       "      <td>NaN</td>\n",
       "      <td>NaN</td>\n",
       "      <td>NaN</td>\n",
       "      <td>mingle.respondi.de/</td>\n",
       "      <td>kinder</td>\n",
       "      <td>False</td>\n",
       "    </tr>\n",
       "    <tr>\n",
       "      <th>2</th>\n",
       "      <td>16</td>\n",
       "      <td>NaN</td>\n",
       "      <td>NaN</td>\n",
       "      <td>NaN</td>\n",
       "      <td>mingle.respondi.de/</td>\n",
       "      <td>cannabis</td>\n",
       "      <td>False</td>\n",
       "    </tr>\n",
       "    <tr>\n",
       "      <th>4</th>\n",
       "      <td>16</td>\n",
       "      <td>NaN</td>\n",
       "      <td>NaN</td>\n",
       "      <td>NaN</td>\n",
       "      <td>mingle.respondi.de/</td>\n",
       "      <td>energie</td>\n",
       "      <td>False</td>\n",
       "    </tr>\n",
       "    <tr>\n",
       "      <th>5</th>\n",
       "      <td>15</td>\n",
       "      <td>NaN</td>\n",
       "      <td>NaN</td>\n",
       "      <td>NaN</td>\n",
       "      <td>web.norstatsurveys.com/</td>\n",
       "      <td>kinder</td>\n",
       "      <td>False</td>\n",
       "    </tr>\n",
       "    <tr>\n",
       "      <th>6</th>\n",
       "      <td>16</td>\n",
       "      <td>NaN</td>\n",
       "      <td>NaN</td>\n",
       "      <td>NaN</td>\n",
       "      <td>web.norstatsurveys.com/</td>\n",
       "      <td>energie</td>\n",
       "      <td>False</td>\n",
       "    </tr>\n",
       "    <tr>\n",
       "      <th>...</th>\n",
       "      <td>...</td>\n",
       "      <td>...</td>\n",
       "      <td>...</td>\n",
       "      <td>...</td>\n",
       "      <td>...</td>\n",
       "      <td>...</td>\n",
       "      <td>...</td>\n",
       "    </tr>\n",
       "    <tr>\n",
       "      <th>101</th>\n",
       "      <td>16</td>\n",
       "      <td>NaN</td>\n",
       "      <td>NaN</td>\n",
       "      <td>NaN</td>\n",
       "      <td>norstatpanel.com/de/endsurvey?lang=de&amp;status=s...</td>\n",
       "      <td>cannabis</td>\n",
       "      <td>False</td>\n",
       "    </tr>\n",
       "    <tr>\n",
       "      <th>103</th>\n",
       "      <td>16</td>\n",
       "      <td>NaN</td>\n",
       "      <td>NaN</td>\n",
       "      <td>NaN</td>\n",
       "      <td>norstatpanel.com/de/endsurvey?lang=de&amp;status=s...</td>\n",
       "      <td>kinder</td>\n",
       "      <td>False</td>\n",
       "    </tr>\n",
       "    <tr>\n",
       "      <th>105</th>\n",
       "      <td>16</td>\n",
       "      <td>NaN</td>\n",
       "      <td>NaN</td>\n",
       "      <td>NaN</td>\n",
       "      <td>norstatpanel.com/de/endsurvey?lang=de&amp;status=s...</td>\n",
       "      <td>energie</td>\n",
       "      <td>False</td>\n",
       "    </tr>\n",
       "    <tr>\n",
       "      <th>106</th>\n",
       "      <td>16</td>\n",
       "      <td>t-online.de</td>\n",
       "      <td>de</td>\n",
       "      <td>Wetter DAX Telefonverzeichnisse Lotto Telekom ...</td>\n",
       "      <td>email.t-online.de/em#f=INBOX&amp;m=147888883217979...</td>\n",
       "      <td>cannabis</td>\n",
       "      <td>False</td>\n",
       "    </tr>\n",
       "    <tr>\n",
       "      <th>107</th>\n",
       "      <td>16</td>\n",
       "      <td>bilendi.com</td>\n",
       "      <td>de</td>\n",
       "      <td>Fortschrittsbalken 0% Die Studie, an der Sie ...</td>\n",
       "      <td>surveyd.bilendi.com/survey/selfserve/53b/23061...</td>\n",
       "      <td>cannabis</td>\n",
       "      <td>False</td>\n",
       "    </tr>\n",
       "  </tbody>\n",
       "</table>\n",
       "<p>100 rows × 7 columns</p>\n",
       "</div>"
      ],
      "text/plain": [
       "     batch_id       domain lang  \\\n",
       "0          15          NaN  NaN   \n",
       "2          16          NaN  NaN   \n",
       "4          16          NaN  NaN   \n",
       "5          15          NaN  NaN   \n",
       "6          16          NaN  NaN   \n",
       "..        ...          ...  ...   \n",
       "101        16          NaN  NaN   \n",
       "103        16          NaN  NaN   \n",
       "105        16          NaN  NaN   \n",
       "106        16  t-online.de   de   \n",
       "107        16  bilendi.com   de   \n",
       "\n",
       "                                                  text  \\\n",
       "0                                                  NaN   \n",
       "2                                                  NaN   \n",
       "4                                                  NaN   \n",
       "5                                                  NaN   \n",
       "6                                                  NaN   \n",
       "..                                                 ...   \n",
       "101                                                NaN   \n",
       "103                                                NaN   \n",
       "105                                                NaN   \n",
       "106  Wetter DAX Telefonverzeichnisse Lotto Telekom ...   \n",
       "107   Fortschrittsbalken 0% Die Studie, an der Sie ...   \n",
       "\n",
       "                                              view_url     topic  is_topic  \n",
       "0                                  mingle.respondi.de/    kinder     False  \n",
       "2                                  mingle.respondi.de/  cannabis     False  \n",
       "4                                  mingle.respondi.de/   energie     False  \n",
       "5                              web.norstatsurveys.com/    kinder     False  \n",
       "6                              web.norstatsurveys.com/   energie     False  \n",
       "..                                                 ...       ...       ...  \n",
       "101  norstatpanel.com/de/endsurvey?lang=de&status=s...  cannabis     False  \n",
       "103  norstatpanel.com/de/endsurvey?lang=de&status=s...    kinder     False  \n",
       "105  norstatpanel.com/de/endsurvey?lang=de&status=s...   energie     False  \n",
       "106  email.t-online.de/em#f=INBOX&m=147888883217979...  cannabis     False  \n",
       "107  surveyd.bilendi.com/survey/selfserve/53b/23061...  cannabis     False  \n",
       "\n",
       "[100 rows x 7 columns]"
      ]
     },
     "execution_count": 23,
     "metadata": {},
     "output_type": "execute_result"
    }
   ],
   "source": [
    "df_texts_and_labels[[\"batch_id\", \"domain\", \"lang\", \"text\", \"view_url\", \"topic\", \"is_topic\"]].head(100)"
   ]
  },
  {
   "cell_type": "markdown",
   "metadata": {},
   "source": [
    "## Save Intermediate Datatset"
   ]
  },
  {
   "cell_type": "code",
   "execution_count": 24,
   "metadata": {},
   "outputs": [],
   "source": [
    "# Convert the merged DataFrame back to a Dataset\n",
    "dataset_texts_and_labels = Dataset.from_pandas(df_texts_and_labels)"
   ]
  },
  {
   "cell_type": "code",
   "execution_count": 25,
   "metadata": {},
   "outputs": [
    {
     "name": "stderr",
     "output_type": "stream",
     "text": [
      "Saving the dataset (3/3 shards): 100%|██████████| 286248/286248 [00:03<00:00, 73214.84 examples/s] \n"
     ]
    }
   ],
   "source": [
    "save_path = f\"../data/tmp/processed_dataset_all_topics\"\n",
    "dataset_texts_and_labels.save_to_disk(save_path)"
   ]
  },
  {
   "cell_type": "code",
   "execution_count": 26,
   "metadata": {},
   "outputs": [
    {
     "data": {
      "text/plain": [
       "Dataset({\n",
       "    features: ['_id', 'batch_id', 'domain', 'encoding', 'file_id', 'lang', 'text', 'text_length', 'url', 'word_count', 'view_url', 'p_id', 'used_at', 'duration', 'yt_video_id', 'package_version', 'enddevice', 'Group', 'start_date', 't', 'wave', 'end_date', 'start_intervention', 'start_knowledge', 'topic', 'series', 'annotation_type', 'good_for_training', 'good_for_augmentation', 'category', 'is_direct_topic_annotated', 'is_direct_topic_full', 'is_topic', '__index_level_0__'],\n",
       "    num_rows: 286248\n",
       "})"
      ]
     },
     "execution_count": 26,
     "metadata": {},
     "output_type": "execute_result"
    }
   ],
   "source": [
    "dataset_texts_and_labels"
   ]
  },
  {
   "cell_type": "markdown",
   "metadata": {},
   "source": [
    "## Split Dataset by Topic"
   ]
  },
  {
   "cell_type": "code",
   "execution_count": 27,
   "metadata": {},
   "outputs": [],
   "source": [
    "topics = [\"kinder\", \"energie\", \"cannabis\"]"
   ]
  },
  {
   "cell_type": "code",
   "execution_count": 28,
   "metadata": {},
   "outputs": [
    {
     "name": "stdout",
     "output_type": "stream",
     "text": [
      "Processing topic:  kinder\n"
     ]
    },
    {
     "name": "stderr",
     "output_type": "stream",
     "text": [
      "Filter (num_proc=16): 100%|██████████| 286248/286248 [01:06<00:00, 4279.25 examples/s]\n",
      "Saving the dataset (1/1 shards): 100%|██████████| 104397/104397 [00:05<00:00, 19481.27 examples/s]"
     ]
    },
    {
     "name": "stdout",
     "output_type": "stream",
     "text": [
      "Number of examples in dataset_topic:  104397\n"
     ]
    },
    {
     "name": "stderr",
     "output_type": "stream",
     "text": [
      "\n",
      "Filter (num_proc=16): 100%|██████████| 104397/104397 [01:04<00:00, 1623.82 examples/s]\n",
      "Saving the dataset (1/1 shards): 100%|██████████| 536/536 [00:00<00:00, 17951.14 examples/s]"
     ]
    },
    {
     "name": "stdout",
     "output_type": "stream",
     "text": [
      "Number of examples in dataset_topic_positive:  536\n"
     ]
    },
    {
     "name": "stderr",
     "output_type": "stream",
     "text": [
      "\n",
      "Filter (num_proc=16): 100%|██████████| 104397/104397 [01:05<00:00, 1586.60 examples/s]\n",
      "Saving the dataset (1/1 shards): 100%|██████████| 103861/103861 [00:05<00:00, 20335.81 examples/s]"
     ]
    },
    {
     "name": "stdout",
     "output_type": "stream",
     "text": [
      "Number of examples in dataset_topic_negative:  103861\n",
      "Processing topic:  energie\n"
     ]
    },
    {
     "name": "stderr",
     "output_type": "stream",
     "text": [
      "\n",
      "Filter (num_proc=16):   0%|          | 0/286248 [00:00<?, ? examples/s]"
     ]
    },
    {
     "name": "stderr",
     "output_type": "stream",
     "text": [
      "Filter (num_proc=16): 100%|██████████| 286248/286248 [01:04<00:00, 4445.21 examples/s]\n",
      "Saving the dataset (1/1 shards): 100%|██████████| 93615/93615 [00:04<00:00, 20754.95 examples/s]"
     ]
    },
    {
     "name": "stdout",
     "output_type": "stream",
     "text": [
      "Number of examples in dataset_topic:  93615\n"
     ]
    },
    {
     "name": "stderr",
     "output_type": "stream",
     "text": [
      "\n",
      "Filter (num_proc=16): 100%|██████████| 93615/93615 [01:04<00:00, 1454.23 examples/s]\n",
      "Saving the dataset (1/1 shards): 100%|██████████| 479/479 [00:00<00:00, 16269.89 examples/s]"
     ]
    },
    {
     "name": "stdout",
     "output_type": "stream",
     "text": [
      "Number of examples in dataset_topic_positive:  479\n"
     ]
    },
    {
     "name": "stderr",
     "output_type": "stream",
     "text": [
      "\n",
      "Filter (num_proc=16): 100%|██████████| 93615/93615 [01:04<00:00, 1453.21 examples/s]\n",
      "Saving the dataset (1/1 shards): 100%|██████████| 93136/93136 [00:04<00:00, 20888.37 examples/s]"
     ]
    },
    {
     "name": "stdout",
     "output_type": "stream",
     "text": [
      "Number of examples in dataset_topic_negative:  93136\n",
      "Processing topic:  cannabis\n"
     ]
    },
    {
     "name": "stderr",
     "output_type": "stream",
     "text": [
      "\n",
      "Filter (num_proc=16): 100%|██████████| 286248/286248 [01:03<00:00, 4496.69 examples/s]\n",
      "Saving the dataset (1/1 shards): 100%|██████████| 88236/88236 [00:04<00:00, 20509.91 examples/s]"
     ]
    },
    {
     "name": "stdout",
     "output_type": "stream",
     "text": [
      "Number of examples in dataset_topic:  88236\n"
     ]
    },
    {
     "name": "stderr",
     "output_type": "stream",
     "text": [
      "\n",
      "Filter (num_proc=16): 100%|██████████| 88236/88236 [01:04<00:00, 1369.58 examples/s]\n",
      "Saving the dataset (1/1 shards): 100%|██████████| 309/309 [00:00<00:00, 9940.86 examples/s] "
     ]
    },
    {
     "name": "stdout",
     "output_type": "stream",
     "text": [
      "Number of examples in dataset_topic_positive:  309\n"
     ]
    },
    {
     "name": "stderr",
     "output_type": "stream",
     "text": [
      "\n",
      "Filter (num_proc=16): 100%|██████████| 88236/88236 [01:04<00:00, 1374.43 examples/s]\n",
      "Saving the dataset (1/1 shards): 100%|██████████| 87927/87927 [00:04<00:00, 20637.34 examples/s]"
     ]
    },
    {
     "name": "stdout",
     "output_type": "stream",
     "text": [
      "Number of examples in dataset_topic_negative:  87927\n"
     ]
    },
    {
     "name": "stderr",
     "output_type": "stream",
     "text": [
      "\n"
     ]
    }
   ],
   "source": [
    "for topic in topics:\n",
    "    \n",
    "    print(\"Processing topic: \", topic)\n",
    "    \n",
    "    # Filter the dataset for the topic\n",
    "    dataset_topic = dataset_texts_and_labels.filter(lambda example: example['topic'] == topic, num_proc=16)\n",
    "    dataset_topic.save_to_disk(f\"../data/tmp/processed_dataset_{topic}\")\n",
    "    print(\"Number of examples in dataset_topic: \", len(dataset_topic))\n",
    "    \n",
    "    # Filter the dataset for the topic and positive labels\n",
    "    dataset_topic_positive = dataset_topic.filter(lambda example: example['is_topic'], num_proc=16)\n",
    "    dataset_topic_positive.save_to_disk(f\"../data/tmp/processed_dataset_{topic}_positive\")\n",
    "    print(\"Number of examples in dataset_topic_positive: \", len(dataset_topic_positive))\n",
    "    \n",
    "    # Filter the dataset for the topic and negative labels\n",
    "    dataset_topic_negative = dataset_topic.filter(lambda example: not example['is_topic'], num_proc=16)\n",
    "    dataset_topic_negative.save_to_disk(f\"../data/tmp/processed_dataset_{topic}_negative\")\n",
    "    print(\"Number of examples in dataset_topic_negative: \", len(dataset_topic_negative))\n"
   ]
  },
  {
   "cell_type": "code",
   "execution_count": null,
   "metadata": {},
   "outputs": [],
   "source": []
  }
 ],
 "metadata": {
  "kernelspec": {
   "display_name": "s2j-content-analysis",
   "language": "python",
   "name": "python3"
  },
  "language_info": {
   "codemirror_mode": {
    "name": "ipython",
    "version": 3
   },
   "file_extension": ".py",
   "mimetype": "text/x-python",
   "name": "python",
   "nbconvert_exporter": "python",
   "pygments_lexer": "ipython3",
   "version": "3.10.8"
  }
 },
 "nbformat": 4,
 "nbformat_minor": 2
}
