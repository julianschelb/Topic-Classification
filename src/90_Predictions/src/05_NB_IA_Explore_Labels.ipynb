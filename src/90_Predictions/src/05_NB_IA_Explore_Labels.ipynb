{
 "cells": [
  {
   "cell_type": "markdown",
   "metadata": {},
   "source": [
    "## Import Annotations"
   ]
  },
  {
   "cell_type": "code",
   "execution_count": 3,
   "metadata": {},
   "outputs": [],
   "source": [
    "from utils.database import *\n",
    "from utils.files import *\n",
    "from tqdm import tqdm\n",
    "import pandas as pd"
   ]
  },
  {
   "cell_type": "markdown",
   "metadata": {},
   "source": [
    "## Read CSV File"
   ]
  },
  {
   "cell_type": "code",
   "execution_count": 4,
   "metadata": {},
   "outputs": [],
   "source": [
    "path_to_annotations = \"../data/20h_experiment/5200-df-full-annotated-feb-and-may-julian-version.csv\"\n",
    "annotations = read_csv_as_dict(path_to_annotations)"
   ]
  },
  {
   "cell_type": "code",
   "execution_count": 5,
   "metadata": {},
   "outputs": [
    {
     "data": {
      "text/html": [
       "<div>\n",
       "<style scoped>\n",
       "    .dataframe tbody tr th:only-of-type {\n",
       "        vertical-align: middle;\n",
       "    }\n",
       "\n",
       "    .dataframe tbody tr th {\n",
       "        vertical-align: top;\n",
       "    }\n",
       "\n",
       "    .dataframe thead th {\n",
       "        text-align: right;\n",
       "    }\n",
       "</style>\n",
       "<table border=\"1\" class=\"dataframe\">\n",
       "  <thead>\n",
       "    <tr style=\"text-align: right;\">\n",
       "      <th></th>\n",
       "      <th>p_id</th>\n",
       "      <th>url</th>\n",
       "      <th>used_at</th>\n",
       "      <th>duration</th>\n",
       "      <th>yt_video_id</th>\n",
       "      <th>package_version</th>\n",
       "      <th>enddevice</th>\n",
       "      <th>batch</th>\n",
       "      <th>Group</th>\n",
       "      <th>start_date</th>\n",
       "      <th>...</th>\n",
       "      <th>start_intervention</th>\n",
       "      <th>start_knowledge</th>\n",
       "      <th>topic</th>\n",
       "      <th>series</th>\n",
       "      <th>annotation_type</th>\n",
       "      <th>good_for_training</th>\n",
       "      <th>good_for_augmentation</th>\n",
       "      <th>category</th>\n",
       "      <th>is_direct_topic_annotated</th>\n",
       "      <th>is_direct_topic_full</th>\n",
       "    </tr>\n",
       "  </thead>\n",
       "  <tbody>\n",
       "    <tr>\n",
       "      <th>0</th>\n",
       "      <td>273726366948</td>\n",
       "      <td>mingle.respondi.de/</td>\n",
       "      <td>2023-06-13 14:12:16</td>\n",
       "      <td>393</td>\n",
       "      <td></td>\n",
       "      <td>1210041502.0</td>\n",
       "      <td>mobile</td>\n",
       "      <td>15</td>\n",
       "      <td>Search</td>\n",
       "      <td>2023-06-13 14:12:00</td>\n",
       "      <td>...</td>\n",
       "      <td>2023-06-13 14:18:35</td>\n",
       "      <td>2023-06-14 18:09:40</td>\n",
       "      <td>kinder</td>\n",
       "      <td></td>\n",
       "      <td>domain_discarded</td>\n",
       "      <td>False</td>\n",
       "      <td>True</td>\n",
       "      <td>other</td>\n",
       "      <td></td>\n",
       "      <td>False</td>\n",
       "    </tr>\n",
       "    <tr>\n",
       "      <th>1</th>\n",
       "      <td>273726366948</td>\n",
       "      <td>mingle.respondi.de/</td>\n",
       "      <td>2023-06-13 20:09:47</td>\n",
       "      <td>2</td>\n",
       "      <td></td>\n",
       "      <td>1210041502.0</td>\n",
       "      <td>mobile</td>\n",
       "      <td>15</td>\n",
       "      <td>Search</td>\n",
       "      <td>2023-06-13 14:12:00</td>\n",
       "      <td>...</td>\n",
       "      <td>2023-06-13 14:18:35</td>\n",
       "      <td>2023-06-14 18:09:40</td>\n",
       "      <td>kinder</td>\n",
       "      <td></td>\n",
       "      <td>domain_discarded</td>\n",
       "      <td>False</td>\n",
       "      <td>True</td>\n",
       "      <td>other</td>\n",
       "      <td></td>\n",
       "      <td>False</td>\n",
       "    </tr>\n",
       "    <tr>\n",
       "      <th>2</th>\n",
       "      <td>273746614716</td>\n",
       "      <td>mingle.respondi.de/</td>\n",
       "      <td>2023-06-14 16:19:10</td>\n",
       "      <td>492</td>\n",
       "      <td></td>\n",
       "      <td>1210041502.0</td>\n",
       "      <td>mobile</td>\n",
       "      <td>15</td>\n",
       "      <td>Control</td>\n",
       "      <td>2023-06-14 16:19:00</td>\n",
       "      <td>...</td>\n",
       "      <td>2023-06-14 16:26:33</td>\n",
       "      <td>2023-06-15 15:34:00</td>\n",
       "      <td>kinder</td>\n",
       "      <td></td>\n",
       "      <td>domain_discarded</td>\n",
       "      <td>False</td>\n",
       "      <td>True</td>\n",
       "      <td>other</td>\n",
       "      <td></td>\n",
       "      <td>False</td>\n",
       "    </tr>\n",
       "    <tr>\n",
       "      <th>3</th>\n",
       "      <td>273746614716</td>\n",
       "      <td>mingle.respondi.de/</td>\n",
       "      <td>2023-06-14 16:28:00</td>\n",
       "      <td>1</td>\n",
       "      <td></td>\n",
       "      <td>1210041502.0</td>\n",
       "      <td>mobile</td>\n",
       "      <td>15</td>\n",
       "      <td>Control</td>\n",
       "      <td>2023-06-14 16:19:00</td>\n",
       "      <td>...</td>\n",
       "      <td>2023-06-14 16:26:33</td>\n",
       "      <td>2023-06-15 15:34:00</td>\n",
       "      <td>kinder</td>\n",
       "      <td></td>\n",
       "      <td>domain_discarded</td>\n",
       "      <td>False</td>\n",
       "      <td>True</td>\n",
       "      <td>other</td>\n",
       "      <td></td>\n",
       "      <td>False</td>\n",
       "    </tr>\n",
       "    <tr>\n",
       "      <th>4</th>\n",
       "      <td>273746614716</td>\n",
       "      <td>mingle.respondi.de/</td>\n",
       "      <td>2023-06-14 16:36:39</td>\n",
       "      <td>13</td>\n",
       "      <td></td>\n",
       "      <td>1210041502.0</td>\n",
       "      <td>mobile</td>\n",
       "      <td>15</td>\n",
       "      <td>Control</td>\n",
       "      <td>2023-06-14 16:19:00</td>\n",
       "      <td>...</td>\n",
       "      <td>2023-06-14 16:26:33</td>\n",
       "      <td>2023-06-15 15:34:00</td>\n",
       "      <td>kinder</td>\n",
       "      <td></td>\n",
       "      <td>domain_discarded</td>\n",
       "      <td>False</td>\n",
       "      <td>True</td>\n",
       "      <td>other</td>\n",
       "      <td></td>\n",
       "      <td>False</td>\n",
       "    </tr>\n",
       "  </tbody>\n",
       "</table>\n",
       "<p>5 rows × 23 columns</p>\n",
       "</div>"
      ],
      "text/plain": [
       "           p_id                  url              used_at duration  \\\n",
       "0  273726366948  mingle.respondi.de/  2023-06-13 14:12:16      393   \n",
       "1  273726366948  mingle.respondi.de/  2023-06-13 20:09:47        2   \n",
       "2  273746614716  mingle.respondi.de/  2023-06-14 16:19:10      492   \n",
       "3  273746614716  mingle.respondi.de/  2023-06-14 16:28:00        1   \n",
       "4  273746614716  mingle.respondi.de/  2023-06-14 16:36:39       13   \n",
       "\n",
       "  yt_video_id package_version enddevice batch    Group           start_date  \\\n",
       "0                1210041502.0    mobile    15   Search  2023-06-13 14:12:00   \n",
       "1                1210041502.0    mobile    15   Search  2023-06-13 14:12:00   \n",
       "2                1210041502.0    mobile    15  Control  2023-06-14 16:19:00   \n",
       "3                1210041502.0    mobile    15  Control  2023-06-14 16:19:00   \n",
       "4                1210041502.0    mobile    15  Control  2023-06-14 16:19:00   \n",
       "\n",
       "   ...   start_intervention      start_knowledge   topic series  \\\n",
       "0  ...  2023-06-13 14:18:35  2023-06-14 18:09:40  kinder          \n",
       "1  ...  2023-06-13 14:18:35  2023-06-14 18:09:40  kinder          \n",
       "2  ...  2023-06-14 16:26:33  2023-06-15 15:34:00  kinder          \n",
       "3  ...  2023-06-14 16:26:33  2023-06-15 15:34:00  kinder          \n",
       "4  ...  2023-06-14 16:26:33  2023-06-15 15:34:00  kinder          \n",
       "\n",
       "    annotation_type good_for_training good_for_augmentation category  \\\n",
       "0  domain_discarded             False                  True    other   \n",
       "1  domain_discarded             False                  True    other   \n",
       "2  domain_discarded             False                  True    other   \n",
       "3  domain_discarded             False                  True    other   \n",
       "4  domain_discarded             False                  True    other   \n",
       "\n",
       "  is_direct_topic_annotated is_direct_topic_full  \n",
       "0                                          False  \n",
       "1                                          False  \n",
       "2                                          False  \n",
       "3                                          False  \n",
       "4                                          False  \n",
       "\n",
       "[5 rows x 23 columns]"
      ]
     },
     "execution_count": 5,
     "metadata": {},
     "output_type": "execute_result"
    }
   ],
   "source": [
    "df_annotations = pd.DataFrame(annotations)\n",
    "df_annotations.head()"
   ]
  },
  {
   "cell_type": "code",
   "execution_count": 6,
   "metadata": {},
   "outputs": [
    {
     "data": {
      "text/plain": [
       "Index(['p_id', 'url', 'used_at', 'duration', 'yt_video_id', 'package_version',\n",
       "       'enddevice', 'batch', 'Group', 'start_date', 't', 'wave', 'end_date',\n",
       "       'start_intervention', 'start_knowledge', 'topic', 'series',\n",
       "       'annotation_type', 'good_for_training', 'good_for_augmentation',\n",
       "       'category', 'is_direct_topic_annotated', 'is_direct_topic_full'],\n",
       "      dtype='object')"
      ]
     },
     "execution_count": 6,
     "metadata": {},
     "output_type": "execute_result"
    }
   ],
   "source": [
    "df_annotations.columns"
   ]
  },
  {
   "cell_type": "code",
   "execution_count": 12,
   "metadata": {},
   "outputs": [
    {
     "name": "stdout",
     "output_type": "stream",
     "text": [
      "batch\n",
      "15     92754\n",
      "16    182268\n",
      "17      3151\n",
      "Name: url, dtype: int64\n"
     ]
    }
   ],
   "source": [
    "unique_urls_per_topic = df_annotations.groupby('batch')['url'].nunique()\n",
    "print(unique_urls_per_topic)"
   ]
  },
  {
   "cell_type": "markdown",
   "metadata": {},
   "source": [
    "**Unique URLs per topic:** "
   ]
  },
  {
   "cell_type": "code",
   "execution_count": 7,
   "metadata": {},
   "outputs": [
    {
     "name": "stdout",
     "output_type": "stream",
     "text": [
      "topic\n",
      "cannabis     88236\n",
      "energie      93615\n",
      "kinder      104397\n",
      "Name: url, dtype: int64\n"
     ]
    }
   ],
   "source": [
    "unique_urls_per_topic = df_annotations.groupby('topic')['url'].nunique()\n",
    "print(unique_urls_per_topic)"
   ]
  },
  {
   "cell_type": "code",
   "execution_count": 8,
   "metadata": {},
   "outputs": [
    {
     "name": "stdout",
     "output_type": "stream",
     "text": [
      "topic\n",
      "cannabis     87927\n",
      "energie      93136\n",
      "kinder      103861\n",
      "Name: url, dtype: int64\n"
     ]
    }
   ],
   "source": [
    "filtered_df = df_annotations[df_annotations['is_direct_topic_full'] == \"False\"]\n",
    "unique_urls_per_topic_filtered = filtered_df.groupby('topic')['url'].nunique()\n",
    "print(unique_urls_per_topic_filtered)"
   ]
  },
  {
   "cell_type": "markdown",
   "metadata": {},
   "source": []
  },
  {
   "cell_type": "code",
   "execution_count": 9,
   "metadata": {},
   "outputs": [
    {
     "name": "stdout",
     "output_type": "stream",
     "text": [
      "Common URLs between kinder and cannabis: 6813\n",
      "Common URLs between kinder and energie: 8249\n",
      "Common URLs between cannabis and energie: 8740\n",
      "Common URLs across all three topics: 4886\n"
     ]
    }
   ],
   "source": [
    "# Assuming df is your DataFrame\n",
    "# Create an empty dictionary to store sets of URLs for each topic\n",
    "urls_per_topic = {}\n",
    "\n",
    "# Extract unique URLs for each topic\n",
    "for topic in df_annotations['topic'].unique():\n",
    "    urls_per_topic[topic] = set(df_annotations[df_annotations['topic'] == topic]['url'].unique())\n",
    "\n",
    "# Calculate intersections between the sets\n",
    "# Example for three topics A, B, and C\n",
    "topic_list = list(urls_per_topic.keys())\n",
    "if len(topic_list) >= 3:\n",
    "    common_urls_AB = urls_per_topic[topic_list[0]].intersection(urls_per_topic[topic_list[1]])\n",
    "    common_urls_AC = urls_per_topic[topic_list[0]].intersection(urls_per_topic[topic_list[2]])\n",
    "    common_urls_BC = urls_per_topic[topic_list[1]].intersection(urls_per_topic[topic_list[2]])\n",
    "    common_urls_ABC = urls_per_topic[topic_list[0]].intersection(urls_per_topic[topic_list[1]], urls_per_topic[topic_list[2]])\n",
    "\n",
    "    print(f\"Common URLs between {topic_list[0]} and {topic_list[1]}: {len(common_urls_AB)}\")\n",
    "    print(f\"Common URLs between {topic_list[0]} and {topic_list[2]}: {len(common_urls_AC)}\")\n",
    "    print(f\"Common URLs between {topic_list[1]} and {topic_list[2]}: {len(common_urls_BC)}\")\n",
    "    print(f\"Common URLs across all three topics: {len(common_urls_ABC)}\")\n",
    "else:\n",
    "    print(\"Not enough topics to calculate intersections.\")\n"
   ]
  },
  {
   "cell_type": "code",
   "execution_count": 10,
   "metadata": {},
   "outputs": [
    {
     "data": {
      "text/plain": [
       "267332"
      ]
     },
     "execution_count": 10,
     "metadata": {},
     "output_type": "execute_result"
    }
   ],
   "source": [
    "df_annotations['url'].nunique()"
   ]
  },
  {
   "cell_type": "code",
   "execution_count": 11,
   "metadata": {},
   "outputs": [
    {
     "name": "stdout",
     "output_type": "stream",
     "text": [
      "topic     is_direct_topic_full\n",
      "cannabis  False                   83169\n",
      "          True                      233\n",
      "energie   False                   87534\n",
      "          True                      299\n",
      "kinder    False                   99017\n",
      "          True                      397\n",
      "Name: url, dtype: int64\n"
     ]
    }
   ],
   "source": [
    "# Assuming df_annotations is your DataFrame\n",
    "# Filter the DataFrame where 'good_for_training' is \"False\"\n",
    "filtered_df = df_annotations[df_annotations['good_for_training'] == \"False\"]\n",
    "\n",
    "# Group the filtered DataFrame by 'topic' and 'is_direct_topic_full', then count unique 'url'\n",
    "unique_urls_per_topic_full_filtered = filtered_df.groupby(['topic', 'is_direct_topic_full'])['url'].nunique()\n",
    "\n",
    "print(unique_urls_per_topic_full_filtered)"
   ]
  },
  {
   "cell_type": "code",
   "execution_count": null,
   "metadata": {},
   "outputs": [],
   "source": []
  }
 ],
 "metadata": {
  "kernelspec": {
   "display_name": "s2j-content-analysis",
   "language": "python",
   "name": "python3"
  },
  "language_info": {
   "codemirror_mode": {
    "name": "ipython",
    "version": 3
   },
   "file_extension": ".py",
   "mimetype": "text/x-python",
   "name": "python",
   "nbconvert_exporter": "python",
   "pygments_lexer": "ipython3",
   "version": "3.10.8"
  }
 },
 "nbformat": 4,
 "nbformat_minor": 2
}
